{
 "cells": [
  {
   "cell_type": "code",
   "execution_count": 1,
   "metadata": {},
   "outputs": [
    {
     "data": {
      "text/html": [
       "        <script type=\"text/javascript\">\n",
       "        window.PlotlyConfig = {MathJaxConfig: 'local'};\n",
       "        if (window.MathJax) {MathJax.Hub.Config({SVG: {font: \"STIX-Web\"}});}\n",
       "        if (typeof require !== 'undefined') {\n",
       "        require.undef(\"plotly\");\n",
       "        requirejs.config({\n",
       "            paths: {\n",
       "                'plotly': ['https://cdn.plot.ly/plotly-latest.min']\n",
       "            }\n",
       "        });\n",
       "        require(['plotly'], function(Plotly) {\n",
       "            window._Plotly = Plotly;\n",
       "        });\n",
       "        }\n",
       "        </script>\n",
       "        "
      ]
     },
     "metadata": {},
     "output_type": "display_data"
    }
   ],
   "source": [
    "import plotly.offline as offline\n",
    "import numpy as np\n",
    "import pandas as pd\n",
    "offline.init_notebook_mode(connected=True)"
   ]
  },
  {
   "cell_type": "code",
   "execution_count": 2,
   "metadata": {},
   "outputs": [],
   "source": [
    "n = 200\n",
    "random_x = np.random.randn(n)\n",
    "random_y = np.random.randn(n)"
   ]
  },
  {
   "cell_type": "code",
   "execution_count": 3,
   "metadata": {},
   "outputs": [],
   "source": [
    "# Scatter plots can be used to model bi-variant ditributions i.e. relationship between 2 variables\n",
    "# since go.Scatter by default geneates line chart, So to generate Scatter plot, we need to assign mode='markers'\n",
    "\n",
    "trace = go.Scatter(x= random_x, y= random_y, mode='markers', name='Random Number Variance')\n",
    "data = [trace]"
   ]
  },
  {
   "cell_type": "code",
   "execution_count": 4,
   "metadata": {},
   "outputs": [
    {
     "data": {
      "application/vnd.plotly.v1+json": {
       "config": {
        "linkText": "Export to plot.ly",
        "plotlyServerURL": "https://plot.ly",
        "showLink": false
       },
       "data": [
        {
         "mode": "markers",
         "name": "Random Number Variance",
         "type": "scatter",
         "x": [
          0.7059830209843146,
          -1.9650427498927927,
          1.0609040459362564,
          -0.39558310921909956,
          0.6615784534332729,
          -1.0118021565727648,
          -0.8494144402406115,
          -1.8007277043201435,
          -1.8773512451768375,
          -0.7441126779497039,
          0.9490776935453268,
          -0.37805699324201825,
          0.6436962603882035,
          1.3111396990783748,
          -0.516818557470155,
          -0.7125415354556791,
          -0.8921978847239574,
          0.5192813313386662,
          0.06435769861930789,
          -0.7624814146766862,
          -1.0964877677671503,
          0.3197080833822312,
          -0.1399361865944968,
          -0.22755661986121234,
          0.22331453615062985,
          0.8124710561099511,
          -1.347306735978177,
          0.10670937394230254,
          -0.570396044975098,
          -0.39155721508989466,
          0.7018615513609998,
          -1.1785363263459026,
          -0.019314996212103353,
          -1.6610685866317156,
          1.1511178776884137,
          0.09400418321252366,
          -2.0369448705020865,
          -0.8643164514235073,
          -0.30571716935588944,
          -0.7739670539063841,
          1.131102235029015,
          -0.2176233144038367,
          1.3686649519917955,
          0.6620498899684836,
          -1.0116457104224723,
          -0.293264357023014,
          0.5496641617173852,
          -0.1798486499608496,
          0.4999374547642449,
          -1.1293988058466178,
          -0.5719396014396315,
          0.15015584658487963,
          2.2622305285781303,
          1.4770655969975095,
          0.7735628779732208,
          -1.25922863893478,
          -0.7671973405349768,
          1.8694065627516336,
          0.48538299207638214,
          1.5777319832764285,
          -0.5965108553102049,
          0.1872608180940716,
          -0.4716995271207324,
          -0.6838627019203894,
          0.8205239992864504,
          -0.7890204977108491,
          -1.8339080637745215,
          0.24744506320179677,
          -1.0557015149591593,
          -1.1529872269364017,
          -0.9700866188968481,
          0.15569828767951074,
          1.273497921320371,
          -0.0015089508106576363,
          0.6711369913499897,
          1.760783944130987,
          1.3674272319376557,
          0.41052046357898214,
          -1.9430522297845438,
          1.4590382020000727,
          0.7769772030918431,
          1.1259821075690712,
          0.7494929838966052,
          0.6885375001509536,
          -0.2154616009368137,
          -0.21343061793254334,
          -0.7253615280227129,
          -0.5836931569744812,
          -0.9562892582372134,
          1.1296659205171058,
          0.03216119592574332,
          -0.3196714619911883,
          0.5271376359943503,
          -0.7423697940549043,
          -0.6611454662770325,
          -3.1430332189023136,
          -0.6452668635077592,
          -1.1862496687872472,
          1.1658050441138923,
          1.1468424291249226,
          1.802565736471801,
          0.7151650862628467,
          -0.9960663808046866,
          1.6889211406838323,
          0.5869905785050565,
          0.3816234598679956,
          -0.5596196685478677,
          -1.4474214320979122,
          0.4354084999292567,
          -0.8030980403611356,
          0.16370597178790935,
          -1.5236641782375913,
          -0.8600911878652798,
          -0.8352956360417,
          -1.6069780673261298,
          -1.2135146153610894,
          0.6107222530545003,
          0.20385820776897867,
          -0.7408943186559397,
          1.213545204628186,
          -0.0369192056841619,
          0.3567042681760201,
          0.0019484118204342784,
          -1.5432557417022508,
          0.9388199187706642,
          1.2281284393855294,
          0.4211257879149716,
          0.7538915774943775,
          -0.8770863071709313,
          0.3020266804151244,
          0.22249884313945845,
          0.44063137293582216,
          -2.0536375242709415,
          1.0550109357249202,
          0.65750169904507,
          0.4232733451578501,
          0.8185420367048557,
          1.604417591551849,
          1.068151247189055,
          0.5949559892046804,
          -0.8352808659607066,
          -0.5404447465223015,
          -0.03179625290191529,
          1.2801806893194512,
          -1.459500982629847,
          0.471203324868522,
          -0.09525446046701323,
          -0.2079326041514718,
          -0.37138555867567713,
          -2.632278424528788,
          -0.7529907094756174,
          -0.8685393003695623,
          -0.8118929743525783,
          0.33749520282416356,
          -2.124704374440182,
          2.005523909490569,
          -1.8904702059858958,
          0.7164055179826134,
          0.3306000790049714,
          1.2681392867606078,
          0.19495209016993403,
          0.8688607276650272,
          -0.17286357503903393,
          0.8658697026481951,
          -0.9294141159563143,
          -0.5105630154500617,
          -0.15990181953477678,
          1.0572133068640581,
          -0.5323056154191134,
          -1.3374416830794114,
          1.0702772518536692,
          -0.25559554054322153,
          -1.4727729124122046,
          -0.6997050059476052,
          -1.1111410985799806,
          -1.1350735596073485,
          0.04965063452708269,
          0.48542335981764845,
          0.5134366387648346,
          -1.0358835381274907,
          -0.4911998049630035,
          0.2237708559284883,
          0.5947069497839932,
          -1.129530517877572,
          -1.3857599205329352,
          0.8259648397123345,
          -0.8828679812467531,
          -0.9174214572559426,
          0.3740269538714745,
          -0.43907395382443576,
          0.9781027775794371,
          -0.07657674373048791,
          0.14352265149916035,
          0.2650188009115076,
          1.6706545370459116,
          -0.49304138010823445,
          -0.5482594587170239,
          -0.43180285246072453,
          -2.1529198373364102,
          0.29510145451183933
         ],
         "y": [
          1.621912676970022,
          0.03008659047555786,
          0.598376982428481,
          1.9952870110504817,
          0.27929240830294944,
          -0.8620081602812145,
          0.281619573189727,
          -0.4863248332271645,
          0.1822178657183825,
          -1.085629179324059,
          1.1300513422468197,
          -1.5073914558084662,
          0.39655931599722527,
          1.0143755274301902,
          -0.7281027009089525,
          -0.9795077234848685,
          0.37920661389718335,
          -0.5460506125500743,
          -0.5426413315497727,
          0.9566682528776602,
          0.42529369149565593,
          -1.0740099542324706,
          -0.7429884423066077,
          -0.4599252974207208,
          -1.194789435947938,
          -0.9883958664953478,
          -0.8806407379874044,
          -0.0098673675848052,
          1.0683168597170958,
          -0.20077250559999207,
          -0.9542817797105411,
          1.3234337694748515,
          -1.6681781835165563,
          -1.826691728333552,
          -1.1803988571490882,
          -2.1325255324523296,
          1.7163492359873582,
          0.5138472970741925,
          -0.28468188745619966,
          -1.8841121824458018,
          0.17704834929801266,
          -0.10766126015404438,
          1.379809341680393,
          0.5825550433532916,
          0.6755554567599203,
          1.1727847194659753,
          0.45262485939261843,
          -0.6014009964944881,
          0.9723374964936773,
          -1.3780793779466356,
          -1.283808191788639,
          -1.0315319242942296,
          0.6335368468237719,
          0.961357106393388,
          0.4961369196534665,
          0.39396190248472884,
          0.12807839762277845,
          0.21772892213939404,
          -0.07426379433029566,
          1.650829126003936,
          -0.7084839011170474,
          -0.46702505885289364,
          -0.7177223889135109,
          0.06252111297818988,
          1.1272608488162166,
          0.10868476639214912,
          1.836257536634713,
          1.7864847426620056,
          -1.3353125273693065,
          1.0839179629764544,
          -0.8208560662065567,
          -1.8361437313723388,
          -0.20575485518198416,
          -1.3725993647900794,
          0.7310737224609579,
          0.6890909872940513,
          1.2761533849205793,
          2.258286917306191,
          0.8894235867630443,
          -0.7246862031109752,
          0.13517541970464264,
          1.2770445038318727,
          -1.090710158985352,
          0.6245554383972513,
          -0.21390226358348438,
          -0.34869205971108275,
          -0.4692484697544156,
          0.13388042163702196,
          -1.9046759260928814,
          -0.286235647277208,
          0.8588121593414747,
          0.8985678667490437,
          -0.014191409220855801,
          -0.8639389203028597,
          -1.274686893799093,
          -1.2890771970362993,
          -1.0081788056469694,
          -0.5373994997665622,
          -0.2299867017847202,
          1.007043685620217,
          -0.0917247477452185,
          -1.5159963738460196,
          -0.8312466129081527,
          -0.5741846893299367,
          -0.13620446267489528,
          1.8692242549139648,
          -0.807182912609545,
          -0.36266308538113173,
          -1.518653717541171,
          0.38548459390545226,
          0.7601040034398371,
          -1.7702945304278974,
          -0.737447618703773,
          0.3871252593930263,
          2.438967964763864,
          1.7534527745530564,
          -2.1653258686197185,
          -1.9662569943594619,
          -0.4104480519105711,
          1.596542014493547,
          1.8648433534310467,
          1.5560422158714404,
          0.3492206295232961,
          1.127558466494832,
          0.5770084101365919,
          1.434920677027049,
          -1.1117851151232316,
          -0.763941392367022,
          0.38926746173030263,
          -0.16599948540368384,
          0.8119803690101319,
          0.022560022328282033,
          0.038198199241780736,
          -0.048287415947501175,
          -0.5588757228099693,
          0.5173000670293451,
          -0.7932779946397966,
          -1.3484291447412426,
          -1.752490656692212,
          -0.09916909443272798,
          -0.7946809721138177,
          -1.6819958558138761,
          -0.6818007518274019,
          -1.5446104601898045,
          -0.4485900113713763,
          -0.5877190466537964,
          0.17615583409536859,
          -0.6527562784188328,
          1.0923152030638519,
          -0.5020565046166874,
          1.7117240843452963,
          0.14227039304221634,
          0.6939890354168755,
          -0.5448117864834124,
          1.17079303903497,
          0.305996310657478,
          0.17400365649079577,
          0.7279589024765573,
          -0.20694837723334278,
          -0.04841710001253108,
          0.03585780362411581,
          1.3507762297899848,
          -1.056928264275814,
          -0.022810979082870084,
          -0.16199808776596025,
          1.503043183755862,
          1.1435113165912392,
          0.9481385888742243,
          0.8849079659184835,
          -0.7930051419866433,
          0.7480320953283437,
          0.16010650597600817,
          -0.11686527099549256,
          0.5542758459323717,
          -0.40622540227839893,
          -0.4562239332522781,
          0.9441231433089506,
          1.5654450166660072,
          0.15268820441492895,
          -0.3972678324418055,
          0.6272409302122719,
          -1.5910597488521296,
          -1.2047927318900453,
          1.3269917673412372,
          0.10265321388480697,
          1.9479616316440111,
          -0.08209334043480777,
          0.3231656114034986,
          -0.8560686022073313,
          -0.25819671177706544,
          1.4295515299234873,
          -0.2249126011380727,
          0.21805478069866596,
          -1.5734769570408198,
          0.5043671239754803,
          0.44690012255727424,
          0.5887996939897225,
          0.668224143723689,
          -0.007021509970324097,
          -0.1221721637471562
         ]
        }
       ],
       "layout": {
        "autosize": true,
        "template": {
         "data": {
          "bar": [
           {
            "error_x": {
             "color": "#2a3f5f"
            },
            "error_y": {
             "color": "#2a3f5f"
            },
            "marker": {
             "line": {
              "color": "#E5ECF6",
              "width": 0.5
             }
            },
            "type": "bar"
           }
          ],
          "barpolar": [
           {
            "marker": {
             "line": {
              "color": "#E5ECF6",
              "width": 0.5
             }
            },
            "type": "barpolar"
           }
          ],
          "carpet": [
           {
            "aaxis": {
             "endlinecolor": "#2a3f5f",
             "gridcolor": "white",
             "linecolor": "white",
             "minorgridcolor": "white",
             "startlinecolor": "#2a3f5f"
            },
            "baxis": {
             "endlinecolor": "#2a3f5f",
             "gridcolor": "white",
             "linecolor": "white",
             "minorgridcolor": "white",
             "startlinecolor": "#2a3f5f"
            },
            "type": "carpet"
           }
          ],
          "choropleth": [
           {
            "colorbar": {
             "outlinewidth": 0,
             "ticks": ""
            },
            "type": "choropleth"
           }
          ],
          "contour": [
           {
            "colorbar": {
             "outlinewidth": 0,
             "ticks": ""
            },
            "colorscale": [
             [
              0,
              "#0d0887"
             ],
             [
              0.1111111111111111,
              "#46039f"
             ],
             [
              0.2222222222222222,
              "#7201a8"
             ],
             [
              0.3333333333333333,
              "#9c179e"
             ],
             [
              0.4444444444444444,
              "#bd3786"
             ],
             [
              0.5555555555555556,
              "#d8576b"
             ],
             [
              0.6666666666666666,
              "#ed7953"
             ],
             [
              0.7777777777777778,
              "#fb9f3a"
             ],
             [
              0.8888888888888888,
              "#fdca26"
             ],
             [
              1,
              "#f0f921"
             ]
            ],
            "type": "contour"
           }
          ],
          "contourcarpet": [
           {
            "colorbar": {
             "outlinewidth": 0,
             "ticks": ""
            },
            "type": "contourcarpet"
           }
          ],
          "heatmap": [
           {
            "colorbar": {
             "outlinewidth": 0,
             "ticks": ""
            },
            "colorscale": [
             [
              0,
              "#0d0887"
             ],
             [
              0.1111111111111111,
              "#46039f"
             ],
             [
              0.2222222222222222,
              "#7201a8"
             ],
             [
              0.3333333333333333,
              "#9c179e"
             ],
             [
              0.4444444444444444,
              "#bd3786"
             ],
             [
              0.5555555555555556,
              "#d8576b"
             ],
             [
              0.6666666666666666,
              "#ed7953"
             ],
             [
              0.7777777777777778,
              "#fb9f3a"
             ],
             [
              0.8888888888888888,
              "#fdca26"
             ],
             [
              1,
              "#f0f921"
             ]
            ],
            "type": "heatmap"
           }
          ],
          "heatmapgl": [
           {
            "colorbar": {
             "outlinewidth": 0,
             "ticks": ""
            },
            "colorscale": [
             [
              0,
              "#0d0887"
             ],
             [
              0.1111111111111111,
              "#46039f"
             ],
             [
              0.2222222222222222,
              "#7201a8"
             ],
             [
              0.3333333333333333,
              "#9c179e"
             ],
             [
              0.4444444444444444,
              "#bd3786"
             ],
             [
              0.5555555555555556,
              "#d8576b"
             ],
             [
              0.6666666666666666,
              "#ed7953"
             ],
             [
              0.7777777777777778,
              "#fb9f3a"
             ],
             [
              0.8888888888888888,
              "#fdca26"
             ],
             [
              1,
              "#f0f921"
             ]
            ],
            "type": "heatmapgl"
           }
          ],
          "histogram": [
           {
            "marker": {
             "colorbar": {
              "outlinewidth": 0,
              "ticks": ""
             }
            },
            "type": "histogram"
           }
          ],
          "histogram2d": [
           {
            "colorbar": {
             "outlinewidth": 0,
             "ticks": ""
            },
            "colorscale": [
             [
              0,
              "#0d0887"
             ],
             [
              0.1111111111111111,
              "#46039f"
             ],
             [
              0.2222222222222222,
              "#7201a8"
             ],
             [
              0.3333333333333333,
              "#9c179e"
             ],
             [
              0.4444444444444444,
              "#bd3786"
             ],
             [
              0.5555555555555556,
              "#d8576b"
             ],
             [
              0.6666666666666666,
              "#ed7953"
             ],
             [
              0.7777777777777778,
              "#fb9f3a"
             ],
             [
              0.8888888888888888,
              "#fdca26"
             ],
             [
              1,
              "#f0f921"
             ]
            ],
            "type": "histogram2d"
           }
          ],
          "histogram2dcontour": [
           {
            "colorbar": {
             "outlinewidth": 0,
             "ticks": ""
            },
            "colorscale": [
             [
              0,
              "#0d0887"
             ],
             [
              0.1111111111111111,
              "#46039f"
             ],
             [
              0.2222222222222222,
              "#7201a8"
             ],
             [
              0.3333333333333333,
              "#9c179e"
             ],
             [
              0.4444444444444444,
              "#bd3786"
             ],
             [
              0.5555555555555556,
              "#d8576b"
             ],
             [
              0.6666666666666666,
              "#ed7953"
             ],
             [
              0.7777777777777778,
              "#fb9f3a"
             ],
             [
              0.8888888888888888,
              "#fdca26"
             ],
             [
              1,
              "#f0f921"
             ]
            ],
            "type": "histogram2dcontour"
           }
          ],
          "mesh3d": [
           {
            "colorbar": {
             "outlinewidth": 0,
             "ticks": ""
            },
            "type": "mesh3d"
           }
          ],
          "parcoords": [
           {
            "line": {
             "colorbar": {
              "outlinewidth": 0,
              "ticks": ""
             }
            },
            "type": "parcoords"
           }
          ],
          "pie": [
           {
            "automargin": true,
            "type": "pie"
           }
          ],
          "scatter": [
           {
            "marker": {
             "colorbar": {
              "outlinewidth": 0,
              "ticks": ""
             }
            },
            "type": "scatter"
           }
          ],
          "scatter3d": [
           {
            "line": {
             "colorbar": {
              "outlinewidth": 0,
              "ticks": ""
             }
            },
            "marker": {
             "colorbar": {
              "outlinewidth": 0,
              "ticks": ""
             }
            },
            "type": "scatter3d"
           }
          ],
          "scattercarpet": [
           {
            "marker": {
             "colorbar": {
              "outlinewidth": 0,
              "ticks": ""
             }
            },
            "type": "scattercarpet"
           }
          ],
          "scattergeo": [
           {
            "marker": {
             "colorbar": {
              "outlinewidth": 0,
              "ticks": ""
             }
            },
            "type": "scattergeo"
           }
          ],
          "scattergl": [
           {
            "marker": {
             "colorbar": {
              "outlinewidth": 0,
              "ticks": ""
             }
            },
            "type": "scattergl"
           }
          ],
          "scattermapbox": [
           {
            "marker": {
             "colorbar": {
              "outlinewidth": 0,
              "ticks": ""
             }
            },
            "type": "scattermapbox"
           }
          ],
          "scatterpolar": [
           {
            "marker": {
             "colorbar": {
              "outlinewidth": 0,
              "ticks": ""
             }
            },
            "type": "scatterpolar"
           }
          ],
          "scatterpolargl": [
           {
            "marker": {
             "colorbar": {
              "outlinewidth": 0,
              "ticks": ""
             }
            },
            "type": "scatterpolargl"
           }
          ],
          "scatterternary": [
           {
            "marker": {
             "colorbar": {
              "outlinewidth": 0,
              "ticks": ""
             }
            },
            "type": "scatterternary"
           }
          ],
          "surface": [
           {
            "colorbar": {
             "outlinewidth": 0,
             "ticks": ""
            },
            "colorscale": [
             [
              0,
              "#0d0887"
             ],
             [
              0.1111111111111111,
              "#46039f"
             ],
             [
              0.2222222222222222,
              "#7201a8"
             ],
             [
              0.3333333333333333,
              "#9c179e"
             ],
             [
              0.4444444444444444,
              "#bd3786"
             ],
             [
              0.5555555555555556,
              "#d8576b"
             ],
             [
              0.6666666666666666,
              "#ed7953"
             ],
             [
              0.7777777777777778,
              "#fb9f3a"
             ],
             [
              0.8888888888888888,
              "#fdca26"
             ],
             [
              1,
              "#f0f921"
             ]
            ],
            "type": "surface"
           }
          ],
          "table": [
           {
            "cells": {
             "fill": {
              "color": "#EBF0F8"
             },
             "line": {
              "color": "white"
             }
            },
            "header": {
             "fill": {
              "color": "#C8D4E3"
             },
             "line": {
              "color": "white"
             }
            },
            "type": "table"
           }
          ]
         },
         "layout": {
          "annotationdefaults": {
           "arrowcolor": "#2a3f5f",
           "arrowhead": 0,
           "arrowwidth": 1
          },
          "coloraxis": {
           "colorbar": {
            "outlinewidth": 0,
            "ticks": ""
           }
          },
          "colorscale": {
           "diverging": [
            [
             0,
             "#8e0152"
            ],
            [
             0.1,
             "#c51b7d"
            ],
            [
             0.2,
             "#de77ae"
            ],
            [
             0.3,
             "#f1b6da"
            ],
            [
             0.4,
             "#fde0ef"
            ],
            [
             0.5,
             "#f7f7f7"
            ],
            [
             0.6,
             "#e6f5d0"
            ],
            [
             0.7,
             "#b8e186"
            ],
            [
             0.8,
             "#7fbc41"
            ],
            [
             0.9,
             "#4d9221"
            ],
            [
             1,
             "#276419"
            ]
           ],
           "sequential": [
            [
             0,
             "#0d0887"
            ],
            [
             0.1111111111111111,
             "#46039f"
            ],
            [
             0.2222222222222222,
             "#7201a8"
            ],
            [
             0.3333333333333333,
             "#9c179e"
            ],
            [
             0.4444444444444444,
             "#bd3786"
            ],
            [
             0.5555555555555556,
             "#d8576b"
            ],
            [
             0.6666666666666666,
             "#ed7953"
            ],
            [
             0.7777777777777778,
             "#fb9f3a"
            ],
            [
             0.8888888888888888,
             "#fdca26"
            ],
            [
             1,
             "#f0f921"
            ]
           ],
           "sequentialminus": [
            [
             0,
             "#0d0887"
            ],
            [
             0.1111111111111111,
             "#46039f"
            ],
            [
             0.2222222222222222,
             "#7201a8"
            ],
            [
             0.3333333333333333,
             "#9c179e"
            ],
            [
             0.4444444444444444,
             "#bd3786"
            ],
            [
             0.5555555555555556,
             "#d8576b"
            ],
            [
             0.6666666666666666,
             "#ed7953"
            ],
            [
             0.7777777777777778,
             "#fb9f3a"
            ],
            [
             0.8888888888888888,
             "#fdca26"
            ],
            [
             1,
             "#f0f921"
            ]
           ]
          },
          "colorway": [
           "#636efa",
           "#EF553B",
           "#00cc96",
           "#ab63fa",
           "#FFA15A",
           "#19d3f3",
           "#FF6692",
           "#B6E880",
           "#FF97FF",
           "#FECB52"
          ],
          "font": {
           "color": "#2a3f5f"
          },
          "geo": {
           "bgcolor": "white",
           "lakecolor": "white",
           "landcolor": "#E5ECF6",
           "showlakes": true,
           "showland": true,
           "subunitcolor": "white"
          },
          "hoverlabel": {
           "align": "left"
          },
          "hovermode": "closest",
          "mapbox": {
           "style": "light"
          },
          "paper_bgcolor": "white",
          "plot_bgcolor": "#E5ECF6",
          "polar": {
           "angularaxis": {
            "gridcolor": "white",
            "linecolor": "white",
            "ticks": ""
           },
           "bgcolor": "#E5ECF6",
           "radialaxis": {
            "gridcolor": "white",
            "linecolor": "white",
            "ticks": ""
           }
          },
          "scene": {
           "xaxis": {
            "backgroundcolor": "#E5ECF6",
            "gridcolor": "white",
            "gridwidth": 2,
            "linecolor": "white",
            "showbackground": true,
            "ticks": "",
            "zerolinecolor": "white"
           },
           "yaxis": {
            "backgroundcolor": "#E5ECF6",
            "gridcolor": "white",
            "gridwidth": 2,
            "linecolor": "white",
            "showbackground": true,
            "ticks": "",
            "zerolinecolor": "white"
           },
           "zaxis": {
            "backgroundcolor": "#E5ECF6",
            "gridcolor": "white",
            "gridwidth": 2,
            "linecolor": "white",
            "showbackground": true,
            "ticks": "",
            "zerolinecolor": "white"
           }
          },
          "shapedefaults": {
           "line": {
            "color": "#2a3f5f"
           }
          },
          "ternary": {
           "aaxis": {
            "gridcolor": "white",
            "linecolor": "white",
            "ticks": ""
           },
           "baxis": {
            "gridcolor": "white",
            "linecolor": "white",
            "ticks": ""
           },
           "bgcolor": "#E5ECF6",
           "caxis": {
            "gridcolor": "white",
            "linecolor": "white",
            "ticks": ""
           }
          },
          "title": {
           "x": 0.05
          },
          "xaxis": {
           "automargin": true,
           "gridcolor": "white",
           "linecolor": "white",
           "ticks": "",
           "title": {
            "standoff": 15
           },
           "zerolinecolor": "white",
           "zerolinewidth": 2
          },
          "yaxis": {
           "automargin": true,
           "gridcolor": "white",
           "linecolor": "white",
           "ticks": "",
           "title": {
            "standoff": 15
           },
           "zerolinecolor": "white",
           "zerolinewidth": 2
          }
         }
        },
        "xaxis": {
         "autorange": true,
         "range": [
          -3.4723674704412573,
          2.591564780117074
         ],
         "type": "linear"
        },
        "yaxis": {
         "autorange": true,
         "range": [
          -2.5025830602369874,
          2.7762251563811327
         ],
         "type": "linear"
        }
       }
      },
      "image/png": "[encoded data removed]",
      "text/html": [
       "<div>\n",
       "        \n",
       "        \n",
       "            <div id=\"757ab800-1fde-4406-8e1d-2ee2adb1f570\" class=\"plotly-graph-div\" style=\"height:525px; width:100%;\"></div>\n",
       "            <script type=\"text/javascript\">\n",
       "                require([\"plotly\"], function(Plotly) {\n",
       "                    window.PLOTLYENV=window.PLOTLYENV || {};\n",
       "                    \n",
       "                if (document.getElementById(\"757ab800-1fde-4406-8e1d-2ee2adb1f570\")) {\n",
       "                    Plotly.newPlot(\n",
       "                        '757ab800-1fde-4406-8e1d-2ee2adb1f570',\n",
       "                        [{\"mode\": \"markers\", \"name\": \"Random Number Variance\", \"type\": \"scatter\", \"x\": [0.7059830209843146, -1.9650427498927927, 1.0609040459362564, -0.39558310921909956, 0.6615784534332729, -1.0118021565727648, -0.8494144402406115, -1.8007277043201435, -1.8773512451768375, -0.7441126779497039, 0.9490776935453268, -0.37805699324201825, 0.6436962603882035, 1.3111396990783748, -0.516818557470155, -0.7125415354556791, -0.8921978847239574, 0.5192813313386662, 0.06435769861930789, -0.7624814146766862, -1.0964877677671503, 0.3197080833822312, -0.1399361865944968, -0.22755661986121234, 0.22331453615062985, 0.8124710561099511, -1.347306735978177, 0.10670937394230254, -0.570396044975098, -0.39155721508989466, 0.7018615513609998, -1.1785363263459026, -0.019314996212103353, -1.6610685866317156, 1.1511178776884137, 0.09400418321252366, -2.0369448705020865, -0.8643164514235073, -0.30571716935588944, -0.7739670539063841, 1.131102235029015, -0.2176233144038367, 1.3686649519917955, 0.6620498899684836, -1.0116457104224723, -0.293264357023014, 0.5496641617173852, -0.1798486499608496, 0.4999374547642449, -1.1293988058466178, -0.5719396014396315, 0.15015584658487963, 2.2622305285781303, 1.4770655969975095, 0.7735628779732208, -1.25922863893478, -0.7671973405349768, 1.8694065627516336, 0.48538299207638214, 1.5777319832764285, -0.5965108553102049, 0.1872608180940716, -0.4716995271207324, -0.6838627019203894, 0.8205239992864504, -0.7890204977108491, -1.8339080637745215, 0.24744506320179677, -1.0557015149591593, -1.1529872269364017, -0.9700866188968481, 0.15569828767951074, 1.273497921320371, -0.0015089508106576363, 0.6711369913499897, 1.760783944130987, 1.3674272319376557, 0.41052046357898214, -1.9430522297845438, 1.4590382020000727, 0.7769772030918431, 1.1259821075690712, 0.7494929838966052, 0.6885375001509536, -0.2154616009368137, -0.21343061793254334, -0.7253615280227129, -0.5836931569744812, -0.9562892582372134, 1.1296659205171058, 0.03216119592574332, -0.3196714619911883, 0.5271376359943503, -0.7423697940549043, -0.6611454662770325, -3.1430332189023136, -0.6452668635077592, -1.1862496687872472, 1.1658050441138923, 1.1468424291249226, 1.802565736471801, 0.7151650862628467, -0.9960663808046866, 1.6889211406838323, 0.5869905785050565, 0.3816234598679956, -0.5596196685478677, -1.4474214320979122, 0.4354084999292567, -0.8030980403611356, 0.16370597178790935, -1.5236641782375913, -0.8600911878652798, -0.8352956360417, -1.6069780673261298, -1.2135146153610894, 0.6107222530545003, 0.20385820776897867, -0.7408943186559397, 1.213545204628186, -0.0369192056841619, 0.3567042681760201, 0.0019484118204342784, -1.5432557417022508, 0.9388199187706642, 1.2281284393855294, 0.4211257879149716, 0.7538915774943775, -0.8770863071709313, 0.3020266804151244, 0.22249884313945845, 0.44063137293582216, -2.0536375242709415, 1.0550109357249202, 0.65750169904507, 0.4232733451578501, 0.8185420367048557, 1.604417591551849, 1.068151247189055, 0.5949559892046804, -0.8352808659607066, -0.5404447465223015, -0.03179625290191529, 1.2801806893194512, -1.459500982629847, 0.471203324868522, -0.09525446046701323, -0.2079326041514718, -0.37138555867567713, -2.632278424528788, -0.7529907094756174, -0.8685393003695623, -0.8118929743525783, 0.33749520282416356, -2.124704374440182, 2.005523909490569, -1.8904702059858958, 0.7164055179826134, 0.3306000790049714, 1.2681392867606078, 0.19495209016993403, 0.8688607276650272, -0.17286357503903393, 0.8658697026481951, -0.9294141159563143, -0.5105630154500617, -0.15990181953477678, 1.0572133068640581, -0.5323056154191134, -1.3374416830794114, 1.0702772518536692, -0.25559554054322153, -1.4727729124122046, -0.6997050059476052, -1.1111410985799806, -1.1350735596073485, 0.04965063452708269, 0.48542335981764845, 0.5134366387648346, -1.0358835381274907, -0.4911998049630035, 0.2237708559284883, 0.5947069497839932, -1.129530517877572, -1.3857599205329352, 0.8259648397123345, -0.8828679812467531, -0.9174214572559426, 0.3740269538714745, -0.43907395382443576, 0.9781027775794371, -0.07657674373048791, 0.14352265149916035, 0.2650188009115076, 1.6706545370459116, -0.49304138010823445, -0.5482594587170239, -0.43180285246072453, -2.1529198373364102, 0.29510145451183933], \"y\": [1.621912676970022, 0.03008659047555786, 0.598376982428481, 1.9952870110504817, 0.27929240830294944, -0.8620081602812145, 0.281619573189727, -0.4863248332271645, 0.1822178657183825, -1.085629179324059, 1.1300513422468197, -1.5073914558084662, 0.39655931599722527, 1.0143755274301902, -0.7281027009089525, -0.9795077234848685, 0.37920661389718335, -0.5460506125500743, -0.5426413315497727, 0.9566682528776602, 0.42529369149565593, -1.0740099542324706, -0.7429884423066077, -0.4599252974207208, -1.194789435947938, -0.9883958664953478, -0.8806407379874044, -0.0098673675848052, 1.0683168597170958, -0.20077250559999207, -0.9542817797105411, 1.3234337694748515, -1.6681781835165563, -1.826691728333552, -1.1803988571490882, -2.1325255324523296, 1.7163492359873582, 0.5138472970741925, -0.28468188745619966, -1.8841121824458018, 0.17704834929801266, -0.10766126015404438, 1.379809341680393, 0.5825550433532916, 0.6755554567599203, 1.1727847194659753, 0.45262485939261843, -0.6014009964944881, 0.9723374964936773, -1.3780793779466356, -1.283808191788639, -1.0315319242942296, 0.6335368468237719, 0.961357106393388, 0.4961369196534665, 0.39396190248472884, 0.12807839762277845, 0.21772892213939404, -0.07426379433029566, 1.650829126003936, -0.7084839011170474, -0.46702505885289364, -0.7177223889135109, 0.06252111297818988, 1.1272608488162166, 0.10868476639214912, 1.836257536634713, 1.7864847426620056, -1.3353125273693065, 1.0839179629764544, -0.8208560662065567, -1.8361437313723388, -0.20575485518198416, -1.3725993647900794, 0.7310737224609579, 0.6890909872940513, 1.2761533849205793, 2.258286917306191, 0.8894235867630443, -0.7246862031109752, 0.13517541970464264, 1.2770445038318727, -1.090710158985352, 0.6245554383972513, -0.21390226358348438, -0.34869205971108275, -0.4692484697544156, 0.13388042163702196, -1.9046759260928814, -0.286235647277208, 0.8588121593414747, 0.8985678667490437, -0.014191409220855801, -0.8639389203028597, -1.274686893799093, -1.2890771970362993, -1.0081788056469694, -0.5373994997665622, -0.2299867017847202, 1.007043685620217, -0.0917247477452185, -1.5159963738460196, -0.8312466129081527, -0.5741846893299367, -0.13620446267489528, 1.8692242549139648, -0.807182912609545, -0.36266308538113173, -1.518653717541171, 0.38548459390545226, 0.7601040034398371, -1.7702945304278974, -0.737447618703773, 0.3871252593930263, 2.438967964763864, 1.7534527745530564, -2.1653258686197185, -1.9662569943594619, -0.4104480519105711, 1.596542014493547, 1.8648433534310467, 1.5560422158714404, 0.3492206295232961, 1.127558466494832, 0.5770084101365919, 1.434920677027049, -1.1117851151232316, -0.763941392367022, 0.38926746173030263, -0.16599948540368384, 0.8119803690101319, 0.022560022328282033, 0.038198199241780736, -0.048287415947501175, -0.5588757228099693, 0.5173000670293451, -0.7932779946397966, -1.3484291447412426, -1.752490656692212, -0.09916909443272798, -0.7946809721138177, -1.6819958558138761, -0.6818007518274019, -1.5446104601898045, -0.4485900113713763, -0.5877190466537964, 0.17615583409536859, -0.6527562784188328, 1.0923152030638519, -0.5020565046166874, 1.7117240843452963, 0.14227039304221634, 0.6939890354168755, -0.5448117864834124, 1.17079303903497, 0.305996310657478, 0.17400365649079577, 0.7279589024765573, -0.20694837723334278, -0.04841710001253108, 0.03585780362411581, 1.3507762297899848, -1.056928264275814, -0.022810979082870084, -0.16199808776596025, 1.503043183755862, 1.1435113165912392, 0.9481385888742243, 0.8849079659184835, -0.7930051419866433, 0.7480320953283437, 0.16010650597600817, -0.11686527099549256, 0.5542758459323717, -0.40622540227839893, -0.4562239332522781, 0.9441231433089506, 1.5654450166660072, 0.15268820441492895, -0.3972678324418055, 0.6272409302122719, -1.5910597488521296, -1.2047927318900453, 1.3269917673412372, 0.10265321388480697, 1.9479616316440111, -0.08209334043480777, 0.3231656114034986, -0.8560686022073313, -0.25819671177706544, 1.4295515299234873, -0.2249126011380727, 0.21805478069866596, -1.5734769570408198, 0.5043671239754803, 0.44690012255727424, 0.5887996939897225, 0.668224143723689, -0.007021509970324097, -0.1221721637471562]}],\n",
       "                        {\"template\": {\"data\": {\"bar\": [{\"error_x\": {\"color\": \"#2a3f5f\"}, \"error_y\": {\"color\": \"#2a3f5f\"}, \"marker\": {\"line\": {\"color\": \"#E5ECF6\", \"width\": 0.5}}, \"type\": \"bar\"}], \"barpolar\": [{\"marker\": {\"line\": {\"color\": \"#E5ECF6\", \"width\": 0.5}}, \"type\": \"barpolar\"}], \"carpet\": [{\"aaxis\": {\"endlinecolor\": \"#2a3f5f\", \"gridcolor\": \"white\", \"linecolor\": \"white\", \"minorgridcolor\": \"white\", \"startlinecolor\": \"#2a3f5f\"}, \"baxis\": {\"endlinecolor\": \"#2a3f5f\", \"gridcolor\": \"white\", \"linecolor\": \"white\", \"minorgridcolor\": \"white\", \"startlinecolor\": \"#2a3f5f\"}, \"type\": \"carpet\"}], \"choropleth\": [{\"colorbar\": {\"outlinewidth\": 0, \"ticks\": \"\"}, \"type\": \"choropleth\"}], \"contour\": [{\"colorbar\": {\"outlinewidth\": 0, \"ticks\": \"\"}, \"colorscale\": [[0.0, \"#0d0887\"], [0.1111111111111111, \"#46039f\"], [0.2222222222222222, \"#7201a8\"], [0.3333333333333333, \"#9c179e\"], [0.4444444444444444, \"#bd3786\"], [0.5555555555555556, \"#d8576b\"], [0.6666666666666666, \"#ed7953\"], [0.7777777777777778, \"#fb9f3a\"], [0.8888888888888888, \"#fdca26\"], [1.0, \"#f0f921\"]], \"type\": \"contour\"}], \"contourcarpet\": [{\"colorbar\": {\"outlinewidth\": 0, \"ticks\": \"\"}, \"type\": \"contourcarpet\"}], \"heatmap\": [{\"colorbar\": {\"outlinewidth\": 0, \"ticks\": \"\"}, \"colorscale\": [[0.0, \"#0d0887\"], [0.1111111111111111, \"#46039f\"], [0.2222222222222222, \"#7201a8\"], [0.3333333333333333, \"#9c179e\"], [0.4444444444444444, \"#bd3786\"], [0.5555555555555556, \"#d8576b\"], [0.6666666666666666, \"#ed7953\"], [0.7777777777777778, \"#fb9f3a\"], [0.8888888888888888, \"#fdca26\"], [1.0, \"#f0f921\"]], \"type\": \"heatmap\"}], \"heatmapgl\": [{\"colorbar\": {\"outlinewidth\": 0, \"ticks\": \"\"}, \"colorscale\": [[0.0, \"#0d0887\"], [0.1111111111111111, \"#46039f\"], [0.2222222222222222, \"#7201a8\"], [0.3333333333333333, \"#9c179e\"], [0.4444444444444444, \"#bd3786\"], [0.5555555555555556, \"#d8576b\"], [0.6666666666666666, \"#ed7953\"], [0.7777777777777778, \"#fb9f3a\"], [0.8888888888888888, \"#fdca26\"], [1.0, \"#f0f921\"]], \"type\": \"heatmapgl\"}], \"histogram\": [{\"marker\": {\"colorbar\": {\"outlinewidth\": 0, \"ticks\": \"\"}}, \"type\": \"histogram\"}], \"histogram2d\": [{\"colorbar\": {\"outlinewidth\": 0, \"ticks\": \"\"}, \"colorscale\": [[0.0, \"#0d0887\"], [0.1111111111111111, \"#46039f\"], [0.2222222222222222, \"#7201a8\"], [0.3333333333333333, \"#9c179e\"], [0.4444444444444444, \"#bd3786\"], [0.5555555555555556, \"#d8576b\"], [0.6666666666666666, \"#ed7953\"], [0.7777777777777778, \"#fb9f3a\"], [0.8888888888888888, \"#fdca26\"], [1.0, \"#f0f921\"]], \"type\": \"histogram2d\"}], \"histogram2dcontour\": [{\"colorbar\": {\"outlinewidth\": 0, \"ticks\": \"\"}, \"colorscale\": [[0.0, \"#0d0887\"], [0.1111111111111111, \"#46039f\"], [0.2222222222222222, \"#7201a8\"], [0.3333333333333333, \"#9c179e\"], [0.4444444444444444, \"#bd3786\"], [0.5555555555555556, \"#d8576b\"], [0.6666666666666666, \"#ed7953\"], [0.7777777777777778, \"#fb9f3a\"], [0.8888888888888888, \"#fdca26\"], [1.0, \"#f0f921\"]], \"type\": \"histogram2dcontour\"}], \"mesh3d\": [{\"colorbar\": {\"outlinewidth\": 0, \"ticks\": \"\"}, \"type\": \"mesh3d\"}], \"parcoords\": [{\"line\": {\"colorbar\": {\"outlinewidth\": 0, \"ticks\": \"\"}}, \"type\": \"parcoords\"}], \"pie\": [{\"automargin\": true, \"type\": \"pie\"}], \"scatter\": [{\"marker\": {\"colorbar\": {\"outlinewidth\": 0, \"ticks\": \"\"}}, \"type\": \"scatter\"}], \"scatter3d\": [{\"line\": {\"colorbar\": {\"outlinewidth\": 0, \"ticks\": \"\"}}, \"marker\": {\"colorbar\": {\"outlinewidth\": 0, \"ticks\": \"\"}}, \"type\": \"scatter3d\"}], \"scattercarpet\": [{\"marker\": {\"colorbar\": {\"outlinewidth\": 0, \"ticks\": \"\"}}, \"type\": \"scattercarpet\"}], \"scattergeo\": [{\"marker\": {\"colorbar\": {\"outlinewidth\": 0, \"ticks\": \"\"}}, \"type\": \"scattergeo\"}], \"scattergl\": [{\"marker\": {\"colorbar\": {\"outlinewidth\": 0, \"ticks\": \"\"}}, \"type\": \"scattergl\"}], \"scattermapbox\": [{\"marker\": {\"colorbar\": {\"outlinewidth\": 0, \"ticks\": \"\"}}, \"type\": \"scattermapbox\"}], \"scatterpolar\": [{\"marker\": {\"colorbar\": {\"outlinewidth\": 0, \"ticks\": \"\"}}, \"type\": \"scatterpolar\"}], \"scatterpolargl\": [{\"marker\": {\"colorbar\": {\"outlinewidth\": 0, \"ticks\": \"\"}}, \"type\": \"scatterpolargl\"}], \"scatterternary\": [{\"marker\": {\"colorbar\": {\"outlinewidth\": 0, \"ticks\": \"\"}}, \"type\": \"scatterternary\"}], \"surface\": [{\"colorbar\": {\"outlinewidth\": 0, \"ticks\": \"\"}, \"colorscale\": [[0.0, \"#0d0887\"], [0.1111111111111111, \"#46039f\"], [0.2222222222222222, \"#7201a8\"], [0.3333333333333333, \"#9c179e\"], [0.4444444444444444, \"#bd3786\"], [0.5555555555555556, \"#d8576b\"], [0.6666666666666666, \"#ed7953\"], [0.7777777777777778, \"#fb9f3a\"], [0.8888888888888888, \"#fdca26\"], [1.0, \"#f0f921\"]], \"type\": \"surface\"}], \"table\": [{\"cells\": {\"fill\": {\"color\": \"#EBF0F8\"}, \"line\": {\"color\": \"white\"}}, \"header\": {\"fill\": {\"color\": \"#C8D4E3\"}, \"line\": {\"color\": \"white\"}}, \"type\": \"table\"}]}, \"layout\": {\"annotationdefaults\": {\"arrowcolor\": \"#2a3f5f\", \"arrowhead\": 0, \"arrowwidth\": 1}, \"coloraxis\": {\"colorbar\": {\"outlinewidth\": 0, \"ticks\": \"\"}}, \"colorscale\": {\"diverging\": [[0, \"#8e0152\"], [0.1, \"#c51b7d\"], [0.2, \"#de77ae\"], [0.3, \"#f1b6da\"], [0.4, \"#fde0ef\"], [0.5, \"#f7f7f7\"], [0.6, \"#e6f5d0\"], [0.7, \"#b8e186\"], [0.8, \"#7fbc41\"], [0.9, \"#4d9221\"], [1, \"#276419\"]], \"sequential\": [[0.0, \"#0d0887\"], [0.1111111111111111, \"#46039f\"], [0.2222222222222222, \"#7201a8\"], [0.3333333333333333, \"#9c179e\"], [0.4444444444444444, \"#bd3786\"], [0.5555555555555556, \"#d8576b\"], [0.6666666666666666, \"#ed7953\"], [0.7777777777777778, \"#fb9f3a\"], [0.8888888888888888, \"#fdca26\"], [1.0, \"#f0f921\"]], \"sequentialminus\": [[0.0, \"#0d0887\"], [0.1111111111111111, \"#46039f\"], [0.2222222222222222, \"#7201a8\"], [0.3333333333333333, \"#9c179e\"], [0.4444444444444444, \"#bd3786\"], [0.5555555555555556, \"#d8576b\"], [0.6666666666666666, \"#ed7953\"], [0.7777777777777778, \"#fb9f3a\"], [0.8888888888888888, \"#fdca26\"], [1.0, \"#f0f921\"]]}, \"colorway\": [\"#636efa\", \"#EF553B\", \"#00cc96\", \"#ab63fa\", \"#FFA15A\", \"#19d3f3\", \"#FF6692\", \"#B6E880\", \"#FF97FF\", \"#FECB52\"], \"font\": {\"color\": \"#2a3f5f\"}, \"geo\": {\"bgcolor\": \"white\", \"lakecolor\": \"white\", \"landcolor\": \"#E5ECF6\", \"showlakes\": true, \"showland\": true, \"subunitcolor\": \"white\"}, \"hoverlabel\": {\"align\": \"left\"}, \"hovermode\": \"closest\", \"mapbox\": {\"style\": \"light\"}, \"paper_bgcolor\": \"white\", \"plot_bgcolor\": \"#E5ECF6\", \"polar\": {\"angularaxis\": {\"gridcolor\": \"white\", \"linecolor\": \"white\", \"ticks\": \"\"}, \"bgcolor\": \"#E5ECF6\", \"radialaxis\": {\"gridcolor\": \"white\", \"linecolor\": \"white\", \"ticks\": \"\"}}, \"scene\": {\"xaxis\": {\"backgroundcolor\": \"#E5ECF6\", \"gridcolor\": \"white\", \"gridwidth\": 2, \"linecolor\": \"white\", \"showbackground\": true, \"ticks\": \"\", \"zerolinecolor\": \"white\"}, \"yaxis\": {\"backgroundcolor\": \"#E5ECF6\", \"gridcolor\": \"white\", \"gridwidth\": 2, \"linecolor\": \"white\", \"showbackground\": true, \"ticks\": \"\", \"zerolinecolor\": \"white\"}, \"zaxis\": {\"backgroundcolor\": \"#E5ECF6\", \"gridcolor\": \"white\", \"gridwidth\": 2, \"linecolor\": \"white\", \"showbackground\": true, \"ticks\": \"\", \"zerolinecolor\": \"white\"}}, \"shapedefaults\": {\"line\": {\"color\": \"#2a3f5f\"}}, \"ternary\": {\"aaxis\": {\"gridcolor\": \"white\", \"linecolor\": \"white\", \"ticks\": \"\"}, \"baxis\": {\"gridcolor\": \"white\", \"linecolor\": \"white\", \"ticks\": \"\"}, \"bgcolor\": \"#E5ECF6\", \"caxis\": {\"gridcolor\": \"white\", \"linecolor\": \"white\", \"ticks\": \"\"}}, \"title\": {\"x\": 0.05}, \"xaxis\": {\"automargin\": true, \"gridcolor\": \"white\", \"linecolor\": \"white\", \"ticks\": \"\", \"title\": {\"standoff\": 15}, \"zerolinecolor\": \"white\", \"zerolinewidth\": 2}, \"yaxis\": {\"automargin\": true, \"gridcolor\": \"white\", \"linecolor\": \"white\", \"ticks\": \"\", \"title\": {\"standoff\": 15}, \"zerolinecolor\": \"white\", \"zerolinewidth\": 2}}}},\n",
       "                        {\"responsive\": true}\n",
       "                    ).then(function(){\n",
       "                            \n",
       "var gd = document.getElementById('757ab800-1fde-4406-8e1d-2ee2adb1f570');\n",
       "var x = new MutationObserver(function (mutations, observer) {{\n",
       "        var display = window.getComputedStyle(gd).display;\n",
       "        if (!display || display === 'none') {{\n",
       "            console.log([gd, 'removed!']);\n",
       "            Plotly.purge(gd);\n",
       "            observer.disconnect();\n",
       "        }}\n",
       "}});\n",
       "\n",
       "// Listen for the removal of the full notebook cells\n",
       "var notebookContainer = gd.closest('#notebook-container');\n",
       "if (notebookContainer) {{\n",
       "    x.observe(notebookContainer, {childList: true});\n",
       "}}\n",
       "\n",
       "// Listen for the clearing of the current output cell\n",
       "var outputEl = gd.closest('.output');\n",
       "if (outputEl) {{\n",
       "    x.observe(outputEl, {childList: true});\n",
       "}}\n",
       "\n",
       "                        })\n",
       "                };\n",
       "                });\n",
       "            </script>\n",
       "        </div>"
      ]
     },
     "metadata": {},
     "output_type": "display_data"
    }
   ],
   "source": [
    "offline.iplot(data)"
   ]
  },
  {
   "cell_type": "code",
   "execution_count": 5,
   "metadata": {},
   "outputs": [],
   "source": [
    "# \n",
    "n = 50\n",
    "\n",
    "random_x = np.linspace(0, 1, n)  # it will generate 50 evenly placed data points between 0 and 1\n",
    "\n",
    "# generating 3 sets of y value with mean of 5, 0 and -5\n",
    "random_y0 = np.random.randn(n) + 5\n",
    "random_y1 = np.random.randn(n)\n",
    "random_y2 = np.random.randn(n) - 5"
   ]
  },
  {
   "cell_type": "code",
   "execution_count": 6,
   "metadata": {},
   "outputs": [],
   "source": [
    "# generating 3 traces with different mode\n",
    "trace0 = go.Scatter(x= random_x, y= random_y0, mode='markers')\n",
    "trace1 = go.Scatter(x= random_x, y= random_y1, mode='lines')\n",
    "trace2 = go.Scatter(x= random_x, y= random_y2, mode='lines+markers')"
   ]
  },
  {
   "cell_type": "code",
   "execution_count": 7,
   "metadata": {},
   "outputs": [
    {
     "data": {
      "application/vnd.plotly.v1+json": {
       "config": {
        "linkText": "Export to plot.ly",
        "plotlyServerURL": "https://plot.ly",
        "showLink": false
       },
       "data": [
        {
         "mode": "markers",
         "type": "scatter",
         "x": [
          0,
          0.02040816326530612,
          0.04081632653061224,
          0.061224489795918366,
          0.08163265306122448,
          0.1020408163265306,
          0.12244897959183673,
          0.14285714285714285,
          0.16326530612244897,
          0.18367346938775508,
          0.2040816326530612,
          0.22448979591836732,
          0.24489795918367346,
          0.26530612244897955,
          0.2857142857142857,
          0.3061224489795918,
          0.32653061224489793,
          0.3469387755102041,
          0.36734693877551017,
          0.3877551020408163,
          0.4081632653061224,
          0.42857142857142855,
          0.44897959183673464,
          0.4693877551020408,
          0.4897959183673469,
          0.5102040816326531,
          0.5306122448979591,
          0.5510204081632653,
          0.5714285714285714,
          0.5918367346938775,
          0.6122448979591836,
          0.6326530612244897,
          0.6530612244897959,
          0.673469387755102,
          0.6938775510204082,
          0.7142857142857142,
          0.7346938775510203,
          0.7551020408163265,
          0.7755102040816326,
          0.7959183673469387,
          0.8163265306122448,
          0.836734693877551,
          0.8571428571428571,
          0.8775510204081632,
          0.8979591836734693,
          0.9183673469387754,
          0.9387755102040816,
          0.9591836734693877,
          0.9795918367346939,
          1
         ],
         "y": [
          4.668692732655988,
          6.3820402207507865,
          5.271356831217081,
          4.225457763639107,
          3.4987388772432535,
          4.446885833550949,
          6.524516260694219,
          5.760207895617016,
          6.641464024606648,
          4.238346192313392,
          5.995513709997597,
          6.709907126035533,
          3.592834237120305,
          5.068031210954939,
          4.027450075643715,
          4.401602567816885,
          6.046149152064325,
          3.9556104931778546,
          5.824697348777839,
          5.0752719983060315,
          4.742849447225395,
          3.5547867553261163,
          3.9685440374160565,
          3.9543104486681173,
          2.789569970689357,
          5.294620522519012,
          4.656224461381017,
          5.330309144249227,
          4.129774917151724,
          4.60369406667796,
          5.886334776420414,
          3.5609183109962306,
          4.4261332628912005,
          3.9644916048877086,
          5.097791775741645,
          6.156701364238731,
          5.909705416637658,
          6.531092915039024,
          3.7652730930606206,
          5.008544985873047,
          4.817764675033903,
          2.776741752443038,
          7.027510910362908,
          5.861204083286215,
          5.60793134662738,
          4.463665700190345,
          5.103225342191266,
          7.062066591290405,
          4.632105028832981,
          5.508709503363185
         ]
        },
        {
         "mode": "lines",
         "type": "scatter",
         "x": [
          0,
          0.02040816326530612,
          0.04081632653061224,
          0.061224489795918366,
          0.08163265306122448,
          0.1020408163265306,
          0.12244897959183673,
          0.14285714285714285,
          0.16326530612244897,
          0.18367346938775508,
          0.2040816326530612,
          0.22448979591836732,
          0.24489795918367346,
          0.26530612244897955,
          0.2857142857142857,
          0.3061224489795918,
          0.32653061224489793,
          0.3469387755102041,
          0.36734693877551017,
          0.3877551020408163,
          0.4081632653061224,
          0.42857142857142855,
          0.44897959183673464,
          0.4693877551020408,
          0.4897959183673469,
          0.5102040816326531,
          0.5306122448979591,
          0.5510204081632653,
          0.5714285714285714,
          0.5918367346938775,
          0.6122448979591836,
          0.6326530612244897,
          0.6530612244897959,
          0.673469387755102,
          0.6938775510204082,
          0.7142857142857142,
          0.7346938775510203,
          0.7551020408163265,
          0.7755102040816326,
          0.7959183673469387,
          0.8163265306122448,
          0.836734693877551,
          0.8571428571428571,
          0.8775510204081632,
          0.8979591836734693,
          0.9183673469387754,
          0.9387755102040816,
          0.9591836734693877,
          0.9795918367346939,
          1
         ],
         "y": [
          1.1376520097685483,
          1.0613376447152214,
          -1.7585404720506073,
          1.2076297438374821,
          -1.0090706106619247,
          -0.12412060727569665,
          0.4124579158994751,
          -0.3795965971837128,
          0.829238220473341,
          -0.3394354633560888,
          0.20521701341864826,
          1.2451394066713999,
          0.15669394928824698,
          -0.124829556343594,
          0.8989079491611432,
          0.40345113302807034,
          0.4682703278146849,
          0.2551753329817335,
          0.10996247973794451,
          0.02340918592261349,
          0.04812350173583319,
          -1.0496306311705814,
          -0.5604205465343255,
          -0.005449323261579718,
          1.2152294055541717,
          -1.258343054508259,
          -1.4705479899100649,
          -0.1401874820546462,
          -0.09266656866615688,
          0.6156714783375439,
          0.8381280458753781,
          2.16992414353689,
          1.5270881532280607,
          -1.3408325512987205,
          1.705031543191022,
          -0.07811288886191754,
          0.8434627181891866,
          -1.0597134966954822,
          -0.9371608845632897,
          1.248887990556758,
          -0.07462470213734616,
          -0.5784302357718548,
          0.7949557481987793,
          -1.4499185592802248,
          -0.30280682153063426,
          -1.1840909349584596,
          -0.662149555407475,
          0.11168132861919988,
          -0.04803260670193337,
          3.290302494332532
         ]
        },
        {
         "mode": "lines+markers",
         "type": "scatter",
         "x": [
          0,
          0.02040816326530612,
          0.04081632653061224,
          0.061224489795918366,
          0.08163265306122448,
          0.1020408163265306,
          0.12244897959183673,
          0.14285714285714285,
          0.16326530612244897,
          0.18367346938775508,
          0.2040816326530612,
          0.22448979591836732,
          0.24489795918367346,
          0.26530612244897955,
          0.2857142857142857,
          0.3061224489795918,
          0.32653061224489793,
          0.3469387755102041,
          0.36734693877551017,
          0.3877551020408163,
          0.4081632653061224,
          0.42857142857142855,
          0.44897959183673464,
          0.4693877551020408,
          0.4897959183673469,
          0.5102040816326531,
          0.5306122448979591,
          0.5510204081632653,
          0.5714285714285714,
          0.5918367346938775,
          0.6122448979591836,
          0.6326530612244897,
          0.6530612244897959,
          0.673469387755102,
          0.6938775510204082,
          0.7142857142857142,
          0.7346938775510203,
          0.7551020408163265,
          0.7755102040816326,
          0.7959183673469387,
          0.8163265306122448,
          0.836734693877551,
          0.8571428571428571,
          0.8775510204081632,
          0.8979591836734693,
          0.9183673469387754,
          0.9387755102040816,
          0.9591836734693877,
          0.9795918367346939,
          1
         ],
         "y": [
          -3.24103419748252,
          -4.393042415419285,
          -5.34092446088547,
          -5.485530708781657,
          -5.849577730548281,
          -4.892211513425529,
          -3.147224635400055,
          -4.249932753684852,
          -5.5582049754487235,
          -4.610534291850626,
          -3.7844210803659792,
          -5.445039833152525,
          -4.842084773065951,
          -4.125022263630813,
          -2.9834096300212445,
          -5.850040678596078,
          -4.4926393465675565,
          -4.913123412798454,
          -4.328699370568534,
          -6.137412846080879,
          -6.439146338889547,
          -4.098186592770644,
          -4.113399583197972,
          -5.6955196554814895,
          -3.869552350523769,
          -3.5002531967926833,
          -5.71929146042852,
          -2.9347693269698403,
          -4.008587724601041,
          -4.7325194905511685,
          -4.195741088287545,
          -3.738968944415616,
          -7.861095175524866,
          -6.782676644163328,
          -4.1469421623325955,
          -4.459191775605995,
          -4.4454365459954435,
          -5.841472986841215,
          -4.97036243988625,
          -3.8862535055398792,
          -5.489864327839838,
          -5.531096057557715,
          -6.297789803729217,
          -4.577576817085076,
          -5.954694361633437,
          -5.059915704158122,
          -3.455427787299491,
          -4.5844409702147795,
          -6.857511312446842,
          -3.873855632122014
         ]
        }
       ],
       "layout": {
        "autosize": true,
        "template": {
         "data": {
          "bar": [
           {
            "error_x": {
             "color": "#2a3f5f"
            },
            "error_y": {
             "color": "#2a3f5f"
            },
            "marker": {
             "line": {
              "color": "#E5ECF6",
              "width": 0.5
             }
            },
            "type": "bar"
           }
          ],
          "barpolar": [
           {
            "marker": {
             "line": {
              "color": "#E5ECF6",
              "width": 0.5
             }
            },
            "type": "barpolar"
           }
          ],
          "carpet": [
           {
            "aaxis": {
             "endlinecolor": "#2a3f5f",
             "gridcolor": "white",
             "linecolor": "white",
             "minorgridcolor": "white",
             "startlinecolor": "#2a3f5f"
            },
            "baxis": {
             "endlinecolor": "#2a3f5f",
             "gridcolor": "white",
             "linecolor": "white",
             "minorgridcolor": "white",
             "startlinecolor": "#2a3f5f"
            },
            "type": "carpet"
           }
          ],
          "choropleth": [
           {
            "colorbar": {
             "outlinewidth": 0,
             "ticks": ""
            },
            "type": "choropleth"
           }
          ],
          "contour": [
           {
            "colorbar": {
             "outlinewidth": 0,
             "ticks": ""
            },
            "colorscale": [
             [
              0,
              "#0d0887"
             ],
             [
              0.1111111111111111,
              "#46039f"
             ],
             [
              0.2222222222222222,
              "#7201a8"
             ],
             [
              0.3333333333333333,
              "#9c179e"
             ],
             [
              0.4444444444444444,
              "#bd3786"
             ],
             [
              0.5555555555555556,
              "#d8576b"
             ],
             [
              0.6666666666666666,
              "#ed7953"
             ],
             [
              0.7777777777777778,
              "#fb9f3a"
             ],
             [
              0.8888888888888888,
              "#fdca26"
             ],
             [
              1,
              "#f0f921"
             ]
            ],
            "type": "contour"
           }
          ],
          "contourcarpet": [
           {
            "colorbar": {
             "outlinewidth": 0,
             "ticks": ""
            },
            "type": "contourcarpet"
           }
          ],
          "heatmap": [
           {
            "colorbar": {
             "outlinewidth": 0,
             "ticks": ""
            },
            "colorscale": [
             [
              0,
              "#0d0887"
             ],
             [
              0.1111111111111111,
              "#46039f"
             ],
             [
              0.2222222222222222,
              "#7201a8"
             ],
             [
              0.3333333333333333,
              "#9c179e"
             ],
             [
              0.4444444444444444,
              "#bd3786"
             ],
             [
              0.5555555555555556,
              "#d8576b"
             ],
             [
              0.6666666666666666,
              "#ed7953"
             ],
             [
              0.7777777777777778,
              "#fb9f3a"
             ],
             [
              0.8888888888888888,
              "#fdca26"
             ],
             [
              1,
              "#f0f921"
             ]
            ],
            "type": "heatmap"
           }
          ],
          "heatmapgl": [
           {
            "colorbar": {
             "outlinewidth": 0,
             "ticks": ""
            },
            "colorscale": [
             [
              0,
              "#0d0887"
             ],
             [
              0.1111111111111111,
              "#46039f"
             ],
             [
              0.2222222222222222,
              "#7201a8"
             ],
             [
              0.3333333333333333,
              "#9c179e"
             ],
             [
              0.4444444444444444,
              "#bd3786"
             ],
             [
              0.5555555555555556,
              "#d8576b"
             ],
             [
              0.6666666666666666,
              "#ed7953"
             ],
             [
              0.7777777777777778,
              "#fb9f3a"
             ],
             [
              0.8888888888888888,
              "#fdca26"
             ],
             [
              1,
              "#f0f921"
             ]
            ],
            "type": "heatmapgl"
           }
          ],
          "histogram": [
           {
            "marker": {
             "colorbar": {
              "outlinewidth": 0,
              "ticks": ""
             }
            },
            "type": "histogram"
           }
          ],
          "histogram2d": [
           {
            "colorbar": {
             "outlinewidth": 0,
             "ticks": ""
            },
            "colorscale": [
             [
              0,
              "#0d0887"
             ],
             [
              0.1111111111111111,
              "#46039f"
             ],
             [
              0.2222222222222222,
              "#7201a8"
             ],
             [
              0.3333333333333333,
              "#9c179e"
             ],
             [
              0.4444444444444444,
              "#bd3786"
             ],
             [
              0.5555555555555556,
              "#d8576b"
             ],
             [
              0.6666666666666666,
              "#ed7953"
             ],
             [
              0.7777777777777778,
              "#fb9f3a"
             ],
             [
              0.8888888888888888,
              "#fdca26"
             ],
             [
              1,
              "#f0f921"
             ]
            ],
            "type": "histogram2d"
           }
          ],
          "histogram2dcontour": [
           {
            "colorbar": {
             "outlinewidth": 0,
             "ticks": ""
            },
            "colorscale": [
             [
              0,
              "#0d0887"
             ],
             [
              0.1111111111111111,
              "#46039f"
             ],
             [
              0.2222222222222222,
              "#7201a8"
             ],
             [
              0.3333333333333333,
              "#9c179e"
             ],
             [
              0.4444444444444444,
              "#bd3786"
             ],
             [
              0.5555555555555556,
              "#d8576b"
             ],
             [
              0.6666666666666666,
              "#ed7953"
             ],
             [
              0.7777777777777778,
              "#fb9f3a"
             ],
             [
              0.8888888888888888,
              "#fdca26"
             ],
             [
              1,
              "#f0f921"
             ]
            ],
            "type": "histogram2dcontour"
           }
          ],
          "mesh3d": [
           {
            "colorbar": {
             "outlinewidth": 0,
             "ticks": ""
            },
            "type": "mesh3d"
           }
          ],
          "parcoords": [
           {
            "line": {
             "colorbar": {
              "outlinewidth": 0,
              "ticks": ""
             }
            },
            "type": "parcoords"
           }
          ],
          "pie": [
           {
            "automargin": true,
            "type": "pie"
           }
          ],
          "scatter": [
           {
            "marker": {
             "colorbar": {
              "outlinewidth": 0,
              "ticks": ""
             }
            },
            "type": "scatter"
           }
          ],
          "scatter3d": [
           {
            "line": {
             "colorbar": {
              "outlinewidth": 0,
              "ticks": ""
             }
            },
            "marker": {
             "colorbar": {
              "outlinewidth": 0,
              "ticks": ""
             }
            },
            "type": "scatter3d"
           }
          ],
          "scattercarpet": [
           {
            "marker": {
             "colorbar": {
              "outlinewidth": 0,
              "ticks": ""
             }
            },
            "type": "scattercarpet"
           }
          ],
          "scattergeo": [
           {
            "marker": {
             "colorbar": {
              "outlinewidth": 0,
              "ticks": ""
             }
            },
            "type": "scattergeo"
           }
          ],
          "scattergl": [
           {
            "marker": {
             "colorbar": {
              "outlinewidth": 0,
              "ticks": ""
             }
            },
            "type": "scattergl"
           }
          ],
          "scattermapbox": [
           {
            "marker": {
             "colorbar": {
              "outlinewidth": 0,
              "ticks": ""
             }
            },
            "type": "scattermapbox"
           }
          ],
          "scatterpolar": [
           {
            "marker": {
             "colorbar": {
              "outlinewidth": 0,
              "ticks": ""
             }
            },
            "type": "scatterpolar"
           }
          ],
          "scatterpolargl": [
           {
            "marker": {
             "colorbar": {
              "outlinewidth": 0,
              "ticks": ""
             }
            },
            "type": "scatterpolargl"
           }
          ],
          "scatterternary": [
           {
            "marker": {
             "colorbar": {
              "outlinewidth": 0,
              "ticks": ""
             }
            },
            "type": "scatterternary"
           }
          ],
          "surface": [
           {
            "colorbar": {
             "outlinewidth": 0,
             "ticks": ""
            },
            "colorscale": [
             [
              0,
              "#0d0887"
             ],
             [
              0.1111111111111111,
              "#46039f"
             ],
             [
              0.2222222222222222,
              "#7201a8"
             ],
             [
              0.3333333333333333,
              "#9c179e"
             ],
             [
              0.4444444444444444,
              "#bd3786"
             ],
             [
              0.5555555555555556,
              "#d8576b"
             ],
             [
              0.6666666666666666,
              "#ed7953"
             ],
             [
              0.7777777777777778,
              "#fb9f3a"
             ],
             [
              0.8888888888888888,
              "#fdca26"
             ],
             [
              1,
              "#f0f921"
             ]
            ],
            "type": "surface"
           }
          ],
          "table": [
           {
            "cells": {
             "fill": {
              "color": "#EBF0F8"
             },
             "line": {
              "color": "white"
             }
            },
            "header": {
             "fill": {
              "color": "#C8D4E3"
             },
             "line": {
              "color": "white"
             }
            },
            "type": "table"
           }
          ]
         },
         "layout": {
          "annotationdefaults": {
           "arrowcolor": "#2a3f5f",
           "arrowhead": 0,
           "arrowwidth": 1
          },
          "coloraxis": {
           "colorbar": {
            "outlinewidth": 0,
            "ticks": ""
           }
          },
          "colorscale": {
           "diverging": [
            [
             0,
             "#8e0152"
            ],
            [
             0.1,
             "#c51b7d"
            ],
            [
             0.2,
             "#de77ae"
            ],
            [
             0.3,
             "#f1b6da"
            ],
            [
             0.4,
             "#fde0ef"
            ],
            [
             0.5,
             "#f7f7f7"
            ],
            [
             0.6,
             "#e6f5d0"
            ],
            [
             0.7,
             "#b8e186"
            ],
            [
             0.8,
             "#7fbc41"
            ],
            [
             0.9,
             "#4d9221"
            ],
            [
             1,
             "#276419"
            ]
           ],
           "sequential": [
            [
             0,
             "#0d0887"
            ],
            [
             0.1111111111111111,
             "#46039f"
            ],
            [
             0.2222222222222222,
             "#7201a8"
            ],
            [
             0.3333333333333333,
             "#9c179e"
            ],
            [
             0.4444444444444444,
             "#bd3786"
            ],
            [
             0.5555555555555556,
             "#d8576b"
            ],
            [
             0.6666666666666666,
             "#ed7953"
            ],
            [
             0.7777777777777778,
             "#fb9f3a"
            ],
            [
             0.8888888888888888,
             "#fdca26"
            ],
            [
             1,
             "#f0f921"
            ]
           ],
           "sequentialminus": [
            [
             0,
             "#0d0887"
            ],
            [
             0.1111111111111111,
             "#46039f"
            ],
            [
             0.2222222222222222,
             "#7201a8"
            ],
            [
             0.3333333333333333,
             "#9c179e"
            ],
            [
             0.4444444444444444,
             "#bd3786"
            ],
            [
             0.5555555555555556,
             "#d8576b"
            ],
            [
             0.6666666666666666,
             "#ed7953"
            ],
            [
             0.7777777777777778,
             "#fb9f3a"
            ],
            [
             0.8888888888888888,
             "#fdca26"
            ],
            [
             1,
             "#f0f921"
            ]
           ]
          },
          "colorway": [
           "#636efa",
           "#EF553B",
           "#00cc96",
           "#ab63fa",
           "#FFA15A",
           "#19d3f3",
           "#FF6692",
           "#B6E880",
           "#FF97FF",
           "#FECB52"
          ],
          "font": {
           "color": "#2a3f5f"
          },
          "geo": {
           "bgcolor": "white",
           "lakecolor": "white",
           "landcolor": "#E5ECF6",
           "showlakes": true,
           "showland": true,
           "subunitcolor": "white"
          },
          "hoverlabel": {
           "align": "left"
          },
          "hovermode": "closest",
          "mapbox": {
           "style": "light"
          },
          "paper_bgcolor": "white",
          "plot_bgcolor": "#E5ECF6",
          "polar": {
           "angularaxis": {
            "gridcolor": "white",
            "linecolor": "white",
            "ticks": ""
           },
           "bgcolor": "#E5ECF6",
           "radialaxis": {
            "gridcolor": "white",
            "linecolor": "white",
            "ticks": ""
           }
          },
          "scene": {
           "xaxis": {
            "backgroundcolor": "#E5ECF6",
            "gridcolor": "white",
            "gridwidth": 2,
            "linecolor": "white",
            "showbackground": true,
            "ticks": "",
            "zerolinecolor": "white"
           },
           "yaxis": {
            "backgroundcolor": "#E5ECF6",
            "gridcolor": "white",
            "gridwidth": 2,
            "linecolor": "white",
            "showbackground": true,
            "ticks": "",
            "zerolinecolor": "white"
           },
           "zaxis": {
            "backgroundcolor": "#E5ECF6",
            "gridcolor": "white",
            "gridwidth": 2,
            "linecolor": "white",
            "showbackground": true,
            "ticks": "",
            "zerolinecolor": "white"
           }
          },
          "shapedefaults": {
           "line": {
            "color": "#2a3f5f"
           }
          },
          "ternary": {
           "aaxis": {
            "gridcolor": "white",
            "linecolor": "white",
            "ticks": ""
           },
           "baxis": {
            "gridcolor": "white",
            "linecolor": "white",
            "ticks": ""
           },
           "bgcolor": "#E5ECF6",
           "caxis": {
            "gridcolor": "white",
            "linecolor": "white",
            "ticks": ""
           }
          },
          "title": {
           "x": 0.05
          },
          "xaxis": {
           "automargin": true,
           "gridcolor": "white",
           "linecolor": "white",
           "ticks": "",
           "title": {
            "standoff": 15
           },
           "zerolinecolor": "white",
           "zerolinewidth": 2
          },
          "yaxis": {
           "automargin": true,
           "gridcolor": "white",
           "linecolor": "white",
           "ticks": "",
           "title": {
            "standoff": 15
           },
           "zerolinecolor": "white",
           "zerolinewidth": 2
          }
         }
        },
        "xaxis": {
         "autorange": true,
         "range": [
          -0.061169496092697374,
          1.0611694960926974
         ],
         "type": "linear"
        },
        "yaxis": {
         "autorange": true,
         "range": [
          -8.954193011947641,
          8.15516442771318
         ],
         "type": "linear"
        }
       }
      },
      "image/png": "[encoded data removed]",
      "text/html": [
       "<div>\n",
       "        \n",
       "        \n",
       "            <div id=\"ce68110d-7b83-4064-af23-0a41bcae033a\" class=\"plotly-graph-div\" style=\"height:525px; width:100%;\"></div>\n",
       "            <script type=\"text/javascript\">\n",
       "                require([\"plotly\"], function(Plotly) {\n",
       "                    window.PLOTLYENV=window.PLOTLYENV || {};\n",
       "                    \n",
       "                if (document.getElementById(\"ce68110d-7b83-4064-af23-0a41bcae033a\")) {\n",
       "                    Plotly.newPlot(\n",
       "                        'ce68110d-7b83-4064-af23-0a41bcae033a',\n",
       "                        [{\"mode\": \"markers\", \"type\": \"scatter\", \"x\": [0.0, 0.02040816326530612, 0.04081632653061224, 0.061224489795918366, 0.08163265306122448, 0.1020408163265306, 0.12244897959183673, 0.14285714285714285, 0.16326530612244897, 0.18367346938775508, 0.2040816326530612, 0.22448979591836732, 0.24489795918367346, 0.26530612244897955, 0.2857142857142857, 0.3061224489795918, 0.32653061224489793, 0.3469387755102041, 0.36734693877551017, 0.3877551020408163, 0.4081632653061224, 0.42857142857142855, 0.44897959183673464, 0.4693877551020408, 0.4897959183673469, 0.5102040816326531, 0.5306122448979591, 0.5510204081632653, 0.5714285714285714, 0.5918367346938775, 0.6122448979591836, 0.6326530612244897, 0.6530612244897959, 0.673469387755102, 0.6938775510204082, 0.7142857142857142, 0.7346938775510203, 0.7551020408163265, 0.7755102040816326, 0.7959183673469387, 0.8163265306122448, 0.836734693877551, 0.8571428571428571, 0.8775510204081632, 0.8979591836734693, 0.9183673469387754, 0.9387755102040816, 0.9591836734693877, 0.9795918367346939, 1.0], \"y\": [4.668692732655988, 6.3820402207507865, 5.271356831217081, 4.225457763639107, 3.4987388772432535, 4.446885833550949, 6.524516260694219, 5.760207895617016, 6.641464024606648, 4.238346192313392, 5.995513709997597, 6.709907126035533, 3.592834237120305, 5.068031210954939, 4.027450075643715, 4.401602567816885, 6.046149152064325, 3.9556104931778546, 5.824697348777839, 5.0752719983060315, 4.742849447225395, 3.5547867553261163, 3.9685440374160565, 3.9543104486681173, 2.789569970689357, 5.294620522519012, 4.656224461381017, 5.330309144249227, 4.129774917151724, 4.60369406667796, 5.886334776420414, 3.5609183109962306, 4.4261332628912005, 3.9644916048877086, 5.097791775741645, 6.156701364238731, 5.909705416637658, 6.531092915039024, 3.7652730930606206, 5.008544985873047, 4.817764675033903, 2.776741752443038, 7.027510910362908, 5.861204083286215, 5.60793134662738, 4.463665700190345, 5.103225342191266, 7.062066591290405, 4.632105028832981, 5.508709503363185]}, {\"mode\": \"lines\", \"type\": \"scatter\", \"x\": [0.0, 0.02040816326530612, 0.04081632653061224, 0.061224489795918366, 0.08163265306122448, 0.1020408163265306, 0.12244897959183673, 0.14285714285714285, 0.16326530612244897, 0.18367346938775508, 0.2040816326530612, 0.22448979591836732, 0.24489795918367346, 0.26530612244897955, 0.2857142857142857, 0.3061224489795918, 0.32653061224489793, 0.3469387755102041, 0.36734693877551017, 0.3877551020408163, 0.4081632653061224, 0.42857142857142855, 0.44897959183673464, 0.4693877551020408, 0.4897959183673469, 0.5102040816326531, 0.5306122448979591, 0.5510204081632653, 0.5714285714285714, 0.5918367346938775, 0.6122448979591836, 0.6326530612244897, 0.6530612244897959, 0.673469387755102, 0.6938775510204082, 0.7142857142857142, 0.7346938775510203, 0.7551020408163265, 0.7755102040816326, 0.7959183673469387, 0.8163265306122448, 0.836734693877551, 0.8571428571428571, 0.8775510204081632, 0.8979591836734693, 0.9183673469387754, 0.9387755102040816, 0.9591836734693877, 0.9795918367346939, 1.0], \"y\": [1.1376520097685483, 1.0613376447152214, -1.7585404720506073, 1.2076297438374821, -1.0090706106619247, -0.12412060727569665, 0.4124579158994751, -0.3795965971837128, 0.829238220473341, -0.3394354633560888, 0.20521701341864826, 1.2451394066713999, 0.15669394928824698, -0.124829556343594, 0.8989079491611432, 0.40345113302807034, 0.4682703278146849, 0.2551753329817335, 0.10996247973794451, 0.02340918592261349, 0.04812350173583319, -1.0496306311705814, -0.5604205465343255, -0.005449323261579718, 1.2152294055541717, -1.258343054508259, -1.4705479899100649, -0.1401874820546462, -0.09266656866615688, 0.6156714783375439, 0.8381280458753781, 2.16992414353689, 1.5270881532280607, -1.3408325512987205, 1.705031543191022, -0.07811288886191754, 0.8434627181891866, -1.0597134966954822, -0.9371608845632897, 1.248887990556758, -0.07462470213734616, -0.5784302357718548, 0.7949557481987793, -1.4499185592802248, -0.30280682153063426, -1.1840909349584596, -0.662149555407475, 0.11168132861919988, -0.04803260670193337, 3.290302494332532]}, {\"mode\": \"lines+markers\", \"type\": \"scatter\", \"x\": [0.0, 0.02040816326530612, 0.04081632653061224, 0.061224489795918366, 0.08163265306122448, 0.1020408163265306, 0.12244897959183673, 0.14285714285714285, 0.16326530612244897, 0.18367346938775508, 0.2040816326530612, 0.22448979591836732, 0.24489795918367346, 0.26530612244897955, 0.2857142857142857, 0.3061224489795918, 0.32653061224489793, 0.3469387755102041, 0.36734693877551017, 0.3877551020408163, 0.4081632653061224, 0.42857142857142855, 0.44897959183673464, 0.4693877551020408, 0.4897959183673469, 0.5102040816326531, 0.5306122448979591, 0.5510204081632653, 0.5714285714285714, 0.5918367346938775, 0.6122448979591836, 0.6326530612244897, 0.6530612244897959, 0.673469387755102, 0.6938775510204082, 0.7142857142857142, 0.7346938775510203, 0.7551020408163265, 0.7755102040816326, 0.7959183673469387, 0.8163265306122448, 0.836734693877551, 0.8571428571428571, 0.8775510204081632, 0.8979591836734693, 0.9183673469387754, 0.9387755102040816, 0.9591836734693877, 0.9795918367346939, 1.0], \"y\": [-3.24103419748252, -4.393042415419285, -5.34092446088547, -5.485530708781657, -5.849577730548281, -4.892211513425529, -3.147224635400055, -4.249932753684852, -5.5582049754487235, -4.610534291850626, -3.7844210803659792, -5.445039833152525, -4.842084773065951, -4.125022263630813, -2.9834096300212445, -5.850040678596078, -4.4926393465675565, -4.913123412798454, -4.328699370568534, -6.137412846080879, -6.439146338889547, -4.098186592770644, -4.113399583197972, -5.6955196554814895, -3.869552350523769, -3.5002531967926833, -5.71929146042852, -2.9347693269698403, -4.008587724601041, -4.7325194905511685, -4.195741088287545, -3.738968944415616, -7.861095175524866, -6.782676644163328, -4.1469421623325955, -4.459191775605995, -4.4454365459954435, -5.841472986841215, -4.97036243988625, -3.8862535055398792, -5.489864327839838, -5.531096057557715, -6.297789803729217, -4.577576817085076, -5.954694361633437, -5.059915704158122, -3.455427787299491, -4.5844409702147795, -6.857511312446842, -3.873855632122014]}],\n",
       "                        {\"template\": {\"data\": {\"bar\": [{\"error_x\": {\"color\": \"#2a3f5f\"}, \"error_y\": {\"color\": \"#2a3f5f\"}, \"marker\": {\"line\": {\"color\": \"#E5ECF6\", \"width\": 0.5}}, \"type\": \"bar\"}], \"barpolar\": [{\"marker\": {\"line\": {\"color\": \"#E5ECF6\", \"width\": 0.5}}, \"type\": \"barpolar\"}], \"carpet\": [{\"aaxis\": {\"endlinecolor\": \"#2a3f5f\", \"gridcolor\": \"white\", \"linecolor\": \"white\", \"minorgridcolor\": \"white\", \"startlinecolor\": \"#2a3f5f\"}, \"baxis\": {\"endlinecolor\": \"#2a3f5f\", \"gridcolor\": \"white\", \"linecolor\": \"white\", \"minorgridcolor\": \"white\", \"startlinecolor\": \"#2a3f5f\"}, \"type\": \"carpet\"}], \"choropleth\": [{\"colorbar\": {\"outlinewidth\": 0, \"ticks\": \"\"}, \"type\": \"choropleth\"}], \"contour\": [{\"colorbar\": {\"outlinewidth\": 0, \"ticks\": \"\"}, \"colorscale\": [[0.0, \"#0d0887\"], [0.1111111111111111, \"#46039f\"], [0.2222222222222222, \"#7201a8\"], [0.3333333333333333, \"#9c179e\"], [0.4444444444444444, \"#bd3786\"], [0.5555555555555556, \"#d8576b\"], [0.6666666666666666, \"#ed7953\"], [0.7777777777777778, \"#fb9f3a\"], [0.8888888888888888, \"#fdca26\"], [1.0, \"#f0f921\"]], \"type\": \"contour\"}], \"contourcarpet\": [{\"colorbar\": {\"outlinewidth\": 0, \"ticks\": \"\"}, \"type\": \"contourcarpet\"}], \"heatmap\": [{\"colorbar\": {\"outlinewidth\": 0, \"ticks\": \"\"}, \"colorscale\": [[0.0, \"#0d0887\"], [0.1111111111111111, \"#46039f\"], [0.2222222222222222, \"#7201a8\"], [0.3333333333333333, \"#9c179e\"], [0.4444444444444444, \"#bd3786\"], [0.5555555555555556, \"#d8576b\"], [0.6666666666666666, \"#ed7953\"], [0.7777777777777778, \"#fb9f3a\"], [0.8888888888888888, \"#fdca26\"], [1.0, \"#f0f921\"]], \"type\": \"heatmap\"}], \"heatmapgl\": [{\"colorbar\": {\"outlinewidth\": 0, \"ticks\": \"\"}, \"colorscale\": [[0.0, \"#0d0887\"], [0.1111111111111111, \"#46039f\"], [0.2222222222222222, \"#7201a8\"], [0.3333333333333333, \"#9c179e\"], [0.4444444444444444, \"#bd3786\"], [0.5555555555555556, \"#d8576b\"], [0.6666666666666666, \"#ed7953\"], [0.7777777777777778, \"#fb9f3a\"], [0.8888888888888888, \"#fdca26\"], [1.0, \"#f0f921\"]], \"type\": \"heatmapgl\"}], \"histogram\": [{\"marker\": {\"colorbar\": {\"outlinewidth\": 0, \"ticks\": \"\"}}, \"type\": \"histogram\"}], \"histogram2d\": [{\"colorbar\": {\"outlinewidth\": 0, \"ticks\": \"\"}, \"colorscale\": [[0.0, \"#0d0887\"], [0.1111111111111111, \"#46039f\"], [0.2222222222222222, \"#7201a8\"], [0.3333333333333333, \"#9c179e\"], [0.4444444444444444, \"#bd3786\"], [0.5555555555555556, \"#d8576b\"], [0.6666666666666666, \"#ed7953\"], [0.7777777777777778, \"#fb9f3a\"], [0.8888888888888888, \"#fdca26\"], [1.0, \"#f0f921\"]], \"type\": \"histogram2d\"}], \"histogram2dcontour\": [{\"colorbar\": {\"outlinewidth\": 0, \"ticks\": \"\"}, \"colorscale\": [[0.0, \"#0d0887\"], [0.1111111111111111, \"#46039f\"], [0.2222222222222222, \"#7201a8\"], [0.3333333333333333, \"#9c179e\"], [0.4444444444444444, \"#bd3786\"], [0.5555555555555556, \"#d8576b\"], [0.6666666666666666, \"#ed7953\"], [0.7777777777777778, \"#fb9f3a\"], [0.8888888888888888, \"#fdca26\"], [1.0, \"#f0f921\"]], \"type\": \"histogram2dcontour\"}], \"mesh3d\": [{\"colorbar\": {\"outlinewidth\": 0, \"ticks\": \"\"}, \"type\": \"mesh3d\"}], \"parcoords\": [{\"line\": {\"colorbar\": {\"outlinewidth\": 0, \"ticks\": \"\"}}, \"type\": \"parcoords\"}], \"pie\": [{\"automargin\": true, \"type\": \"pie\"}], \"scatter\": [{\"marker\": {\"colorbar\": {\"outlinewidth\": 0, \"ticks\": \"\"}}, \"type\": \"scatter\"}], \"scatter3d\": [{\"line\": {\"colorbar\": {\"outlinewidth\": 0, \"ticks\": \"\"}}, \"marker\": {\"colorbar\": {\"outlinewidth\": 0, \"ticks\": \"\"}}, \"type\": \"scatter3d\"}], \"scattercarpet\": [{\"marker\": {\"colorbar\": {\"outlinewidth\": 0, \"ticks\": \"\"}}, \"type\": \"scattercarpet\"}], \"scattergeo\": [{\"marker\": {\"colorbar\": {\"outlinewidth\": 0, \"ticks\": \"\"}}, \"type\": \"scattergeo\"}], \"scattergl\": [{\"marker\": {\"colorbar\": {\"outlinewidth\": 0, \"ticks\": \"\"}}, \"type\": \"scattergl\"}], \"scattermapbox\": [{\"marker\": {\"colorbar\": {\"outlinewidth\": 0, \"ticks\": \"\"}}, \"type\": \"scattermapbox\"}], \"scatterpolar\": [{\"marker\": {\"colorbar\": {\"outlinewidth\": 0, \"ticks\": \"\"}}, \"type\": \"scatterpolar\"}], \"scatterpolargl\": [{\"marker\": {\"colorbar\": {\"outlinewidth\": 0, \"ticks\": \"\"}}, \"type\": \"scatterpolargl\"}], \"scatterternary\": [{\"marker\": {\"colorbar\": {\"outlinewidth\": 0, \"ticks\": \"\"}}, \"type\": \"scatterternary\"}], \"surface\": [{\"colorbar\": {\"outlinewidth\": 0, \"ticks\": \"\"}, \"colorscale\": [[0.0, \"#0d0887\"], [0.1111111111111111, \"#46039f\"], [0.2222222222222222, \"#7201a8\"], [0.3333333333333333, \"#9c179e\"], [0.4444444444444444, \"#bd3786\"], [0.5555555555555556, \"#d8576b\"], [0.6666666666666666, \"#ed7953\"], [0.7777777777777778, \"#fb9f3a\"], [0.8888888888888888, \"#fdca26\"], [1.0, \"#f0f921\"]], \"type\": \"surface\"}], \"table\": [{\"cells\": {\"fill\": {\"color\": \"#EBF0F8\"}, \"line\": {\"color\": \"white\"}}, \"header\": {\"fill\": {\"color\": \"#C8D4E3\"}, \"line\": {\"color\": \"white\"}}, \"type\": \"table\"}]}, \"layout\": {\"annotationdefaults\": {\"arrowcolor\": \"#2a3f5f\", \"arrowhead\": 0, \"arrowwidth\": 1}, \"coloraxis\": {\"colorbar\": {\"outlinewidth\": 0, \"ticks\": \"\"}}, \"colorscale\": {\"diverging\": [[0, \"#8e0152\"], [0.1, \"#c51b7d\"], [0.2, \"#de77ae\"], [0.3, \"#f1b6da\"], [0.4, \"#fde0ef\"], [0.5, \"#f7f7f7\"], [0.6, \"#e6f5d0\"], [0.7, \"#b8e186\"], [0.8, \"#7fbc41\"], [0.9, \"#4d9221\"], [1, \"#276419\"]], \"sequential\": [[0.0, \"#0d0887\"], [0.1111111111111111, \"#46039f\"], [0.2222222222222222, \"#7201a8\"], [0.3333333333333333, \"#9c179e\"], [0.4444444444444444, \"#bd3786\"], [0.5555555555555556, \"#d8576b\"], [0.6666666666666666, \"#ed7953\"], [0.7777777777777778, \"#fb9f3a\"], [0.8888888888888888, \"#fdca26\"], [1.0, \"#f0f921\"]], \"sequentialminus\": [[0.0, \"#0d0887\"], [0.1111111111111111, \"#46039f\"], [0.2222222222222222, \"#7201a8\"], [0.3333333333333333, \"#9c179e\"], [0.4444444444444444, \"#bd3786\"], [0.5555555555555556, \"#d8576b\"], [0.6666666666666666, \"#ed7953\"], [0.7777777777777778, \"#fb9f3a\"], [0.8888888888888888, \"#fdca26\"], [1.0, \"#f0f921\"]]}, \"colorway\": [\"#636efa\", \"#EF553B\", \"#00cc96\", \"#ab63fa\", \"#FFA15A\", \"#19d3f3\", \"#FF6692\", \"#B6E880\", \"#FF97FF\", \"#FECB52\"], \"font\": {\"color\": \"#2a3f5f\"}, \"geo\": {\"bgcolor\": \"white\", \"lakecolor\": \"white\", \"landcolor\": \"#E5ECF6\", \"showlakes\": true, \"showland\": true, \"subunitcolor\": \"white\"}, \"hoverlabel\": {\"align\": \"left\"}, \"hovermode\": \"closest\", \"mapbox\": {\"style\": \"light\"}, \"paper_bgcolor\": \"white\", \"plot_bgcolor\": \"#E5ECF6\", \"polar\": {\"angularaxis\": {\"gridcolor\": \"white\", \"linecolor\": \"white\", \"ticks\": \"\"}, \"bgcolor\": \"#E5ECF6\", \"radialaxis\": {\"gridcolor\": \"white\", \"linecolor\": \"white\", \"ticks\": \"\"}}, \"scene\": {\"xaxis\": {\"backgroundcolor\": \"#E5ECF6\", \"gridcolor\": \"white\", \"gridwidth\": 2, \"linecolor\": \"white\", \"showbackground\": true, \"ticks\": \"\", \"zerolinecolor\": \"white\"}, \"yaxis\": {\"backgroundcolor\": \"#E5ECF6\", \"gridcolor\": \"white\", \"gridwidth\": 2, \"linecolor\": \"white\", \"showbackground\": true, \"ticks\": \"\", \"zerolinecolor\": \"white\"}, \"zaxis\": {\"backgroundcolor\": \"#E5ECF6\", \"gridcolor\": \"white\", \"gridwidth\": 2, \"linecolor\": \"white\", \"showbackground\": true, \"ticks\": \"\", \"zerolinecolor\": \"white\"}}, \"shapedefaults\": {\"line\": {\"color\": \"#2a3f5f\"}}, \"ternary\": {\"aaxis\": {\"gridcolor\": \"white\", \"linecolor\": \"white\", \"ticks\": \"\"}, \"baxis\": {\"gridcolor\": \"white\", \"linecolor\": \"white\", \"ticks\": \"\"}, \"bgcolor\": \"#E5ECF6\", \"caxis\": {\"gridcolor\": \"white\", \"linecolor\": \"white\", \"ticks\": \"\"}}, \"title\": {\"x\": 0.05}, \"xaxis\": {\"automargin\": true, \"gridcolor\": \"white\", \"linecolor\": \"white\", \"ticks\": \"\", \"title\": {\"standoff\": 15}, \"zerolinecolor\": \"white\", \"zerolinewidth\": 2}, \"yaxis\": {\"automargin\": true, \"gridcolor\": \"white\", \"linecolor\": \"white\", \"ticks\": \"\", \"title\": {\"standoff\": 15}, \"zerolinecolor\": \"white\", \"zerolinewidth\": 2}}}},\n",
       "                        {\"responsive\": true}\n",
       "                    ).then(function(){\n",
       "                            \n",
       "var gd = document.getElementById('ce68110d-7b83-4064-af23-0a41bcae033a');\n",
       "var x = new MutationObserver(function (mutations, observer) {{\n",
       "        var display = window.getComputedStyle(gd).display;\n",
       "        if (!display || display === 'none') {{\n",
       "            console.log([gd, 'removed!']);\n",
       "            Plotly.purge(gd);\n",
       "            observer.disconnect();\n",
       "        }}\n",
       "}});\n",
       "\n",
       "// Listen for the removal of the full notebook cells\n",
       "var notebookContainer = gd.closest('#notebook-container');\n",
       "if (notebookContainer) {{\n",
       "    x.observe(notebookContainer, {childList: true});\n",
       "}}\n",
       "\n",
       "// Listen for the clearing of the current output cell\n",
       "var outputEl = gd.closest('.output');\n",
       "if (outputEl) {{\n",
       "    x.observe(outputEl, {childList: true});\n",
       "}}\n",
       "\n",
       "                        })\n",
       "                };\n",
       "                });\n",
       "            </script>\n",
       "        </div>"
      ]
     },
     "metadata": {},
     "output_type": "display_data"
    }
   ],
   "source": [
    "data = [trace0, trace1, trace2]\n",
    "offline.iplot(data)"
   ]
  },
  {
   "cell_type": "code",
   "execution_count": 8,
   "metadata": {},
   "outputs": [
    {
     "data": {
      "text/html": [
       "<div>\n",
       "<style scoped>\n",
       "    .dataframe tbody tr th:only-of-type {\n",
       "        vertical-align: middle;\n",
       "    }\n",
       "\n",
       "    .dataframe tbody tr th {\n",
       "        vertical-align: top;\n",
       "    }\n",
       "\n",
       "    .dataframe thead th {\n",
       "        text-align: right;\n",
       "    }\n",
       "</style>\n",
       "<table border=\"1\" class=\"dataframe\">\n",
       "  <thead>\n",
       "    <tr style=\"text-align: right;\">\n",
       "      <th></th>\n",
       "      <th>state</th>\n",
       "      <th>numcol</th>\n",
       "      <th>yieldpercol</th>\n",
       "      <th>totalprod</th>\n",
       "      <th>stocks</th>\n",
       "      <th>priceperlb</th>\n",
       "      <th>prodvalue</th>\n",
       "      <th>year</th>\n",
       "    </tr>\n",
       "  </thead>\n",
       "  <tbody>\n",
       "    <tr>\n",
       "      <th>0</th>\n",
       "      <td>AL</td>\n",
       "      <td>16000.0</td>\n",
       "      <td>71</td>\n",
       "      <td>1136000.0</td>\n",
       "      <td>159000.0</td>\n",
       "      <td>0.72</td>\n",
       "      <td>818000.0</td>\n",
       "      <td>1998</td>\n",
       "    </tr>\n",
       "    <tr>\n",
       "      <th>1</th>\n",
       "      <td>AZ</td>\n",
       "      <td>55000.0</td>\n",
       "      <td>60</td>\n",
       "      <td>3300000.0</td>\n",
       "      <td>1485000.0</td>\n",
       "      <td>0.64</td>\n",
       "      <td>2112000.0</td>\n",
       "      <td>1998</td>\n",
       "    </tr>\n",
       "    <tr>\n",
       "      <th>2</th>\n",
       "      <td>AR</td>\n",
       "      <td>53000.0</td>\n",
       "      <td>65</td>\n",
       "      <td>3445000.0</td>\n",
       "      <td>1688000.0</td>\n",
       "      <td>0.59</td>\n",
       "      <td>2033000.0</td>\n",
       "      <td>1998</td>\n",
       "    </tr>\n",
       "    <tr>\n",
       "      <th>3</th>\n",
       "      <td>CA</td>\n",
       "      <td>450000.0</td>\n",
       "      <td>83</td>\n",
       "      <td>37350000.0</td>\n",
       "      <td>12326000.0</td>\n",
       "      <td>0.62</td>\n",
       "      <td>23157000.0</td>\n",
       "      <td>1998</td>\n",
       "    </tr>\n",
       "    <tr>\n",
       "      <th>4</th>\n",
       "      <td>CO</td>\n",
       "      <td>27000.0</td>\n",
       "      <td>72</td>\n",
       "      <td>1944000.0</td>\n",
       "      <td>1594000.0</td>\n",
       "      <td>0.70</td>\n",
       "      <td>1361000.0</td>\n",
       "      <td>1998</td>\n",
       "    </tr>\n",
       "  </tbody>\n",
       "</table>\n",
       "</div>"
      ],
      "text/plain": [
       "  state    numcol  yieldpercol   totalprod      stocks  priceperlb  \\\n",
       "0    AL   16000.0           71   1136000.0    159000.0        0.72   \n",
       "1    AZ   55000.0           60   3300000.0   1485000.0        0.64   \n",
       "2    AR   53000.0           65   3445000.0   1688000.0        0.59   \n",
       "3    CA  450000.0           83  37350000.0  12326000.0        0.62   \n",
       "4    CO   27000.0           72   1944000.0   1594000.0        0.70   \n",
       "\n",
       "    prodvalue  year  \n",
       "0    818000.0  1998  \n",
       "1   2112000.0  1998  \n",
       "2   2033000.0  1998  \n",
       "3  23157000.0  1998  \n",
       "4   1361000.0  1998  "
      ]
     },
     "execution_count": 8,
     "metadata": {},
     "output_type": "execute_result"
    }
   ],
   "source": [
    "# Real wolrd example\n",
    "# Apart from 2 dimension data, we can use color to represent the third dimension.\n",
    "honey_data = pd.read_csv('plotly_dataset/honeyproduction.csv')\n",
    "honey_data.head()"
   ]
  },
  {
   "cell_type": "code",
   "execution_count": 9,
   "metadata": {},
   "outputs": [],
   "source": [
    "honey_trace = go.Scatter(x = honey_data.loc[:, 'state'],\n",
    "                         y = honey_data.loc[:, 'year'],\n",
    "                         mode = 'markers',\n",
    "                         \n",
    "                         marker = dict(size = 14,\n",
    "                                       color = honey_data['totalprod'],\n",
    "                                       colorscale = 'Rainbow',  # colorscales are provided by plotly library\n",
    "                                       showscale = True,\n",
    "                                       opacity = 0.5\n",
    "                                      ),\n",
    "                         text = honey_data.loc[:, 'totalprod']\n",
    "                        )"
   ]
  },
  {
   "cell_type": "code",
   "execution_count": 10,
   "metadata": {},
   "outputs": [],
   "source": [
    "honey_layout = go.Layout(\n",
    "    title = 'Honey Production in USA',\n",
    "    hovermode='closest',\n",
    "    xaxis = dict(title = 'States'),\n",
    "    yaxis = dict(title = 'Honey Prodction')\n",
    ")"
   ]
  },
  {
   "cell_type": "code",
   "execution_count": 11,
   "metadata": {},
   "outputs": [],
   "source": [
    "honey_data = [honey_trace]\n",
    "honey_fig = dict(data = honey_data, layout = honey_layout)"
   ]
  },
  {
   "cell_type": "code",
   "execution_count": 12,
   "metadata": {},
   "outputs": [
    {
     "data": {
      "application/vnd.plotly.v1+json": {
       "config": {
        "linkText": "Export to plot.ly",
        "plotlyServerURL": "https://plot.ly",
        "showLink": false
       },
       "data": [
        {
         "marker": {
          "color": [
           1136000,
           3300000,
           3445000,
           37350000,
           1944000,
           22540000,
           4200000,
           944000,
           6000000,
           639000,
           828000,
           3900000,
           736000,
           150000,
           4551000,
           260000,
           308000,
           6800000,
           11060000,
           1548000,
           1518000,
           14030000,
           4480000,
           460000,
           539000,
           770000,
           5200000,
           472000,
           29440000,
           1404000,
           204000,
           2250000,
           1716000,
           21375000,
           448000,
           7007000,
           1740000,
           384000,
           296000,
           2958000,
           330000,
           8099000,
           2760000,
           1156000,
           3224000,
           4628000,
           27900000,
           2052000,
           23256000,
           3315000,
           640000,
           5760000,
           594000,
           810000,
           2600000,
           871000,
           150000,
           5472000,
           308000,
           276000,
           6205000,
           11890000,
           1314000,
           1560000,
           8540000,
           4466000,
           405000,
           440000,
           780000,
           4830000,
           414000,
           26775000,
           1480000,
           270000,
           2565000,
           1680000,
           23296000,
           408000,
           8748000,
           1170000,
           396000,
           245000,
           2600000,
           234000,
           6000000,
           2664000,
           1248000,
           2360000,
           4836000,
           30800000,
           1740000,
           24360000,
           3135000,
           784000,
           4700000,
           488000,
           520000,
           2010000,
           1020000,
           192000,
           4042000,
           231000,
           276000,
           5400000,
           13500000,
           1224000,
           1725000,
           10912000,
           4350000,
           350000,
           385000,
           960000,
           4640000,
           539000,
           34500000,
           1170000,
           245000,
           2448000,
           1125000,
           28435000,
           549000,
           8295000,
           984000,
           413000,
           294000,
           2808000,
           378000,
           7560000,
           3627000,
           1022000,
           2537000,
           4900000,
           28060000,
           1430000,
           22000000,
           3135000,
           696000,
           4600000,
           456000,
           532000,
           1683000,
           663000,
           312000,
           4770000,
           220000,
           184000,
           4560000,
           10935000,
           1122000,
           1342000,
           13872000,
           2064000,
           450000,
           374000,
           700000,
           3710000,
           572000,
           26880000,
           1458000,
           188000,
           1936000,
           1482000,
           280000,
           15275000,
           472000,
           7663000,
           874000,
           567000,
           468000,
           2496000,
           455000,
           5427000,
           2926000,
           1032000,
           2394000,
           3960000,
           23500000,
           1440000,
           20460000,
           2600000,
           952000,
           5700000,
           720000,
           496000,
           2310000,
           884000,
           270000,
           4340000,
           451000,
           138000,
           5544000,
           8541000,
           1404000,
           900000,
           8442000,
           3225000,
           558000,
           440000,
           484000,
           5880000,
           672000,
           24000000,
           1260000,
           159000,
           2107000,
           1653000,
           470000,
           11475000,
           488000,
           7638000,
           1298000,
           623000,
           304000,
           2550000,
           459000,
           6650000,
           2394000,
           1066000,
           2520000,
           3000000,
           32160000,
           2064000,
           14910000,
           3380000,
           798000,
           4600000,
           420000,
           280000,
           1888000,
           912000,
           240000,
           3060000,
           264000,
           84000,
           4810000,
           9960000,
           1449000,
           901000,
           9570000,
           3330000,
           384000,
           190000,
           246000,
           4824000,
           440000,
           29580000,
           750000,
           141000,
           2142000,
           1350000,
           280000,
           15050000,
           240000,
           9380000,
           1425000,
           581000,
           222000,
           3248000,
           376000,
           5698000,
           3159000,
           1044000,
           1760000,
           2280000,
           17550000,
           1840000,
           20090000,
           3087000,
           768000,
           6300000,
           385000,
           413000,
           2345000,
           1120000,
           280000,
           3430000,
           217000,
           4355000,
           10125000,
           1170000,
           656000,
           10780000,
           4539000,
           770000,
           324000,
           352000,
           4288000,
           360000,
           30420000,
           928000,
           2268000,
           1620000,
           22575000,
           324000,
           8816000,
           1680000,
           408000,
           266000,
           3528000,
           495000,
           5848000,
           2925000,
           858000,
           1800000,
           2484000,
           30000000,
           1960000,
           13760000,
           2891000,
           1179000,
           3515000,
           680000,
           512000,
           2464000,
           800000,
           250000,
           3395000,
           208000,
           4420000,
           8880000,
           1280000,
           750000,
           8710000,
           2720000,
           552000,
           384000,
           343000,
           4307000,
           540000,
           33670000,
           1035000,
           1638000,
           1568000,
           17380000,
           385000,
           5964000,
           1080000,
           546000,
           296000,
           2805000,
           408000,
           5312000,
           2240000,
           792000,
           1950000,
           2432000,
           19760000,
           2700000,
           13770000,
           4662000,
           930000,
           4180000,
           660000,
           378000,
           2184000,
           770000,
           280000,
           2700000,
           253000,
           3960000,
           10000000,
           1372000,
           690000,
           10428000,
           3431000,
           333000,
           324000,
           336000,
           3712000,
           500000,
           25900000,
           784000,
           2208000,
           1120000,
           10575000,
           385000,
           5740000,
           1300000,
           336000,
           336000,
           2548000,
           252000,
           5952000,
           3315000,
           616000,
           1920000,
           2240000,
           13600000,
           1581000,
           11360000,
           3480000,
           920000,
           3772000,
           567000,
           424000,
           2106000,
           560000,
           244000,
           2581000,
           234000,
           4608000,
           8840000,
           1380000,
           644000,
           9180000,
           2205000,
           280000,
           513000,
           354000,
           3021000,
           540000,
           31080000,
           854000,
           1978000,
           1050000,
           13260000,
           455000,
           8610000,
           1176000,
           320000,
           276000,
           2024000,
           288000,
           5040000,
           3440000,
           594000,
           1600000,
           2100000,
           18360000,
           1215000,
           11850000,
           4615000,
           900000,
           3600000,
           448000,
           469000,
           1488000,
           610000,
           156000,
           3080000,
           294000,
           5183000,
           9516000,
           1372000,
           583000,
           9380000,
           2412000,
           290000,
           360000,
           288000,
           3500000,
           624000,
           36000000,
           742000,
           2150000,
           1104000,
           21375000,
           427000,
           4928000,
           1344000,
           330000,
           252000,
           2156000,
           258000,
           4640000,
           2379000,
           450000,
           1040000,
           1368000,
           11715000,
           1484000,
           11560000,
           2665000,
           950000,
           4738000,
           272000,
           288000,
           1092000,
           567000,
           175000,
           3811000,
           300000,
           3960000,
           7930000,
           1456000,
           517000,
           10220000,
           2688000,
           352000,
           420000,
           2925000,
           495000,
           34650000,
           550000,
           1870000,
           840000,
           17820000,
           357000,
           5607000,
           988000,
           245000,
           234000,
           2728000,
           185000,
           3780000,
           1776000,
           486000,
           1848000,
           1500000,
           27470000,
           1904000,
           13800000,
           2530000,
           770000,
           2619000,
           369000,
           430000,
           1323000,
           468000,
           335000,
           2880000,
           205000,
           4118000,
           8448000,
           1568000,
           572000,
           11618000,
           2255000,
           455000,
           462000,
           2880000,
           598000,
           46410000,
           1116000,
           2301000,
           1110000,
           15370000,
           504000,
           7200000,
           780000,
           260000,
           185000,
           2627000,
           200000,
           4096000,
           1224000,
           450000,
           1219000,
           1408000,
           17760000,
           1705000,
           10980000,
           2795000,
           666000,
           3132000,
           350000,
           408000,
           1550000,
           308000,
           156000,
           2772000,
           120000,
           4736000,
           6360000,
           2070000,
           344000,
           13340000,
           2419000,
           451000,
           392000,
           2744000,
           868000,
           32660000,
           990000,
           2040000,
           1056000,
           16500000,
           308000,
           4524000,
           897000,
           172000,
           160000,
           2698000,
           212000,
           3591000,
           1890000,
           432000,
           1012000,
           1575000,
           11550000,
           1200000,
           12352000,
           3009000,
           750000,
           2944000,
           427000,
           472000,
           2257000,
           330000,
           255000,
           3526000,
           136000,
           4161000,
           8375000,
           2124000,
           371000,
           7540000,
           2795000,
           462000,
           260000,
           2601000,
           507000,
           33120000,
           1080000,
           1920000,
           960000,
           16380000,
           366000,
           4784000,
           950000,
           240000,
           164000,
           2542000,
           288000,
           4140000,
           2550000
          ],
          "colorscale": [
           [
            0,
            "rgb(150,0,90)"
           ],
           [
            0.125,
            "rgb(0,0,200)"
           ],
           [
            0.25,
            "rgb(0,25,255)"
           ],
           [
            0.375,
            "rgb(0,152,255)"
           ],
           [
            0.5,
            "rgb(44,255,150)"
           ],
           [
            0.625,
            "rgb(151,255,0)"
           ],
           [
            0.75,
            "rgb(255,234,0)"
           ],
           [
            0.875,
            "rgb(255,111,0)"
           ],
           [
            1,
            "rgb(255,0,0)"
           ]
          ],
          "opacity": 0.5,
          "showscale": true,
          "size": 14
         },
         "mode": "markers",
         "text": [
          1136000,
          3300000,
          3445000,
          37350000,
          1944000,
          22540000,
          4200000,
          944000,
          6000000,
          639000,
          828000,
          3900000,
          736000,
          150000,
          4551000,
          260000,
          308000,
          6800000,
          11060000,
          1548000,
          1518000,
          14030000,
          4480000,
          460000,
          539000,
          770000,
          5200000,
          472000,
          29440000,
          1404000,
          204000,
          2250000,
          1716000,
          21375000,
          448000,
          7007000,
          1740000,
          384000,
          296000,
          2958000,
          330000,
          8099000,
          2760000,
          1156000,
          3224000,
          4628000,
          27900000,
          2052000,
          23256000,
          3315000,
          640000,
          5760000,
          594000,
          810000,
          2600000,
          871000,
          150000,
          5472000,
          308000,
          276000,
          6205000,
          11890000,
          1314000,
          1560000,
          8540000,
          4466000,
          405000,
          440000,
          780000,
          4830000,
          414000,
          26775000,
          1480000,
          270000,
          2565000,
          1680000,
          23296000,
          408000,
          8748000,
          1170000,
          396000,
          245000,
          2600000,
          234000,
          6000000,
          2664000,
          1248000,
          2360000,
          4836000,
          30800000,
          1740000,
          24360000,
          3135000,
          784000,
          4700000,
          488000,
          520000,
          2010000,
          1020000,
          192000,
          4042000,
          231000,
          276000,
          5400000,
          13500000,
          1224000,
          1725000,
          10912000,
          4350000,
          350000,
          385000,
          960000,
          4640000,
          539000,
          34500000,
          1170000,
          245000,
          2448000,
          1125000,
          28435000,
          549000,
          8295000,
          984000,
          413000,
          294000,
          2808000,
          378000,
          7560000,
          3627000,
          1022000,
          2537000,
          4900000,
          28060000,
          1430000,
          22000000,
          3135000,
          696000,
          4600000,
          456000,
          532000,
          1683000,
          663000,
          312000,
          4770000,
          220000,
          184000,
          4560000,
          10935000,
          1122000,
          1342000,
          13872000,
          2064000,
          450000,
          374000,
          700000,
          3710000,
          572000,
          26880000,
          1458000,
          188000,
          1936000,
          1482000,
          280000,
          15275000,
          472000,
          7663000,
          874000,
          567000,
          468000,
          2496000,
          455000,
          5427000,
          2926000,
          1032000,
          2394000,
          3960000,
          23500000,
          1440000,
          20460000,
          2600000,
          952000,
          5700000,
          720000,
          496000,
          2310000,
          884000,
          270000,
          4340000,
          451000,
          138000,
          5544000,
          8541000,
          1404000,
          900000,
          8442000,
          3225000,
          558000,
          440000,
          484000,
          5880000,
          672000,
          24000000,
          1260000,
          159000,
          2107000,
          1653000,
          470000,
          11475000,
          488000,
          7638000,
          1298000,
          623000,
          304000,
          2550000,
          459000,
          6650000,
          2394000,
          1066000,
          2520000,
          3000000,
          32160000,
          2064000,
          14910000,
          3380000,
          798000,
          4600000,
          420000,
          280000,
          1888000,
          912000,
          240000,
          3060000,
          264000,
          84000,
          4810000,
          9960000,
          1449000,
          901000,
          9570000,
          3330000,
          384000,
          190000,
          246000,
          4824000,
          440000,
          29580000,
          750000,
          141000,
          2142000,
          1350000,
          280000,
          15050000,
          240000,
          9380000,
          1425000,
          581000,
          222000,
          3248000,
          376000,
          5698000,
          3159000,
          1044000,
          1760000,
          2280000,
          17550000,
          1840000,
          20090000,
          3087000,
          768000,
          6300000,
          385000,
          413000,
          2345000,
          1120000,
          280000,
          3430000,
          217000,
          4355000,
          10125000,
          1170000,
          656000,
          10780000,
          4539000,
          770000,
          324000,
          352000,
          4288000,
          360000,
          30420000,
          928000,
          2268000,
          1620000,
          22575000,
          324000,
          8816000,
          1680000,
          408000,
          266000,
          3528000,
          495000,
          5848000,
          2925000,
          858000,
          1800000,
          2484000,
          30000000,
          1960000,
          13760000,
          2891000,
          1179000,
          3515000,
          680000,
          512000,
          2464000,
          800000,
          250000,
          3395000,
          208000,
          4420000,
          8880000,
          1280000,
          750000,
          8710000,
          2720000,
          552000,
          384000,
          343000,
          4307000,
          540000,
          33670000,
          1035000,
          1638000,
          1568000,
          17380000,
          385000,
          5964000,
          1080000,
          546000,
          296000,
          2805000,
          408000,
          5312000,
          2240000,
          792000,
          1950000,
          2432000,
          19760000,
          2700000,
          13770000,
          4662000,
          930000,
          4180000,
          660000,
          378000,
          2184000,
          770000,
          280000,
          2700000,
          253000,
          3960000,
          10000000,
          1372000,
          690000,
          10428000,
          3431000,
          333000,
          324000,
          336000,
          3712000,
          500000,
          25900000,
          784000,
          2208000,
          1120000,
          10575000,
          385000,
          5740000,
          1300000,
          336000,
          336000,
          2548000,
          252000,
          5952000,
          3315000,
          616000,
          1920000,
          2240000,
          13600000,
          1581000,
          11360000,
          3480000,
          920000,
          3772000,
          567000,
          424000,
          2106000,
          560000,
          244000,
          2581000,
          234000,
          4608000,
          8840000,
          1380000,
          644000,
          9180000,
          2205000,
          280000,
          513000,
          354000,
          3021000,
          540000,
          31080000,
          854000,
          1978000,
          1050000,
          13260000,
          455000,
          8610000,
          1176000,
          320000,
          276000,
          2024000,
          288000,
          5040000,
          3440000,
          594000,
          1600000,
          2100000,
          18360000,
          1215000,
          11850000,
          4615000,
          900000,
          3600000,
          448000,
          469000,
          1488000,
          610000,
          156000,
          3080000,
          294000,
          5183000,
          9516000,
          1372000,
          583000,
          9380000,
          2412000,
          290000,
          360000,
          288000,
          3500000,
          624000,
          36000000,
          742000,
          2150000,
          1104000,
          21375000,
          427000,
          4928000,
          1344000,
          330000,
          252000,
          2156000,
          258000,
          4640000,
          2379000,
          450000,
          1040000,
          1368000,
          11715000,
          1484000,
          11560000,
          2665000,
          950000,
          4738000,
          272000,
          288000,
          1092000,
          567000,
          175000,
          3811000,
          300000,
          3960000,
          7930000,
          1456000,
          517000,
          10220000,
          2688000,
          352000,
          420000,
          2925000,
          495000,
          34650000,
          550000,
          1870000,
          840000,
          17820000,
          357000,
          5607000,
          988000,
          245000,
          234000,
          2728000,
          185000,
          3780000,
          1776000,
          486000,
          1848000,
          1500000,
          27470000,
          1904000,
          13800000,
          2530000,
          770000,
          2619000,
          369000,
          430000,
          1323000,
          468000,
          335000,
          2880000,
          205000,
          4118000,
          8448000,
          1568000,
          572000,
          11618000,
          2255000,
          455000,
          462000,
          2880000,
          598000,
          46410000,
          1116000,
          2301000,
          1110000,
          15370000,
          504000,
          7200000,
          780000,
          260000,
          185000,
          2627000,
          200000,
          4096000,
          1224000,
          450000,
          1219000,
          1408000,
          17760000,
          1705000,
          10980000,
          2795000,
          666000,
          3132000,
          350000,
          408000,
          1550000,
          308000,
          156000,
          2772000,
          120000,
          4736000,
          6360000,
          2070000,
          344000,
          13340000,
          2419000,
          451000,
          392000,
          2744000,
          868000,
          32660000,
          990000,
          2040000,
          1056000,
          16500000,
          308000,
          4524000,
          897000,
          172000,
          160000,
          2698000,
          212000,
          3591000,
          1890000,
          432000,
          1012000,
          1575000,
          11550000,
          1200000,
          12352000,
          3009000,
          750000,
          2944000,
          427000,
          472000,
          2257000,
          330000,
          255000,
          3526000,
          136000,
          4161000,
          8375000,
          2124000,
          371000,
          7540000,
          2795000,
          462000,
          260000,
          2601000,
          507000,
          33120000,
          1080000,
          1920000,
          960000,
          16380000,
          366000,
          4784000,
          950000,
          240000,
          164000,
          2542000,
          288000,
          4140000,
          2550000
         ],
         "type": "scatter",
         "x": [
          "AL",
          "AZ",
          "AR",
          "CA",
          "CO",
          "FL",
          "GA",
          "HI",
          "ID",
          "IL",
          "IN",
          "IA",
          "KS",
          "KY",
          "LA",
          "ME",
          "MD",
          "MI",
          "MN",
          "MS",
          "MO",
          "MT",
          "NE",
          "NV",
          "NJ",
          "NM",
          "NY",
          "NC",
          "ND",
          "OH",
          "OK",
          "OR",
          "PA",
          "SD",
          "TN",
          "TX",
          "UT",
          "VT",
          "VA",
          "WA",
          "WV",
          "WI",
          "WY",
          "AL",
          "AZ",
          "AR",
          "CA",
          "CO",
          "FL",
          "GA",
          "HI",
          "ID",
          "IL",
          "IN",
          "IA",
          "KS",
          "KY",
          "LA",
          "ME",
          "MD",
          "MI",
          "MN",
          "MS",
          "MO",
          "MT",
          "NE",
          "NV",
          "NJ",
          "NM",
          "NY",
          "NC",
          "ND",
          "OH",
          "OK",
          "OR",
          "PA",
          "SD",
          "TN",
          "TX",
          "UT",
          "VT",
          "VA",
          "WA",
          "WV",
          "WI",
          "WY",
          "AL",
          "AZ",
          "AR",
          "CA",
          "CO",
          "FL",
          "GA",
          "HI",
          "ID",
          "IL",
          "IN",
          "IA",
          "KS",
          "KY",
          "LA",
          "ME",
          "MD",
          "MI",
          "MN",
          "MS",
          "MO",
          "MT",
          "NE",
          "NV",
          "NJ",
          "NM",
          "NY",
          "NC",
          "ND",
          "OH",
          "OK",
          "OR",
          "PA",
          "SD",
          "TN",
          "TX",
          "UT",
          "VT",
          "VA",
          "WA",
          "WV",
          "WI",
          "WY",
          "AL",
          "AZ",
          "AR",
          "CA",
          "CO",
          "FL",
          "GA",
          "HI",
          "ID",
          "IL",
          "IN",
          "IA",
          "KS",
          "KY",
          "LA",
          "ME",
          "MD",
          "MI",
          "MN",
          "MS",
          "MO",
          "MT",
          "NE",
          "NV",
          "NJ",
          "NM",
          "NY",
          "NC",
          "ND",
          "OH",
          "OK",
          "OR",
          "PA",
          "SC",
          "SD",
          "TN",
          "TX",
          "UT",
          "VT",
          "VA",
          "WA",
          "WV",
          "WI",
          "WY",
          "AL",
          "AZ",
          "AR",
          "CA",
          "CO",
          "FL",
          "GA",
          "HI",
          "ID",
          "IL",
          "IN",
          "IA",
          "KS",
          "KY",
          "LA",
          "ME",
          "MD",
          "MI",
          "MN",
          "MS",
          "MO",
          "MT",
          "NE",
          "NV",
          "NJ",
          "NM",
          "NY",
          "NC",
          "ND",
          "OH",
          "OK",
          "OR",
          "PA",
          "SC",
          "SD",
          "TN",
          "TX",
          "UT",
          "VT",
          "VA",
          "WA",
          "WV",
          "WI",
          "WY",
          "AL",
          "AZ",
          "AR",
          "CA",
          "CO",
          "FL",
          "GA",
          "HI",
          "ID",
          "IL",
          "IN",
          "IA",
          "KS",
          "KY",
          "LA",
          "ME",
          "MD",
          "MI",
          "MN",
          "MS",
          "MO",
          "MT",
          "NE",
          "NV",
          "NJ",
          "NM",
          "NY",
          "NC",
          "ND",
          "OH",
          "OK",
          "OR",
          "PA",
          "SC",
          "SD",
          "TN",
          "TX",
          "UT",
          "VT",
          "VA",
          "WA",
          "WV",
          "WI",
          "WY",
          "AL",
          "AZ",
          "AR",
          "CA",
          "CO",
          "FL",
          "GA",
          "HI",
          "ID",
          "IL",
          "IN",
          "IA",
          "KS",
          "KY",
          "LA",
          "ME",
          "MI",
          "MN",
          "MS",
          "MO",
          "MT",
          "NE",
          "NV",
          "NJ",
          "NM",
          "NY",
          "NC",
          "ND",
          "OH",
          "OR",
          "PA",
          "SD",
          "TN",
          "TX",
          "UT",
          "VT",
          "VA",
          "WA",
          "WV",
          "WI",
          "WY",
          "AL",
          "AZ",
          "AR",
          "CA",
          "CO",
          "FL",
          "GA",
          "HI",
          "ID",
          "IL",
          "IN",
          "IA",
          "KS",
          "KY",
          "LA",
          "ME",
          "MI",
          "MN",
          "MS",
          "MO",
          "MT",
          "NE",
          "NV",
          "NJ",
          "NM",
          "NY",
          "NC",
          "ND",
          "OH",
          "OR",
          "PA",
          "SD",
          "TN",
          "TX",
          "UT",
          "VT",
          "VA",
          "WA",
          "WV",
          "WI",
          "WY",
          "AL",
          "AZ",
          "AR",
          "CA",
          "CO",
          "FL",
          "GA",
          "HI",
          "ID",
          "IL",
          "IN",
          "IA",
          "KS",
          "KY",
          "LA",
          "ME",
          "MI",
          "MN",
          "MS",
          "MO",
          "MT",
          "NE",
          "NV",
          "NJ",
          "NM",
          "NY",
          "NC",
          "ND",
          "OH",
          "OR",
          "PA",
          "SD",
          "TN",
          "TX",
          "UT",
          "VT",
          "VA",
          "WA",
          "WV",
          "WI",
          "WY",
          "AL",
          "AZ",
          "AR",
          "CA",
          "CO",
          "FL",
          "GA",
          "HI",
          "ID",
          "IL",
          "IN",
          "IA",
          "KS",
          "KY",
          "LA",
          "ME",
          "MI",
          "MN",
          "MS",
          "MO",
          "MT",
          "NE",
          "NV",
          "NJ",
          "NM",
          "NY",
          "NC",
          "ND",
          "OH",
          "OR",
          "PA",
          "SD",
          "TN",
          "TX",
          "UT",
          "VT",
          "VA",
          "WA",
          "WV",
          "WI",
          "WY",
          "AL",
          "AZ",
          "AR",
          "CA",
          "CO",
          "FL",
          "GA",
          "HI",
          "ID",
          "IL",
          "IN",
          "IA",
          "KS",
          "KY",
          "LA",
          "ME",
          "MI",
          "MN",
          "MS",
          "MO",
          "MT",
          "NE",
          "NV",
          "NJ",
          "NM",
          "NY",
          "NC",
          "ND",
          "OH",
          "OR",
          "PA",
          "SD",
          "TN",
          "TX",
          "UT",
          "VT",
          "VA",
          "WA",
          "WV",
          "WI",
          "WY",
          "AL",
          "AZ",
          "AR",
          "CA",
          "CO",
          "FL",
          "GA",
          "HI",
          "ID",
          "IL",
          "IN",
          "IA",
          "KS",
          "KY",
          "LA",
          "ME",
          "MI",
          "MN",
          "MS",
          "MO",
          "MT",
          "NE",
          "NJ",
          "NM",
          "NY",
          "NC",
          "ND",
          "OH",
          "OR",
          "PA",
          "SD",
          "TN",
          "TX",
          "UT",
          "VT",
          "VA",
          "WA",
          "WV",
          "WI",
          "WY",
          "AL",
          "AZ",
          "AR",
          "CA",
          "CO",
          "FL",
          "GA",
          "HI",
          "ID",
          "IL",
          "IN",
          "IA",
          "KS",
          "KY",
          "LA",
          "ME",
          "MI",
          "MN",
          "MS",
          "MO",
          "MT",
          "NE",
          "NJ",
          "NM",
          "NY",
          "NC",
          "ND",
          "OH",
          "OR",
          "PA",
          "SD",
          "TN",
          "TX",
          "UT",
          "VT",
          "VA",
          "WA",
          "WV",
          "WI",
          "WY",
          "AL",
          "AZ",
          "AR",
          "CA",
          "CO",
          "FL",
          "GA",
          "HI",
          "ID",
          "IL",
          "IN",
          "IA",
          "KS",
          "KY",
          "LA",
          "ME",
          "MI",
          "MN",
          "MS",
          "MO",
          "MT",
          "NE",
          "NJ",
          "NM",
          "NY",
          "NC",
          "ND",
          "OH",
          "OR",
          "PA",
          "SD",
          "TN",
          "TX",
          "UT",
          "VT",
          "VA",
          "WA",
          "WV",
          "WI",
          "WY",
          "AL",
          "AZ",
          "AR",
          "CA",
          "CO",
          "FL",
          "GA",
          "HI",
          "ID",
          "IL",
          "IN",
          "IA",
          "KS",
          "KY",
          "LA",
          "ME",
          "MI",
          "MN",
          "MS",
          "MO",
          "MT",
          "NE",
          "NJ",
          "NM",
          "NY",
          "NC",
          "ND",
          "OH",
          "OR",
          "PA",
          "SD",
          "TN",
          "TX",
          "UT",
          "VT",
          "VA",
          "WA",
          "WV",
          "WI",
          "WY"
         ],
         "y": [
          1998,
          1998,
          1998,
          1998,
          1998,
          1998,
          1998,
          1998,
          1998,
          1998,
          1998,
          1998,
          1998,
          1998,
          1998,
          1998,
          1998,
          1998,
          1998,
          1998,
          1998,
          1998,
          1998,
          1998,
          1998,
          1998,
          1998,
          1998,
          1998,
          1998,
          1998,
          1998,
          1998,
          1998,
          1998,
          1998,
          1998,
          1998,
          1998,
          1998,
          1998,
          1998,
          1998,
          1999,
          1999,
          1999,
          1999,
          1999,
          1999,
          1999,
          1999,
          1999,
          1999,
          1999,
          1999,
          1999,
          1999,
          1999,
          1999,
          1999,
          1999,
          1999,
          1999,
          1999,
          1999,
          1999,
          1999,
          1999,
          1999,
          1999,
          1999,
          1999,
          1999,
          1999,
          1999,
          1999,
          1999,
          1999,
          1999,
          1999,
          1999,
          1999,
          1999,
          1999,
          1999,
          1999,
          2000,
          2000,
          2000,
          2000,
          2000,
          2000,
          2000,
          2000,
          2000,
          2000,
          2000,
          2000,
          2000,
          2000,
          2000,
          2000,
          2000,
          2000,
          2000,
          2000,
          2000,
          2000,
          2000,
          2000,
          2000,
          2000,
          2000,
          2000,
          2000,
          2000,
          2000,
          2000,
          2000,
          2000,
          2000,
          2000,
          2000,
          2000,
          2000,
          2000,
          2000,
          2000,
          2000,
          2001,
          2001,
          2001,
          2001,
          2001,
          2001,
          2001,
          2001,
          2001,
          2001,
          2001,
          2001,
          2001,
          2001,
          2001,
          2001,
          2001,
          2001,
          2001,
          2001,
          2001,
          2001,
          2001,
          2001,
          2001,
          2001,
          2001,
          2001,
          2001,
          2001,
          2001,
          2001,
          2001,
          2001,
          2001,
          2001,
          2001,
          2001,
          2001,
          2001,
          2001,
          2001,
          2001,
          2001,
          2002,
          2002,
          2002,
          2002,
          2002,
          2002,
          2002,
          2002,
          2002,
          2002,
          2002,
          2002,
          2002,
          2002,
          2002,
          2002,
          2002,
          2002,
          2002,
          2002,
          2002,
          2002,
          2002,
          2002,
          2002,
          2002,
          2002,
          2002,
          2002,
          2002,
          2002,
          2002,
          2002,
          2002,
          2002,
          2002,
          2002,
          2002,
          2002,
          2002,
          2002,
          2002,
          2002,
          2002,
          2003,
          2003,
          2003,
          2003,
          2003,
          2003,
          2003,
          2003,
          2003,
          2003,
          2003,
          2003,
          2003,
          2003,
          2003,
          2003,
          2003,
          2003,
          2003,
          2003,
          2003,
          2003,
          2003,
          2003,
          2003,
          2003,
          2003,
          2003,
          2003,
          2003,
          2003,
          2003,
          2003,
          2003,
          2003,
          2003,
          2003,
          2003,
          2003,
          2003,
          2003,
          2003,
          2003,
          2003,
          2004,
          2004,
          2004,
          2004,
          2004,
          2004,
          2004,
          2004,
          2004,
          2004,
          2004,
          2004,
          2004,
          2004,
          2004,
          2004,
          2004,
          2004,
          2004,
          2004,
          2004,
          2004,
          2004,
          2004,
          2004,
          2004,
          2004,
          2004,
          2004,
          2004,
          2004,
          2004,
          2004,
          2004,
          2004,
          2004,
          2004,
          2004,
          2004,
          2004,
          2004,
          2005,
          2005,
          2005,
          2005,
          2005,
          2005,
          2005,
          2005,
          2005,
          2005,
          2005,
          2005,
          2005,
          2005,
          2005,
          2005,
          2005,
          2005,
          2005,
          2005,
          2005,
          2005,
          2005,
          2005,
          2005,
          2005,
          2005,
          2005,
          2005,
          2005,
          2005,
          2005,
          2005,
          2005,
          2005,
          2005,
          2005,
          2005,
          2005,
          2005,
          2005,
          2006,
          2006,
          2006,
          2006,
          2006,
          2006,
          2006,
          2006,
          2006,
          2006,
          2006,
          2006,
          2006,
          2006,
          2006,
          2006,
          2006,
          2006,
          2006,
          2006,
          2006,
          2006,
          2006,
          2006,
          2006,
          2006,
          2006,
          2006,
          2006,
          2006,
          2006,
          2006,
          2006,
          2006,
          2006,
          2006,
          2006,
          2006,
          2006,
          2006,
          2006,
          2007,
          2007,
          2007,
          2007,
          2007,
          2007,
          2007,
          2007,
          2007,
          2007,
          2007,
          2007,
          2007,
          2007,
          2007,
          2007,
          2007,
          2007,
          2007,
          2007,
          2007,
          2007,
          2007,
          2007,
          2007,
          2007,
          2007,
          2007,
          2007,
          2007,
          2007,
          2007,
          2007,
          2007,
          2007,
          2007,
          2007,
          2007,
          2007,
          2007,
          2007,
          2008,
          2008,
          2008,
          2008,
          2008,
          2008,
          2008,
          2008,
          2008,
          2008,
          2008,
          2008,
          2008,
          2008,
          2008,
          2008,
          2008,
          2008,
          2008,
          2008,
          2008,
          2008,
          2008,
          2008,
          2008,
          2008,
          2008,
          2008,
          2008,
          2008,
          2008,
          2008,
          2008,
          2008,
          2008,
          2008,
          2008,
          2008,
          2008,
          2008,
          2008,
          2009,
          2009,
          2009,
          2009,
          2009,
          2009,
          2009,
          2009,
          2009,
          2009,
          2009,
          2009,
          2009,
          2009,
          2009,
          2009,
          2009,
          2009,
          2009,
          2009,
          2009,
          2009,
          2009,
          2009,
          2009,
          2009,
          2009,
          2009,
          2009,
          2009,
          2009,
          2009,
          2009,
          2009,
          2009,
          2009,
          2009,
          2009,
          2009,
          2009,
          2010,
          2010,
          2010,
          2010,
          2010,
          2010,
          2010,
          2010,
          2010,
          2010,
          2010,
          2010,
          2010,
          2010,
          2010,
          2010,
          2010,
          2010,
          2010,
          2010,
          2010,
          2010,
          2010,
          2010,
          2010,
          2010,
          2010,
          2010,
          2010,
          2010,
          2010,
          2010,
          2010,
          2010,
          2010,
          2010,
          2010,
          2010,
          2010,
          2010,
          2011,
          2011,
          2011,
          2011,
          2011,
          2011,
          2011,
          2011,
          2011,
          2011,
          2011,
          2011,
          2011,
          2011,
          2011,
          2011,
          2011,
          2011,
          2011,
          2011,
          2011,
          2011,
          2011,
          2011,
          2011,
          2011,
          2011,
          2011,
          2011,
          2011,
          2011,
          2011,
          2011,
          2011,
          2011,
          2011,
          2011,
          2011,
          2011,
          2011,
          2012,
          2012,
          2012,
          2012,
          2012,
          2012,
          2012,
          2012,
          2012,
          2012,
          2012,
          2012,
          2012,
          2012,
          2012,
          2012,
          2012,
          2012,
          2012,
          2012,
          2012,
          2012,
          2012,
          2012,
          2012,
          2012,
          2012,
          2012,
          2012,
          2012,
          2012,
          2012,
          2012,
          2012,
          2012,
          2012,
          2012,
          2012,
          2012,
          2012
         ]
        }
       ],
       "layout": {
        "autosize": true,
        "hovermode": "closest",
        "template": {
         "data": {
          "bar": [
           {
            "error_x": {
             "color": "#2a3f5f"
            },
            "error_y": {
             "color": "#2a3f5f"
            },
            "marker": {
             "line": {
              "color": "#E5ECF6",
              "width": 0.5
             }
            },
            "type": "bar"
           }
          ],
          "barpolar": [
           {
            "marker": {
             "line": {
              "color": "#E5ECF6",
              "width": 0.5
             }
            },
            "type": "barpolar"
           }
          ],
          "carpet": [
           {
            "aaxis": {
             "endlinecolor": "#2a3f5f",
             "gridcolor": "white",
             "linecolor": "white",
             "minorgridcolor": "white",
             "startlinecolor": "#2a3f5f"
            },
            "baxis": {
             "endlinecolor": "#2a3f5f",
             "gridcolor": "white",
             "linecolor": "white",
             "minorgridcolor": "white",
             "startlinecolor": "#2a3f5f"
            },
            "type": "carpet"
           }
          ],
          "choropleth": [
           {
            "colorbar": {
             "outlinewidth": 0,
             "ticks": ""
            },
            "type": "choropleth"
           }
          ],
          "contour": [
           {
            "colorbar": {
             "outlinewidth": 0,
             "ticks": ""
            },
            "colorscale": [
             [
              0,
              "#0d0887"
             ],
             [
              0.1111111111111111,
              "#46039f"
             ],
             [
              0.2222222222222222,
              "#7201a8"
             ],
             [
              0.3333333333333333,
              "#9c179e"
             ],
             [
              0.4444444444444444,
              "#bd3786"
             ],
             [
              0.5555555555555556,
              "#d8576b"
             ],
             [
              0.6666666666666666,
              "#ed7953"
             ],
             [
              0.7777777777777778,
              "#fb9f3a"
             ],
             [
              0.8888888888888888,
              "#fdca26"
             ],
             [
              1,
              "#f0f921"
             ]
            ],
            "type": "contour"
           }
          ],
          "contourcarpet": [
           {
            "colorbar": {
             "outlinewidth": 0,
             "ticks": ""
            },
            "type": "contourcarpet"
           }
          ],
          "heatmap": [
           {
            "colorbar": {
             "outlinewidth": 0,
             "ticks": ""
            },
            "colorscale": [
             [
              0,
              "#0d0887"
             ],
             [
              0.1111111111111111,
              "#46039f"
             ],
             [
              0.2222222222222222,
              "#7201a8"
             ],
             [
              0.3333333333333333,
              "#9c179e"
             ],
             [
              0.4444444444444444,
              "#bd3786"
             ],
             [
              0.5555555555555556,
              "#d8576b"
             ],
             [
              0.6666666666666666,
              "#ed7953"
             ],
             [
              0.7777777777777778,
              "#fb9f3a"
             ],
             [
              0.8888888888888888,
              "#fdca26"
             ],
             [
              1,
              "#f0f921"
             ]
            ],
            "type": "heatmap"
           }
          ],
          "heatmapgl": [
           {
            "colorbar": {
             "outlinewidth": 0,
             "ticks": ""
            },
            "colorscale": [
             [
              0,
              "#0d0887"
             ],
             [
              0.1111111111111111,
              "#46039f"
             ],
             [
              0.2222222222222222,
              "#7201a8"
             ],
             [
              0.3333333333333333,
              "#9c179e"
             ],
             [
              0.4444444444444444,
              "#bd3786"
             ],
             [
              0.5555555555555556,
              "#d8576b"
             ],
             [
              0.6666666666666666,
              "#ed7953"
             ],
             [
              0.7777777777777778,
              "#fb9f3a"
             ],
             [
              0.8888888888888888,
              "#fdca26"
             ],
             [
              1,
              "#f0f921"
             ]
            ],
            "type": "heatmapgl"
           }
          ],
          "histogram": [
           {
            "marker": {
             "colorbar": {
              "outlinewidth": 0,
              "ticks": ""
             }
            },
            "type": "histogram"
           }
          ],
          "histogram2d": [
           {
            "colorbar": {
             "outlinewidth": 0,
             "ticks": ""
            },
            "colorscale": [
             [
              0,
              "#0d0887"
             ],
             [
              0.1111111111111111,
              "#46039f"
             ],
             [
              0.2222222222222222,
              "#7201a8"
             ],
             [
              0.3333333333333333,
              "#9c179e"
             ],
             [
              0.4444444444444444,
              "#bd3786"
             ],
             [
              0.5555555555555556,
              "#d8576b"
             ],
             [
              0.6666666666666666,
              "#ed7953"
             ],
             [
              0.7777777777777778,
              "#fb9f3a"
             ],
             [
              0.8888888888888888,
              "#fdca26"
             ],
             [
              1,
              "#f0f921"
             ]
            ],
            "type": "histogram2d"
           }
          ],
          "histogram2dcontour": [
           {
            "colorbar": {
             "outlinewidth": 0,
             "ticks": ""
            },
            "colorscale": [
             [
              0,
              "#0d0887"
             ],
             [
              0.1111111111111111,
              "#46039f"
             ],
             [
              0.2222222222222222,
              "#7201a8"
             ],
             [
              0.3333333333333333,
              "#9c179e"
             ],
             [
              0.4444444444444444,
              "#bd3786"
             ],
             [
              0.5555555555555556,
              "#d8576b"
             ],
             [
              0.6666666666666666,
              "#ed7953"
             ],
             [
              0.7777777777777778,
              "#fb9f3a"
             ],
             [
              0.8888888888888888,
              "#fdca26"
             ],
             [
              1,
              "#f0f921"
             ]
            ],
            "type": "histogram2dcontour"
           }
          ],
          "mesh3d": [
           {
            "colorbar": {
             "outlinewidth": 0,
             "ticks": ""
            },
            "type": "mesh3d"
           }
          ],
          "parcoords": [
           {
            "line": {
             "colorbar": {
              "outlinewidth": 0,
              "ticks": ""
             }
            },
            "type": "parcoords"
           }
          ],
          "pie": [
           {
            "automargin": true,
            "type": "pie"
           }
          ],
          "scatter": [
           {
            "marker": {
             "colorbar": {
              "outlinewidth": 0,
              "ticks": ""
             }
            },
            "type": "scatter"
           }
          ],
          "scatter3d": [
           {
            "line": {
             "colorbar": {
              "outlinewidth": 0,
              "ticks": ""
             }
            },
            "marker": {
             "colorbar": {
              "outlinewidth": 0,
              "ticks": ""
             }
            },
            "type": "scatter3d"
           }
          ],
          "scattercarpet": [
           {
            "marker": {
             "colorbar": {
              "outlinewidth": 0,
              "ticks": ""
             }
            },
            "type": "scattercarpet"
           }
          ],
          "scattergeo": [
           {
            "marker": {
             "colorbar": {
              "outlinewidth": 0,
              "ticks": ""
             }
            },
            "type": "scattergeo"
           }
          ],
          "scattergl": [
           {
            "marker": {
             "colorbar": {
              "outlinewidth": 0,
              "ticks": ""
             }
            },
            "type": "scattergl"
           }
          ],
          "scattermapbox": [
           {
            "marker": {
             "colorbar": {
              "outlinewidth": 0,
              "ticks": ""
             }
            },
            "type": "scattermapbox"
           }
          ],
          "scatterpolar": [
           {
            "marker": {
             "colorbar": {
              "outlinewidth": 0,
              "ticks": ""
             }
            },
            "type": "scatterpolar"
           }
          ],
          "scatterpolargl": [
           {
            "marker": {
             "colorbar": {
              "outlinewidth": 0,
              "ticks": ""
             }
            },
            "type": "scatterpolargl"
           }
          ],
          "scatterternary": [
           {
            "marker": {
             "colorbar": {
              "outlinewidth": 0,
              "ticks": ""
             }
            },
            "type": "scatterternary"
           }
          ],
          "surface": [
           {
            "colorbar": {
             "outlinewidth": 0,
             "ticks": ""
            },
            "colorscale": [
             [
              0,
              "#0d0887"
             ],
             [
              0.1111111111111111,
              "#46039f"
             ],
             [
              0.2222222222222222,
              "#7201a8"
             ],
             [
              0.3333333333333333,
              "#9c179e"
             ],
             [
              0.4444444444444444,
              "#bd3786"
             ],
             [
              0.5555555555555556,
              "#d8576b"
             ],
             [
              0.6666666666666666,
              "#ed7953"
             ],
             [
              0.7777777777777778,
              "#fb9f3a"
             ],
             [
              0.8888888888888888,
              "#fdca26"
             ],
             [
              1,
              "#f0f921"
             ]
            ],
            "type": "surface"
           }
          ],
          "table": [
           {
            "cells": {
             "fill": {
              "color": "#EBF0F8"
             },
             "line": {
              "color": "white"
             }
            },
            "header": {
             "fill": {
              "color": "#C8D4E3"
             },
             "line": {
              "color": "white"
             }
            },
            "type": "table"
           }
          ]
         },
         "layout": {
          "annotationdefaults": {
           "arrowcolor": "#2a3f5f",
           "arrowhead": 0,
           "arrowwidth": 1
          },
          "coloraxis": {
           "colorbar": {
            "outlinewidth": 0,
            "ticks": ""
           }
          },
          "colorscale": {
           "diverging": [
            [
             0,
             "#8e0152"
            ],
            [
             0.1,
             "#c51b7d"
            ],
            [
             0.2,
             "#de77ae"
            ],
            [
             0.3,
             "#f1b6da"
            ],
            [
             0.4,
             "#fde0ef"
            ],
            [
             0.5,
             "#f7f7f7"
            ],
            [
             0.6,
             "#e6f5d0"
            ],
            [
             0.7,
             "#b8e186"
            ],
            [
             0.8,
             "#7fbc41"
            ],
            [
             0.9,
             "#4d9221"
            ],
            [
             1,
             "#276419"
            ]
           ],
           "sequential": [
            [
             0,
             "#0d0887"
            ],
            [
             0.1111111111111111,
             "#46039f"
            ],
            [
             0.2222222222222222,
             "#7201a8"
            ],
            [
             0.3333333333333333,
             "#9c179e"
            ],
            [
             0.4444444444444444,
             "#bd3786"
            ],
            [
             0.5555555555555556,
             "#d8576b"
            ],
            [
             0.6666666666666666,
             "#ed7953"
            ],
            [
             0.7777777777777778,
             "#fb9f3a"
            ],
            [
             0.8888888888888888,
             "#fdca26"
            ],
            [
             1,
             "#f0f921"
            ]
           ],
           "sequentialminus": [
            [
             0,
             "#0d0887"
            ],
            [
             0.1111111111111111,
             "#46039f"
            ],
            [
             0.2222222222222222,
             "#7201a8"
            ],
            [
             0.3333333333333333,
             "#9c179e"
            ],
            [
             0.4444444444444444,
             "#bd3786"
            ],
            [
             0.5555555555555556,
             "#d8576b"
            ],
            [
             0.6666666666666666,
             "#ed7953"
            ],
            [
             0.7777777777777778,
             "#fb9f3a"
            ],
            [
             0.8888888888888888,
             "#fdca26"
            ],
            [
             1,
             "#f0f921"
            ]
           ]
          },
          "colorway": [
           "#636efa",
           "#EF553B",
           "#00cc96",
           "#ab63fa",
           "#FFA15A",
           "#19d3f3",
           "#FF6692",
           "#B6E880",
           "#FF97FF",
           "#FECB52"
          ],
          "font": {
           "color": "#2a3f5f"
          },
          "geo": {
           "bgcolor": "white",
           "lakecolor": "white",
           "landcolor": "#E5ECF6",
           "showlakes": true,
           "showland": true,
           "subunitcolor": "white"
          },
          "hoverlabel": {
           "align": "left"
          },
          "hovermode": "closest",
          "mapbox": {
           "style": "light"
          },
          "paper_bgcolor": "white",
          "plot_bgcolor": "#E5ECF6",
          "polar": {
           "angularaxis": {
            "gridcolor": "white",
            "linecolor": "white",
            "ticks": ""
           },
           "bgcolor": "#E5ECF6",
           "radialaxis": {
            "gridcolor": "white",
            "linecolor": "white",
            "ticks": ""
           }
          },
          "scene": {
           "xaxis": {
            "backgroundcolor": "#E5ECF6",
            "gridcolor": "white",
            "gridwidth": 2,
            "linecolor": "white",
            "showbackground": true,
            "ticks": "",
            "zerolinecolor": "white"
           },
           "yaxis": {
            "backgroundcolor": "#E5ECF6",
            "gridcolor": "white",
            "gridwidth": 2,
            "linecolor": "white",
            "showbackground": true,
            "ticks": "",
            "zerolinecolor": "white"
           },
           "zaxis": {
            "backgroundcolor": "#E5ECF6",
            "gridcolor": "white",
            "gridwidth": 2,
            "linecolor": "white",
            "showbackground": true,
            "ticks": "",
            "zerolinecolor": "white"
           }
          },
          "shapedefaults": {
           "line": {
            "color": "#2a3f5f"
           }
          },
          "ternary": {
           "aaxis": {
            "gridcolor": "white",
            "linecolor": "white",
            "ticks": ""
           },
           "baxis": {
            "gridcolor": "white",
            "linecolor": "white",
            "ticks": ""
           },
           "bgcolor": "#E5ECF6",
           "caxis": {
            "gridcolor": "white",
            "linecolor": "white",
            "ticks": ""
           }
          },
          "title": {
           "x": 0.05
          },
          "xaxis": {
           "automargin": true,
           "gridcolor": "white",
           "linecolor": "white",
           "ticks": "",
           "title": {
            "standoff": 15
           },
           "zerolinecolor": "white",
           "zerolinewidth": 2
          },
          "yaxis": {
           "automargin": true,
           "gridcolor": "white",
           "linecolor": "white",
           "ticks": "",
           "title": {
            "standoff": 15
           },
           "zerolinecolor": "white",
           "zerolinewidth": 2
          }
         }
        },
        "title": {
         "text": "Honey Production in USA"
        },
        "xaxis": {
         "autorange": true,
         "range": [
          -2.9508670520231206,
          45.95086705202312
         ],
         "title": {
          "text": "States"
         },
         "type": "category"
        },
        "yaxis": {
         "autorange": true,
         "range": [
          1996.6186252771618,
          2013.3813747228382
         ],
         "title": {
          "text": "Honey Prodction"
         },
         "type": "linear"
        }
       }
      },
      "image/png": "[encoded data removed]",
      "text/html": [
       "<div>\n",
       "        \n",
       "        \n",
       "            <div id=\"cb54a622-d364-4d95-9079-15a680e32805\" class=\"plotly-graph-div\" style=\"height:525px; width:100%;\"></div>\n",
       "            <script type=\"text/javascript\">\n",
       "                require([\"plotly\"], function(Plotly) {\n",
       "                    window.PLOTLYENV=window.PLOTLYENV || {};\n",
       "                    \n",
       "                if (document.getElementById(\"cb54a622-d364-4d95-9079-15a680e32805\")) {\n",
       "                    Plotly.newPlot(\n",
       "                        'cb54a622-d364-4d95-9079-15a680e32805',\n",
       "                        [{\"marker\": {\"color\": [1136000.0, 3300000.0, 3445000.0, 37350000.0, 1944000.0, 22540000.0, 4200000.0, 944000.0, 6000000.0, 639000.0, 828000.0, 3900000.0, 736000.0, 150000.0, 4551000.0, 260000.0, 308000.0, 6800000.0, 11060000.0, 1548000.0, 1518000.0, 14030000.0, 4480000.0, 460000.0, 539000.0, 770000.0, 5200000.0, 472000.0, 29440000.0, 1404000.0, 204000.0, 2250000.0, 1716000.0, 21375000.0, 448000.0, 7007000.0, 1740000.0, 384000.0, 296000.0, 2958000.0, 330000.0, 8099000.0, 2760000.0, 1156000.0, 3224000.0, 4628000.0, 27900000.0, 2052000.0, 23256000.0, 3315000.0, 640000.0, 5760000.0, 594000.0, 810000.0, 2600000.0, 871000.0, 150000.0, 5472000.0, 308000.0, 276000.0, 6205000.0, 11890000.0, 1314000.0, 1560000.0, 8540000.0, 4466000.0, 405000.0, 440000.0, 780000.0, 4830000.0, 414000.0, 26775000.0, 1480000.0, 270000.0, 2565000.0, 1680000.0, 23296000.0, 408000.0, 8748000.0, 1170000.0, 396000.0, 245000.0, 2600000.0, 234000.0, 6000000.0, 2664000.0, 1248000.0, 2360000.0, 4836000.0, 30800000.0, 1740000.0, 24360000.0, 3135000.0, 784000.0, 4700000.0, 488000.0, 520000.0, 2010000.0, 1020000.0, 192000.0, 4042000.0, 231000.0, 276000.0, 5400000.0, 13500000.0, 1224000.0, 1725000.0, 10912000.0, 4350000.0, 350000.0, 385000.0, 960000.0, 4640000.0, 539000.0, 34500000.0, 1170000.0, 245000.0, 2448000.0, 1125000.0, 28435000.0, 549000.0, 8295000.0, 984000.0, 413000.0, 294000.0, 2808000.0, 378000.0, 7560000.0, 3627000.0, 1022000.0, 2537000.0, 4900000.0, 28060000.0, 1430000.0, 22000000.0, 3135000.0, 696000.0, 4600000.0, 456000.0, 532000.0, 1683000.0, 663000.0, 312000.0, 4770000.0, 220000.0, 184000.0, 4560000.0, 10935000.0, 1122000.0, 1342000.0, 13872000.0, 2064000.0, 450000.0, 374000.0, 700000.0, 3710000.0, 572000.0, 26880000.0, 1458000.0, 188000.0, 1936000.0, 1482000.0, 280000.0, 15275000.0, 472000.0, 7663000.0, 874000.0, 567000.0, 468000.0, 2496000.0, 455000.0, 5427000.0, 2926000.0, 1032000.0, 2394000.0, 3960000.0, 23500000.0, 1440000.0, 20460000.0, 2600000.0, 952000.0, 5700000.0, 720000.0, 496000.0, 2310000.0, 884000.0, 270000.0, 4340000.0, 451000.0, 138000.0, 5544000.0, 8541000.0, 1404000.0, 900000.0, 8442000.0, 3225000.0, 558000.0, 440000.0, 484000.0, 5880000.0, 672000.0, 24000000.0, 1260000.0, 159000.0, 2107000.0, 1653000.0, 470000.0, 11475000.0, 488000.0, 7638000.0, 1298000.0, 623000.0, 304000.0, 2550000.0, 459000.0, 6650000.0, 2394000.0, 1066000.0, 2520000.0, 3000000.0, 32160000.0, 2064000.0, 14910000.0, 3380000.0, 798000.0, 4600000.0, 420000.0, 280000.0, 1888000.0, 912000.0, 240000.0, 3060000.0, 264000.0, 84000.0, 4810000.0, 9960000.0, 1449000.0, 901000.0, 9570000.0, 3330000.0, 384000.0, 190000.0, 246000.0, 4824000.0, 440000.0, 29580000.0, 750000.0, 141000.0, 2142000.0, 1350000.0, 280000.0, 15050000.0, 240000.0, 9380000.0, 1425000.0, 581000.0, 222000.0, 3248000.0, 376000.0, 5698000.0, 3159000.0, 1044000.0, 1760000.0, 2280000.0, 17550000.0, 1840000.0, 20090000.0, 3087000.0, 768000.0, 6300000.0, 385000.0, 413000.0, 2345000.0, 1120000.0, 280000.0, 3430000.0, 217000.0, 4355000.0, 10125000.0, 1170000.0, 656000.0, 10780000.0, 4539000.0, 770000.0, 324000.0, 352000.0, 4288000.0, 360000.0, 30420000.0, 928000.0, 2268000.0, 1620000.0, 22575000.0, 324000.0, 8816000.0, 1680000.0, 408000.0, 266000.0, 3528000.0, 495000.0, 5848000.0, 2925000.0, 858000.0, 1800000.0, 2484000.0, 30000000.0, 1960000.0, 13760000.0, 2891000.0, 1179000.0, 3515000.0, 680000.0, 512000.0, 2464000.0, 800000.0, 250000.0, 3395000.0, 208000.0, 4420000.0, 8880000.0, 1280000.0, 750000.0, 8710000.0, 2720000.0, 552000.0, 384000.0, 343000.0, 4307000.0, 540000.0, 33670000.0, 1035000.0, 1638000.0, 1568000.0, 17380000.0, 385000.0, 5964000.0, 1080000.0, 546000.0, 296000.0, 2805000.0, 408000.0, 5312000.0, 2240000.0, 792000.0, 1950000.0, 2432000.0, 19760000.0, 2700000.0, 13770000.0, 4662000.0, 930000.0, 4180000.0, 660000.0, 378000.0, 2184000.0, 770000.0, 280000.0, 2700000.0, 253000.0, 3960000.0, 10000000.0, 1372000.0, 690000.0, 10428000.0, 3431000.0, 333000.0, 324000.0, 336000.0, 3712000.0, 500000.0, 25900000.0, 784000.0, 2208000.0, 1120000.0, 10575000.0, 385000.0, 5740000.0, 1300000.0, 336000.0, 336000.0, 2548000.0, 252000.0, 5952000.0, 3315000.0, 616000.0, 1920000.0, 2240000.0, 13600000.0, 1581000.0, 11360000.0, 3480000.0, 920000.0, 3772000.0, 567000.0, 424000.0, 2106000.0, 560000.0, 244000.0, 2581000.0, 234000.0, 4608000.0, 8840000.0, 1380000.0, 644000.0, 9180000.0, 2205000.0, 280000.0, 513000.0, 354000.0, 3021000.0, 540000.0, 31080000.0, 854000.0, 1978000.0, 1050000.0, 13260000.0, 455000.0, 8610000.0, 1176000.0, 320000.0, 276000.0, 2024000.0, 288000.0, 5040000.0, 3440000.0, 594000.0, 1600000.0, 2100000.0, 18360000.0, 1215000.0, 11850000.0, 4615000.0, 900000.0, 3600000.0, 448000.0, 469000.0, 1488000.0, 610000.0, 156000.0, 3080000.0, 294000.0, 5183000.0, 9516000.0, 1372000.0, 583000.0, 9380000.0, 2412000.0, 290000.0, 360000.0, 288000.0, 3500000.0, 624000.0, 36000000.0, 742000.0, 2150000.0, 1104000.0, 21375000.0, 427000.0, 4928000.0, 1344000.0, 330000.0, 252000.0, 2156000.0, 258000.0, 4640000.0, 2379000.0, 450000.0, 1040000.0, 1368000.0, 11715000.0, 1484000.0, 11560000.0, 2665000.0, 950000.0, 4738000.0, 272000.0, 288000.0, 1092000.0, 567000.0, 175000.0, 3811000.0, 300000.0, 3960000.0, 7930000.0, 1456000.0, 517000.0, 10220000.0, 2688000.0, 352000.0, 420000.0, 2925000.0, 495000.0, 34650000.0, 550000.0, 1870000.0, 840000.0, 17820000.0, 357000.0, 5607000.0, 988000.0, 245000.0, 234000.0, 2728000.0, 185000.0, 3780000.0, 1776000.0, 486000.0, 1848000.0, 1500000.0, 27470000.0, 1904000.0, 13800000.0, 2530000.0, 770000.0, 2619000.0, 369000.0, 430000.0, 1323000.0, 468000.0, 335000.0, 2880000.0, 205000.0, 4118000.0, 8448000.0, 1568000.0, 572000.0, 11618000.0, 2255000.0, 455000.0, 462000.0, 2880000.0, 598000.0, 46410000.0, 1116000.0, 2301000.0, 1110000.0, 15370000.0, 504000.0, 7200000.0, 780000.0, 260000.0, 185000.0, 2627000.0, 200000.0, 4096000.0, 1224000.0, 450000.0, 1219000.0, 1408000.0, 17760000.0, 1705000.0, 10980000.0, 2795000.0, 666000.0, 3132000.0, 350000.0, 408000.0, 1550000.0, 308000.0, 156000.0, 2772000.0, 120000.0, 4736000.0, 6360000.0, 2070000.0, 344000.0, 13340000.0, 2419000.0, 451000.0, 392000.0, 2744000.0, 868000.0, 32660000.0, 990000.0, 2040000.0, 1056000.0, 16500000.0, 308000.0, 4524000.0, 897000.0, 172000.0, 160000.0, 2698000.0, 212000.0, 3591000.0, 1890000.0, 432000.0, 1012000.0, 1575000.0, 11550000.0, 1200000.0, 12352000.0, 3009000.0, 750000.0, 2944000.0, 427000.0, 472000.0, 2257000.0, 330000.0, 255000.0, 3526000.0, 136000.0, 4161000.0, 8375000.0, 2124000.0, 371000.0, 7540000.0, 2795000.0, 462000.0, 260000.0, 2601000.0, 507000.0, 33120000.0, 1080000.0, 1920000.0, 960000.0, 16380000.0, 366000.0, 4784000.0, 950000.0, 240000.0, 164000.0, 2542000.0, 288000.0, 4140000.0, 2550000.0], \"colorscale\": [[0.0, \"rgb(150,0,90)\"], [0.125, \"rgb(0,0,200)\"], [0.25, \"rgb(0,25,255)\"], [0.375, \"rgb(0,152,255)\"], [0.5, \"rgb(44,255,150)\"], [0.625, \"rgb(151,255,0)\"], [0.75, \"rgb(255,234,0)\"], [0.875, \"rgb(255,111,0)\"], [1.0, \"rgb(255,0,0)\"]], \"opacity\": 0.5, \"showscale\": true, \"size\": 14}, \"mode\": \"markers\", \"text\": [1136000.0, 3300000.0, 3445000.0, 37350000.0, 1944000.0, 22540000.0, 4200000.0, 944000.0, 6000000.0, 639000.0, 828000.0, 3900000.0, 736000.0, 150000.0, 4551000.0, 260000.0, 308000.0, 6800000.0, 11060000.0, 1548000.0, 1518000.0, 14030000.0, 4480000.0, 460000.0, 539000.0, 770000.0, 5200000.0, 472000.0, 29440000.0, 1404000.0, 204000.0, 2250000.0, 1716000.0, 21375000.0, 448000.0, 7007000.0, 1740000.0, 384000.0, 296000.0, 2958000.0, 330000.0, 8099000.0, 2760000.0, 1156000.0, 3224000.0, 4628000.0, 27900000.0, 2052000.0, 23256000.0, 3315000.0, 640000.0, 5760000.0, 594000.0, 810000.0, 2600000.0, 871000.0, 150000.0, 5472000.0, 308000.0, 276000.0, 6205000.0, 11890000.0, 1314000.0, 1560000.0, 8540000.0, 4466000.0, 405000.0, 440000.0, 780000.0, 4830000.0, 414000.0, 26775000.0, 1480000.0, 270000.0, 2565000.0, 1680000.0, 23296000.0, 408000.0, 8748000.0, 1170000.0, 396000.0, 245000.0, 2600000.0, 234000.0, 6000000.0, 2664000.0, 1248000.0, 2360000.0, 4836000.0, 30800000.0, 1740000.0, 24360000.0, 3135000.0, 784000.0, 4700000.0, 488000.0, 520000.0, 2010000.0, 1020000.0, 192000.0, 4042000.0, 231000.0, 276000.0, 5400000.0, 13500000.0, 1224000.0, 1725000.0, 10912000.0, 4350000.0, 350000.0, 385000.0, 960000.0, 4640000.0, 539000.0, 34500000.0, 1170000.0, 245000.0, 2448000.0, 1125000.0, 28435000.0, 549000.0, 8295000.0, 984000.0, 413000.0, 294000.0, 2808000.0, 378000.0, 7560000.0, 3627000.0, 1022000.0, 2537000.0, 4900000.0, 28060000.0, 1430000.0, 22000000.0, 3135000.0, 696000.0, 4600000.0, 456000.0, 532000.0, 1683000.0, 663000.0, 312000.0, 4770000.0, 220000.0, 184000.0, 4560000.0, 10935000.0, 1122000.0, 1342000.0, 13872000.0, 2064000.0, 450000.0, 374000.0, 700000.0, 3710000.0, 572000.0, 26880000.0, 1458000.0, 188000.0, 1936000.0, 1482000.0, 280000.0, 15275000.0, 472000.0, 7663000.0, 874000.0, 567000.0, 468000.0, 2496000.0, 455000.0, 5427000.0, 2926000.0, 1032000.0, 2394000.0, 3960000.0, 23500000.0, 1440000.0, 20460000.0, 2600000.0, 952000.0, 5700000.0, 720000.0, 496000.0, 2310000.0, 884000.0, 270000.0, 4340000.0, 451000.0, 138000.0, 5544000.0, 8541000.0, 1404000.0, 900000.0, 8442000.0, 3225000.0, 558000.0, 440000.0, 484000.0, 5880000.0, 672000.0, 24000000.0, 1260000.0, 159000.0, 2107000.0, 1653000.0, 470000.0, 11475000.0, 488000.0, 7638000.0, 1298000.0, 623000.0, 304000.0, 2550000.0, 459000.0, 6650000.0, 2394000.0, 1066000.0, 2520000.0, 3000000.0, 32160000.0, 2064000.0, 14910000.0, 3380000.0, 798000.0, 4600000.0, 420000.0, 280000.0, 1888000.0, 912000.0, 240000.0, 3060000.0, 264000.0, 84000.0, 4810000.0, 9960000.0, 1449000.0, 901000.0, 9570000.0, 3330000.0, 384000.0, 190000.0, 246000.0, 4824000.0, 440000.0, 29580000.0, 750000.0, 141000.0, 2142000.0, 1350000.0, 280000.0, 15050000.0, 240000.0, 9380000.0, 1425000.0, 581000.0, 222000.0, 3248000.0, 376000.0, 5698000.0, 3159000.0, 1044000.0, 1760000.0, 2280000.0, 17550000.0, 1840000.0, 20090000.0, 3087000.0, 768000.0, 6300000.0, 385000.0, 413000.0, 2345000.0, 1120000.0, 280000.0, 3430000.0, 217000.0, 4355000.0, 10125000.0, 1170000.0, 656000.0, 10780000.0, 4539000.0, 770000.0, 324000.0, 352000.0, 4288000.0, 360000.0, 30420000.0, 928000.0, 2268000.0, 1620000.0, 22575000.0, 324000.0, 8816000.0, 1680000.0, 408000.0, 266000.0, 3528000.0, 495000.0, 5848000.0, 2925000.0, 858000.0, 1800000.0, 2484000.0, 30000000.0, 1960000.0, 13760000.0, 2891000.0, 1179000.0, 3515000.0, 680000.0, 512000.0, 2464000.0, 800000.0, 250000.0, 3395000.0, 208000.0, 4420000.0, 8880000.0, 1280000.0, 750000.0, 8710000.0, 2720000.0, 552000.0, 384000.0, 343000.0, 4307000.0, 540000.0, 33670000.0, 1035000.0, 1638000.0, 1568000.0, 17380000.0, 385000.0, 5964000.0, 1080000.0, 546000.0, 296000.0, 2805000.0, 408000.0, 5312000.0, 2240000.0, 792000.0, 1950000.0, 2432000.0, 19760000.0, 2700000.0, 13770000.0, 4662000.0, 930000.0, 4180000.0, 660000.0, 378000.0, 2184000.0, 770000.0, 280000.0, 2700000.0, 253000.0, 3960000.0, 10000000.0, 1372000.0, 690000.0, 10428000.0, 3431000.0, 333000.0, 324000.0, 336000.0, 3712000.0, 500000.0, 25900000.0, 784000.0, 2208000.0, 1120000.0, 10575000.0, 385000.0, 5740000.0, 1300000.0, 336000.0, 336000.0, 2548000.0, 252000.0, 5952000.0, 3315000.0, 616000.0, 1920000.0, 2240000.0, 13600000.0, 1581000.0, 11360000.0, 3480000.0, 920000.0, 3772000.0, 567000.0, 424000.0, 2106000.0, 560000.0, 244000.0, 2581000.0, 234000.0, 4608000.0, 8840000.0, 1380000.0, 644000.0, 9180000.0, 2205000.0, 280000.0, 513000.0, 354000.0, 3021000.0, 540000.0, 31080000.0, 854000.0, 1978000.0, 1050000.0, 13260000.0, 455000.0, 8610000.0, 1176000.0, 320000.0, 276000.0, 2024000.0, 288000.0, 5040000.0, 3440000.0, 594000.0, 1600000.0, 2100000.0, 18360000.0, 1215000.0, 11850000.0, 4615000.0, 900000.0, 3600000.0, 448000.0, 469000.0, 1488000.0, 610000.0, 156000.0, 3080000.0, 294000.0, 5183000.0, 9516000.0, 1372000.0, 583000.0, 9380000.0, 2412000.0, 290000.0, 360000.0, 288000.0, 3500000.0, 624000.0, 36000000.0, 742000.0, 2150000.0, 1104000.0, 21375000.0, 427000.0, 4928000.0, 1344000.0, 330000.0, 252000.0, 2156000.0, 258000.0, 4640000.0, 2379000.0, 450000.0, 1040000.0, 1368000.0, 11715000.0, 1484000.0, 11560000.0, 2665000.0, 950000.0, 4738000.0, 272000.0, 288000.0, 1092000.0, 567000.0, 175000.0, 3811000.0, 300000.0, 3960000.0, 7930000.0, 1456000.0, 517000.0, 10220000.0, 2688000.0, 352000.0, 420000.0, 2925000.0, 495000.0, 34650000.0, 550000.0, 1870000.0, 840000.0, 17820000.0, 357000.0, 5607000.0, 988000.0, 245000.0, 234000.0, 2728000.0, 185000.0, 3780000.0, 1776000.0, 486000.0, 1848000.0, 1500000.0, 27470000.0, 1904000.0, 13800000.0, 2530000.0, 770000.0, 2619000.0, 369000.0, 430000.0, 1323000.0, 468000.0, 335000.0, 2880000.0, 205000.0, 4118000.0, 8448000.0, 1568000.0, 572000.0, 11618000.0, 2255000.0, 455000.0, 462000.0, 2880000.0, 598000.0, 46410000.0, 1116000.0, 2301000.0, 1110000.0, 15370000.0, 504000.0, 7200000.0, 780000.0, 260000.0, 185000.0, 2627000.0, 200000.0, 4096000.0, 1224000.0, 450000.0, 1219000.0, 1408000.0, 17760000.0, 1705000.0, 10980000.0, 2795000.0, 666000.0, 3132000.0, 350000.0, 408000.0, 1550000.0, 308000.0, 156000.0, 2772000.0, 120000.0, 4736000.0, 6360000.0, 2070000.0, 344000.0, 13340000.0, 2419000.0, 451000.0, 392000.0, 2744000.0, 868000.0, 32660000.0, 990000.0, 2040000.0, 1056000.0, 16500000.0, 308000.0, 4524000.0, 897000.0, 172000.0, 160000.0, 2698000.0, 212000.0, 3591000.0, 1890000.0, 432000.0, 1012000.0, 1575000.0, 11550000.0, 1200000.0, 12352000.0, 3009000.0, 750000.0, 2944000.0, 427000.0, 472000.0, 2257000.0, 330000.0, 255000.0, 3526000.0, 136000.0, 4161000.0, 8375000.0, 2124000.0, 371000.0, 7540000.0, 2795000.0, 462000.0, 260000.0, 2601000.0, 507000.0, 33120000.0, 1080000.0, 1920000.0, 960000.0, 16380000.0, 366000.0, 4784000.0, 950000.0, 240000.0, 164000.0, 2542000.0, 288000.0, 4140000.0, 2550000.0], \"type\": \"scatter\", \"x\": [\"AL\", \"AZ\", \"AR\", \"CA\", \"CO\", \"FL\", \"GA\", \"HI\", \"ID\", \"IL\", \"IN\", \"IA\", \"KS\", \"KY\", \"LA\", \"ME\", \"MD\", \"MI\", \"MN\", \"MS\", \"MO\", \"MT\", \"NE\", \"NV\", \"NJ\", \"NM\", \"NY\", \"NC\", \"ND\", \"OH\", \"OK\", \"OR\", \"PA\", \"SD\", \"TN\", \"TX\", \"UT\", \"VT\", \"VA\", \"WA\", \"WV\", \"WI\", \"WY\", \"AL\", \"AZ\", \"AR\", \"CA\", \"CO\", \"FL\", \"GA\", \"HI\", \"ID\", \"IL\", \"IN\", \"IA\", \"KS\", \"KY\", \"LA\", \"ME\", \"MD\", \"MI\", \"MN\", \"MS\", \"MO\", \"MT\", \"NE\", \"NV\", \"NJ\", \"NM\", \"NY\", \"NC\", \"ND\", \"OH\", \"OK\", \"OR\", \"PA\", \"SD\", \"TN\", \"TX\", \"UT\", \"VT\", \"VA\", \"WA\", \"WV\", \"WI\", \"WY\", \"AL\", \"AZ\", \"AR\", \"CA\", \"CO\", \"FL\", \"GA\", \"HI\", \"ID\", \"IL\", \"IN\", \"IA\", \"KS\", \"KY\", \"LA\", \"ME\", \"MD\", \"MI\", \"MN\", \"MS\", \"MO\", \"MT\", \"NE\", \"NV\", \"NJ\", \"NM\", \"NY\", \"NC\", \"ND\", \"OH\", \"OK\", \"OR\", \"PA\", \"SD\", \"TN\", \"TX\", \"UT\", \"VT\", \"VA\", \"WA\", \"WV\", \"WI\", \"WY\", \"AL\", \"AZ\", \"AR\", \"CA\", \"CO\", \"FL\", \"GA\", \"HI\", \"ID\", \"IL\", \"IN\", \"IA\", \"KS\", \"KY\", \"LA\", \"ME\", \"MD\", \"MI\", \"MN\", \"MS\", \"MO\", \"MT\", \"NE\", \"NV\", \"NJ\", \"NM\", \"NY\", \"NC\", \"ND\", \"OH\", \"OK\", \"OR\", \"PA\", \"SC\", \"SD\", \"TN\", \"TX\", \"UT\", \"VT\", \"VA\", \"WA\", \"WV\", \"WI\", \"WY\", \"AL\", \"AZ\", \"AR\", \"CA\", \"CO\", \"FL\", \"GA\", \"HI\", \"ID\", \"IL\", \"IN\", \"IA\", \"KS\", \"KY\", \"LA\", \"ME\", \"MD\", \"MI\", \"MN\", \"MS\", \"MO\", \"MT\", \"NE\", \"NV\", \"NJ\", \"NM\", \"NY\", \"NC\", \"ND\", \"OH\", \"OK\", \"OR\", \"PA\", \"SC\", \"SD\", \"TN\", \"TX\", \"UT\", \"VT\", \"VA\", \"WA\", \"WV\", \"WI\", \"WY\", \"AL\", \"AZ\", \"AR\", \"CA\", \"CO\", \"FL\", \"GA\", \"HI\", \"ID\", \"IL\", \"IN\", \"IA\", \"KS\", \"KY\", \"LA\", \"ME\", \"MD\", \"MI\", \"MN\", \"MS\", \"MO\", \"MT\", \"NE\", \"NV\", \"NJ\", \"NM\", \"NY\", \"NC\", \"ND\", \"OH\", \"OK\", \"OR\", \"PA\", \"SC\", \"SD\", \"TN\", \"TX\", \"UT\", \"VT\", \"VA\", \"WA\", \"WV\", \"WI\", \"WY\", \"AL\", \"AZ\", \"AR\", \"CA\", \"CO\", \"FL\", \"GA\", \"HI\", \"ID\", \"IL\", \"IN\", \"IA\", \"KS\", \"KY\", \"LA\", \"ME\", \"MI\", \"MN\", \"MS\", \"MO\", \"MT\", \"NE\", \"NV\", \"NJ\", \"NM\", \"NY\", \"NC\", \"ND\", \"OH\", \"OR\", \"PA\", \"SD\", \"TN\", \"TX\", \"UT\", \"VT\", \"VA\", \"WA\", \"WV\", \"WI\", \"WY\", \"AL\", \"AZ\", \"AR\", \"CA\", \"CO\", \"FL\", \"GA\", \"HI\", \"ID\", \"IL\", \"IN\", \"IA\", \"KS\", \"KY\", \"LA\", \"ME\", \"MI\", \"MN\", \"MS\", \"MO\", \"MT\", \"NE\", \"NV\", \"NJ\", \"NM\", \"NY\", \"NC\", \"ND\", \"OH\", \"OR\", \"PA\", \"SD\", \"TN\", \"TX\", \"UT\", \"VT\", \"VA\", \"WA\", \"WV\", \"WI\", \"WY\", \"AL\", \"AZ\", \"AR\", \"CA\", \"CO\", \"FL\", \"GA\", \"HI\", \"ID\", \"IL\", \"IN\", \"IA\", \"KS\", \"KY\", \"LA\", \"ME\", \"MI\", \"MN\", \"MS\", \"MO\", \"MT\", \"NE\", \"NV\", \"NJ\", \"NM\", \"NY\", \"NC\", \"ND\", \"OH\", \"OR\", \"PA\", \"SD\", \"TN\", \"TX\", \"UT\", \"VT\", \"VA\", \"WA\", \"WV\", \"WI\", \"WY\", \"AL\", \"AZ\", \"AR\", \"CA\", \"CO\", \"FL\", \"GA\", \"HI\", \"ID\", \"IL\", \"IN\", \"IA\", \"KS\", \"KY\", \"LA\", \"ME\", \"MI\", \"MN\", \"MS\", \"MO\", \"MT\", \"NE\", \"NV\", \"NJ\", \"NM\", \"NY\", \"NC\", \"ND\", \"OH\", \"OR\", \"PA\", \"SD\", \"TN\", \"TX\", \"UT\", \"VT\", \"VA\", \"WA\", \"WV\", \"WI\", \"WY\", \"AL\", \"AZ\", \"AR\", \"CA\", \"CO\", \"FL\", \"GA\", \"HI\", \"ID\", \"IL\", \"IN\", \"IA\", \"KS\", \"KY\", \"LA\", \"ME\", \"MI\", \"MN\", \"MS\", \"MO\", \"MT\", \"NE\", \"NV\", \"NJ\", \"NM\", \"NY\", \"NC\", \"ND\", \"OH\", \"OR\", \"PA\", \"SD\", \"TN\", \"TX\", \"UT\", \"VT\", \"VA\", \"WA\", \"WV\", \"WI\", \"WY\", \"AL\", \"AZ\", \"AR\", \"CA\", \"CO\", \"FL\", \"GA\", \"HI\", \"ID\", \"IL\", \"IN\", \"IA\", \"KS\", \"KY\", \"LA\", \"ME\", \"MI\", \"MN\", \"MS\", \"MO\", \"MT\", \"NE\", \"NJ\", \"NM\", \"NY\", \"NC\", \"ND\", \"OH\", \"OR\", \"PA\", \"SD\", \"TN\", \"TX\", \"UT\", \"VT\", \"VA\", \"WA\", \"WV\", \"WI\", \"WY\", \"AL\", \"AZ\", \"AR\", \"CA\", \"CO\", \"FL\", \"GA\", \"HI\", \"ID\", \"IL\", \"IN\", \"IA\", \"KS\", \"KY\", \"LA\", \"ME\", \"MI\", \"MN\", \"MS\", \"MO\", \"MT\", \"NE\", \"NJ\", \"NM\", \"NY\", \"NC\", \"ND\", \"OH\", \"OR\", \"PA\", \"SD\", \"TN\", \"TX\", \"UT\", \"VT\", \"VA\", \"WA\", \"WV\", \"WI\", \"WY\", \"AL\", \"AZ\", \"AR\", \"CA\", \"CO\", \"FL\", \"GA\", \"HI\", \"ID\", \"IL\", \"IN\", \"IA\", \"KS\", \"KY\", \"LA\", \"ME\", \"MI\", \"MN\", \"MS\", \"MO\", \"MT\", \"NE\", \"NJ\", \"NM\", \"NY\", \"NC\", \"ND\", \"OH\", \"OR\", \"PA\", \"SD\", \"TN\", \"TX\", \"UT\", \"VT\", \"VA\", \"WA\", \"WV\", \"WI\", \"WY\", \"AL\", \"AZ\", \"AR\", \"CA\", \"CO\", \"FL\", \"GA\", \"HI\", \"ID\", \"IL\", \"IN\", \"IA\", \"KS\", \"KY\", \"LA\", \"ME\", \"MI\", \"MN\", \"MS\", \"MO\", \"MT\", \"NE\", \"NJ\", \"NM\", \"NY\", \"NC\", \"ND\", \"OH\", \"OR\", \"PA\", \"SD\", \"TN\", \"TX\", \"UT\", \"VT\", \"VA\", \"WA\", \"WV\", \"WI\", \"WY\"], \"y\": [1998, 1998, 1998, 1998, 1998, 1998, 1998, 1998, 1998, 1998, 1998, 1998, 1998, 1998, 1998, 1998, 1998, 1998, 1998, 1998, 1998, 1998, 1998, 1998, 1998, 1998, 1998, 1998, 1998, 1998, 1998, 1998, 1998, 1998, 1998, 1998, 1998, 1998, 1998, 1998, 1998, 1998, 1998, 1999, 1999, 1999, 1999, 1999, 1999, 1999, 1999, 1999, 1999, 1999, 1999, 1999, 1999, 1999, 1999, 1999, 1999, 1999, 1999, 1999, 1999, 1999, 1999, 1999, 1999, 1999, 1999, 1999, 1999, 1999, 1999, 1999, 1999, 1999, 1999, 1999, 1999, 1999, 1999, 1999, 1999, 1999, 2000, 2000, 2000, 2000, 2000, 2000, 2000, 2000, 2000, 2000, 2000, 2000, 2000, 2000, 2000, 2000, 2000, 2000, 2000, 2000, 2000, 2000, 2000, 2000, 2000, 2000, 2000, 2000, 2000, 2000, 2000, 2000, 2000, 2000, 2000, 2000, 2000, 2000, 2000, 2000, 2000, 2000, 2000, 2001, 2001, 2001, 2001, 2001, 2001, 2001, 2001, 2001, 2001, 2001, 2001, 2001, 2001, 2001, 2001, 2001, 2001, 2001, 2001, 2001, 2001, 2001, 2001, 2001, 2001, 2001, 2001, 2001, 2001, 2001, 2001, 2001, 2001, 2001, 2001, 2001, 2001, 2001, 2001, 2001, 2001, 2001, 2001, 2002, 2002, 2002, 2002, 2002, 2002, 2002, 2002, 2002, 2002, 2002, 2002, 2002, 2002, 2002, 2002, 2002, 2002, 2002, 2002, 2002, 2002, 2002, 2002, 2002, 2002, 2002, 2002, 2002, 2002, 2002, 2002, 2002, 2002, 2002, 2002, 2002, 2002, 2002, 2002, 2002, 2002, 2002, 2002, 2003, 2003, 2003, 2003, 2003, 2003, 2003, 2003, 2003, 2003, 2003, 2003, 2003, 2003, 2003, 2003, 2003, 2003, 2003, 2003, 2003, 2003, 2003, 2003, 2003, 2003, 2003, 2003, 2003, 2003, 2003, 2003, 2003, 2003, 2003, 2003, 2003, 2003, 2003, 2003, 2003, 2003, 2003, 2003, 2004, 2004, 2004, 2004, 2004, 2004, 2004, 2004, 2004, 2004, 2004, 2004, 2004, 2004, 2004, 2004, 2004, 2004, 2004, 2004, 2004, 2004, 2004, 2004, 2004, 2004, 2004, 2004, 2004, 2004, 2004, 2004, 2004, 2004, 2004, 2004, 2004, 2004, 2004, 2004, 2004, 2005, 2005, 2005, 2005, 2005, 2005, 2005, 2005, 2005, 2005, 2005, 2005, 2005, 2005, 2005, 2005, 2005, 2005, 2005, 2005, 2005, 2005, 2005, 2005, 2005, 2005, 2005, 2005, 2005, 2005, 2005, 2005, 2005, 2005, 2005, 2005, 2005, 2005, 2005, 2005, 2005, 2006, 2006, 2006, 2006, 2006, 2006, 2006, 2006, 2006, 2006, 2006, 2006, 2006, 2006, 2006, 2006, 2006, 2006, 2006, 2006, 2006, 2006, 2006, 2006, 2006, 2006, 2006, 2006, 2006, 2006, 2006, 2006, 2006, 2006, 2006, 2006, 2006, 2006, 2006, 2006, 2006, 2007, 2007, 2007, 2007, 2007, 2007, 2007, 2007, 2007, 2007, 2007, 2007, 2007, 2007, 2007, 2007, 2007, 2007, 2007, 2007, 2007, 2007, 2007, 2007, 2007, 2007, 2007, 2007, 2007, 2007, 2007, 2007, 2007, 2007, 2007, 2007, 2007, 2007, 2007, 2007, 2007, 2008, 2008, 2008, 2008, 2008, 2008, 2008, 2008, 2008, 2008, 2008, 2008, 2008, 2008, 2008, 2008, 2008, 2008, 2008, 2008, 2008, 2008, 2008, 2008, 2008, 2008, 2008, 2008, 2008, 2008, 2008, 2008, 2008, 2008, 2008, 2008, 2008, 2008, 2008, 2008, 2008, 2009, 2009, 2009, 2009, 2009, 2009, 2009, 2009, 2009, 2009, 2009, 2009, 2009, 2009, 2009, 2009, 2009, 2009, 2009, 2009, 2009, 2009, 2009, 2009, 2009, 2009, 2009, 2009, 2009, 2009, 2009, 2009, 2009, 2009, 2009, 2009, 2009, 2009, 2009, 2009, 2010, 2010, 2010, 2010, 2010, 2010, 2010, 2010, 2010, 2010, 2010, 2010, 2010, 2010, 2010, 2010, 2010, 2010, 2010, 2010, 2010, 2010, 2010, 2010, 2010, 2010, 2010, 2010, 2010, 2010, 2010, 2010, 2010, 2010, 2010, 2010, 2010, 2010, 2010, 2010, 2011, 2011, 2011, 2011, 2011, 2011, 2011, 2011, 2011, 2011, 2011, 2011, 2011, 2011, 2011, 2011, 2011, 2011, 2011, 2011, 2011, 2011, 2011, 2011, 2011, 2011, 2011, 2011, 2011, 2011, 2011, 2011, 2011, 2011, 2011, 2011, 2011, 2011, 2011, 2011, 2012, 2012, 2012, 2012, 2012, 2012, 2012, 2012, 2012, 2012, 2012, 2012, 2012, 2012, 2012, 2012, 2012, 2012, 2012, 2012, 2012, 2012, 2012, 2012, 2012, 2012, 2012, 2012, 2012, 2012, 2012, 2012, 2012, 2012, 2012, 2012, 2012, 2012, 2012, 2012]}],\n",
       "                        {\"hovermode\": \"closest\", \"template\": {\"data\": {\"bar\": [{\"error_x\": {\"color\": \"#2a3f5f\"}, \"error_y\": {\"color\": \"#2a3f5f\"}, \"marker\": {\"line\": {\"color\": \"#E5ECF6\", \"width\": 0.5}}, \"type\": \"bar\"}], \"barpolar\": [{\"marker\": {\"line\": {\"color\": \"#E5ECF6\", \"width\": 0.5}}, \"type\": \"barpolar\"}], \"carpet\": [{\"aaxis\": {\"endlinecolor\": \"#2a3f5f\", \"gridcolor\": \"white\", \"linecolor\": \"white\", \"minorgridcolor\": \"white\", \"startlinecolor\": \"#2a3f5f\"}, \"baxis\": {\"endlinecolor\": \"#2a3f5f\", \"gridcolor\": \"white\", \"linecolor\": \"white\", \"minorgridcolor\": \"white\", \"startlinecolor\": \"#2a3f5f\"}, \"type\": \"carpet\"}], \"choropleth\": [{\"colorbar\": {\"outlinewidth\": 0, \"ticks\": \"\"}, \"type\": \"choropleth\"}], \"contour\": [{\"colorbar\": {\"outlinewidth\": 0, \"ticks\": \"\"}, \"colorscale\": [[0.0, \"#0d0887\"], [0.1111111111111111, \"#46039f\"], [0.2222222222222222, \"#7201a8\"], [0.3333333333333333, \"#9c179e\"], [0.4444444444444444, \"#bd3786\"], [0.5555555555555556, \"#d8576b\"], [0.6666666666666666, \"#ed7953\"], [0.7777777777777778, \"#fb9f3a\"], [0.8888888888888888, \"#fdca26\"], [1.0, \"#f0f921\"]], \"type\": \"contour\"}], \"contourcarpet\": [{\"colorbar\": {\"outlinewidth\": 0, \"ticks\": \"\"}, \"type\": \"contourcarpet\"}], \"heatmap\": [{\"colorbar\": {\"outlinewidth\": 0, \"ticks\": \"\"}, \"colorscale\": [[0.0, \"#0d0887\"], [0.1111111111111111, \"#46039f\"], [0.2222222222222222, \"#7201a8\"], [0.3333333333333333, \"#9c179e\"], [0.4444444444444444, \"#bd3786\"], [0.5555555555555556, \"#d8576b\"], [0.6666666666666666, \"#ed7953\"], [0.7777777777777778, \"#fb9f3a\"], [0.8888888888888888, \"#fdca26\"], [1.0, \"#f0f921\"]], \"type\": \"heatmap\"}], \"heatmapgl\": [{\"colorbar\": {\"outlinewidth\": 0, \"ticks\": \"\"}, \"colorscale\": [[0.0, \"#0d0887\"], [0.1111111111111111, \"#46039f\"], [0.2222222222222222, \"#7201a8\"], [0.3333333333333333, \"#9c179e\"], [0.4444444444444444, \"#bd3786\"], [0.5555555555555556, \"#d8576b\"], [0.6666666666666666, \"#ed7953\"], [0.7777777777777778, \"#fb9f3a\"], [0.8888888888888888, \"#fdca26\"], [1.0, \"#f0f921\"]], \"type\": \"heatmapgl\"}], \"histogram\": [{\"marker\": {\"colorbar\": {\"outlinewidth\": 0, \"ticks\": \"\"}}, \"type\": \"histogram\"}], \"histogram2d\": [{\"colorbar\": {\"outlinewidth\": 0, \"ticks\": \"\"}, \"colorscale\": [[0.0, \"#0d0887\"], [0.1111111111111111, \"#46039f\"], [0.2222222222222222, \"#7201a8\"], [0.3333333333333333, \"#9c179e\"], [0.4444444444444444, \"#bd3786\"], [0.5555555555555556, \"#d8576b\"], [0.6666666666666666, \"#ed7953\"], [0.7777777777777778, \"#fb9f3a\"], [0.8888888888888888, \"#fdca26\"], [1.0, \"#f0f921\"]], \"type\": \"histogram2d\"}], \"histogram2dcontour\": [{\"colorbar\": {\"outlinewidth\": 0, \"ticks\": \"\"}, \"colorscale\": [[0.0, \"#0d0887\"], [0.1111111111111111, \"#46039f\"], [0.2222222222222222, \"#7201a8\"], [0.3333333333333333, \"#9c179e\"], [0.4444444444444444, \"#bd3786\"], [0.5555555555555556, \"#d8576b\"], [0.6666666666666666, \"#ed7953\"], [0.7777777777777778, \"#fb9f3a\"], [0.8888888888888888, \"#fdca26\"], [1.0, \"#f0f921\"]], \"type\": \"histogram2dcontour\"}], \"mesh3d\": [{\"colorbar\": {\"outlinewidth\": 0, \"ticks\": \"\"}, \"type\": \"mesh3d\"}], \"parcoords\": [{\"line\": {\"colorbar\": {\"outlinewidth\": 0, \"ticks\": \"\"}}, \"type\": \"parcoords\"}], \"pie\": [{\"automargin\": true, \"type\": \"pie\"}], \"scatter\": [{\"marker\": {\"colorbar\": {\"outlinewidth\": 0, \"ticks\": \"\"}}, \"type\": \"scatter\"}], \"scatter3d\": [{\"line\": {\"colorbar\": {\"outlinewidth\": 0, \"ticks\": \"\"}}, \"marker\": {\"colorbar\": {\"outlinewidth\": 0, \"ticks\": \"\"}}, \"type\": \"scatter3d\"}], \"scattercarpet\": [{\"marker\": {\"colorbar\": {\"outlinewidth\": 0, \"ticks\": \"\"}}, \"type\": \"scattercarpet\"}], \"scattergeo\": [{\"marker\": {\"colorbar\": {\"outlinewidth\": 0, \"ticks\": \"\"}}, \"type\": \"scattergeo\"}], \"scattergl\": [{\"marker\": {\"colorbar\": {\"outlinewidth\": 0, \"ticks\": \"\"}}, \"type\": \"scattergl\"}], \"scattermapbox\": [{\"marker\": {\"colorbar\": {\"outlinewidth\": 0, \"ticks\": \"\"}}, \"type\": \"scattermapbox\"}], \"scatterpolar\": [{\"marker\": {\"colorbar\": {\"outlinewidth\": 0, \"ticks\": \"\"}}, \"type\": \"scatterpolar\"}], \"scatterpolargl\": [{\"marker\": {\"colorbar\": {\"outlinewidth\": 0, \"ticks\": \"\"}}, \"type\": \"scatterpolargl\"}], \"scatterternary\": [{\"marker\": {\"colorbar\": {\"outlinewidth\": 0, \"ticks\": \"\"}}, \"type\": \"scatterternary\"}], \"surface\": [{\"colorbar\": {\"outlinewidth\": 0, \"ticks\": \"\"}, \"colorscale\": [[0.0, \"#0d0887\"], [0.1111111111111111, \"#46039f\"], [0.2222222222222222, \"#7201a8\"], [0.3333333333333333, \"#9c179e\"], [0.4444444444444444, \"#bd3786\"], [0.5555555555555556, \"#d8576b\"], [0.6666666666666666, \"#ed7953\"], [0.7777777777777778, \"#fb9f3a\"], [0.8888888888888888, \"#fdca26\"], [1.0, \"#f0f921\"]], \"type\": \"surface\"}], \"table\": [{\"cells\": {\"fill\": {\"color\": \"#EBF0F8\"}, \"line\": {\"color\": \"white\"}}, \"header\": {\"fill\": {\"color\": \"#C8D4E3\"}, \"line\": {\"color\": \"white\"}}, \"type\": \"table\"}]}, \"layout\": {\"annotationdefaults\": {\"arrowcolor\": \"#2a3f5f\", \"arrowhead\": 0, \"arrowwidth\": 1}, \"coloraxis\": {\"colorbar\": {\"outlinewidth\": 0, \"ticks\": \"\"}}, \"colorscale\": {\"diverging\": [[0, \"#8e0152\"], [0.1, \"#c51b7d\"], [0.2, \"#de77ae\"], [0.3, \"#f1b6da\"], [0.4, \"#fde0ef\"], [0.5, \"#f7f7f7\"], [0.6, \"#e6f5d0\"], [0.7, \"#b8e186\"], [0.8, \"#7fbc41\"], [0.9, \"#4d9221\"], [1, \"#276419\"]], \"sequential\": [[0.0, \"#0d0887\"], [0.1111111111111111, \"#46039f\"], [0.2222222222222222, \"#7201a8\"], [0.3333333333333333, \"#9c179e\"], [0.4444444444444444, \"#bd3786\"], [0.5555555555555556, \"#d8576b\"], [0.6666666666666666, \"#ed7953\"], [0.7777777777777778, \"#fb9f3a\"], [0.8888888888888888, \"#fdca26\"], [1.0, \"#f0f921\"]], \"sequentialminus\": [[0.0, \"#0d0887\"], [0.1111111111111111, \"#46039f\"], [0.2222222222222222, \"#7201a8\"], [0.3333333333333333, \"#9c179e\"], [0.4444444444444444, \"#bd3786\"], [0.5555555555555556, \"#d8576b\"], [0.6666666666666666, \"#ed7953\"], [0.7777777777777778, \"#fb9f3a\"], [0.8888888888888888, \"#fdca26\"], [1.0, \"#f0f921\"]]}, \"colorway\": [\"#636efa\", \"#EF553B\", \"#00cc96\", \"#ab63fa\", \"#FFA15A\", \"#19d3f3\", \"#FF6692\", \"#B6E880\", \"#FF97FF\", \"#FECB52\"], \"font\": {\"color\": \"#2a3f5f\"}, \"geo\": {\"bgcolor\": \"white\", \"lakecolor\": \"white\", \"landcolor\": \"#E5ECF6\", \"showlakes\": true, \"showland\": true, \"subunitcolor\": \"white\"}, \"hoverlabel\": {\"align\": \"left\"}, \"hovermode\": \"closest\", \"mapbox\": {\"style\": \"light\"}, \"paper_bgcolor\": \"white\", \"plot_bgcolor\": \"#E5ECF6\", \"polar\": {\"angularaxis\": {\"gridcolor\": \"white\", \"linecolor\": \"white\", \"ticks\": \"\"}, \"bgcolor\": \"#E5ECF6\", \"radialaxis\": {\"gridcolor\": \"white\", \"linecolor\": \"white\", \"ticks\": \"\"}}, \"scene\": {\"xaxis\": {\"backgroundcolor\": \"#E5ECF6\", \"gridcolor\": \"white\", \"gridwidth\": 2, \"linecolor\": \"white\", \"showbackground\": true, \"ticks\": \"\", \"zerolinecolor\": \"white\"}, \"yaxis\": {\"backgroundcolor\": \"#E5ECF6\", \"gridcolor\": \"white\", \"gridwidth\": 2, \"linecolor\": \"white\", \"showbackground\": true, \"ticks\": \"\", \"zerolinecolor\": \"white\"}, \"zaxis\": {\"backgroundcolor\": \"#E5ECF6\", \"gridcolor\": \"white\", \"gridwidth\": 2, \"linecolor\": \"white\", \"showbackground\": true, \"ticks\": \"\", \"zerolinecolor\": \"white\"}}, \"shapedefaults\": {\"line\": {\"color\": \"#2a3f5f\"}}, \"ternary\": {\"aaxis\": {\"gridcolor\": \"white\", \"linecolor\": \"white\", \"ticks\": \"\"}, \"baxis\": {\"gridcolor\": \"white\", \"linecolor\": \"white\", \"ticks\": \"\"}, \"bgcolor\": \"#E5ECF6\", \"caxis\": {\"gridcolor\": \"white\", \"linecolor\": \"white\", \"ticks\": \"\"}}, \"title\": {\"x\": 0.05}, \"xaxis\": {\"automargin\": true, \"gridcolor\": \"white\", \"linecolor\": \"white\", \"ticks\": \"\", \"title\": {\"standoff\": 15}, \"zerolinecolor\": \"white\", \"zerolinewidth\": 2}, \"yaxis\": {\"automargin\": true, \"gridcolor\": \"white\", \"linecolor\": \"white\", \"ticks\": \"\", \"title\": {\"standoff\": 15}, \"zerolinecolor\": \"white\", \"zerolinewidth\": 2}}}, \"title\": {\"text\": \"Honey Production in USA\"}, \"xaxis\": {\"title\": {\"text\": \"States\"}}, \"yaxis\": {\"title\": {\"text\": \"Honey Prodction\"}}},\n",
       "                        {\"responsive\": true}\n",
       "                    ).then(function(){\n",
       "                            \n",
       "var gd = document.getElementById('cb54a622-d364-4d95-9079-15a680e32805');\n",
       "var x = new MutationObserver(function (mutations, observer) {{\n",
       "        var display = window.getComputedStyle(gd).display;\n",
       "        if (!display || display === 'none') {{\n",
       "            console.log([gd, 'removed!']);\n",
       "            Plotly.purge(gd);\n",
       "            observer.disconnect();\n",
       "        }}\n",
       "}});\n",
       "\n",
       "// Listen for the removal of the full notebook cells\n",
       "var notebookContainer = gd.closest('#notebook-container');\n",
       "if (notebookContainer) {{\n",
       "    x.observe(notebookContainer, {childList: true});\n",
       "}}\n",
       "\n",
       "// Listen for the clearing of the current output cell\n",
       "var outputEl = gd.closest('.output');\n",
       "if (outputEl) {{\n",
       "    x.observe(outputEl, {childList: true});\n",
       "}}\n",
       "\n",
       "                        })\n",
       "                };\n",
       "                });\n",
       "            </script>\n",
       "        </div>"
      ]
     },
     "metadata": {},
     "output_type": "display_data"
    }
   ],
   "source": [
    "offline.iplot(honey_fig)"
   ]
  }
 ],
 "metadata": {
  "kernelspec": {
   "display_name": "Python 3",
   "language": "python",
   "name": "python3"
  },
  "language_info": {
   "codemirror_mode": {
    "name": "ipython",
    "version": 3
   },
   "file_extension": ".py",
   "mimetype": "text/x-python",
   "name": "python",
   "nbconvert_exporter": "python",
   "pygments_lexer": "ipython3",
   "version": "3.8.0"
  }
 },
 "nbformat": 4,
 "nbformat_minor": 4
}
