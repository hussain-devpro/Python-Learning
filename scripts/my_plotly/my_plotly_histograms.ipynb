{
 "cells": [
  {
   "cell_type": "code",
   "execution_count": 1,
   "metadata": {},
   "outputs": [
    {
     "data": {
      "text/html": [
       "        <script type=\"text/javascript\">\n",
       "        window.PlotlyConfig = {MathJaxConfig: 'local'};\n",
       "        if (window.MathJax) {MathJax.Hub.Config({SVG: {font: \"STIX-Web\"}});}\n",
       "        if (typeof require !== 'undefined') {\n",
       "        require.undef(\"plotly\");\n",
       "        requirejs.config({\n",
       "            paths: {\n",
       "                'plotly': ['https://cdn.plot.ly/plotly-latest.min']\n",
       "            }\n",
       "        });\n",
       "        require(['plotly'], function(Plotly) {\n",
       "            window._Plotly = Plotly;\n",
       "        });\n",
       "        }\n",
       "        </script>\n",
       "        "
      ]
     },
     "metadata": {},
     "output_type": "display_data"
    }
   ],
   "source": [
    "import chart_studio.plotly as cs\n",
    "import plotly.graph_objs as go\n",
    "import plotly.offline as offline\n",
    "import numpy as np\n",
    "\n",
    "offline.init_notebook_mode(connected=True)"
   ]
  },
  {
   "cell_type": "code",
   "execution_count": 2,
   "metadata": {},
   "outputs": [],
   "source": [
    "random_numbers = np.random.randn(200) # it generates the list of numbers with mean 0 and variance as 1"
   ]
  },
  {
   "cell_type": "code",
   "execution_count": 3,
   "metadata": {},
   "outputs": [
    {
     "data": {
      "application/vnd.plotly.v1+json": {
       "config": {
        "linkText": "Export to plot.ly",
        "plotlyServerURL": "https://plot.ly",
        "showLink": false
       },
       "data": [
        {
         "type": "histogram",
         "x": [
          0.14689844764223606,
          -0.6339926865663986,
          -0.6754752284511096,
          -0.09395704333226904,
          1.8305654902366273,
          -0.9484957226295377,
          -0.7779516465847378,
          1.371915366052889,
          -0.16869236314394773,
          0.4101571709677264,
          -0.46265237764029377,
          0.9127954044553713,
          -0.7737419034629791,
          2.964573155645736,
          -1.1152426828016242,
          1.3029541863119787,
          0.3354552314269626,
          -0.24693265985961751,
          1.1731391286294313,
          -1.6433739332770272,
          -0.08412586742636989,
          0.6028467479572093,
          -0.7021278956474523,
          -0.6067765571800232,
          -0.7856857292221526,
          -1.2920671350983983,
          -0.36853059794842247,
          -0.23262138148316577,
          1.4938338194321756,
          0.2519960621830859,
          -0.2719535864612855,
          0.1399992274718262,
          0.014448003236294069,
          0.26043201878494937,
          -0.14404667082258835,
          0.3398601275508795,
          0.18732449386913663,
          0.5740111495580108,
          0.44875349050602226,
          -0.7209780229618249,
          -1.0455278945622366,
          -0.46934566387414156,
          0.5400818677424064,
          1.3618794423652827,
          -0.3847249908132002,
          0.29105455646528483,
          -0.4729106463621695,
          1.4331534397908157,
          0.6048674570978158,
          -0.6692155028782203,
          0.3810769827458004,
          -2.071862794956133,
          0.7079833436130649,
          -0.16779739903894153,
          1.2755712240475114,
          -0.027649299019883083,
          -0.8656207215264026,
          -1.5222741770663037,
          -1.008178558719683,
          1.363351312588568,
          0.5334457428654512,
          -1.9638436125646415,
          -1.0792799439759846,
          -0.11368276076723223,
          -1.2786381094498906,
          1.0597962783830506,
          -1.1382699532882974,
          -1.6154771387816327,
          -0.7470217762785318,
          -0.12679311130460022,
          -0.3106073565165106,
          1.3037252966025188,
          1.605903939883664,
          0.4058776315030546,
          -0.8801863000427621,
          1.057238811794025,
          1.35533896955396,
          -1.239251228860427,
          0.28487841937729164,
          0.5815882954335735,
          -1.0576202148012472,
          1.3770802373391495,
          1.3493752636894782,
          -1.0174895813074372,
          0.32148604795753516,
          0.5345362619943567,
          -0.3484950589582768,
          0.8650825793344747,
          -0.40360196624011335,
          -0.9798368600703496,
          0.6190861143927495,
          0.24598855226123534,
          0.8773626024335781,
          0.9059670639269827,
          0.26753558407591194,
          0.5953151713807423,
          1.1221479684676399,
          0.43808777479106314,
          0.14159289350524926,
          -0.6113326667087595,
          -1.6970997701058523,
          0.8533715483188693,
          -0.5747702703576621,
          1.7201028252829094,
          0.36374019996621,
          -0.9198393513289724,
          -0.4511149942717769,
          1.7314168644925394,
          -1.2474828322527984,
          -1.135821937530349,
          0.6503122356581764,
          0.8680714560868139,
          -1.280722932305824,
          0.4802178213352635,
          -1.5344253806138421,
          -0.05523921560353476,
          -0.5264521864493562,
          1.8377964830027715,
          -0.4772998467035594,
          -0.5457135088474834,
          -0.5774139187400962,
          -1.7273630745782,
          -0.012650778681243284,
          0.12220977416772225,
          -0.46308591695819273,
          -0.48551666490485607,
          1.0286219318481407,
          -1.5314711897812503,
          0.3139712322672219,
          0.2230101642463284,
          0.12305184690435672,
          2.3821598597555242,
          -0.5722678586905098,
          0.1623197415865508,
          -0.9210456643106257,
          -0.5511129957766856,
          -1.6164114527259323,
          0.9088053998632372,
          0.16896280897881735,
          1.3709276075049865,
          0.38075423070562486,
          0.06720303492506166,
          0.22343979175101147,
          -1.905056632725822,
          -0.11395150095313604,
          0.08717103810820638,
          1.9620450828919764,
          0.22909619612892454,
          -1.4238880049541949,
          0.9840930668156201,
          -0.6814898168516695,
          -0.4396295376064955,
          -0.9621365669715576,
          -1.2112981448378257,
          0.1897670445683597,
          -0.24168427292828643,
          0.6481780587120058,
          0.10181758209302914,
          0.6094621199865919,
          0.06440195082742389,
          -0.051821325566759883,
          -0.286803843363443,
          1.5091397816733043,
          1.1612070959863974,
          1.1124061894738206,
          0.06602599691460091,
          0.44608660130360495,
          -1.201618700616783,
          -0.8053801795997612,
          -1.7262938193313766,
          -0.20802018756440235,
          -0.8888930317561924,
          0.6805877607021252,
          0.9299220877630004,
          -2.100000150257667,
          0.009339658366574608,
          0.8287786597089081,
          1.2833055952013062,
          -1.496465351669501,
          1.2761327051888596,
          1.043655013573199,
          0.855487414665308,
          -0.8476340996868025,
          0.26347512479457813,
          0.4011580499389762,
          -0.09701898207167933,
          1.6230181023827688,
          0.13087767392325128,
          0.5095499877944312,
          0.29034625114566504,
          -0.902521319104472,
          -1.419482626536593,
          0.010738250205630254,
          0.7283604441108407,
          -0.0978776864877819,
          0.34809364096192125,
          -1.2112227513306653,
          0.5684460079000437,
          0.46677193636088526,
          -0.5411675858699438
         ]
        }
       ],
       "layout": {
        "autosize": true,
        "template": {
         "data": {
          "bar": [
           {
            "error_x": {
             "color": "#2a3f5f"
            },
            "error_y": {
             "color": "#2a3f5f"
            },
            "marker": {
             "line": {
              "color": "#E5ECF6",
              "width": 0.5
             }
            },
            "type": "bar"
           }
          ],
          "barpolar": [
           {
            "marker": {
             "line": {
              "color": "#E5ECF6",
              "width": 0.5
             }
            },
            "type": "barpolar"
           }
          ],
          "carpet": [
           {
            "aaxis": {
             "endlinecolor": "#2a3f5f",
             "gridcolor": "white",
             "linecolor": "white",
             "minorgridcolor": "white",
             "startlinecolor": "#2a3f5f"
            },
            "baxis": {
             "endlinecolor": "#2a3f5f",
             "gridcolor": "white",
             "linecolor": "white",
             "minorgridcolor": "white",
             "startlinecolor": "#2a3f5f"
            },
            "type": "carpet"
           }
          ],
          "choropleth": [
           {
            "colorbar": {
             "outlinewidth": 0,
             "ticks": ""
            },
            "type": "choropleth"
           }
          ],
          "contour": [
           {
            "colorbar": {
             "outlinewidth": 0,
             "ticks": ""
            },
            "colorscale": [
             [
              0,
              "#0d0887"
             ],
             [
              0.1111111111111111,
              "#46039f"
             ],
             [
              0.2222222222222222,
              "#7201a8"
             ],
             [
              0.3333333333333333,
              "#9c179e"
             ],
             [
              0.4444444444444444,
              "#bd3786"
             ],
             [
              0.5555555555555556,
              "#d8576b"
             ],
             [
              0.6666666666666666,
              "#ed7953"
             ],
             [
              0.7777777777777778,
              "#fb9f3a"
             ],
             [
              0.8888888888888888,
              "#fdca26"
             ],
             [
              1,
              "#f0f921"
             ]
            ],
            "type": "contour"
           }
          ],
          "contourcarpet": [
           {
            "colorbar": {
             "outlinewidth": 0,
             "ticks": ""
            },
            "type": "contourcarpet"
           }
          ],
          "heatmap": [
           {
            "colorbar": {
             "outlinewidth": 0,
             "ticks": ""
            },
            "colorscale": [
             [
              0,
              "#0d0887"
             ],
             [
              0.1111111111111111,
              "#46039f"
             ],
             [
              0.2222222222222222,
              "#7201a8"
             ],
             [
              0.3333333333333333,
              "#9c179e"
             ],
             [
              0.4444444444444444,
              "#bd3786"
             ],
             [
              0.5555555555555556,
              "#d8576b"
             ],
             [
              0.6666666666666666,
              "#ed7953"
             ],
             [
              0.7777777777777778,
              "#fb9f3a"
             ],
             [
              0.8888888888888888,
              "#fdca26"
             ],
             [
              1,
              "#f0f921"
             ]
            ],
            "type": "heatmap"
           }
          ],
          "heatmapgl": [
           {
            "colorbar": {
             "outlinewidth": 0,
             "ticks": ""
            },
            "colorscale": [
             [
              0,
              "#0d0887"
             ],
             [
              0.1111111111111111,
              "#46039f"
             ],
             [
              0.2222222222222222,
              "#7201a8"
             ],
             [
              0.3333333333333333,
              "#9c179e"
             ],
             [
              0.4444444444444444,
              "#bd3786"
             ],
             [
              0.5555555555555556,
              "#d8576b"
             ],
             [
              0.6666666666666666,
              "#ed7953"
             ],
             [
              0.7777777777777778,
              "#fb9f3a"
             ],
             [
              0.8888888888888888,
              "#fdca26"
             ],
             [
              1,
              "#f0f921"
             ]
            ],
            "type": "heatmapgl"
           }
          ],
          "histogram": [
           {
            "marker": {
             "colorbar": {
              "outlinewidth": 0,
              "ticks": ""
             }
            },
            "type": "histogram"
           }
          ],
          "histogram2d": [
           {
            "colorbar": {
             "outlinewidth": 0,
             "ticks": ""
            },
            "colorscale": [
             [
              0,
              "#0d0887"
             ],
             [
              0.1111111111111111,
              "#46039f"
             ],
             [
              0.2222222222222222,
              "#7201a8"
             ],
             [
              0.3333333333333333,
              "#9c179e"
             ],
             [
              0.4444444444444444,
              "#bd3786"
             ],
             [
              0.5555555555555556,
              "#d8576b"
             ],
             [
              0.6666666666666666,
              "#ed7953"
             ],
             [
              0.7777777777777778,
              "#fb9f3a"
             ],
             [
              0.8888888888888888,
              "#fdca26"
             ],
             [
              1,
              "#f0f921"
             ]
            ],
            "type": "histogram2d"
           }
          ],
          "histogram2dcontour": [
           {
            "colorbar": {
             "outlinewidth": 0,
             "ticks": ""
            },
            "colorscale": [
             [
              0,
              "#0d0887"
             ],
             [
              0.1111111111111111,
              "#46039f"
             ],
             [
              0.2222222222222222,
              "#7201a8"
             ],
             [
              0.3333333333333333,
              "#9c179e"
             ],
             [
              0.4444444444444444,
              "#bd3786"
             ],
             [
              0.5555555555555556,
              "#d8576b"
             ],
             [
              0.6666666666666666,
              "#ed7953"
             ],
             [
              0.7777777777777778,
              "#fb9f3a"
             ],
             [
              0.8888888888888888,
              "#fdca26"
             ],
             [
              1,
              "#f0f921"
             ]
            ],
            "type": "histogram2dcontour"
           }
          ],
          "mesh3d": [
           {
            "colorbar": {
             "outlinewidth": 0,
             "ticks": ""
            },
            "type": "mesh3d"
           }
          ],
          "parcoords": [
           {
            "line": {
             "colorbar": {
              "outlinewidth": 0,
              "ticks": ""
             }
            },
            "type": "parcoords"
           }
          ],
          "pie": [
           {
            "automargin": true,
            "type": "pie"
           }
          ],
          "scatter": [
           {
            "marker": {
             "colorbar": {
              "outlinewidth": 0,
              "ticks": ""
             }
            },
            "type": "scatter"
           }
          ],
          "scatter3d": [
           {
            "line": {
             "colorbar": {
              "outlinewidth": 0,
              "ticks": ""
             }
            },
            "marker": {
             "colorbar": {
              "outlinewidth": 0,
              "ticks": ""
             }
            },
            "type": "scatter3d"
           }
          ],
          "scattercarpet": [
           {
            "marker": {
             "colorbar": {
              "outlinewidth": 0,
              "ticks": ""
             }
            },
            "type": "scattercarpet"
           }
          ],
          "scattergeo": [
           {
            "marker": {
             "colorbar": {
              "outlinewidth": 0,
              "ticks": ""
             }
            },
            "type": "scattergeo"
           }
          ],
          "scattergl": [
           {
            "marker": {
             "colorbar": {
              "outlinewidth": 0,
              "ticks": ""
             }
            },
            "type": "scattergl"
           }
          ],
          "scattermapbox": [
           {
            "marker": {
             "colorbar": {
              "outlinewidth": 0,
              "ticks": ""
             }
            },
            "type": "scattermapbox"
           }
          ],
          "scatterpolar": [
           {
            "marker": {
             "colorbar": {
              "outlinewidth": 0,
              "ticks": ""
             }
            },
            "type": "scatterpolar"
           }
          ],
          "scatterpolargl": [
           {
            "marker": {
             "colorbar": {
              "outlinewidth": 0,
              "ticks": ""
             }
            },
            "type": "scatterpolargl"
           }
          ],
          "scatterternary": [
           {
            "marker": {
             "colorbar": {
              "outlinewidth": 0,
              "ticks": ""
             }
            },
            "type": "scatterternary"
           }
          ],
          "surface": [
           {
            "colorbar": {
             "outlinewidth": 0,
             "ticks": ""
            },
            "colorscale": [
             [
              0,
              "#0d0887"
             ],
             [
              0.1111111111111111,
              "#46039f"
             ],
             [
              0.2222222222222222,
              "#7201a8"
             ],
             [
              0.3333333333333333,
              "#9c179e"
             ],
             [
              0.4444444444444444,
              "#bd3786"
             ],
             [
              0.5555555555555556,
              "#d8576b"
             ],
             [
              0.6666666666666666,
              "#ed7953"
             ],
             [
              0.7777777777777778,
              "#fb9f3a"
             ],
             [
              0.8888888888888888,
              "#fdca26"
             ],
             [
              1,
              "#f0f921"
             ]
            ],
            "type": "surface"
           }
          ],
          "table": [
           {
            "cells": {
             "fill": {
              "color": "#EBF0F8"
             },
             "line": {
              "color": "white"
             }
            },
            "header": {
             "fill": {
              "color": "#C8D4E3"
             },
             "line": {
              "color": "white"
             }
            },
            "type": "table"
           }
          ]
         },
         "layout": {
          "annotationdefaults": {
           "arrowcolor": "#2a3f5f",
           "arrowhead": 0,
           "arrowwidth": 1
          },
          "coloraxis": {
           "colorbar": {
            "outlinewidth": 0,
            "ticks": ""
           }
          },
          "colorscale": {
           "diverging": [
            [
             0,
             "#8e0152"
            ],
            [
             0.1,
             "#c51b7d"
            ],
            [
             0.2,
             "#de77ae"
            ],
            [
             0.3,
             "#f1b6da"
            ],
            [
             0.4,
             "#fde0ef"
            ],
            [
             0.5,
             "#f7f7f7"
            ],
            [
             0.6,
             "#e6f5d0"
            ],
            [
             0.7,
             "#b8e186"
            ],
            [
             0.8,
             "#7fbc41"
            ],
            [
             0.9,
             "#4d9221"
            ],
            [
             1,
             "#276419"
            ]
           ],
           "sequential": [
            [
             0,
             "#0d0887"
            ],
            [
             0.1111111111111111,
             "#46039f"
            ],
            [
             0.2222222222222222,
             "#7201a8"
            ],
            [
             0.3333333333333333,
             "#9c179e"
            ],
            [
             0.4444444444444444,
             "#bd3786"
            ],
            [
             0.5555555555555556,
             "#d8576b"
            ],
            [
             0.6666666666666666,
             "#ed7953"
            ],
            [
             0.7777777777777778,
             "#fb9f3a"
            ],
            [
             0.8888888888888888,
             "#fdca26"
            ],
            [
             1,
             "#f0f921"
            ]
           ],
           "sequentialminus": [
            [
             0,
             "#0d0887"
            ],
            [
             0.1111111111111111,
             "#46039f"
            ],
            [
             0.2222222222222222,
             "#7201a8"
            ],
            [
             0.3333333333333333,
             "#9c179e"
            ],
            [
             0.4444444444444444,
             "#bd3786"
            ],
            [
             0.5555555555555556,
             "#d8576b"
            ],
            [
             0.6666666666666666,
             "#ed7953"
            ],
            [
             0.7777777777777778,
             "#fb9f3a"
            ],
            [
             0.8888888888888888,
             "#fdca26"
            ],
            [
             1,
             "#f0f921"
            ]
           ]
          },
          "colorway": [
           "#636efa",
           "#EF553B",
           "#00cc96",
           "#ab63fa",
           "#FFA15A",
           "#19d3f3",
           "#FF6692",
           "#B6E880",
           "#FF97FF",
           "#FECB52"
          ],
          "font": {
           "color": "#2a3f5f"
          },
          "geo": {
           "bgcolor": "white",
           "lakecolor": "white",
           "landcolor": "#E5ECF6",
           "showlakes": true,
           "showland": true,
           "subunitcolor": "white"
          },
          "hoverlabel": {
           "align": "left"
          },
          "hovermode": "closest",
          "mapbox": {
           "style": "light"
          },
          "paper_bgcolor": "white",
          "plot_bgcolor": "#E5ECF6",
          "polar": {
           "angularaxis": {
            "gridcolor": "white",
            "linecolor": "white",
            "ticks": ""
           },
           "bgcolor": "#E5ECF6",
           "radialaxis": {
            "gridcolor": "white",
            "linecolor": "white",
            "ticks": ""
           }
          },
          "scene": {
           "xaxis": {
            "backgroundcolor": "#E5ECF6",
            "gridcolor": "white",
            "gridwidth": 2,
            "linecolor": "white",
            "showbackground": true,
            "ticks": "",
            "zerolinecolor": "white"
           },
           "yaxis": {
            "backgroundcolor": "#E5ECF6",
            "gridcolor": "white",
            "gridwidth": 2,
            "linecolor": "white",
            "showbackground": true,
            "ticks": "",
            "zerolinecolor": "white"
           },
           "zaxis": {
            "backgroundcolor": "#E5ECF6",
            "gridcolor": "white",
            "gridwidth": 2,
            "linecolor": "white",
            "showbackground": true,
            "ticks": "",
            "zerolinecolor": "white"
           }
          },
          "shapedefaults": {
           "line": {
            "color": "#2a3f5f"
           }
          },
          "ternary": {
           "aaxis": {
            "gridcolor": "white",
            "linecolor": "white",
            "ticks": ""
           },
           "baxis": {
            "gridcolor": "white",
            "linecolor": "white",
            "ticks": ""
           },
           "bgcolor": "#E5ECF6",
           "caxis": {
            "gridcolor": "white",
            "linecolor": "white",
            "ticks": ""
           }
          },
          "title": {
           "x": 0.05
          },
          "xaxis": {
           "automargin": true,
           "gridcolor": "white",
           "linecolor": "white",
           "ticks": "",
           "title": {
            "standoff": 15
           },
           "zerolinecolor": "white",
           "zerolinewidth": 2
          },
          "yaxis": {
           "automargin": true,
           "gridcolor": "white",
           "linecolor": "white",
           "ticks": "",
           "title": {
            "standoff": 15
           },
           "zerolinecolor": "white",
           "zerolinewidth": 2
          }
         }
        },
        "xaxis": {
         "autorange": true,
         "range": [
          -2.5,
          3
         ],
         "type": "linear"
        },
        "yaxis": {
         "autorange": true,
         "range": [
          0,
          47.368421052631575
         ]
        }
       }
      },
      "image/png": "[encoded data removed]",
      "text/html": [
       "<div>\n",
       "        \n",
       "        \n",
       "            <div id=\"cf529b1f-1be9-4baa-8d07-52c79a9ba84c\" class=\"plotly-graph-div\" style=\"height:525px; width:100%;\"></div>\n",
       "            <script type=\"text/javascript\">\n",
       "                require([\"plotly\"], function(Plotly) {\n",
       "                    window.PLOTLYENV=window.PLOTLYENV || {};\n",
       "                    \n",
       "                if (document.getElementById(\"cf529b1f-1be9-4baa-8d07-52c79a9ba84c\")) {\n",
       "                    Plotly.newPlot(\n",
       "                        'cf529b1f-1be9-4baa-8d07-52c79a9ba84c',\n",
       "                        [{\"type\": \"histogram\", \"x\": [0.14689844764223606, -0.6339926865663986, -0.6754752284511096, -0.09395704333226904, 1.8305654902366273, -0.9484957226295377, -0.7779516465847378, 1.371915366052889, -0.16869236314394773, 0.4101571709677264, -0.46265237764029377, 0.9127954044553713, -0.7737419034629791, 2.964573155645736, -1.1152426828016242, 1.3029541863119787, 0.3354552314269626, -0.24693265985961751, 1.1731391286294313, -1.6433739332770272, -0.08412586742636989, 0.6028467479572093, -0.7021278956474523, -0.6067765571800232, -0.7856857292221526, -1.2920671350983983, -0.36853059794842247, -0.23262138148316577, 1.4938338194321756, 0.2519960621830859, -0.2719535864612855, 0.1399992274718262, 0.014448003236294069, 0.26043201878494937, -0.14404667082258835, 0.3398601275508795, 0.18732449386913663, 0.5740111495580108, 0.44875349050602226, -0.7209780229618249, -1.0455278945622366, -0.46934566387414156, 0.5400818677424064, 1.3618794423652827, -0.3847249908132002, 0.29105455646528483, -0.4729106463621695, 1.4331534397908157, 0.6048674570978158, -0.6692155028782203, 0.3810769827458004, -2.071862794956133, 0.7079833436130649, -0.16779739903894153, 1.2755712240475114, -0.027649299019883083, -0.8656207215264026, -1.5222741770663037, -1.008178558719683, 1.363351312588568, 0.5334457428654512, -1.9638436125646415, -1.0792799439759846, -0.11368276076723223, -1.2786381094498906, 1.0597962783830506, -1.1382699532882974, -1.6154771387816327, -0.7470217762785318, -0.12679311130460022, -0.3106073565165106, 1.3037252966025188, 1.605903939883664, 0.4058776315030546, -0.8801863000427621, 1.057238811794025, 1.35533896955396, -1.239251228860427, 0.28487841937729164, 0.5815882954335735, -1.0576202148012472, 1.3770802373391495, 1.3493752636894782, -1.0174895813074372, 0.32148604795753516, 0.5345362619943567, -0.3484950589582768, 0.8650825793344747, -0.40360196624011335, -0.9798368600703496, 0.6190861143927495, 0.24598855226123534, 0.8773626024335781, 0.9059670639269827, 0.26753558407591194, 0.5953151713807423, 1.1221479684676399, 0.43808777479106314, 0.14159289350524926, -0.6113326667087595, -1.6970997701058523, 0.8533715483188693, -0.5747702703576621, 1.7201028252829094, 0.36374019996621, -0.9198393513289724, -0.4511149942717769, 1.7314168644925394, -1.2474828322527984, -1.135821937530349, 0.6503122356581764, 0.8680714560868139, -1.280722932305824, 0.4802178213352635, -1.5344253806138421, -0.05523921560353476, -0.5264521864493562, 1.8377964830027715, -0.4772998467035594, -0.5457135088474834, -0.5774139187400962, -1.7273630745782, -0.012650778681243284, 0.12220977416772225, -0.46308591695819273, -0.48551666490485607, 1.0286219318481407, -1.5314711897812503, 0.3139712322672219, 0.2230101642463284, 0.12305184690435672, 2.3821598597555242, -0.5722678586905098, 0.1623197415865508, -0.9210456643106257, -0.5511129957766856, -1.6164114527259323, 0.9088053998632372, 0.16896280897881735, 1.3709276075049865, 0.38075423070562486, 0.06720303492506166, 0.22343979175101147, -1.905056632725822, -0.11395150095313604, 0.08717103810820638, 1.9620450828919764, 0.22909619612892454, -1.4238880049541949, 0.9840930668156201, -0.6814898168516695, -0.4396295376064955, -0.9621365669715576, -1.2112981448378257, 0.1897670445683597, -0.24168427292828643, 0.6481780587120058, 0.10181758209302914, 0.6094621199865919, 0.06440195082742389, -0.051821325566759883, -0.286803843363443, 1.5091397816733043, 1.1612070959863974, 1.1124061894738206, 0.06602599691460091, 0.44608660130360495, -1.201618700616783, -0.8053801795997612, -1.7262938193313766, -0.20802018756440235, -0.8888930317561924, 0.6805877607021252, 0.9299220877630004, -2.100000150257667, 0.009339658366574608, 0.8287786597089081, 1.2833055952013062, -1.496465351669501, 1.2761327051888596, 1.043655013573199, 0.855487414665308, -0.8476340996868025, 0.26347512479457813, 0.4011580499389762, -0.09701898207167933, 1.6230181023827688, 0.13087767392325128, 0.5095499877944312, 0.29034625114566504, -0.902521319104472, -1.419482626536593, 0.010738250205630254, 0.7283604441108407, -0.0978776864877819, 0.34809364096192125, -1.2112227513306653, 0.5684460079000437, 0.46677193636088526, -0.5411675858699438]}],\n",
       "                        {\"template\": {\"data\": {\"bar\": [{\"error_x\": {\"color\": \"#2a3f5f\"}, \"error_y\": {\"color\": \"#2a3f5f\"}, \"marker\": {\"line\": {\"color\": \"#E5ECF6\", \"width\": 0.5}}, \"type\": \"bar\"}], \"barpolar\": [{\"marker\": {\"line\": {\"color\": \"#E5ECF6\", \"width\": 0.5}}, \"type\": \"barpolar\"}], \"carpet\": [{\"aaxis\": {\"endlinecolor\": \"#2a3f5f\", \"gridcolor\": \"white\", \"linecolor\": \"white\", \"minorgridcolor\": \"white\", \"startlinecolor\": \"#2a3f5f\"}, \"baxis\": {\"endlinecolor\": \"#2a3f5f\", \"gridcolor\": \"white\", \"linecolor\": \"white\", \"minorgridcolor\": \"white\", \"startlinecolor\": \"#2a3f5f\"}, \"type\": \"carpet\"}], \"choropleth\": [{\"colorbar\": {\"outlinewidth\": 0, \"ticks\": \"\"}, \"type\": \"choropleth\"}], \"contour\": [{\"colorbar\": {\"outlinewidth\": 0, \"ticks\": \"\"}, \"colorscale\": [[0.0, \"#0d0887\"], [0.1111111111111111, \"#46039f\"], [0.2222222222222222, \"#7201a8\"], [0.3333333333333333, \"#9c179e\"], [0.4444444444444444, \"#bd3786\"], [0.5555555555555556, \"#d8576b\"], [0.6666666666666666, \"#ed7953\"], [0.7777777777777778, \"#fb9f3a\"], [0.8888888888888888, \"#fdca26\"], [1.0, \"#f0f921\"]], \"type\": \"contour\"}], \"contourcarpet\": [{\"colorbar\": {\"outlinewidth\": 0, \"ticks\": \"\"}, \"type\": \"contourcarpet\"}], \"heatmap\": [{\"colorbar\": {\"outlinewidth\": 0, \"ticks\": \"\"}, \"colorscale\": [[0.0, \"#0d0887\"], [0.1111111111111111, \"#46039f\"], [0.2222222222222222, \"#7201a8\"], [0.3333333333333333, \"#9c179e\"], [0.4444444444444444, \"#bd3786\"], [0.5555555555555556, \"#d8576b\"], [0.6666666666666666, \"#ed7953\"], [0.7777777777777778, \"#fb9f3a\"], [0.8888888888888888, \"#fdca26\"], [1.0, \"#f0f921\"]], \"type\": \"heatmap\"}], \"heatmapgl\": [{\"colorbar\": {\"outlinewidth\": 0, \"ticks\": \"\"}, \"colorscale\": [[0.0, \"#0d0887\"], [0.1111111111111111, \"#46039f\"], [0.2222222222222222, \"#7201a8\"], [0.3333333333333333, \"#9c179e\"], [0.4444444444444444, \"#bd3786\"], [0.5555555555555556, \"#d8576b\"], [0.6666666666666666, \"#ed7953\"], [0.7777777777777778, \"#fb9f3a\"], [0.8888888888888888, \"#fdca26\"], [1.0, \"#f0f921\"]], \"type\": \"heatmapgl\"}], \"histogram\": [{\"marker\": {\"colorbar\": {\"outlinewidth\": 0, \"ticks\": \"\"}}, \"type\": \"histogram\"}], \"histogram2d\": [{\"colorbar\": {\"outlinewidth\": 0, \"ticks\": \"\"}, \"colorscale\": [[0.0, \"#0d0887\"], [0.1111111111111111, \"#46039f\"], [0.2222222222222222, \"#7201a8\"], [0.3333333333333333, \"#9c179e\"], [0.4444444444444444, \"#bd3786\"], [0.5555555555555556, \"#d8576b\"], [0.6666666666666666, \"#ed7953\"], [0.7777777777777778, \"#fb9f3a\"], [0.8888888888888888, \"#fdca26\"], [1.0, \"#f0f921\"]], \"type\": \"histogram2d\"}], \"histogram2dcontour\": [{\"colorbar\": {\"outlinewidth\": 0, \"ticks\": \"\"}, \"colorscale\": [[0.0, \"#0d0887\"], [0.1111111111111111, \"#46039f\"], [0.2222222222222222, \"#7201a8\"], [0.3333333333333333, \"#9c179e\"], [0.4444444444444444, \"#bd3786\"], [0.5555555555555556, \"#d8576b\"], [0.6666666666666666, \"#ed7953\"], [0.7777777777777778, \"#fb9f3a\"], [0.8888888888888888, \"#fdca26\"], [1.0, \"#f0f921\"]], \"type\": \"histogram2dcontour\"}], \"mesh3d\": [{\"colorbar\": {\"outlinewidth\": 0, \"ticks\": \"\"}, \"type\": \"mesh3d\"}], \"parcoords\": [{\"line\": {\"colorbar\": {\"outlinewidth\": 0, \"ticks\": \"\"}}, \"type\": \"parcoords\"}], \"pie\": [{\"automargin\": true, \"type\": \"pie\"}], \"scatter\": [{\"marker\": {\"colorbar\": {\"outlinewidth\": 0, \"ticks\": \"\"}}, \"type\": \"scatter\"}], \"scatter3d\": [{\"line\": {\"colorbar\": {\"outlinewidth\": 0, \"ticks\": \"\"}}, \"marker\": {\"colorbar\": {\"outlinewidth\": 0, \"ticks\": \"\"}}, \"type\": \"scatter3d\"}], \"scattercarpet\": [{\"marker\": {\"colorbar\": {\"outlinewidth\": 0, \"ticks\": \"\"}}, \"type\": \"scattercarpet\"}], \"scattergeo\": [{\"marker\": {\"colorbar\": {\"outlinewidth\": 0, \"ticks\": \"\"}}, \"type\": \"scattergeo\"}], \"scattergl\": [{\"marker\": {\"colorbar\": {\"outlinewidth\": 0, \"ticks\": \"\"}}, \"type\": \"scattergl\"}], \"scattermapbox\": [{\"marker\": {\"colorbar\": {\"outlinewidth\": 0, \"ticks\": \"\"}}, \"type\": \"scattermapbox\"}], \"scatterpolar\": [{\"marker\": {\"colorbar\": {\"outlinewidth\": 0, \"ticks\": \"\"}}, \"type\": \"scatterpolar\"}], \"scatterpolargl\": [{\"marker\": {\"colorbar\": {\"outlinewidth\": 0, \"ticks\": \"\"}}, \"type\": \"scatterpolargl\"}], \"scatterternary\": [{\"marker\": {\"colorbar\": {\"outlinewidth\": 0, \"ticks\": \"\"}}, \"type\": \"scatterternary\"}], \"surface\": [{\"colorbar\": {\"outlinewidth\": 0, \"ticks\": \"\"}, \"colorscale\": [[0.0, \"#0d0887\"], [0.1111111111111111, \"#46039f\"], [0.2222222222222222, \"#7201a8\"], [0.3333333333333333, \"#9c179e\"], [0.4444444444444444, \"#bd3786\"], [0.5555555555555556, \"#d8576b\"], [0.6666666666666666, \"#ed7953\"], [0.7777777777777778, \"#fb9f3a\"], [0.8888888888888888, \"#fdca26\"], [1.0, \"#f0f921\"]], \"type\": \"surface\"}], \"table\": [{\"cells\": {\"fill\": {\"color\": \"#EBF0F8\"}, \"line\": {\"color\": \"white\"}}, \"header\": {\"fill\": {\"color\": \"#C8D4E3\"}, \"line\": {\"color\": \"white\"}}, \"type\": \"table\"}]}, \"layout\": {\"annotationdefaults\": {\"arrowcolor\": \"#2a3f5f\", \"arrowhead\": 0, \"arrowwidth\": 1}, \"coloraxis\": {\"colorbar\": {\"outlinewidth\": 0, \"ticks\": \"\"}}, \"colorscale\": {\"diverging\": [[0, \"#8e0152\"], [0.1, \"#c51b7d\"], [0.2, \"#de77ae\"], [0.3, \"#f1b6da\"], [0.4, \"#fde0ef\"], [0.5, \"#f7f7f7\"], [0.6, \"#e6f5d0\"], [0.7, \"#b8e186\"], [0.8, \"#7fbc41\"], [0.9, \"#4d9221\"], [1, \"#276419\"]], \"sequential\": [[0.0, \"#0d0887\"], [0.1111111111111111, \"#46039f\"], [0.2222222222222222, \"#7201a8\"], [0.3333333333333333, \"#9c179e\"], [0.4444444444444444, \"#bd3786\"], [0.5555555555555556, \"#d8576b\"], [0.6666666666666666, \"#ed7953\"], [0.7777777777777778, \"#fb9f3a\"], [0.8888888888888888, \"#fdca26\"], [1.0, \"#f0f921\"]], \"sequentialminus\": [[0.0, \"#0d0887\"], [0.1111111111111111, \"#46039f\"], [0.2222222222222222, \"#7201a8\"], [0.3333333333333333, \"#9c179e\"], [0.4444444444444444, \"#bd3786\"], [0.5555555555555556, \"#d8576b\"], [0.6666666666666666, \"#ed7953\"], [0.7777777777777778, \"#fb9f3a\"], [0.8888888888888888, \"#fdca26\"], [1.0, \"#f0f921\"]]}, \"colorway\": [\"#636efa\", \"#EF553B\", \"#00cc96\", \"#ab63fa\", \"#FFA15A\", \"#19d3f3\", \"#FF6692\", \"#B6E880\", \"#FF97FF\", \"#FECB52\"], \"font\": {\"color\": \"#2a3f5f\"}, \"geo\": {\"bgcolor\": \"white\", \"lakecolor\": \"white\", \"landcolor\": \"#E5ECF6\", \"showlakes\": true, \"showland\": true, \"subunitcolor\": \"white\"}, \"hoverlabel\": {\"align\": \"left\"}, \"hovermode\": \"closest\", \"mapbox\": {\"style\": \"light\"}, \"paper_bgcolor\": \"white\", \"plot_bgcolor\": \"#E5ECF6\", \"polar\": {\"angularaxis\": {\"gridcolor\": \"white\", \"linecolor\": \"white\", \"ticks\": \"\"}, \"bgcolor\": \"#E5ECF6\", \"radialaxis\": {\"gridcolor\": \"white\", \"linecolor\": \"white\", \"ticks\": \"\"}}, \"scene\": {\"xaxis\": {\"backgroundcolor\": \"#E5ECF6\", \"gridcolor\": \"white\", \"gridwidth\": 2, \"linecolor\": \"white\", \"showbackground\": true, \"ticks\": \"\", \"zerolinecolor\": \"white\"}, \"yaxis\": {\"backgroundcolor\": \"#E5ECF6\", \"gridcolor\": \"white\", \"gridwidth\": 2, \"linecolor\": \"white\", \"showbackground\": true, \"ticks\": \"\", \"zerolinecolor\": \"white\"}, \"zaxis\": {\"backgroundcolor\": \"#E5ECF6\", \"gridcolor\": \"white\", \"gridwidth\": 2, \"linecolor\": \"white\", \"showbackground\": true, \"ticks\": \"\", \"zerolinecolor\": \"white\"}}, \"shapedefaults\": {\"line\": {\"color\": \"#2a3f5f\"}}, \"ternary\": {\"aaxis\": {\"gridcolor\": \"white\", \"linecolor\": \"white\", \"ticks\": \"\"}, \"baxis\": {\"gridcolor\": \"white\", \"linecolor\": \"white\", \"ticks\": \"\"}, \"bgcolor\": \"#E5ECF6\", \"caxis\": {\"gridcolor\": \"white\", \"linecolor\": \"white\", \"ticks\": \"\"}}, \"title\": {\"x\": 0.05}, \"xaxis\": {\"automargin\": true, \"gridcolor\": \"white\", \"linecolor\": \"white\", \"ticks\": \"\", \"title\": {\"standoff\": 15}, \"zerolinecolor\": \"white\", \"zerolinewidth\": 2}, \"yaxis\": {\"automargin\": true, \"gridcolor\": \"white\", \"linecolor\": \"white\", \"ticks\": \"\", \"title\": {\"standoff\": 15}, \"zerolinecolor\": \"white\", \"zerolinewidth\": 2}}}},\n",
       "                        {\"responsive\": true}\n",
       "                    ).then(function(){\n",
       "                            \n",
       "var gd = document.getElementById('cf529b1f-1be9-4baa-8d07-52c79a9ba84c');\n",
       "var x = new MutationObserver(function (mutations, observer) {{\n",
       "        var display = window.getComputedStyle(gd).display;\n",
       "        if (!display || display === 'none') {{\n",
       "            console.log([gd, 'removed!']);\n",
       "            Plotly.purge(gd);\n",
       "            observer.disconnect();\n",
       "        }}\n",
       "}});\n",
       "\n",
       "// Listen for the removal of the full notebook cells\n",
       "var notebookContainer = gd.closest('#notebook-container');\n",
       "if (notebookContainer) {{\n",
       "    x.observe(notebookContainer, {childList: true});\n",
       "}}\n",
       "\n",
       "// Listen for the clearing of the current output cell\n",
       "var outputEl = gd.closest('.output');\n",
       "if (outputEl) {{\n",
       "    x.observe(outputEl, {childList: true});\n",
       "}}\n",
       "\n",
       "                        })\n",
       "                };\n",
       "                });\n",
       "            </script>\n",
       "        </div>"
      ]
     },
     "metadata": {},
     "output_type": "display_data"
    }
   ],
   "source": [
    "hist =  go.Histogram(x = random_numbers) # by default histnorm = frequency of data points are plotted on y-axis\n",
    "data = [hist]\n",
    "offline.iplot(data)  # by default of Histogram produces bar chart for data\n",
    "# Here there are 40 data points which ranges from 0 to 0.5 plotted on y-axis"
   ]
  },
  {
   "cell_type": "code",
   "execution_count": 4,
   "metadata": {},
   "outputs": [
    {
     "data": {
      "application/vnd.plotly.v1+json": {
       "config": {
        "linkText": "Export to plot.ly",
        "plotlyServerURL": "https://plot.ly",
        "showLink": false
       },
       "data": [
        {
         "histnorm": "probability",
         "type": "histogram",
         "x": [
          0.14689844764223606,
          -0.6339926865663986,
          -0.6754752284511096,
          -0.09395704333226904,
          1.8305654902366273,
          -0.9484957226295377,
          -0.7779516465847378,
          1.371915366052889,
          -0.16869236314394773,
          0.4101571709677264,
          -0.46265237764029377,
          0.9127954044553713,
          -0.7737419034629791,
          2.964573155645736,
          -1.1152426828016242,
          1.3029541863119787,
          0.3354552314269626,
          -0.24693265985961751,
          1.1731391286294313,
          -1.6433739332770272,
          -0.08412586742636989,
          0.6028467479572093,
          -0.7021278956474523,
          -0.6067765571800232,
          -0.7856857292221526,
          -1.2920671350983983,
          -0.36853059794842247,
          -0.23262138148316577,
          1.4938338194321756,
          0.2519960621830859,
          -0.2719535864612855,
          0.1399992274718262,
          0.014448003236294069,
          0.26043201878494937,
          -0.14404667082258835,
          0.3398601275508795,
          0.18732449386913663,
          0.5740111495580108,
          0.44875349050602226,
          -0.7209780229618249,
          -1.0455278945622366,
          -0.46934566387414156,
          0.5400818677424064,
          1.3618794423652827,
          -0.3847249908132002,
          0.29105455646528483,
          -0.4729106463621695,
          1.4331534397908157,
          0.6048674570978158,
          -0.6692155028782203,
          0.3810769827458004,
          -2.071862794956133,
          0.7079833436130649,
          -0.16779739903894153,
          1.2755712240475114,
          -0.027649299019883083,
          -0.8656207215264026,
          -1.5222741770663037,
          -1.008178558719683,
          1.363351312588568,
          0.5334457428654512,
          -1.9638436125646415,
          -1.0792799439759846,
          -0.11368276076723223,
          -1.2786381094498906,
          1.0597962783830506,
          -1.1382699532882974,
          -1.6154771387816327,
          -0.7470217762785318,
          -0.12679311130460022,
          -0.3106073565165106,
          1.3037252966025188,
          1.605903939883664,
          0.4058776315030546,
          -0.8801863000427621,
          1.057238811794025,
          1.35533896955396,
          -1.239251228860427,
          0.28487841937729164,
          0.5815882954335735,
          -1.0576202148012472,
          1.3770802373391495,
          1.3493752636894782,
          -1.0174895813074372,
          0.32148604795753516,
          0.5345362619943567,
          -0.3484950589582768,
          0.8650825793344747,
          -0.40360196624011335,
          -0.9798368600703496,
          0.6190861143927495,
          0.24598855226123534,
          0.8773626024335781,
          0.9059670639269827,
          0.26753558407591194,
          0.5953151713807423,
          1.1221479684676399,
          0.43808777479106314,
          0.14159289350524926,
          -0.6113326667087595,
          -1.6970997701058523,
          0.8533715483188693,
          -0.5747702703576621,
          1.7201028252829094,
          0.36374019996621,
          -0.9198393513289724,
          -0.4511149942717769,
          1.7314168644925394,
          -1.2474828322527984,
          -1.135821937530349,
          0.6503122356581764,
          0.8680714560868139,
          -1.280722932305824,
          0.4802178213352635,
          -1.5344253806138421,
          -0.05523921560353476,
          -0.5264521864493562,
          1.8377964830027715,
          -0.4772998467035594,
          -0.5457135088474834,
          -0.5774139187400962,
          -1.7273630745782,
          -0.012650778681243284,
          0.12220977416772225,
          -0.46308591695819273,
          -0.48551666490485607,
          1.0286219318481407,
          -1.5314711897812503,
          0.3139712322672219,
          0.2230101642463284,
          0.12305184690435672,
          2.3821598597555242,
          -0.5722678586905098,
          0.1623197415865508,
          -0.9210456643106257,
          -0.5511129957766856,
          -1.6164114527259323,
          0.9088053998632372,
          0.16896280897881735,
          1.3709276075049865,
          0.38075423070562486,
          0.06720303492506166,
          0.22343979175101147,
          -1.905056632725822,
          -0.11395150095313604,
          0.08717103810820638,
          1.9620450828919764,
          0.22909619612892454,
          -1.4238880049541949,
          0.9840930668156201,
          -0.6814898168516695,
          -0.4396295376064955,
          -0.9621365669715576,
          -1.2112981448378257,
          0.1897670445683597,
          -0.24168427292828643,
          0.6481780587120058,
          0.10181758209302914,
          0.6094621199865919,
          0.06440195082742389,
          -0.051821325566759883,
          -0.286803843363443,
          1.5091397816733043,
          1.1612070959863974,
          1.1124061894738206,
          0.06602599691460091,
          0.44608660130360495,
          -1.201618700616783,
          -0.8053801795997612,
          -1.7262938193313766,
          -0.20802018756440235,
          -0.8888930317561924,
          0.6805877607021252,
          0.9299220877630004,
          -2.100000150257667,
          0.009339658366574608,
          0.8287786597089081,
          1.2833055952013062,
          -1.496465351669501,
          1.2761327051888596,
          1.043655013573199,
          0.855487414665308,
          -0.8476340996868025,
          0.26347512479457813,
          0.4011580499389762,
          -0.09701898207167933,
          1.6230181023827688,
          0.13087767392325128,
          0.5095499877944312,
          0.29034625114566504,
          -0.902521319104472,
          -1.419482626536593,
          0.010738250205630254,
          0.7283604441108407,
          -0.0978776864877819,
          0.34809364096192125,
          -1.2112227513306653,
          0.5684460079000437,
          0.46677193636088526,
          -0.5411675858699438
         ]
        }
       ],
       "layout": {
        "autosize": true,
        "template": {
         "data": {
          "bar": [
           {
            "error_x": {
             "color": "#2a3f5f"
            },
            "error_y": {
             "color": "#2a3f5f"
            },
            "marker": {
             "line": {
              "color": "#E5ECF6",
              "width": 0.5
             }
            },
            "type": "bar"
           }
          ],
          "barpolar": [
           {
            "marker": {
             "line": {
              "color": "#E5ECF6",
              "width": 0.5
             }
            },
            "type": "barpolar"
           }
          ],
          "carpet": [
           {
            "aaxis": {
             "endlinecolor": "#2a3f5f",
             "gridcolor": "white",
             "linecolor": "white",
             "minorgridcolor": "white",
             "startlinecolor": "#2a3f5f"
            },
            "baxis": {
             "endlinecolor": "#2a3f5f",
             "gridcolor": "white",
             "linecolor": "white",
             "minorgridcolor": "white",
             "startlinecolor": "#2a3f5f"
            },
            "type": "carpet"
           }
          ],
          "choropleth": [
           {
            "colorbar": {
             "outlinewidth": 0,
             "ticks": ""
            },
            "type": "choropleth"
           }
          ],
          "contour": [
           {
            "colorbar": {
             "outlinewidth": 0,
             "ticks": ""
            },
            "colorscale": [
             [
              0,
              "#0d0887"
             ],
             [
              0.1111111111111111,
              "#46039f"
             ],
             [
              0.2222222222222222,
              "#7201a8"
             ],
             [
              0.3333333333333333,
              "#9c179e"
             ],
             [
              0.4444444444444444,
              "#bd3786"
             ],
             [
              0.5555555555555556,
              "#d8576b"
             ],
             [
              0.6666666666666666,
              "#ed7953"
             ],
             [
              0.7777777777777778,
              "#fb9f3a"
             ],
             [
              0.8888888888888888,
              "#fdca26"
             ],
             [
              1,
              "#f0f921"
             ]
            ],
            "type": "contour"
           }
          ],
          "contourcarpet": [
           {
            "colorbar": {
             "outlinewidth": 0,
             "ticks": ""
            },
            "type": "contourcarpet"
           }
          ],
          "heatmap": [
           {
            "colorbar": {
             "outlinewidth": 0,
             "ticks": ""
            },
            "colorscale": [
             [
              0,
              "#0d0887"
             ],
             [
              0.1111111111111111,
              "#46039f"
             ],
             [
              0.2222222222222222,
              "#7201a8"
             ],
             [
              0.3333333333333333,
              "#9c179e"
             ],
             [
              0.4444444444444444,
              "#bd3786"
             ],
             [
              0.5555555555555556,
              "#d8576b"
             ],
             [
              0.6666666666666666,
              "#ed7953"
             ],
             [
              0.7777777777777778,
              "#fb9f3a"
             ],
             [
              0.8888888888888888,
              "#fdca26"
             ],
             [
              1,
              "#f0f921"
             ]
            ],
            "type": "heatmap"
           }
          ],
          "heatmapgl": [
           {
            "colorbar": {
             "outlinewidth": 0,
             "ticks": ""
            },
            "colorscale": [
             [
              0,
              "#0d0887"
             ],
             [
              0.1111111111111111,
              "#46039f"
             ],
             [
              0.2222222222222222,
              "#7201a8"
             ],
             [
              0.3333333333333333,
              "#9c179e"
             ],
             [
              0.4444444444444444,
              "#bd3786"
             ],
             [
              0.5555555555555556,
              "#d8576b"
             ],
             [
              0.6666666666666666,
              "#ed7953"
             ],
             [
              0.7777777777777778,
              "#fb9f3a"
             ],
             [
              0.8888888888888888,
              "#fdca26"
             ],
             [
              1,
              "#f0f921"
             ]
            ],
            "type": "heatmapgl"
           }
          ],
          "histogram": [
           {
            "marker": {
             "colorbar": {
              "outlinewidth": 0,
              "ticks": ""
             }
            },
            "type": "histogram"
           }
          ],
          "histogram2d": [
           {
            "colorbar": {
             "outlinewidth": 0,
             "ticks": ""
            },
            "colorscale": [
             [
              0,
              "#0d0887"
             ],
             [
              0.1111111111111111,
              "#46039f"
             ],
             [
              0.2222222222222222,
              "#7201a8"
             ],
             [
              0.3333333333333333,
              "#9c179e"
             ],
             [
              0.4444444444444444,
              "#bd3786"
             ],
             [
              0.5555555555555556,
              "#d8576b"
             ],
             [
              0.6666666666666666,
              "#ed7953"
             ],
             [
              0.7777777777777778,
              "#fb9f3a"
             ],
             [
              0.8888888888888888,
              "#fdca26"
             ],
             [
              1,
              "#f0f921"
             ]
            ],
            "type": "histogram2d"
           }
          ],
          "histogram2dcontour": [
           {
            "colorbar": {
             "outlinewidth": 0,
             "ticks": ""
            },
            "colorscale": [
             [
              0,
              "#0d0887"
             ],
             [
              0.1111111111111111,
              "#46039f"
             ],
             [
              0.2222222222222222,
              "#7201a8"
             ],
             [
              0.3333333333333333,
              "#9c179e"
             ],
             [
              0.4444444444444444,
              "#bd3786"
             ],
             [
              0.5555555555555556,
              "#d8576b"
             ],
             [
              0.6666666666666666,
              "#ed7953"
             ],
             [
              0.7777777777777778,
              "#fb9f3a"
             ],
             [
              0.8888888888888888,
              "#fdca26"
             ],
             [
              1,
              "#f0f921"
             ]
            ],
            "type": "histogram2dcontour"
           }
          ],
          "mesh3d": [
           {
            "colorbar": {
             "outlinewidth": 0,
             "ticks": ""
            },
            "type": "mesh3d"
           }
          ],
          "parcoords": [
           {
            "line": {
             "colorbar": {
              "outlinewidth": 0,
              "ticks": ""
             }
            },
            "type": "parcoords"
           }
          ],
          "pie": [
           {
            "automargin": true,
            "type": "pie"
           }
          ],
          "scatter": [
           {
            "marker": {
             "colorbar": {
              "outlinewidth": 0,
              "ticks": ""
             }
            },
            "type": "scatter"
           }
          ],
          "scatter3d": [
           {
            "line": {
             "colorbar": {
              "outlinewidth": 0,
              "ticks": ""
             }
            },
            "marker": {
             "colorbar": {
              "outlinewidth": 0,
              "ticks": ""
             }
            },
            "type": "scatter3d"
           }
          ],
          "scattercarpet": [
           {
            "marker": {
             "colorbar": {
              "outlinewidth": 0,
              "ticks": ""
             }
            },
            "type": "scattercarpet"
           }
          ],
          "scattergeo": [
           {
            "marker": {
             "colorbar": {
              "outlinewidth": 0,
              "ticks": ""
             }
            },
            "type": "scattergeo"
           }
          ],
          "scattergl": [
           {
            "marker": {
             "colorbar": {
              "outlinewidth": 0,
              "ticks": ""
             }
            },
            "type": "scattergl"
           }
          ],
          "scattermapbox": [
           {
            "marker": {
             "colorbar": {
              "outlinewidth": 0,
              "ticks": ""
             }
            },
            "type": "scattermapbox"
           }
          ],
          "scatterpolar": [
           {
            "marker": {
             "colorbar": {
              "outlinewidth": 0,
              "ticks": ""
             }
            },
            "type": "scatterpolar"
           }
          ],
          "scatterpolargl": [
           {
            "marker": {
             "colorbar": {
              "outlinewidth": 0,
              "ticks": ""
             }
            },
            "type": "scatterpolargl"
           }
          ],
          "scatterternary": [
           {
            "marker": {
             "colorbar": {
              "outlinewidth": 0,
              "ticks": ""
             }
            },
            "type": "scatterternary"
           }
          ],
          "surface": [
           {
            "colorbar": {
             "outlinewidth": 0,
             "ticks": ""
            },
            "colorscale": [
             [
              0,
              "#0d0887"
             ],
             [
              0.1111111111111111,
              "#46039f"
             ],
             [
              0.2222222222222222,
              "#7201a8"
             ],
             [
              0.3333333333333333,
              "#9c179e"
             ],
             [
              0.4444444444444444,
              "#bd3786"
             ],
             [
              0.5555555555555556,
              "#d8576b"
             ],
             [
              0.6666666666666666,
              "#ed7953"
             ],
             [
              0.7777777777777778,
              "#fb9f3a"
             ],
             [
              0.8888888888888888,
              "#fdca26"
             ],
             [
              1,
              "#f0f921"
             ]
            ],
            "type": "surface"
           }
          ],
          "table": [
           {
            "cells": {
             "fill": {
              "color": "#EBF0F8"
             },
             "line": {
              "color": "white"
             }
            },
            "header": {
             "fill": {
              "color": "#C8D4E3"
             },
             "line": {
              "color": "white"
             }
            },
            "type": "table"
           }
          ]
         },
         "layout": {
          "annotationdefaults": {
           "arrowcolor": "#2a3f5f",
           "arrowhead": 0,
           "arrowwidth": 1
          },
          "coloraxis": {
           "colorbar": {
            "outlinewidth": 0,
            "ticks": ""
           }
          },
          "colorscale": {
           "diverging": [
            [
             0,
             "#8e0152"
            ],
            [
             0.1,
             "#c51b7d"
            ],
            [
             0.2,
             "#de77ae"
            ],
            [
             0.3,
             "#f1b6da"
            ],
            [
             0.4,
             "#fde0ef"
            ],
            [
             0.5,
             "#f7f7f7"
            ],
            [
             0.6,
             "#e6f5d0"
            ],
            [
             0.7,
             "#b8e186"
            ],
            [
             0.8,
             "#7fbc41"
            ],
            [
             0.9,
             "#4d9221"
            ],
            [
             1,
             "#276419"
            ]
           ],
           "sequential": [
            [
             0,
             "#0d0887"
            ],
            [
             0.1111111111111111,
             "#46039f"
            ],
            [
             0.2222222222222222,
             "#7201a8"
            ],
            [
             0.3333333333333333,
             "#9c179e"
            ],
            [
             0.4444444444444444,
             "#bd3786"
            ],
            [
             0.5555555555555556,
             "#d8576b"
            ],
            [
             0.6666666666666666,
             "#ed7953"
            ],
            [
             0.7777777777777778,
             "#fb9f3a"
            ],
            [
             0.8888888888888888,
             "#fdca26"
            ],
            [
             1,
             "#f0f921"
            ]
           ],
           "sequentialminus": [
            [
             0,
             "#0d0887"
            ],
            [
             0.1111111111111111,
             "#46039f"
            ],
            [
             0.2222222222222222,
             "#7201a8"
            ],
            [
             0.3333333333333333,
             "#9c179e"
            ],
            [
             0.4444444444444444,
             "#bd3786"
            ],
            [
             0.5555555555555556,
             "#d8576b"
            ],
            [
             0.6666666666666666,
             "#ed7953"
            ],
            [
             0.7777777777777778,
             "#fb9f3a"
            ],
            [
             0.8888888888888888,
             "#fdca26"
            ],
            [
             1,
             "#f0f921"
            ]
           ]
          },
          "colorway": [
           "#636efa",
           "#EF553B",
           "#00cc96",
           "#ab63fa",
           "#FFA15A",
           "#19d3f3",
           "#FF6692",
           "#B6E880",
           "#FF97FF",
           "#FECB52"
          ],
          "font": {
           "color": "#2a3f5f"
          },
          "geo": {
           "bgcolor": "white",
           "lakecolor": "white",
           "landcolor": "#E5ECF6",
           "showlakes": true,
           "showland": true,
           "subunitcolor": "white"
          },
          "hoverlabel": {
           "align": "left"
          },
          "hovermode": "closest",
          "mapbox": {
           "style": "light"
          },
          "paper_bgcolor": "white",
          "plot_bgcolor": "#E5ECF6",
          "polar": {
           "angularaxis": {
            "gridcolor": "white",
            "linecolor": "white",
            "ticks": ""
           },
           "bgcolor": "#E5ECF6",
           "radialaxis": {
            "gridcolor": "white",
            "linecolor": "white",
            "ticks": ""
           }
          },
          "scene": {
           "xaxis": {
            "backgroundcolor": "#E5ECF6",
            "gridcolor": "white",
            "gridwidth": 2,
            "linecolor": "white",
            "showbackground": true,
            "ticks": "",
            "zerolinecolor": "white"
           },
           "yaxis": {
            "backgroundcolor": "#E5ECF6",
            "gridcolor": "white",
            "gridwidth": 2,
            "linecolor": "white",
            "showbackground": true,
            "ticks": "",
            "zerolinecolor": "white"
           },
           "zaxis": {
            "backgroundcolor": "#E5ECF6",
            "gridcolor": "white",
            "gridwidth": 2,
            "linecolor": "white",
            "showbackground": true,
            "ticks": "",
            "zerolinecolor": "white"
           }
          },
          "shapedefaults": {
           "line": {
            "color": "#2a3f5f"
           }
          },
          "ternary": {
           "aaxis": {
            "gridcolor": "white",
            "linecolor": "white",
            "ticks": ""
           },
           "baxis": {
            "gridcolor": "white",
            "linecolor": "white",
            "ticks": ""
           },
           "bgcolor": "#E5ECF6",
           "caxis": {
            "gridcolor": "white",
            "linecolor": "white",
            "ticks": ""
           }
          },
          "title": {
           "x": 0.05
          },
          "xaxis": {
           "automargin": true,
           "gridcolor": "white",
           "linecolor": "white",
           "ticks": "",
           "title": {
            "standoff": 15
           },
           "zerolinecolor": "white",
           "zerolinewidth": 2
          },
          "yaxis": {
           "automargin": true,
           "gridcolor": "white",
           "linecolor": "white",
           "ticks": "",
           "title": {
            "standoff": 15
           },
           "zerolinecolor": "white",
           "zerolinewidth": 2
          }
         }
        },
        "xaxis": {
         "autorange": true,
         "range": [
          -2.5,
          3
         ],
         "type": "linear"
        },
        "yaxis": {
         "autorange": true,
         "range": [
          0,
          0.2368421052631579
         ]
        }
       }
      },
      "image/png": "[encoded data removed]",
      "text/html": [
       "<div>\n",
       "        \n",
       "        \n",
       "            <div id=\"e0191aa0-4cc4-4afa-8c04-54692c167b8e\" class=\"plotly-graph-div\" style=\"height:525px; width:100%;\"></div>\n",
       "            <script type=\"text/javascript\">\n",
       "                require([\"plotly\"], function(Plotly) {\n",
       "                    window.PLOTLYENV=window.PLOTLYENV || {};\n",
       "                    \n",
       "                if (document.getElementById(\"e0191aa0-4cc4-4afa-8c04-54692c167b8e\")) {\n",
       "                    Plotly.newPlot(\n",
       "                        'e0191aa0-4cc4-4afa-8c04-54692c167b8e',\n",
       "                        [{\"histnorm\": \"probability\", \"type\": \"histogram\", \"x\": [0.14689844764223606, -0.6339926865663986, -0.6754752284511096, -0.09395704333226904, 1.8305654902366273, -0.9484957226295377, -0.7779516465847378, 1.371915366052889, -0.16869236314394773, 0.4101571709677264, -0.46265237764029377, 0.9127954044553713, -0.7737419034629791, 2.964573155645736, -1.1152426828016242, 1.3029541863119787, 0.3354552314269626, -0.24693265985961751, 1.1731391286294313, -1.6433739332770272, -0.08412586742636989, 0.6028467479572093, -0.7021278956474523, -0.6067765571800232, -0.7856857292221526, -1.2920671350983983, -0.36853059794842247, -0.23262138148316577, 1.4938338194321756, 0.2519960621830859, -0.2719535864612855, 0.1399992274718262, 0.014448003236294069, 0.26043201878494937, -0.14404667082258835, 0.3398601275508795, 0.18732449386913663, 0.5740111495580108, 0.44875349050602226, -0.7209780229618249, -1.0455278945622366, -0.46934566387414156, 0.5400818677424064, 1.3618794423652827, -0.3847249908132002, 0.29105455646528483, -0.4729106463621695, 1.4331534397908157, 0.6048674570978158, -0.6692155028782203, 0.3810769827458004, -2.071862794956133, 0.7079833436130649, -0.16779739903894153, 1.2755712240475114, -0.027649299019883083, -0.8656207215264026, -1.5222741770663037, -1.008178558719683, 1.363351312588568, 0.5334457428654512, -1.9638436125646415, -1.0792799439759846, -0.11368276076723223, -1.2786381094498906, 1.0597962783830506, -1.1382699532882974, -1.6154771387816327, -0.7470217762785318, -0.12679311130460022, -0.3106073565165106, 1.3037252966025188, 1.605903939883664, 0.4058776315030546, -0.8801863000427621, 1.057238811794025, 1.35533896955396, -1.239251228860427, 0.28487841937729164, 0.5815882954335735, -1.0576202148012472, 1.3770802373391495, 1.3493752636894782, -1.0174895813074372, 0.32148604795753516, 0.5345362619943567, -0.3484950589582768, 0.8650825793344747, -0.40360196624011335, -0.9798368600703496, 0.6190861143927495, 0.24598855226123534, 0.8773626024335781, 0.9059670639269827, 0.26753558407591194, 0.5953151713807423, 1.1221479684676399, 0.43808777479106314, 0.14159289350524926, -0.6113326667087595, -1.6970997701058523, 0.8533715483188693, -0.5747702703576621, 1.7201028252829094, 0.36374019996621, -0.9198393513289724, -0.4511149942717769, 1.7314168644925394, -1.2474828322527984, -1.135821937530349, 0.6503122356581764, 0.8680714560868139, -1.280722932305824, 0.4802178213352635, -1.5344253806138421, -0.05523921560353476, -0.5264521864493562, 1.8377964830027715, -0.4772998467035594, -0.5457135088474834, -0.5774139187400962, -1.7273630745782, -0.012650778681243284, 0.12220977416772225, -0.46308591695819273, -0.48551666490485607, 1.0286219318481407, -1.5314711897812503, 0.3139712322672219, 0.2230101642463284, 0.12305184690435672, 2.3821598597555242, -0.5722678586905098, 0.1623197415865508, -0.9210456643106257, -0.5511129957766856, -1.6164114527259323, 0.9088053998632372, 0.16896280897881735, 1.3709276075049865, 0.38075423070562486, 0.06720303492506166, 0.22343979175101147, -1.905056632725822, -0.11395150095313604, 0.08717103810820638, 1.9620450828919764, 0.22909619612892454, -1.4238880049541949, 0.9840930668156201, -0.6814898168516695, -0.4396295376064955, -0.9621365669715576, -1.2112981448378257, 0.1897670445683597, -0.24168427292828643, 0.6481780587120058, 0.10181758209302914, 0.6094621199865919, 0.06440195082742389, -0.051821325566759883, -0.286803843363443, 1.5091397816733043, 1.1612070959863974, 1.1124061894738206, 0.06602599691460091, 0.44608660130360495, -1.201618700616783, -0.8053801795997612, -1.7262938193313766, -0.20802018756440235, -0.8888930317561924, 0.6805877607021252, 0.9299220877630004, -2.100000150257667, 0.009339658366574608, 0.8287786597089081, 1.2833055952013062, -1.496465351669501, 1.2761327051888596, 1.043655013573199, 0.855487414665308, -0.8476340996868025, 0.26347512479457813, 0.4011580499389762, -0.09701898207167933, 1.6230181023827688, 0.13087767392325128, 0.5095499877944312, 0.29034625114566504, -0.902521319104472, -1.419482626536593, 0.010738250205630254, 0.7283604441108407, -0.0978776864877819, 0.34809364096192125, -1.2112227513306653, 0.5684460079000437, 0.46677193636088526, -0.5411675858699438]}],\n",
       "                        {\"template\": {\"data\": {\"bar\": [{\"error_x\": {\"color\": \"#2a3f5f\"}, \"error_y\": {\"color\": \"#2a3f5f\"}, \"marker\": {\"line\": {\"color\": \"#E5ECF6\", \"width\": 0.5}}, \"type\": \"bar\"}], \"barpolar\": [{\"marker\": {\"line\": {\"color\": \"#E5ECF6\", \"width\": 0.5}}, \"type\": \"barpolar\"}], \"carpet\": [{\"aaxis\": {\"endlinecolor\": \"#2a3f5f\", \"gridcolor\": \"white\", \"linecolor\": \"white\", \"minorgridcolor\": \"white\", \"startlinecolor\": \"#2a3f5f\"}, \"baxis\": {\"endlinecolor\": \"#2a3f5f\", \"gridcolor\": \"white\", \"linecolor\": \"white\", \"minorgridcolor\": \"white\", \"startlinecolor\": \"#2a3f5f\"}, \"type\": \"carpet\"}], \"choropleth\": [{\"colorbar\": {\"outlinewidth\": 0, \"ticks\": \"\"}, \"type\": \"choropleth\"}], \"contour\": [{\"colorbar\": {\"outlinewidth\": 0, \"ticks\": \"\"}, \"colorscale\": [[0.0, \"#0d0887\"], [0.1111111111111111, \"#46039f\"], [0.2222222222222222, \"#7201a8\"], [0.3333333333333333, \"#9c179e\"], [0.4444444444444444, \"#bd3786\"], [0.5555555555555556, \"#d8576b\"], [0.6666666666666666, \"#ed7953\"], [0.7777777777777778, \"#fb9f3a\"], [0.8888888888888888, \"#fdca26\"], [1.0, \"#f0f921\"]], \"type\": \"contour\"}], \"contourcarpet\": [{\"colorbar\": {\"outlinewidth\": 0, \"ticks\": \"\"}, \"type\": \"contourcarpet\"}], \"heatmap\": [{\"colorbar\": {\"outlinewidth\": 0, \"ticks\": \"\"}, \"colorscale\": [[0.0, \"#0d0887\"], [0.1111111111111111, \"#46039f\"], [0.2222222222222222, \"#7201a8\"], [0.3333333333333333, \"#9c179e\"], [0.4444444444444444, \"#bd3786\"], [0.5555555555555556, \"#d8576b\"], [0.6666666666666666, \"#ed7953\"], [0.7777777777777778, \"#fb9f3a\"], [0.8888888888888888, \"#fdca26\"], [1.0, \"#f0f921\"]], \"type\": \"heatmap\"}], \"heatmapgl\": [{\"colorbar\": {\"outlinewidth\": 0, \"ticks\": \"\"}, \"colorscale\": [[0.0, \"#0d0887\"], [0.1111111111111111, \"#46039f\"], [0.2222222222222222, \"#7201a8\"], [0.3333333333333333, \"#9c179e\"], [0.4444444444444444, \"#bd3786\"], [0.5555555555555556, \"#d8576b\"], [0.6666666666666666, \"#ed7953\"], [0.7777777777777778, \"#fb9f3a\"], [0.8888888888888888, \"#fdca26\"], [1.0, \"#f0f921\"]], \"type\": \"heatmapgl\"}], \"histogram\": [{\"marker\": {\"colorbar\": {\"outlinewidth\": 0, \"ticks\": \"\"}}, \"type\": \"histogram\"}], \"histogram2d\": [{\"colorbar\": {\"outlinewidth\": 0, \"ticks\": \"\"}, \"colorscale\": [[0.0, \"#0d0887\"], [0.1111111111111111, \"#46039f\"], [0.2222222222222222, \"#7201a8\"], [0.3333333333333333, \"#9c179e\"], [0.4444444444444444, \"#bd3786\"], [0.5555555555555556, \"#d8576b\"], [0.6666666666666666, \"#ed7953\"], [0.7777777777777778, \"#fb9f3a\"], [0.8888888888888888, \"#fdca26\"], [1.0, \"#f0f921\"]], \"type\": \"histogram2d\"}], \"histogram2dcontour\": [{\"colorbar\": {\"outlinewidth\": 0, \"ticks\": \"\"}, \"colorscale\": [[0.0, \"#0d0887\"], [0.1111111111111111, \"#46039f\"], [0.2222222222222222, \"#7201a8\"], [0.3333333333333333, \"#9c179e\"], [0.4444444444444444, \"#bd3786\"], [0.5555555555555556, \"#d8576b\"], [0.6666666666666666, \"#ed7953\"], [0.7777777777777778, \"#fb9f3a\"], [0.8888888888888888, \"#fdca26\"], [1.0, \"#f0f921\"]], \"type\": \"histogram2dcontour\"}], \"mesh3d\": [{\"colorbar\": {\"outlinewidth\": 0, \"ticks\": \"\"}, \"type\": \"mesh3d\"}], \"parcoords\": [{\"line\": {\"colorbar\": {\"outlinewidth\": 0, \"ticks\": \"\"}}, \"type\": \"parcoords\"}], \"pie\": [{\"automargin\": true, \"type\": \"pie\"}], \"scatter\": [{\"marker\": {\"colorbar\": {\"outlinewidth\": 0, \"ticks\": \"\"}}, \"type\": \"scatter\"}], \"scatter3d\": [{\"line\": {\"colorbar\": {\"outlinewidth\": 0, \"ticks\": \"\"}}, \"marker\": {\"colorbar\": {\"outlinewidth\": 0, \"ticks\": \"\"}}, \"type\": \"scatter3d\"}], \"scattercarpet\": [{\"marker\": {\"colorbar\": {\"outlinewidth\": 0, \"ticks\": \"\"}}, \"type\": \"scattercarpet\"}], \"scattergeo\": [{\"marker\": {\"colorbar\": {\"outlinewidth\": 0, \"ticks\": \"\"}}, \"type\": \"scattergeo\"}], \"scattergl\": [{\"marker\": {\"colorbar\": {\"outlinewidth\": 0, \"ticks\": \"\"}}, \"type\": \"scattergl\"}], \"scattermapbox\": [{\"marker\": {\"colorbar\": {\"outlinewidth\": 0, \"ticks\": \"\"}}, \"type\": \"scattermapbox\"}], \"scatterpolar\": [{\"marker\": {\"colorbar\": {\"outlinewidth\": 0, \"ticks\": \"\"}}, \"type\": \"scatterpolar\"}], \"scatterpolargl\": [{\"marker\": {\"colorbar\": {\"outlinewidth\": 0, \"ticks\": \"\"}}, \"type\": \"scatterpolargl\"}], \"scatterternary\": [{\"marker\": {\"colorbar\": {\"outlinewidth\": 0, \"ticks\": \"\"}}, \"type\": \"scatterternary\"}], \"surface\": [{\"colorbar\": {\"outlinewidth\": 0, \"ticks\": \"\"}, \"colorscale\": [[0.0, \"#0d0887\"], [0.1111111111111111, \"#46039f\"], [0.2222222222222222, \"#7201a8\"], [0.3333333333333333, \"#9c179e\"], [0.4444444444444444, \"#bd3786\"], [0.5555555555555556, \"#d8576b\"], [0.6666666666666666, \"#ed7953\"], [0.7777777777777778, \"#fb9f3a\"], [0.8888888888888888, \"#fdca26\"], [1.0, \"#f0f921\"]], \"type\": \"surface\"}], \"table\": [{\"cells\": {\"fill\": {\"color\": \"#EBF0F8\"}, \"line\": {\"color\": \"white\"}}, \"header\": {\"fill\": {\"color\": \"#C8D4E3\"}, \"line\": {\"color\": \"white\"}}, \"type\": \"table\"}]}, \"layout\": {\"annotationdefaults\": {\"arrowcolor\": \"#2a3f5f\", \"arrowhead\": 0, \"arrowwidth\": 1}, \"coloraxis\": {\"colorbar\": {\"outlinewidth\": 0, \"ticks\": \"\"}}, \"colorscale\": {\"diverging\": [[0, \"#8e0152\"], [0.1, \"#c51b7d\"], [0.2, \"#de77ae\"], [0.3, \"#f1b6da\"], [0.4, \"#fde0ef\"], [0.5, \"#f7f7f7\"], [0.6, \"#e6f5d0\"], [0.7, \"#b8e186\"], [0.8, \"#7fbc41\"], [0.9, \"#4d9221\"], [1, \"#276419\"]], \"sequential\": [[0.0, \"#0d0887\"], [0.1111111111111111, \"#46039f\"], [0.2222222222222222, \"#7201a8\"], [0.3333333333333333, \"#9c179e\"], [0.4444444444444444, \"#bd3786\"], [0.5555555555555556, \"#d8576b\"], [0.6666666666666666, \"#ed7953\"], [0.7777777777777778, \"#fb9f3a\"], [0.8888888888888888, \"#fdca26\"], [1.0, \"#f0f921\"]], \"sequentialminus\": [[0.0, \"#0d0887\"], [0.1111111111111111, \"#46039f\"], [0.2222222222222222, \"#7201a8\"], [0.3333333333333333, \"#9c179e\"], [0.4444444444444444, \"#bd3786\"], [0.5555555555555556, \"#d8576b\"], [0.6666666666666666, \"#ed7953\"], [0.7777777777777778, \"#fb9f3a\"], [0.8888888888888888, \"#fdca26\"], [1.0, \"#f0f921\"]]}, \"colorway\": [\"#636efa\", \"#EF553B\", \"#00cc96\", \"#ab63fa\", \"#FFA15A\", \"#19d3f3\", \"#FF6692\", \"#B6E880\", \"#FF97FF\", \"#FECB52\"], \"font\": {\"color\": \"#2a3f5f\"}, \"geo\": {\"bgcolor\": \"white\", \"lakecolor\": \"white\", \"landcolor\": \"#E5ECF6\", \"showlakes\": true, \"showland\": true, \"subunitcolor\": \"white\"}, \"hoverlabel\": {\"align\": \"left\"}, \"hovermode\": \"closest\", \"mapbox\": {\"style\": \"light\"}, \"paper_bgcolor\": \"white\", \"plot_bgcolor\": \"#E5ECF6\", \"polar\": {\"angularaxis\": {\"gridcolor\": \"white\", \"linecolor\": \"white\", \"ticks\": \"\"}, \"bgcolor\": \"#E5ECF6\", \"radialaxis\": {\"gridcolor\": \"white\", \"linecolor\": \"white\", \"ticks\": \"\"}}, \"scene\": {\"xaxis\": {\"backgroundcolor\": \"#E5ECF6\", \"gridcolor\": \"white\", \"gridwidth\": 2, \"linecolor\": \"white\", \"showbackground\": true, \"ticks\": \"\", \"zerolinecolor\": \"white\"}, \"yaxis\": {\"backgroundcolor\": \"#E5ECF6\", \"gridcolor\": \"white\", \"gridwidth\": 2, \"linecolor\": \"white\", \"showbackground\": true, \"ticks\": \"\", \"zerolinecolor\": \"white\"}, \"zaxis\": {\"backgroundcolor\": \"#E5ECF6\", \"gridcolor\": \"white\", \"gridwidth\": 2, \"linecolor\": \"white\", \"showbackground\": true, \"ticks\": \"\", \"zerolinecolor\": \"white\"}}, \"shapedefaults\": {\"line\": {\"color\": \"#2a3f5f\"}}, \"ternary\": {\"aaxis\": {\"gridcolor\": \"white\", \"linecolor\": \"white\", \"ticks\": \"\"}, \"baxis\": {\"gridcolor\": \"white\", \"linecolor\": \"white\", \"ticks\": \"\"}, \"bgcolor\": \"#E5ECF6\", \"caxis\": {\"gridcolor\": \"white\", \"linecolor\": \"white\", \"ticks\": \"\"}}, \"title\": {\"x\": 0.05}, \"xaxis\": {\"automargin\": true, \"gridcolor\": \"white\", \"linecolor\": \"white\", \"ticks\": \"\", \"title\": {\"standoff\": 15}, \"zerolinecolor\": \"white\", \"zerolinewidth\": 2}, \"yaxis\": {\"automargin\": true, \"gridcolor\": \"white\", \"linecolor\": \"white\", \"ticks\": \"\", \"title\": {\"standoff\": 15}, \"zerolinecolor\": \"white\", \"zerolinewidth\": 2}}}},\n",
       "                        {\"responsive\": true}\n",
       "                    ).then(function(){\n",
       "                            \n",
       "var gd = document.getElementById('e0191aa0-4cc4-4afa-8c04-54692c167b8e');\n",
       "var x = new MutationObserver(function (mutations, observer) {{\n",
       "        var display = window.getComputedStyle(gd).display;\n",
       "        if (!display || display === 'none') {{\n",
       "            console.log([gd, 'removed!']);\n",
       "            Plotly.purge(gd);\n",
       "            observer.disconnect();\n",
       "        }}\n",
       "}});\n",
       "\n",
       "// Listen for the removal of the full notebook cells\n",
       "var notebookContainer = gd.closest('#notebook-container');\n",
       "if (notebookContainer) {{\n",
       "    x.observe(notebookContainer, {childList: true});\n",
       "}}\n",
       "\n",
       "// Listen for the clearing of the current output cell\n",
       "var outputEl = gd.closest('.output');\n",
       "if (outputEl) {{\n",
       "    x.observe(outputEl, {childList: true});\n",
       "}}\n",
       "\n",
       "                        })\n",
       "                };\n",
       "                });\n",
       "            </script>\n",
       "        </div>"
      ]
     },
     "metadata": {},
     "output_type": "display_data"
    }
   ],
   "source": [
    "hist =  go.Histogram(x = random_numbers, histnorm = 'probability') # by default histnorm = frequency of data points are plotted on y-axis\n",
    "data = [hist]\n",
    "offline.iplot(data)\n",
    "# Here there is 0.2 probability which ranges from 0 to 0.5 plotted on y-axis"
   ]
  },
  {
   "cell_type": "markdown",
   "metadata": {},
   "source": [
    "Cumulative histograms include data points from all previous ranges in each bin - the bars are monotonically increasing"
   ]
  },
  {
   "cell_type": "code",
   "execution_count": 5,
   "metadata": {},
   "outputs": [
    {
     "data": {
      "application/vnd.plotly.v1+json": {
       "config": {
        "linkText": "Export to plot.ly",
        "plotlyServerURL": "https://plot.ly",
        "showLink": false
       },
       "data": [
        {
         "cumulative": {
          "enabled": true
         },
         "type": "histogram",
         "x": [
          0.14689844764223606,
          -0.6339926865663986,
          -0.6754752284511096,
          -0.09395704333226904,
          1.8305654902366273,
          -0.9484957226295377,
          -0.7779516465847378,
          1.371915366052889,
          -0.16869236314394773,
          0.4101571709677264,
          -0.46265237764029377,
          0.9127954044553713,
          -0.7737419034629791,
          2.964573155645736,
          -1.1152426828016242,
          1.3029541863119787,
          0.3354552314269626,
          -0.24693265985961751,
          1.1731391286294313,
          -1.6433739332770272,
          -0.08412586742636989,
          0.6028467479572093,
          -0.7021278956474523,
          -0.6067765571800232,
          -0.7856857292221526,
          -1.2920671350983983,
          -0.36853059794842247,
          -0.23262138148316577,
          1.4938338194321756,
          0.2519960621830859,
          -0.2719535864612855,
          0.1399992274718262,
          0.014448003236294069,
          0.26043201878494937,
          -0.14404667082258835,
          0.3398601275508795,
          0.18732449386913663,
          0.5740111495580108,
          0.44875349050602226,
          -0.7209780229618249,
          -1.0455278945622366,
          -0.46934566387414156,
          0.5400818677424064,
          1.3618794423652827,
          -0.3847249908132002,
          0.29105455646528483,
          -0.4729106463621695,
          1.4331534397908157,
          0.6048674570978158,
          -0.6692155028782203,
          0.3810769827458004,
          -2.071862794956133,
          0.7079833436130649,
          -0.16779739903894153,
          1.2755712240475114,
          -0.027649299019883083,
          -0.8656207215264026,
          -1.5222741770663037,
          -1.008178558719683,
          1.363351312588568,
          0.5334457428654512,
          -1.9638436125646415,
          -1.0792799439759846,
          -0.11368276076723223,
          -1.2786381094498906,
          1.0597962783830506,
          -1.1382699532882974,
          -1.6154771387816327,
          -0.7470217762785318,
          -0.12679311130460022,
          -0.3106073565165106,
          1.3037252966025188,
          1.605903939883664,
          0.4058776315030546,
          -0.8801863000427621,
          1.057238811794025,
          1.35533896955396,
          -1.239251228860427,
          0.28487841937729164,
          0.5815882954335735,
          -1.0576202148012472,
          1.3770802373391495,
          1.3493752636894782,
          -1.0174895813074372,
          0.32148604795753516,
          0.5345362619943567,
          -0.3484950589582768,
          0.8650825793344747,
          -0.40360196624011335,
          -0.9798368600703496,
          0.6190861143927495,
          0.24598855226123534,
          0.8773626024335781,
          0.9059670639269827,
          0.26753558407591194,
          0.5953151713807423,
          1.1221479684676399,
          0.43808777479106314,
          0.14159289350524926,
          -0.6113326667087595,
          -1.6970997701058523,
          0.8533715483188693,
          -0.5747702703576621,
          1.7201028252829094,
          0.36374019996621,
          -0.9198393513289724,
          -0.4511149942717769,
          1.7314168644925394,
          -1.2474828322527984,
          -1.135821937530349,
          0.6503122356581764,
          0.8680714560868139,
          -1.280722932305824,
          0.4802178213352635,
          -1.5344253806138421,
          -0.05523921560353476,
          -0.5264521864493562,
          1.8377964830027715,
          -0.4772998467035594,
          -0.5457135088474834,
          -0.5774139187400962,
          -1.7273630745782,
          -0.012650778681243284,
          0.12220977416772225,
          -0.46308591695819273,
          -0.48551666490485607,
          1.0286219318481407,
          -1.5314711897812503,
          0.3139712322672219,
          0.2230101642463284,
          0.12305184690435672,
          2.3821598597555242,
          -0.5722678586905098,
          0.1623197415865508,
          -0.9210456643106257,
          -0.5511129957766856,
          -1.6164114527259323,
          0.9088053998632372,
          0.16896280897881735,
          1.3709276075049865,
          0.38075423070562486,
          0.06720303492506166,
          0.22343979175101147,
          -1.905056632725822,
          -0.11395150095313604,
          0.08717103810820638,
          1.9620450828919764,
          0.22909619612892454,
          -1.4238880049541949,
          0.9840930668156201,
          -0.6814898168516695,
          -0.4396295376064955,
          -0.9621365669715576,
          -1.2112981448378257,
          0.1897670445683597,
          -0.24168427292828643,
          0.6481780587120058,
          0.10181758209302914,
          0.6094621199865919,
          0.06440195082742389,
          -0.051821325566759883,
          -0.286803843363443,
          1.5091397816733043,
          1.1612070959863974,
          1.1124061894738206,
          0.06602599691460091,
          0.44608660130360495,
          -1.201618700616783,
          -0.8053801795997612,
          -1.7262938193313766,
          -0.20802018756440235,
          -0.8888930317561924,
          0.6805877607021252,
          0.9299220877630004,
          -2.100000150257667,
          0.009339658366574608,
          0.8287786597089081,
          1.2833055952013062,
          -1.496465351669501,
          1.2761327051888596,
          1.043655013573199,
          0.855487414665308,
          -0.8476340996868025,
          0.26347512479457813,
          0.4011580499389762,
          -0.09701898207167933,
          1.6230181023827688,
          0.13087767392325128,
          0.5095499877944312,
          0.29034625114566504,
          -0.902521319104472,
          -1.419482626536593,
          0.010738250205630254,
          0.7283604441108407,
          -0.0978776864877819,
          0.34809364096192125,
          -1.2112227513306653,
          0.5684460079000437,
          0.46677193636088526,
          -0.5411675858699438
         ]
        }
       ],
       "layout": {
        "autosize": true,
        "template": {
         "data": {
          "bar": [
           {
            "error_x": {
             "color": "#2a3f5f"
            },
            "error_y": {
             "color": "#2a3f5f"
            },
            "marker": {
             "line": {
              "color": "#E5ECF6",
              "width": 0.5
             }
            },
            "type": "bar"
           }
          ],
          "barpolar": [
           {
            "marker": {
             "line": {
              "color": "#E5ECF6",
              "width": 0.5
             }
            },
            "type": "barpolar"
           }
          ],
          "carpet": [
           {
            "aaxis": {
             "endlinecolor": "#2a3f5f",
             "gridcolor": "white",
             "linecolor": "white",
             "minorgridcolor": "white",
             "startlinecolor": "#2a3f5f"
            },
            "baxis": {
             "endlinecolor": "#2a3f5f",
             "gridcolor": "white",
             "linecolor": "white",
             "minorgridcolor": "white",
             "startlinecolor": "#2a3f5f"
            },
            "type": "carpet"
           }
          ],
          "choropleth": [
           {
            "colorbar": {
             "outlinewidth": 0,
             "ticks": ""
            },
            "type": "choropleth"
           }
          ],
          "contour": [
           {
            "colorbar": {
             "outlinewidth": 0,
             "ticks": ""
            },
            "colorscale": [
             [
              0,
              "#0d0887"
             ],
             [
              0.1111111111111111,
              "#46039f"
             ],
             [
              0.2222222222222222,
              "#7201a8"
             ],
             [
              0.3333333333333333,
              "#9c179e"
             ],
             [
              0.4444444444444444,
              "#bd3786"
             ],
             [
              0.5555555555555556,
              "#d8576b"
             ],
             [
              0.6666666666666666,
              "#ed7953"
             ],
             [
              0.7777777777777778,
              "#fb9f3a"
             ],
             [
              0.8888888888888888,
              "#fdca26"
             ],
             [
              1,
              "#f0f921"
             ]
            ],
            "type": "contour"
           }
          ],
          "contourcarpet": [
           {
            "colorbar": {
             "outlinewidth": 0,
             "ticks": ""
            },
            "type": "contourcarpet"
           }
          ],
          "heatmap": [
           {
            "colorbar": {
             "outlinewidth": 0,
             "ticks": ""
            },
            "colorscale": [
             [
              0,
              "#0d0887"
             ],
             [
              0.1111111111111111,
              "#46039f"
             ],
             [
              0.2222222222222222,
              "#7201a8"
             ],
             [
              0.3333333333333333,
              "#9c179e"
             ],
             [
              0.4444444444444444,
              "#bd3786"
             ],
             [
              0.5555555555555556,
              "#d8576b"
             ],
             [
              0.6666666666666666,
              "#ed7953"
             ],
             [
              0.7777777777777778,
              "#fb9f3a"
             ],
             [
              0.8888888888888888,
              "#fdca26"
             ],
             [
              1,
              "#f0f921"
             ]
            ],
            "type": "heatmap"
           }
          ],
          "heatmapgl": [
           {
            "colorbar": {
             "outlinewidth": 0,
             "ticks": ""
            },
            "colorscale": [
             [
              0,
              "#0d0887"
             ],
             [
              0.1111111111111111,
              "#46039f"
             ],
             [
              0.2222222222222222,
              "#7201a8"
             ],
             [
              0.3333333333333333,
              "#9c179e"
             ],
             [
              0.4444444444444444,
              "#bd3786"
             ],
             [
              0.5555555555555556,
              "#d8576b"
             ],
             [
              0.6666666666666666,
              "#ed7953"
             ],
             [
              0.7777777777777778,
              "#fb9f3a"
             ],
             [
              0.8888888888888888,
              "#fdca26"
             ],
             [
              1,
              "#f0f921"
             ]
            ],
            "type": "heatmapgl"
           }
          ],
          "histogram": [
           {
            "marker": {
             "colorbar": {
              "outlinewidth": 0,
              "ticks": ""
             }
            },
            "type": "histogram"
           }
          ],
          "histogram2d": [
           {
            "colorbar": {
             "outlinewidth": 0,
             "ticks": ""
            },
            "colorscale": [
             [
              0,
              "#0d0887"
             ],
             [
              0.1111111111111111,
              "#46039f"
             ],
             [
              0.2222222222222222,
              "#7201a8"
             ],
             [
              0.3333333333333333,
              "#9c179e"
             ],
             [
              0.4444444444444444,
              "#bd3786"
             ],
             [
              0.5555555555555556,
              "#d8576b"
             ],
             [
              0.6666666666666666,
              "#ed7953"
             ],
             [
              0.7777777777777778,
              "#fb9f3a"
             ],
             [
              0.8888888888888888,
              "#fdca26"
             ],
             [
              1,
              "#f0f921"
             ]
            ],
            "type": "histogram2d"
           }
          ],
          "histogram2dcontour": [
           {
            "colorbar": {
             "outlinewidth": 0,
             "ticks": ""
            },
            "colorscale": [
             [
              0,
              "#0d0887"
             ],
             [
              0.1111111111111111,
              "#46039f"
             ],
             [
              0.2222222222222222,
              "#7201a8"
             ],
             [
              0.3333333333333333,
              "#9c179e"
             ],
             [
              0.4444444444444444,
              "#bd3786"
             ],
             [
              0.5555555555555556,
              "#d8576b"
             ],
             [
              0.6666666666666666,
              "#ed7953"
             ],
             [
              0.7777777777777778,
              "#fb9f3a"
             ],
             [
              0.8888888888888888,
              "#fdca26"
             ],
             [
              1,
              "#f0f921"
             ]
            ],
            "type": "histogram2dcontour"
           }
          ],
          "mesh3d": [
           {
            "colorbar": {
             "outlinewidth": 0,
             "ticks": ""
            },
            "type": "mesh3d"
           }
          ],
          "parcoords": [
           {
            "line": {
             "colorbar": {
              "outlinewidth": 0,
              "ticks": ""
             }
            },
            "type": "parcoords"
           }
          ],
          "pie": [
           {
            "automargin": true,
            "type": "pie"
           }
          ],
          "scatter": [
           {
            "marker": {
             "colorbar": {
              "outlinewidth": 0,
              "ticks": ""
             }
            },
            "type": "scatter"
           }
          ],
          "scatter3d": [
           {
            "line": {
             "colorbar": {
              "outlinewidth": 0,
              "ticks": ""
             }
            },
            "marker": {
             "colorbar": {
              "outlinewidth": 0,
              "ticks": ""
             }
            },
            "type": "scatter3d"
           }
          ],
          "scattercarpet": [
           {
            "marker": {
             "colorbar": {
              "outlinewidth": 0,
              "ticks": ""
             }
            },
            "type": "scattercarpet"
           }
          ],
          "scattergeo": [
           {
            "marker": {
             "colorbar": {
              "outlinewidth": 0,
              "ticks": ""
             }
            },
            "type": "scattergeo"
           }
          ],
          "scattergl": [
           {
            "marker": {
             "colorbar": {
              "outlinewidth": 0,
              "ticks": ""
             }
            },
            "type": "scattergl"
           }
          ],
          "scattermapbox": [
           {
            "marker": {
             "colorbar": {
              "outlinewidth": 0,
              "ticks": ""
             }
            },
            "type": "scattermapbox"
           }
          ],
          "scatterpolar": [
           {
            "marker": {
             "colorbar": {
              "outlinewidth": 0,
              "ticks": ""
             }
            },
            "type": "scatterpolar"
           }
          ],
          "scatterpolargl": [
           {
            "marker": {
             "colorbar": {
              "outlinewidth": 0,
              "ticks": ""
             }
            },
            "type": "scatterpolargl"
           }
          ],
          "scatterternary": [
           {
            "marker": {
             "colorbar": {
              "outlinewidth": 0,
              "ticks": ""
             }
            },
            "type": "scatterternary"
           }
          ],
          "surface": [
           {
            "colorbar": {
             "outlinewidth": 0,
             "ticks": ""
            },
            "colorscale": [
             [
              0,
              "#0d0887"
             ],
             [
              0.1111111111111111,
              "#46039f"
             ],
             [
              0.2222222222222222,
              "#7201a8"
             ],
             [
              0.3333333333333333,
              "#9c179e"
             ],
             [
              0.4444444444444444,
              "#bd3786"
             ],
             [
              0.5555555555555556,
              "#d8576b"
             ],
             [
              0.6666666666666666,
              "#ed7953"
             ],
             [
              0.7777777777777778,
              "#fb9f3a"
             ],
             [
              0.8888888888888888,
              "#fdca26"
             ],
             [
              1,
              "#f0f921"
             ]
            ],
            "type": "surface"
           }
          ],
          "table": [
           {
            "cells": {
             "fill": {
              "color": "#EBF0F8"
             },
             "line": {
              "color": "white"
             }
            },
            "header": {
             "fill": {
              "color": "#C8D4E3"
             },
             "line": {
              "color": "white"
             }
            },
            "type": "table"
           }
          ]
         },
         "layout": {
          "annotationdefaults": {
           "arrowcolor": "#2a3f5f",
           "arrowhead": 0,
           "arrowwidth": 1
          },
          "coloraxis": {
           "colorbar": {
            "outlinewidth": 0,
            "ticks": ""
           }
          },
          "colorscale": {
           "diverging": [
            [
             0,
             "#8e0152"
            ],
            [
             0.1,
             "#c51b7d"
            ],
            [
             0.2,
             "#de77ae"
            ],
            [
             0.3,
             "#f1b6da"
            ],
            [
             0.4,
             "#fde0ef"
            ],
            [
             0.5,
             "#f7f7f7"
            ],
            [
             0.6,
             "#e6f5d0"
            ],
            [
             0.7,
             "#b8e186"
            ],
            [
             0.8,
             "#7fbc41"
            ],
            [
             0.9,
             "#4d9221"
            ],
            [
             1,
             "#276419"
            ]
           ],
           "sequential": [
            [
             0,
             "#0d0887"
            ],
            [
             0.1111111111111111,
             "#46039f"
            ],
            [
             0.2222222222222222,
             "#7201a8"
            ],
            [
             0.3333333333333333,
             "#9c179e"
            ],
            [
             0.4444444444444444,
             "#bd3786"
            ],
            [
             0.5555555555555556,
             "#d8576b"
            ],
            [
             0.6666666666666666,
             "#ed7953"
            ],
            [
             0.7777777777777778,
             "#fb9f3a"
            ],
            [
             0.8888888888888888,
             "#fdca26"
            ],
            [
             1,
             "#f0f921"
            ]
           ],
           "sequentialminus": [
            [
             0,
             "#0d0887"
            ],
            [
             0.1111111111111111,
             "#46039f"
            ],
            [
             0.2222222222222222,
             "#7201a8"
            ],
            [
             0.3333333333333333,
             "#9c179e"
            ],
            [
             0.4444444444444444,
             "#bd3786"
            ],
            [
             0.5555555555555556,
             "#d8576b"
            ],
            [
             0.6666666666666666,
             "#ed7953"
            ],
            [
             0.7777777777777778,
             "#fb9f3a"
            ],
            [
             0.8888888888888888,
             "#fdca26"
            ],
            [
             1,
             "#f0f921"
            ]
           ]
          },
          "colorway": [
           "#636efa",
           "#EF553B",
           "#00cc96",
           "#ab63fa",
           "#FFA15A",
           "#19d3f3",
           "#FF6692",
           "#B6E880",
           "#FF97FF",
           "#FECB52"
          ],
          "font": {
           "color": "#2a3f5f"
          },
          "geo": {
           "bgcolor": "white",
           "lakecolor": "white",
           "landcolor": "#E5ECF6",
           "showlakes": true,
           "showland": true,
           "subunitcolor": "white"
          },
          "hoverlabel": {
           "align": "left"
          },
          "hovermode": "closest",
          "mapbox": {
           "style": "light"
          },
          "paper_bgcolor": "white",
          "plot_bgcolor": "#E5ECF6",
          "polar": {
           "angularaxis": {
            "gridcolor": "white",
            "linecolor": "white",
            "ticks": ""
           },
           "bgcolor": "#E5ECF6",
           "radialaxis": {
            "gridcolor": "white",
            "linecolor": "white",
            "ticks": ""
           }
          },
          "scene": {
           "xaxis": {
            "backgroundcolor": "#E5ECF6",
            "gridcolor": "white",
            "gridwidth": 2,
            "linecolor": "white",
            "showbackground": true,
            "ticks": "",
            "zerolinecolor": "white"
           },
           "yaxis": {
            "backgroundcolor": "#E5ECF6",
            "gridcolor": "white",
            "gridwidth": 2,
            "linecolor": "white",
            "showbackground": true,
            "ticks": "",
            "zerolinecolor": "white"
           },
           "zaxis": {
            "backgroundcolor": "#E5ECF6",
            "gridcolor": "white",
            "gridwidth": 2,
            "linecolor": "white",
            "showbackground": true,
            "ticks": "",
            "zerolinecolor": "white"
           }
          },
          "shapedefaults": {
           "line": {
            "color": "#2a3f5f"
           }
          },
          "ternary": {
           "aaxis": {
            "gridcolor": "white",
            "linecolor": "white",
            "ticks": ""
           },
           "baxis": {
            "gridcolor": "white",
            "linecolor": "white",
            "ticks": ""
           },
           "bgcolor": "#E5ECF6",
           "caxis": {
            "gridcolor": "white",
            "linecolor": "white",
            "ticks": ""
           }
          },
          "title": {
           "x": 0.05
          },
          "xaxis": {
           "automargin": true,
           "gridcolor": "white",
           "linecolor": "white",
           "ticks": "",
           "title": {
            "standoff": 15
           },
           "zerolinecolor": "white",
           "zerolinewidth": 2
          },
          "yaxis": {
           "automargin": true,
           "gridcolor": "white",
           "linecolor": "white",
           "ticks": "",
           "title": {
            "standoff": 15
           },
           "zerolinecolor": "white",
           "zerolinewidth": 2
          }
         }
        },
        "xaxis": {
         "autorange": true,
         "range": [
          -2.5,
          3
         ],
         "type": "linear"
        },
        "yaxis": {
         "autorange": true,
         "range": [
          0,
          210.52631578947367
         ]
        }
       }
      },
      "image/png": "[encoded data removed]",
      "text/html": [
       "<div>\n",
       "        \n",
       "        \n",
       "            <div id=\"b68a8ba4-b7e5-475c-baed-3207c8125eee\" class=\"plotly-graph-div\" style=\"height:525px; width:100%;\"></div>\n",
       "            <script type=\"text/javascript\">\n",
       "                require([\"plotly\"], function(Plotly) {\n",
       "                    window.PLOTLYENV=window.PLOTLYENV || {};\n",
       "                    \n",
       "                if (document.getElementById(\"b68a8ba4-b7e5-475c-baed-3207c8125eee\")) {\n",
       "                    Plotly.newPlot(\n",
       "                        'b68a8ba4-b7e5-475c-baed-3207c8125eee',\n",
       "                        [{\"cumulative\": {\"enabled\": true}, \"type\": \"histogram\", \"x\": [0.14689844764223606, -0.6339926865663986, -0.6754752284511096, -0.09395704333226904, 1.8305654902366273, -0.9484957226295377, -0.7779516465847378, 1.371915366052889, -0.16869236314394773, 0.4101571709677264, -0.46265237764029377, 0.9127954044553713, -0.7737419034629791, 2.964573155645736, -1.1152426828016242, 1.3029541863119787, 0.3354552314269626, -0.24693265985961751, 1.1731391286294313, -1.6433739332770272, -0.08412586742636989, 0.6028467479572093, -0.7021278956474523, -0.6067765571800232, -0.7856857292221526, -1.2920671350983983, -0.36853059794842247, -0.23262138148316577, 1.4938338194321756, 0.2519960621830859, -0.2719535864612855, 0.1399992274718262, 0.014448003236294069, 0.26043201878494937, -0.14404667082258835, 0.3398601275508795, 0.18732449386913663, 0.5740111495580108, 0.44875349050602226, -0.7209780229618249, -1.0455278945622366, -0.46934566387414156, 0.5400818677424064, 1.3618794423652827, -0.3847249908132002, 0.29105455646528483, -0.4729106463621695, 1.4331534397908157, 0.6048674570978158, -0.6692155028782203, 0.3810769827458004, -2.071862794956133, 0.7079833436130649, -0.16779739903894153, 1.2755712240475114, -0.027649299019883083, -0.8656207215264026, -1.5222741770663037, -1.008178558719683, 1.363351312588568, 0.5334457428654512, -1.9638436125646415, -1.0792799439759846, -0.11368276076723223, -1.2786381094498906, 1.0597962783830506, -1.1382699532882974, -1.6154771387816327, -0.7470217762785318, -0.12679311130460022, -0.3106073565165106, 1.3037252966025188, 1.605903939883664, 0.4058776315030546, -0.8801863000427621, 1.057238811794025, 1.35533896955396, -1.239251228860427, 0.28487841937729164, 0.5815882954335735, -1.0576202148012472, 1.3770802373391495, 1.3493752636894782, -1.0174895813074372, 0.32148604795753516, 0.5345362619943567, -0.3484950589582768, 0.8650825793344747, -0.40360196624011335, -0.9798368600703496, 0.6190861143927495, 0.24598855226123534, 0.8773626024335781, 0.9059670639269827, 0.26753558407591194, 0.5953151713807423, 1.1221479684676399, 0.43808777479106314, 0.14159289350524926, -0.6113326667087595, -1.6970997701058523, 0.8533715483188693, -0.5747702703576621, 1.7201028252829094, 0.36374019996621, -0.9198393513289724, -0.4511149942717769, 1.7314168644925394, -1.2474828322527984, -1.135821937530349, 0.6503122356581764, 0.8680714560868139, -1.280722932305824, 0.4802178213352635, -1.5344253806138421, -0.05523921560353476, -0.5264521864493562, 1.8377964830027715, -0.4772998467035594, -0.5457135088474834, -0.5774139187400962, -1.7273630745782, -0.012650778681243284, 0.12220977416772225, -0.46308591695819273, -0.48551666490485607, 1.0286219318481407, -1.5314711897812503, 0.3139712322672219, 0.2230101642463284, 0.12305184690435672, 2.3821598597555242, -0.5722678586905098, 0.1623197415865508, -0.9210456643106257, -0.5511129957766856, -1.6164114527259323, 0.9088053998632372, 0.16896280897881735, 1.3709276075049865, 0.38075423070562486, 0.06720303492506166, 0.22343979175101147, -1.905056632725822, -0.11395150095313604, 0.08717103810820638, 1.9620450828919764, 0.22909619612892454, -1.4238880049541949, 0.9840930668156201, -0.6814898168516695, -0.4396295376064955, -0.9621365669715576, -1.2112981448378257, 0.1897670445683597, -0.24168427292828643, 0.6481780587120058, 0.10181758209302914, 0.6094621199865919, 0.06440195082742389, -0.051821325566759883, -0.286803843363443, 1.5091397816733043, 1.1612070959863974, 1.1124061894738206, 0.06602599691460091, 0.44608660130360495, -1.201618700616783, -0.8053801795997612, -1.7262938193313766, -0.20802018756440235, -0.8888930317561924, 0.6805877607021252, 0.9299220877630004, -2.100000150257667, 0.009339658366574608, 0.8287786597089081, 1.2833055952013062, -1.496465351669501, 1.2761327051888596, 1.043655013573199, 0.855487414665308, -0.8476340996868025, 0.26347512479457813, 0.4011580499389762, -0.09701898207167933, 1.6230181023827688, 0.13087767392325128, 0.5095499877944312, 0.29034625114566504, -0.902521319104472, -1.419482626536593, 0.010738250205630254, 0.7283604441108407, -0.0978776864877819, 0.34809364096192125, -1.2112227513306653, 0.5684460079000437, 0.46677193636088526, -0.5411675858699438]}],\n",
       "                        {\"template\": {\"data\": {\"bar\": [{\"error_x\": {\"color\": \"#2a3f5f\"}, \"error_y\": {\"color\": \"#2a3f5f\"}, \"marker\": {\"line\": {\"color\": \"#E5ECF6\", \"width\": 0.5}}, \"type\": \"bar\"}], \"barpolar\": [{\"marker\": {\"line\": {\"color\": \"#E5ECF6\", \"width\": 0.5}}, \"type\": \"barpolar\"}], \"carpet\": [{\"aaxis\": {\"endlinecolor\": \"#2a3f5f\", \"gridcolor\": \"white\", \"linecolor\": \"white\", \"minorgridcolor\": \"white\", \"startlinecolor\": \"#2a3f5f\"}, \"baxis\": {\"endlinecolor\": \"#2a3f5f\", \"gridcolor\": \"white\", \"linecolor\": \"white\", \"minorgridcolor\": \"white\", \"startlinecolor\": \"#2a3f5f\"}, \"type\": \"carpet\"}], \"choropleth\": [{\"colorbar\": {\"outlinewidth\": 0, \"ticks\": \"\"}, \"type\": \"choropleth\"}], \"contour\": [{\"colorbar\": {\"outlinewidth\": 0, \"ticks\": \"\"}, \"colorscale\": [[0.0, \"#0d0887\"], [0.1111111111111111, \"#46039f\"], [0.2222222222222222, \"#7201a8\"], [0.3333333333333333, \"#9c179e\"], [0.4444444444444444, \"#bd3786\"], [0.5555555555555556, \"#d8576b\"], [0.6666666666666666, \"#ed7953\"], [0.7777777777777778, \"#fb9f3a\"], [0.8888888888888888, \"#fdca26\"], [1.0, \"#f0f921\"]], \"type\": \"contour\"}], \"contourcarpet\": [{\"colorbar\": {\"outlinewidth\": 0, \"ticks\": \"\"}, \"type\": \"contourcarpet\"}], \"heatmap\": [{\"colorbar\": {\"outlinewidth\": 0, \"ticks\": \"\"}, \"colorscale\": [[0.0, \"#0d0887\"], [0.1111111111111111, \"#46039f\"], [0.2222222222222222, \"#7201a8\"], [0.3333333333333333, \"#9c179e\"], [0.4444444444444444, \"#bd3786\"], [0.5555555555555556, \"#d8576b\"], [0.6666666666666666, \"#ed7953\"], [0.7777777777777778, \"#fb9f3a\"], [0.8888888888888888, \"#fdca26\"], [1.0, \"#f0f921\"]], \"type\": \"heatmap\"}], \"heatmapgl\": [{\"colorbar\": {\"outlinewidth\": 0, \"ticks\": \"\"}, \"colorscale\": [[0.0, \"#0d0887\"], [0.1111111111111111, \"#46039f\"], [0.2222222222222222, \"#7201a8\"], [0.3333333333333333, \"#9c179e\"], [0.4444444444444444, \"#bd3786\"], [0.5555555555555556, \"#d8576b\"], [0.6666666666666666, \"#ed7953\"], [0.7777777777777778, \"#fb9f3a\"], [0.8888888888888888, \"#fdca26\"], [1.0, \"#f0f921\"]], \"type\": \"heatmapgl\"}], \"histogram\": [{\"marker\": {\"colorbar\": {\"outlinewidth\": 0, \"ticks\": \"\"}}, \"type\": \"histogram\"}], \"histogram2d\": [{\"colorbar\": {\"outlinewidth\": 0, \"ticks\": \"\"}, \"colorscale\": [[0.0, \"#0d0887\"], [0.1111111111111111, \"#46039f\"], [0.2222222222222222, \"#7201a8\"], [0.3333333333333333, \"#9c179e\"], [0.4444444444444444, \"#bd3786\"], [0.5555555555555556, \"#d8576b\"], [0.6666666666666666, \"#ed7953\"], [0.7777777777777778, \"#fb9f3a\"], [0.8888888888888888, \"#fdca26\"], [1.0, \"#f0f921\"]], \"type\": \"histogram2d\"}], \"histogram2dcontour\": [{\"colorbar\": {\"outlinewidth\": 0, \"ticks\": \"\"}, \"colorscale\": [[0.0, \"#0d0887\"], [0.1111111111111111, \"#46039f\"], [0.2222222222222222, \"#7201a8\"], [0.3333333333333333, \"#9c179e\"], [0.4444444444444444, \"#bd3786\"], [0.5555555555555556, \"#d8576b\"], [0.6666666666666666, \"#ed7953\"], [0.7777777777777778, \"#fb9f3a\"], [0.8888888888888888, \"#fdca26\"], [1.0, \"#f0f921\"]], \"type\": \"histogram2dcontour\"}], \"mesh3d\": [{\"colorbar\": {\"outlinewidth\": 0, \"ticks\": \"\"}, \"type\": \"mesh3d\"}], \"parcoords\": [{\"line\": {\"colorbar\": {\"outlinewidth\": 0, \"ticks\": \"\"}}, \"type\": \"parcoords\"}], \"pie\": [{\"automargin\": true, \"type\": \"pie\"}], \"scatter\": [{\"marker\": {\"colorbar\": {\"outlinewidth\": 0, \"ticks\": \"\"}}, \"type\": \"scatter\"}], \"scatter3d\": [{\"line\": {\"colorbar\": {\"outlinewidth\": 0, \"ticks\": \"\"}}, \"marker\": {\"colorbar\": {\"outlinewidth\": 0, \"ticks\": \"\"}}, \"type\": \"scatter3d\"}], \"scattercarpet\": [{\"marker\": {\"colorbar\": {\"outlinewidth\": 0, \"ticks\": \"\"}}, \"type\": \"scattercarpet\"}], \"scattergeo\": [{\"marker\": {\"colorbar\": {\"outlinewidth\": 0, \"ticks\": \"\"}}, \"type\": \"scattergeo\"}], \"scattergl\": [{\"marker\": {\"colorbar\": {\"outlinewidth\": 0, \"ticks\": \"\"}}, \"type\": \"scattergl\"}], \"scattermapbox\": [{\"marker\": {\"colorbar\": {\"outlinewidth\": 0, \"ticks\": \"\"}}, \"type\": \"scattermapbox\"}], \"scatterpolar\": [{\"marker\": {\"colorbar\": {\"outlinewidth\": 0, \"ticks\": \"\"}}, \"type\": \"scatterpolar\"}], \"scatterpolargl\": [{\"marker\": {\"colorbar\": {\"outlinewidth\": 0, \"ticks\": \"\"}}, \"type\": \"scatterpolargl\"}], \"scatterternary\": [{\"marker\": {\"colorbar\": {\"outlinewidth\": 0, \"ticks\": \"\"}}, \"type\": \"scatterternary\"}], \"surface\": [{\"colorbar\": {\"outlinewidth\": 0, \"ticks\": \"\"}, \"colorscale\": [[0.0, \"#0d0887\"], [0.1111111111111111, \"#46039f\"], [0.2222222222222222, \"#7201a8\"], [0.3333333333333333, \"#9c179e\"], [0.4444444444444444, \"#bd3786\"], [0.5555555555555556, \"#d8576b\"], [0.6666666666666666, \"#ed7953\"], [0.7777777777777778, \"#fb9f3a\"], [0.8888888888888888, \"#fdca26\"], [1.0, \"#f0f921\"]], \"type\": \"surface\"}], \"table\": [{\"cells\": {\"fill\": {\"color\": \"#EBF0F8\"}, \"line\": {\"color\": \"white\"}}, \"header\": {\"fill\": {\"color\": \"#C8D4E3\"}, \"line\": {\"color\": \"white\"}}, \"type\": \"table\"}]}, \"layout\": {\"annotationdefaults\": {\"arrowcolor\": \"#2a3f5f\", \"arrowhead\": 0, \"arrowwidth\": 1}, \"coloraxis\": {\"colorbar\": {\"outlinewidth\": 0, \"ticks\": \"\"}}, \"colorscale\": {\"diverging\": [[0, \"#8e0152\"], [0.1, \"#c51b7d\"], [0.2, \"#de77ae\"], [0.3, \"#f1b6da\"], [0.4, \"#fde0ef\"], [0.5, \"#f7f7f7\"], [0.6, \"#e6f5d0\"], [0.7, \"#b8e186\"], [0.8, \"#7fbc41\"], [0.9, \"#4d9221\"], [1, \"#276419\"]], \"sequential\": [[0.0, \"#0d0887\"], [0.1111111111111111, \"#46039f\"], [0.2222222222222222, \"#7201a8\"], [0.3333333333333333, \"#9c179e\"], [0.4444444444444444, \"#bd3786\"], [0.5555555555555556, \"#d8576b\"], [0.6666666666666666, \"#ed7953\"], [0.7777777777777778, \"#fb9f3a\"], [0.8888888888888888, \"#fdca26\"], [1.0, \"#f0f921\"]], \"sequentialminus\": [[0.0, \"#0d0887\"], [0.1111111111111111, \"#46039f\"], [0.2222222222222222, \"#7201a8\"], [0.3333333333333333, \"#9c179e\"], [0.4444444444444444, \"#bd3786\"], [0.5555555555555556, \"#d8576b\"], [0.6666666666666666, \"#ed7953\"], [0.7777777777777778, \"#fb9f3a\"], [0.8888888888888888, \"#fdca26\"], [1.0, \"#f0f921\"]]}, \"colorway\": [\"#636efa\", \"#EF553B\", \"#00cc96\", \"#ab63fa\", \"#FFA15A\", \"#19d3f3\", \"#FF6692\", \"#B6E880\", \"#FF97FF\", \"#FECB52\"], \"font\": {\"color\": \"#2a3f5f\"}, \"geo\": {\"bgcolor\": \"white\", \"lakecolor\": \"white\", \"landcolor\": \"#E5ECF6\", \"showlakes\": true, \"showland\": true, \"subunitcolor\": \"white\"}, \"hoverlabel\": {\"align\": \"left\"}, \"hovermode\": \"closest\", \"mapbox\": {\"style\": \"light\"}, \"paper_bgcolor\": \"white\", \"plot_bgcolor\": \"#E5ECF6\", \"polar\": {\"angularaxis\": {\"gridcolor\": \"white\", \"linecolor\": \"white\", \"ticks\": \"\"}, \"bgcolor\": \"#E5ECF6\", \"radialaxis\": {\"gridcolor\": \"white\", \"linecolor\": \"white\", \"ticks\": \"\"}}, \"scene\": {\"xaxis\": {\"backgroundcolor\": \"#E5ECF6\", \"gridcolor\": \"white\", \"gridwidth\": 2, \"linecolor\": \"white\", \"showbackground\": true, \"ticks\": \"\", \"zerolinecolor\": \"white\"}, \"yaxis\": {\"backgroundcolor\": \"#E5ECF6\", \"gridcolor\": \"white\", \"gridwidth\": 2, \"linecolor\": \"white\", \"showbackground\": true, \"ticks\": \"\", \"zerolinecolor\": \"white\"}, \"zaxis\": {\"backgroundcolor\": \"#E5ECF6\", \"gridcolor\": \"white\", \"gridwidth\": 2, \"linecolor\": \"white\", \"showbackground\": true, \"ticks\": \"\", \"zerolinecolor\": \"white\"}}, \"shapedefaults\": {\"line\": {\"color\": \"#2a3f5f\"}}, \"ternary\": {\"aaxis\": {\"gridcolor\": \"white\", \"linecolor\": \"white\", \"ticks\": \"\"}, \"baxis\": {\"gridcolor\": \"white\", \"linecolor\": \"white\", \"ticks\": \"\"}, \"bgcolor\": \"#E5ECF6\", \"caxis\": {\"gridcolor\": \"white\", \"linecolor\": \"white\", \"ticks\": \"\"}}, \"title\": {\"x\": 0.05}, \"xaxis\": {\"automargin\": true, \"gridcolor\": \"white\", \"linecolor\": \"white\", \"ticks\": \"\", \"title\": {\"standoff\": 15}, \"zerolinecolor\": \"white\", \"zerolinewidth\": 2}, \"yaxis\": {\"automargin\": true, \"gridcolor\": \"white\", \"linecolor\": \"white\", \"ticks\": \"\", \"title\": {\"standoff\": 15}, \"zerolinecolor\": \"white\", \"zerolinewidth\": 2}}}},\n",
       "                        {\"responsive\": true}\n",
       "                    ).then(function(){\n",
       "                            \n",
       "var gd = document.getElementById('b68a8ba4-b7e5-475c-baed-3207c8125eee');\n",
       "var x = new MutationObserver(function (mutations, observer) {{\n",
       "        var display = window.getComputedStyle(gd).display;\n",
       "        if (!display || display === 'none') {{\n",
       "            console.log([gd, 'removed!']);\n",
       "            Plotly.purge(gd);\n",
       "            observer.disconnect();\n",
       "        }}\n",
       "}});\n",
       "\n",
       "// Listen for the removal of the full notebook cells\n",
       "var notebookContainer = gd.closest('#notebook-container');\n",
       "if (notebookContainer) {{\n",
       "    x.observe(notebookContainer, {childList: true});\n",
       "}}\n",
       "\n",
       "// Listen for the clearing of the current output cell\n",
       "var outputEl = gd.closest('.output');\n",
       "if (outputEl) {{\n",
       "    x.observe(outputEl, {childList: true});\n",
       "}}\n",
       "\n",
       "                        })\n",
       "                };\n",
       "                });\n",
       "            </script>\n",
       "        </div>"
      ]
     },
     "metadata": {},
     "output_type": "display_data"
    }
   ],
   "source": [
    "hist =  go.Histogram(x = random_numbers, cumulative = dict(enabled= True)) # by default enabled= False of data points are plotted on y-axis\n",
    "data = [hist]\n",
    "offline.iplot(data)\n",
    "# Here there is 0.2 probability which ranges from 0 to 0.5 plotted on y-axis"
   ]
  },
  {
   "cell_type": "code",
   "execution_count": 6,
   "metadata": {},
   "outputs": [],
   "source": [
    "# generating more random numbers with mean of 1 and variance of 1\n",
    "new_random_numbers = 1 + np.random.randn(100)"
   ]
  },
  {
   "cell_type": "code",
   "execution_count": 7,
   "metadata": {},
   "outputs": [],
   "source": [
    "origin_numbers_trace = go.Histogram(x = random_numbers, opacity=0.9, name='Original Numbers')\n",
    "new_numbers_trace = go.Histogram(x = new_random_numbers, opacity=0.5, name='New Numbers')"
   ]
  },
  {
   "cell_type": "code",
   "execution_count": 8,
   "metadata": {},
   "outputs": [],
   "source": [
    "data = [origin_numbers_trace, new_numbers_trace]\n",
    "layout = go.Layout(barmode = 'overlay') # other modes are group and stack\n",
    "fig = dict(data = data, layout=layout)"
   ]
  },
  {
   "cell_type": "code",
   "execution_count": 9,
   "metadata": {},
   "outputs": [
    {
     "data": {
      "application/vnd.plotly.v1+json": {
       "config": {
        "linkText": "Export to plot.ly",
        "plotlyServerURL": "https://plot.ly",
        "showLink": false
       },
       "data": [
        {
         "name": "Original Numbers",
         "opacity": 0.9,
         "type": "histogram",
         "x": [
          0.14689844764223606,
          -0.6339926865663986,
          -0.6754752284511096,
          -0.09395704333226904,
          1.8305654902366273,
          -0.9484957226295377,
          -0.7779516465847378,
          1.371915366052889,
          -0.16869236314394773,
          0.4101571709677264,
          -0.46265237764029377,
          0.9127954044553713,
          -0.7737419034629791,
          2.964573155645736,
          -1.1152426828016242,
          1.3029541863119787,
          0.3354552314269626,
          -0.24693265985961751,
          1.1731391286294313,
          -1.6433739332770272,
          -0.08412586742636989,
          0.6028467479572093,
          -0.7021278956474523,
          -0.6067765571800232,
          -0.7856857292221526,
          -1.2920671350983983,
          -0.36853059794842247,
          -0.23262138148316577,
          1.4938338194321756,
          0.2519960621830859,
          -0.2719535864612855,
          0.1399992274718262,
          0.014448003236294069,
          0.26043201878494937,
          -0.14404667082258835,
          0.3398601275508795,
          0.18732449386913663,
          0.5740111495580108,
          0.44875349050602226,
          -0.7209780229618249,
          -1.0455278945622366,
          -0.46934566387414156,
          0.5400818677424064,
          1.3618794423652827,
          -0.3847249908132002,
          0.29105455646528483,
          -0.4729106463621695,
          1.4331534397908157,
          0.6048674570978158,
          -0.6692155028782203,
          0.3810769827458004,
          -2.071862794956133,
          0.7079833436130649,
          -0.16779739903894153,
          1.2755712240475114,
          -0.027649299019883083,
          -0.8656207215264026,
          -1.5222741770663037,
          -1.008178558719683,
          1.363351312588568,
          0.5334457428654512,
          -1.9638436125646415,
          -1.0792799439759846,
          -0.11368276076723223,
          -1.2786381094498906,
          1.0597962783830506,
          -1.1382699532882974,
          -1.6154771387816327,
          -0.7470217762785318,
          -0.12679311130460022,
          -0.3106073565165106,
          1.3037252966025188,
          1.605903939883664,
          0.4058776315030546,
          -0.8801863000427621,
          1.057238811794025,
          1.35533896955396,
          -1.239251228860427,
          0.28487841937729164,
          0.5815882954335735,
          -1.0576202148012472,
          1.3770802373391495,
          1.3493752636894782,
          -1.0174895813074372,
          0.32148604795753516,
          0.5345362619943567,
          -0.3484950589582768,
          0.8650825793344747,
          -0.40360196624011335,
          -0.9798368600703496,
          0.6190861143927495,
          0.24598855226123534,
          0.8773626024335781,
          0.9059670639269827,
          0.26753558407591194,
          0.5953151713807423,
          1.1221479684676399,
          0.43808777479106314,
          0.14159289350524926,
          -0.6113326667087595,
          -1.6970997701058523,
          0.8533715483188693,
          -0.5747702703576621,
          1.7201028252829094,
          0.36374019996621,
          -0.9198393513289724,
          -0.4511149942717769,
          1.7314168644925394,
          -1.2474828322527984,
          -1.135821937530349,
          0.6503122356581764,
          0.8680714560868139,
          -1.280722932305824,
          0.4802178213352635,
          -1.5344253806138421,
          -0.05523921560353476,
          -0.5264521864493562,
          1.8377964830027715,
          -0.4772998467035594,
          -0.5457135088474834,
          -0.5774139187400962,
          -1.7273630745782,
          -0.012650778681243284,
          0.12220977416772225,
          -0.46308591695819273,
          -0.48551666490485607,
          1.0286219318481407,
          -1.5314711897812503,
          0.3139712322672219,
          0.2230101642463284,
          0.12305184690435672,
          2.3821598597555242,
          -0.5722678586905098,
          0.1623197415865508,
          -0.9210456643106257,
          -0.5511129957766856,
          -1.6164114527259323,
          0.9088053998632372,
          0.16896280897881735,
          1.3709276075049865,
          0.38075423070562486,
          0.06720303492506166,
          0.22343979175101147,
          -1.905056632725822,
          -0.11395150095313604,
          0.08717103810820638,
          1.9620450828919764,
          0.22909619612892454,
          -1.4238880049541949,
          0.9840930668156201,
          -0.6814898168516695,
          -0.4396295376064955,
          -0.9621365669715576,
          -1.2112981448378257,
          0.1897670445683597,
          -0.24168427292828643,
          0.6481780587120058,
          0.10181758209302914,
          0.6094621199865919,
          0.06440195082742389,
          -0.051821325566759883,
          -0.286803843363443,
          1.5091397816733043,
          1.1612070959863974,
          1.1124061894738206,
          0.06602599691460091,
          0.44608660130360495,
          -1.201618700616783,
          -0.8053801795997612,
          -1.7262938193313766,
          -0.20802018756440235,
          -0.8888930317561924,
          0.6805877607021252,
          0.9299220877630004,
          -2.100000150257667,
          0.009339658366574608,
          0.8287786597089081,
          1.2833055952013062,
          -1.496465351669501,
          1.2761327051888596,
          1.043655013573199,
          0.855487414665308,
          -0.8476340996868025,
          0.26347512479457813,
          0.4011580499389762,
          -0.09701898207167933,
          1.6230181023827688,
          0.13087767392325128,
          0.5095499877944312,
          0.29034625114566504,
          -0.902521319104472,
          -1.419482626536593,
          0.010738250205630254,
          0.7283604441108407,
          -0.0978776864877819,
          0.34809364096192125,
          -1.2112227513306653,
          0.5684460079000437,
          0.46677193636088526,
          -0.5411675858699438
         ]
        },
        {
         "name": "New Numbers",
         "opacity": 0.5,
         "type": "histogram",
         "x": [
          1.1349193624811416,
          3.617268259068471,
          2.5234417150761725,
          0.9018885774999961,
          1.185005676474561,
          2.7596910816680937,
          2.4095398830446713,
          1.6994530360249778,
          0.6642123668910698,
          0.11387714940210181,
          0.46525907645206044,
          0.5420367284288761,
          0.8261373154773797,
          1.467964267098433,
          1.119758309176123,
          1.159940624351461,
          1.4336764663618762,
          -1.202122452088938,
          -0.44965207736821466,
          0.17110068696663783,
          2.3490435871552915,
          0.8443405213815619,
          0.0303109356764657,
          2.1985702823545545,
          1.5536901977247708,
          2.026516896357448,
          0.5725787974076288,
          -0.47313452577226434,
          2.9547475767608447,
          1.9345471254736344,
          1.399552990746485,
          1.0851751936653926,
          0.500833033111734,
          1.3881912007850434,
          0.40744998205738525,
          0.5086333587100191,
          -0.2779052623938352,
          -0.25068678963108537,
          2.4883296401123776,
          2.1255620012381016,
          1.4810386735453567,
          1.7056214282123763,
          0.8205120293533159,
          2.1618605806841744,
          1.2706916066421783,
          1.509462025673015,
          -0.46112328414089365,
          -0.5551720290522975,
          1.1191943003056084,
          1.0641224437576322,
          1.094343437922962,
          3.166135123627583,
          -0.41494519908841965,
          -0.48932074536517534,
          1.3302007312304522,
          0.2694369469384361,
          2.2432295381310556,
          2.4789434360030524,
          1.7246240191816082,
          1.0441578417064794,
          2.3602345450419113,
          1.119274083891486,
          1.5772720497525576,
          1.864034642690374,
          0.9686365413013776,
          3.114894182130251,
          1.4326450171674676,
          -1.2406547258259044,
          0.6271588756086997,
          1.6590931371092217,
          1.0543478501281627,
          0.5995418598934,
          0.9461142808521652,
          -0.5097551439072401,
          1.6999486245516473,
          0.8846854236154198,
          2.198007725116607,
          -0.14130634533136344,
          2.9163804260109156,
          0.539485173654976,
          -0.7168169023692377,
          2.490075697144155,
          0.7641267675843557,
          0.2117137318619967,
          0.3595169094116063,
          1.7333216052946456,
          -0.5632802962235395,
          0.20684302760429596,
          0.6951357612742739,
          -0.3223829123218118,
          0.6792940180025413,
          -1.156555136641193,
          -0.4367906681376299,
          0.4051602467693812,
          2.493550809713489,
          1.6534212681057068,
          1.226902114274167,
          3.351855934100615,
          2.3640046629529925,
          0.5492909886757116
         ]
        }
       ],
       "layout": {
        "autosize": true,
        "barmode": "overlay",
        "template": {
         "data": {
          "bar": [
           {
            "error_x": {
             "color": "#2a3f5f"
            },
            "error_y": {
             "color": "#2a3f5f"
            },
            "marker": {
             "line": {
              "color": "#E5ECF6",
              "width": 0.5
             }
            },
            "type": "bar"
           }
          ],
          "barpolar": [
           {
            "marker": {
             "line": {
              "color": "#E5ECF6",
              "width": 0.5
             }
            },
            "type": "barpolar"
           }
          ],
          "carpet": [
           {
            "aaxis": {
             "endlinecolor": "#2a3f5f",
             "gridcolor": "white",
             "linecolor": "white",
             "minorgridcolor": "white",
             "startlinecolor": "#2a3f5f"
            },
            "baxis": {
             "endlinecolor": "#2a3f5f",
             "gridcolor": "white",
             "linecolor": "white",
             "minorgridcolor": "white",
             "startlinecolor": "#2a3f5f"
            },
            "type": "carpet"
           }
          ],
          "choropleth": [
           {
            "colorbar": {
             "outlinewidth": 0,
             "ticks": ""
            },
            "type": "choropleth"
           }
          ],
          "contour": [
           {
            "colorbar": {
             "outlinewidth": 0,
             "ticks": ""
            },
            "colorscale": [
             [
              0,
              "#0d0887"
             ],
             [
              0.1111111111111111,
              "#46039f"
             ],
             [
              0.2222222222222222,
              "#7201a8"
             ],
             [
              0.3333333333333333,
              "#9c179e"
             ],
             [
              0.4444444444444444,
              "#bd3786"
             ],
             [
              0.5555555555555556,
              "#d8576b"
             ],
             [
              0.6666666666666666,
              "#ed7953"
             ],
             [
              0.7777777777777778,
              "#fb9f3a"
             ],
             [
              0.8888888888888888,
              "#fdca26"
             ],
             [
              1,
              "#f0f921"
             ]
            ],
            "type": "contour"
           }
          ],
          "contourcarpet": [
           {
            "colorbar": {
             "outlinewidth": 0,
             "ticks": ""
            },
            "type": "contourcarpet"
           }
          ],
          "heatmap": [
           {
            "colorbar": {
             "outlinewidth": 0,
             "ticks": ""
            },
            "colorscale": [
             [
              0,
              "#0d0887"
             ],
             [
              0.1111111111111111,
              "#46039f"
             ],
             [
              0.2222222222222222,
              "#7201a8"
             ],
             [
              0.3333333333333333,
              "#9c179e"
             ],
             [
              0.4444444444444444,
              "#bd3786"
             ],
             [
              0.5555555555555556,
              "#d8576b"
             ],
             [
              0.6666666666666666,
              "#ed7953"
             ],
             [
              0.7777777777777778,
              "#fb9f3a"
             ],
             [
              0.8888888888888888,
              "#fdca26"
             ],
             [
              1,
              "#f0f921"
             ]
            ],
            "type": "heatmap"
           }
          ],
          "heatmapgl": [
           {
            "colorbar": {
             "outlinewidth": 0,
             "ticks": ""
            },
            "colorscale": [
             [
              0,
              "#0d0887"
             ],
             [
              0.1111111111111111,
              "#46039f"
             ],
             [
              0.2222222222222222,
              "#7201a8"
             ],
             [
              0.3333333333333333,
              "#9c179e"
             ],
             [
              0.4444444444444444,
              "#bd3786"
             ],
             [
              0.5555555555555556,
              "#d8576b"
             ],
             [
              0.6666666666666666,
              "#ed7953"
             ],
             [
              0.7777777777777778,
              "#fb9f3a"
             ],
             [
              0.8888888888888888,
              "#fdca26"
             ],
             [
              1,
              "#f0f921"
             ]
            ],
            "type": "heatmapgl"
           }
          ],
          "histogram": [
           {
            "marker": {
             "colorbar": {
              "outlinewidth": 0,
              "ticks": ""
             }
            },
            "type": "histogram"
           }
          ],
          "histogram2d": [
           {
            "colorbar": {
             "outlinewidth": 0,
             "ticks": ""
            },
            "colorscale": [
             [
              0,
              "#0d0887"
             ],
             [
              0.1111111111111111,
              "#46039f"
             ],
             [
              0.2222222222222222,
              "#7201a8"
             ],
             [
              0.3333333333333333,
              "#9c179e"
             ],
             [
              0.4444444444444444,
              "#bd3786"
             ],
             [
              0.5555555555555556,
              "#d8576b"
             ],
             [
              0.6666666666666666,
              "#ed7953"
             ],
             [
              0.7777777777777778,
              "#fb9f3a"
             ],
             [
              0.8888888888888888,
              "#fdca26"
             ],
             [
              1,
              "#f0f921"
             ]
            ],
            "type": "histogram2d"
           }
          ],
          "histogram2dcontour": [
           {
            "colorbar": {
             "outlinewidth": 0,
             "ticks": ""
            },
            "colorscale": [
             [
              0,
              "#0d0887"
             ],
             [
              0.1111111111111111,
              "#46039f"
             ],
             [
              0.2222222222222222,
              "#7201a8"
             ],
             [
              0.3333333333333333,
              "#9c179e"
             ],
             [
              0.4444444444444444,
              "#bd3786"
             ],
             [
              0.5555555555555556,
              "#d8576b"
             ],
             [
              0.6666666666666666,
              "#ed7953"
             ],
             [
              0.7777777777777778,
              "#fb9f3a"
             ],
             [
              0.8888888888888888,
              "#fdca26"
             ],
             [
              1,
              "#f0f921"
             ]
            ],
            "type": "histogram2dcontour"
           }
          ],
          "mesh3d": [
           {
            "colorbar": {
             "outlinewidth": 0,
             "ticks": ""
            },
            "type": "mesh3d"
           }
          ],
          "parcoords": [
           {
            "line": {
             "colorbar": {
              "outlinewidth": 0,
              "ticks": ""
             }
            },
            "type": "parcoords"
           }
          ],
          "pie": [
           {
            "automargin": true,
            "type": "pie"
           }
          ],
          "scatter": [
           {
            "marker": {
             "colorbar": {
              "outlinewidth": 0,
              "ticks": ""
             }
            },
            "type": "scatter"
           }
          ],
          "scatter3d": [
           {
            "line": {
             "colorbar": {
              "outlinewidth": 0,
              "ticks": ""
             }
            },
            "marker": {
             "colorbar": {
              "outlinewidth": 0,
              "ticks": ""
             }
            },
            "type": "scatter3d"
           }
          ],
          "scattercarpet": [
           {
            "marker": {
             "colorbar": {
              "outlinewidth": 0,
              "ticks": ""
             }
            },
            "type": "scattercarpet"
           }
          ],
          "scattergeo": [
           {
            "marker": {
             "colorbar": {
              "outlinewidth": 0,
              "ticks": ""
             }
            },
            "type": "scattergeo"
           }
          ],
          "scattergl": [
           {
            "marker": {
             "colorbar": {
              "outlinewidth": 0,
              "ticks": ""
             }
            },
            "type": "scattergl"
           }
          ],
          "scattermapbox": [
           {
            "marker": {
             "colorbar": {
              "outlinewidth": 0,
              "ticks": ""
             }
            },
            "type": "scattermapbox"
           }
          ],
          "scatterpolar": [
           {
            "marker": {
             "colorbar": {
              "outlinewidth": 0,
              "ticks": ""
             }
            },
            "type": "scatterpolar"
           }
          ],
          "scatterpolargl": [
           {
            "marker": {
             "colorbar": {
              "outlinewidth": 0,
              "ticks": ""
             }
            },
            "type": "scatterpolargl"
           }
          ],
          "scatterternary": [
           {
            "marker": {
             "colorbar": {
              "outlinewidth": 0,
              "ticks": ""
             }
            },
            "type": "scatterternary"
           }
          ],
          "surface": [
           {
            "colorbar": {
             "outlinewidth": 0,
             "ticks": ""
            },
            "colorscale": [
             [
              0,
              "#0d0887"
             ],
             [
              0.1111111111111111,
              "#46039f"
             ],
             [
              0.2222222222222222,
              "#7201a8"
             ],
             [
              0.3333333333333333,
              "#9c179e"
             ],
             [
              0.4444444444444444,
              "#bd3786"
             ],
             [
              0.5555555555555556,
              "#d8576b"
             ],
             [
              0.6666666666666666,
              "#ed7953"
             ],
             [
              0.7777777777777778,
              "#fb9f3a"
             ],
             [
              0.8888888888888888,
              "#fdca26"
             ],
             [
              1,
              "#f0f921"
             ]
            ],
            "type": "surface"
           }
          ],
          "table": [
           {
            "cells": {
             "fill": {
              "color": "#EBF0F8"
             },
             "line": {
              "color": "white"
             }
            },
            "header": {
             "fill": {
              "color": "#C8D4E3"
             },
             "line": {
              "color": "white"
             }
            },
            "type": "table"
           }
          ]
         },
         "layout": {
          "annotationdefaults": {
           "arrowcolor": "#2a3f5f",
           "arrowhead": 0,
           "arrowwidth": 1
          },
          "coloraxis": {
           "colorbar": {
            "outlinewidth": 0,
            "ticks": ""
           }
          },
          "colorscale": {
           "diverging": [
            [
             0,
             "#8e0152"
            ],
            [
             0.1,
             "#c51b7d"
            ],
            [
             0.2,
             "#de77ae"
            ],
            [
             0.3,
             "#f1b6da"
            ],
            [
             0.4,
             "#fde0ef"
            ],
            [
             0.5,
             "#f7f7f7"
            ],
            [
             0.6,
             "#e6f5d0"
            ],
            [
             0.7,
             "#b8e186"
            ],
            [
             0.8,
             "#7fbc41"
            ],
            [
             0.9,
             "#4d9221"
            ],
            [
             1,
             "#276419"
            ]
           ],
           "sequential": [
            [
             0,
             "#0d0887"
            ],
            [
             0.1111111111111111,
             "#46039f"
            ],
            [
             0.2222222222222222,
             "#7201a8"
            ],
            [
             0.3333333333333333,
             "#9c179e"
            ],
            [
             0.4444444444444444,
             "#bd3786"
            ],
            [
             0.5555555555555556,
             "#d8576b"
            ],
            [
             0.6666666666666666,
             "#ed7953"
            ],
            [
             0.7777777777777778,
             "#fb9f3a"
            ],
            [
             0.8888888888888888,
             "#fdca26"
            ],
            [
             1,
             "#f0f921"
            ]
           ],
           "sequentialminus": [
            [
             0,
             "#0d0887"
            ],
            [
             0.1111111111111111,
             "#46039f"
            ],
            [
             0.2222222222222222,
             "#7201a8"
            ],
            [
             0.3333333333333333,
             "#9c179e"
            ],
            [
             0.4444444444444444,
             "#bd3786"
            ],
            [
             0.5555555555555556,
             "#d8576b"
            ],
            [
             0.6666666666666666,
             "#ed7953"
            ],
            [
             0.7777777777777778,
             "#fb9f3a"
            ],
            [
             0.8888888888888888,
             "#fdca26"
            ],
            [
             1,
             "#f0f921"
            ]
           ]
          },
          "colorway": [
           "#636efa",
           "#EF553B",
           "#00cc96",
           "#ab63fa",
           "#FFA15A",
           "#19d3f3",
           "#FF6692",
           "#B6E880",
           "#FF97FF",
           "#FECB52"
          ],
          "font": {
           "color": "#2a3f5f"
          },
          "geo": {
           "bgcolor": "white",
           "lakecolor": "white",
           "landcolor": "#E5ECF6",
           "showlakes": true,
           "showland": true,
           "subunitcolor": "white"
          },
          "hoverlabel": {
           "align": "left"
          },
          "hovermode": "closest",
          "mapbox": {
           "style": "light"
          },
          "paper_bgcolor": "white",
          "plot_bgcolor": "#E5ECF6",
          "polar": {
           "angularaxis": {
            "gridcolor": "white",
            "linecolor": "white",
            "ticks": ""
           },
           "bgcolor": "#E5ECF6",
           "radialaxis": {
            "gridcolor": "white",
            "linecolor": "white",
            "ticks": ""
           }
          },
          "scene": {
           "xaxis": {
            "backgroundcolor": "#E5ECF6",
            "gridcolor": "white",
            "gridwidth": 2,
            "linecolor": "white",
            "showbackground": true,
            "ticks": "",
            "zerolinecolor": "white"
           },
           "yaxis": {
            "backgroundcolor": "#E5ECF6",
            "gridcolor": "white",
            "gridwidth": 2,
            "linecolor": "white",
            "showbackground": true,
            "ticks": "",
            "zerolinecolor": "white"
           },
           "zaxis": {
            "backgroundcolor": "#E5ECF6",
            "gridcolor": "white",
            "gridwidth": 2,
            "linecolor": "white",
            "showbackground": true,
            "ticks": "",
            "zerolinecolor": "white"
           }
          },
          "shapedefaults": {
           "line": {
            "color": "#2a3f5f"
           }
          },
          "ternary": {
           "aaxis": {
            "gridcolor": "white",
            "linecolor": "white",
            "ticks": ""
           },
           "baxis": {
            "gridcolor": "white",
            "linecolor": "white",
            "ticks": ""
           },
           "bgcolor": "#E5ECF6",
           "caxis": {
            "gridcolor": "white",
            "linecolor": "white",
            "ticks": ""
           }
          },
          "title": {
           "x": 0.05
          },
          "xaxis": {
           "automargin": true,
           "gridcolor": "white",
           "linecolor": "white",
           "ticks": "",
           "title": {
            "standoff": 15
           },
           "zerolinecolor": "white",
           "zerolinewidth": 2
          },
          "yaxis": {
           "automargin": true,
           "gridcolor": "white",
           "linecolor": "white",
           "ticks": "",
           "title": {
            "standoff": 15
           },
           "zerolinecolor": "white",
           "zerolinewidth": 2
          }
         }
        },
        "xaxis": {
         "autorange": true,
         "range": [
          -2.5,
          4
         ],
         "type": "linear"
        },
        "yaxis": {
         "autorange": true,
         "range": [
          0,
          47.368421052631575
         ]
        }
       }
      },
      "image/png": "[encoded data removed]",
      "text/html": [
       "<div>\n",
       "        \n",
       "        \n",
       "            <div id=\"d41ffc07-5979-494e-95fa-18c801bc39a9\" class=\"plotly-graph-div\" style=\"height:525px; width:100%;\"></div>\n",
       "            <script type=\"text/javascript\">\n",
       "                require([\"plotly\"], function(Plotly) {\n",
       "                    window.PLOTLYENV=window.PLOTLYENV || {};\n",
       "                    \n",
       "                if (document.getElementById(\"d41ffc07-5979-494e-95fa-18c801bc39a9\")) {\n",
       "                    Plotly.newPlot(\n",
       "                        'd41ffc07-5979-494e-95fa-18c801bc39a9',\n",
       "                        [{\"name\": \"Original Numbers\", \"opacity\": 0.9, \"type\": \"histogram\", \"x\": [0.14689844764223606, -0.6339926865663986, -0.6754752284511096, -0.09395704333226904, 1.8305654902366273, -0.9484957226295377, -0.7779516465847378, 1.371915366052889, -0.16869236314394773, 0.4101571709677264, -0.46265237764029377, 0.9127954044553713, -0.7737419034629791, 2.964573155645736, -1.1152426828016242, 1.3029541863119787, 0.3354552314269626, -0.24693265985961751, 1.1731391286294313, -1.6433739332770272, -0.08412586742636989, 0.6028467479572093, -0.7021278956474523, -0.6067765571800232, -0.7856857292221526, -1.2920671350983983, -0.36853059794842247, -0.23262138148316577, 1.4938338194321756, 0.2519960621830859, -0.2719535864612855, 0.1399992274718262, 0.014448003236294069, 0.26043201878494937, -0.14404667082258835, 0.3398601275508795, 0.18732449386913663, 0.5740111495580108, 0.44875349050602226, -0.7209780229618249, -1.0455278945622366, -0.46934566387414156, 0.5400818677424064, 1.3618794423652827, -0.3847249908132002, 0.29105455646528483, -0.4729106463621695, 1.4331534397908157, 0.6048674570978158, -0.6692155028782203, 0.3810769827458004, -2.071862794956133, 0.7079833436130649, -0.16779739903894153, 1.2755712240475114, -0.027649299019883083, -0.8656207215264026, -1.5222741770663037, -1.008178558719683, 1.363351312588568, 0.5334457428654512, -1.9638436125646415, -1.0792799439759846, -0.11368276076723223, -1.2786381094498906, 1.0597962783830506, -1.1382699532882974, -1.6154771387816327, -0.7470217762785318, -0.12679311130460022, -0.3106073565165106, 1.3037252966025188, 1.605903939883664, 0.4058776315030546, -0.8801863000427621, 1.057238811794025, 1.35533896955396, -1.239251228860427, 0.28487841937729164, 0.5815882954335735, -1.0576202148012472, 1.3770802373391495, 1.3493752636894782, -1.0174895813074372, 0.32148604795753516, 0.5345362619943567, -0.3484950589582768, 0.8650825793344747, -0.40360196624011335, -0.9798368600703496, 0.6190861143927495, 0.24598855226123534, 0.8773626024335781, 0.9059670639269827, 0.26753558407591194, 0.5953151713807423, 1.1221479684676399, 0.43808777479106314, 0.14159289350524926, -0.6113326667087595, -1.6970997701058523, 0.8533715483188693, -0.5747702703576621, 1.7201028252829094, 0.36374019996621, -0.9198393513289724, -0.4511149942717769, 1.7314168644925394, -1.2474828322527984, -1.135821937530349, 0.6503122356581764, 0.8680714560868139, -1.280722932305824, 0.4802178213352635, -1.5344253806138421, -0.05523921560353476, -0.5264521864493562, 1.8377964830027715, -0.4772998467035594, -0.5457135088474834, -0.5774139187400962, -1.7273630745782, -0.012650778681243284, 0.12220977416772225, -0.46308591695819273, -0.48551666490485607, 1.0286219318481407, -1.5314711897812503, 0.3139712322672219, 0.2230101642463284, 0.12305184690435672, 2.3821598597555242, -0.5722678586905098, 0.1623197415865508, -0.9210456643106257, -0.5511129957766856, -1.6164114527259323, 0.9088053998632372, 0.16896280897881735, 1.3709276075049865, 0.38075423070562486, 0.06720303492506166, 0.22343979175101147, -1.905056632725822, -0.11395150095313604, 0.08717103810820638, 1.9620450828919764, 0.22909619612892454, -1.4238880049541949, 0.9840930668156201, -0.6814898168516695, -0.4396295376064955, -0.9621365669715576, -1.2112981448378257, 0.1897670445683597, -0.24168427292828643, 0.6481780587120058, 0.10181758209302914, 0.6094621199865919, 0.06440195082742389, -0.051821325566759883, -0.286803843363443, 1.5091397816733043, 1.1612070959863974, 1.1124061894738206, 0.06602599691460091, 0.44608660130360495, -1.201618700616783, -0.8053801795997612, -1.7262938193313766, -0.20802018756440235, -0.8888930317561924, 0.6805877607021252, 0.9299220877630004, -2.100000150257667, 0.009339658366574608, 0.8287786597089081, 1.2833055952013062, -1.496465351669501, 1.2761327051888596, 1.043655013573199, 0.855487414665308, -0.8476340996868025, 0.26347512479457813, 0.4011580499389762, -0.09701898207167933, 1.6230181023827688, 0.13087767392325128, 0.5095499877944312, 0.29034625114566504, -0.902521319104472, -1.419482626536593, 0.010738250205630254, 0.7283604441108407, -0.0978776864877819, 0.34809364096192125, -1.2112227513306653, 0.5684460079000437, 0.46677193636088526, -0.5411675858699438]}, {\"name\": \"New Numbers\", \"opacity\": 0.5, \"type\": \"histogram\", \"x\": [1.1349193624811416, 3.617268259068471, 2.5234417150761725, 0.9018885774999961, 1.185005676474561, 2.7596910816680937, 2.4095398830446713, 1.6994530360249778, 0.6642123668910698, 0.11387714940210181, 0.46525907645206044, 0.5420367284288761, 0.8261373154773797, 1.467964267098433, 1.119758309176123, 1.159940624351461, 1.4336764663618762, -1.202122452088938, -0.44965207736821466, 0.17110068696663783, 2.3490435871552915, 0.8443405213815619, 0.0303109356764657, 2.1985702823545545, 1.5536901977247708, 2.026516896357448, 0.5725787974076288, -0.47313452577226434, 2.9547475767608447, 1.9345471254736344, 1.399552990746485, 1.0851751936653926, 0.500833033111734, 1.3881912007850434, 0.40744998205738525, 0.5086333587100191, -0.2779052623938352, -0.25068678963108537, 2.4883296401123776, 2.1255620012381016, 1.4810386735453567, 1.7056214282123763, 0.8205120293533159, 2.1618605806841744, 1.2706916066421783, 1.509462025673015, -0.46112328414089365, -0.5551720290522975, 1.1191943003056084, 1.0641224437576322, 1.094343437922962, 3.166135123627583, -0.41494519908841965, -0.48932074536517534, 1.3302007312304522, 0.2694369469384361, 2.2432295381310556, 2.4789434360030524, 1.7246240191816082, 1.0441578417064794, 2.3602345450419113, 1.119274083891486, 1.5772720497525576, 1.864034642690374, 0.9686365413013776, 3.114894182130251, 1.4326450171674676, -1.2406547258259044, 0.6271588756086997, 1.6590931371092217, 1.0543478501281627, 0.5995418598934, 0.9461142808521652, -0.5097551439072401, 1.6999486245516473, 0.8846854236154198, 2.198007725116607, -0.14130634533136344, 2.9163804260109156, 0.539485173654976, -0.7168169023692377, 2.490075697144155, 0.7641267675843557, 0.2117137318619967, 0.3595169094116063, 1.7333216052946456, -0.5632802962235395, 0.20684302760429596, 0.6951357612742739, -0.3223829123218118, 0.6792940180025413, -1.156555136641193, -0.4367906681376299, 0.4051602467693812, 2.493550809713489, 1.6534212681057068, 1.226902114274167, 3.351855934100615, 2.3640046629529925, 0.5492909886757116]}],\n",
       "                        {\"barmode\": \"overlay\", \"template\": {\"data\": {\"bar\": [{\"error_x\": {\"color\": \"#2a3f5f\"}, \"error_y\": {\"color\": \"#2a3f5f\"}, \"marker\": {\"line\": {\"color\": \"#E5ECF6\", \"width\": 0.5}}, \"type\": \"bar\"}], \"barpolar\": [{\"marker\": {\"line\": {\"color\": \"#E5ECF6\", \"width\": 0.5}}, \"type\": \"barpolar\"}], \"carpet\": [{\"aaxis\": {\"endlinecolor\": \"#2a3f5f\", \"gridcolor\": \"white\", \"linecolor\": \"white\", \"minorgridcolor\": \"white\", \"startlinecolor\": \"#2a3f5f\"}, \"baxis\": {\"endlinecolor\": \"#2a3f5f\", \"gridcolor\": \"white\", \"linecolor\": \"white\", \"minorgridcolor\": \"white\", \"startlinecolor\": \"#2a3f5f\"}, \"type\": \"carpet\"}], \"choropleth\": [{\"colorbar\": {\"outlinewidth\": 0, \"ticks\": \"\"}, \"type\": \"choropleth\"}], \"contour\": [{\"colorbar\": {\"outlinewidth\": 0, \"ticks\": \"\"}, \"colorscale\": [[0.0, \"#0d0887\"], [0.1111111111111111, \"#46039f\"], [0.2222222222222222, \"#7201a8\"], [0.3333333333333333, \"#9c179e\"], [0.4444444444444444, \"#bd3786\"], [0.5555555555555556, \"#d8576b\"], [0.6666666666666666, \"#ed7953\"], [0.7777777777777778, \"#fb9f3a\"], [0.8888888888888888, \"#fdca26\"], [1.0, \"#f0f921\"]], \"type\": \"contour\"}], \"contourcarpet\": [{\"colorbar\": {\"outlinewidth\": 0, \"ticks\": \"\"}, \"type\": \"contourcarpet\"}], \"heatmap\": [{\"colorbar\": {\"outlinewidth\": 0, \"ticks\": \"\"}, \"colorscale\": [[0.0, \"#0d0887\"], [0.1111111111111111, \"#46039f\"], [0.2222222222222222, \"#7201a8\"], [0.3333333333333333, \"#9c179e\"], [0.4444444444444444, \"#bd3786\"], [0.5555555555555556, \"#d8576b\"], [0.6666666666666666, \"#ed7953\"], [0.7777777777777778, \"#fb9f3a\"], [0.8888888888888888, \"#fdca26\"], [1.0, \"#f0f921\"]], \"type\": \"heatmap\"}], \"heatmapgl\": [{\"colorbar\": {\"outlinewidth\": 0, \"ticks\": \"\"}, \"colorscale\": [[0.0, \"#0d0887\"], [0.1111111111111111, \"#46039f\"], [0.2222222222222222, \"#7201a8\"], [0.3333333333333333, \"#9c179e\"], [0.4444444444444444, \"#bd3786\"], [0.5555555555555556, \"#d8576b\"], [0.6666666666666666, \"#ed7953\"], [0.7777777777777778, \"#fb9f3a\"], [0.8888888888888888, \"#fdca26\"], [1.0, \"#f0f921\"]], \"type\": \"heatmapgl\"}], \"histogram\": [{\"marker\": {\"colorbar\": {\"outlinewidth\": 0, \"ticks\": \"\"}}, \"type\": \"histogram\"}], \"histogram2d\": [{\"colorbar\": {\"outlinewidth\": 0, \"ticks\": \"\"}, \"colorscale\": [[0.0, \"#0d0887\"], [0.1111111111111111, \"#46039f\"], [0.2222222222222222, \"#7201a8\"], [0.3333333333333333, \"#9c179e\"], [0.4444444444444444, \"#bd3786\"], [0.5555555555555556, \"#d8576b\"], [0.6666666666666666, \"#ed7953\"], [0.7777777777777778, \"#fb9f3a\"], [0.8888888888888888, \"#fdca26\"], [1.0, \"#f0f921\"]], \"type\": \"histogram2d\"}], \"histogram2dcontour\": [{\"colorbar\": {\"outlinewidth\": 0, \"ticks\": \"\"}, \"colorscale\": [[0.0, \"#0d0887\"], [0.1111111111111111, \"#46039f\"], [0.2222222222222222, \"#7201a8\"], [0.3333333333333333, \"#9c179e\"], [0.4444444444444444, \"#bd3786\"], [0.5555555555555556, \"#d8576b\"], [0.6666666666666666, \"#ed7953\"], [0.7777777777777778, \"#fb9f3a\"], [0.8888888888888888, \"#fdca26\"], [1.0, \"#f0f921\"]], \"type\": \"histogram2dcontour\"}], \"mesh3d\": [{\"colorbar\": {\"outlinewidth\": 0, \"ticks\": \"\"}, \"type\": \"mesh3d\"}], \"parcoords\": [{\"line\": {\"colorbar\": {\"outlinewidth\": 0, \"ticks\": \"\"}}, \"type\": \"parcoords\"}], \"pie\": [{\"automargin\": true, \"type\": \"pie\"}], \"scatter\": [{\"marker\": {\"colorbar\": {\"outlinewidth\": 0, \"ticks\": \"\"}}, \"type\": \"scatter\"}], \"scatter3d\": [{\"line\": {\"colorbar\": {\"outlinewidth\": 0, \"ticks\": \"\"}}, \"marker\": {\"colorbar\": {\"outlinewidth\": 0, \"ticks\": \"\"}}, \"type\": \"scatter3d\"}], \"scattercarpet\": [{\"marker\": {\"colorbar\": {\"outlinewidth\": 0, \"ticks\": \"\"}}, \"type\": \"scattercarpet\"}], \"scattergeo\": [{\"marker\": {\"colorbar\": {\"outlinewidth\": 0, \"ticks\": \"\"}}, \"type\": \"scattergeo\"}], \"scattergl\": [{\"marker\": {\"colorbar\": {\"outlinewidth\": 0, \"ticks\": \"\"}}, \"type\": \"scattergl\"}], \"scattermapbox\": [{\"marker\": {\"colorbar\": {\"outlinewidth\": 0, \"ticks\": \"\"}}, \"type\": \"scattermapbox\"}], \"scatterpolar\": [{\"marker\": {\"colorbar\": {\"outlinewidth\": 0, \"ticks\": \"\"}}, \"type\": \"scatterpolar\"}], \"scatterpolargl\": [{\"marker\": {\"colorbar\": {\"outlinewidth\": 0, \"ticks\": \"\"}}, \"type\": \"scatterpolargl\"}], \"scatterternary\": [{\"marker\": {\"colorbar\": {\"outlinewidth\": 0, \"ticks\": \"\"}}, \"type\": \"scatterternary\"}], \"surface\": [{\"colorbar\": {\"outlinewidth\": 0, \"ticks\": \"\"}, \"colorscale\": [[0.0, \"#0d0887\"], [0.1111111111111111, \"#46039f\"], [0.2222222222222222, \"#7201a8\"], [0.3333333333333333, \"#9c179e\"], [0.4444444444444444, \"#bd3786\"], [0.5555555555555556, \"#d8576b\"], [0.6666666666666666, \"#ed7953\"], [0.7777777777777778, \"#fb9f3a\"], [0.8888888888888888, \"#fdca26\"], [1.0, \"#f0f921\"]], \"type\": \"surface\"}], \"table\": [{\"cells\": {\"fill\": {\"color\": \"#EBF0F8\"}, \"line\": {\"color\": \"white\"}}, \"header\": {\"fill\": {\"color\": \"#C8D4E3\"}, \"line\": {\"color\": \"white\"}}, \"type\": \"table\"}]}, \"layout\": {\"annotationdefaults\": {\"arrowcolor\": \"#2a3f5f\", \"arrowhead\": 0, \"arrowwidth\": 1}, \"coloraxis\": {\"colorbar\": {\"outlinewidth\": 0, \"ticks\": \"\"}}, \"colorscale\": {\"diverging\": [[0, \"#8e0152\"], [0.1, \"#c51b7d\"], [0.2, \"#de77ae\"], [0.3, \"#f1b6da\"], [0.4, \"#fde0ef\"], [0.5, \"#f7f7f7\"], [0.6, \"#e6f5d0\"], [0.7, \"#b8e186\"], [0.8, \"#7fbc41\"], [0.9, \"#4d9221\"], [1, \"#276419\"]], \"sequential\": [[0.0, \"#0d0887\"], [0.1111111111111111, \"#46039f\"], [0.2222222222222222, \"#7201a8\"], [0.3333333333333333, \"#9c179e\"], [0.4444444444444444, \"#bd3786\"], [0.5555555555555556, \"#d8576b\"], [0.6666666666666666, \"#ed7953\"], [0.7777777777777778, \"#fb9f3a\"], [0.8888888888888888, \"#fdca26\"], [1.0, \"#f0f921\"]], \"sequentialminus\": [[0.0, \"#0d0887\"], [0.1111111111111111, \"#46039f\"], [0.2222222222222222, \"#7201a8\"], [0.3333333333333333, \"#9c179e\"], [0.4444444444444444, \"#bd3786\"], [0.5555555555555556, \"#d8576b\"], [0.6666666666666666, \"#ed7953\"], [0.7777777777777778, \"#fb9f3a\"], [0.8888888888888888, \"#fdca26\"], [1.0, \"#f0f921\"]]}, \"colorway\": [\"#636efa\", \"#EF553B\", \"#00cc96\", \"#ab63fa\", \"#FFA15A\", \"#19d3f3\", \"#FF6692\", \"#B6E880\", \"#FF97FF\", \"#FECB52\"], \"font\": {\"color\": \"#2a3f5f\"}, \"geo\": {\"bgcolor\": \"white\", \"lakecolor\": \"white\", \"landcolor\": \"#E5ECF6\", \"showlakes\": true, \"showland\": true, \"subunitcolor\": \"white\"}, \"hoverlabel\": {\"align\": \"left\"}, \"hovermode\": \"closest\", \"mapbox\": {\"style\": \"light\"}, \"paper_bgcolor\": \"white\", \"plot_bgcolor\": \"#E5ECF6\", \"polar\": {\"angularaxis\": {\"gridcolor\": \"white\", \"linecolor\": \"white\", \"ticks\": \"\"}, \"bgcolor\": \"#E5ECF6\", \"radialaxis\": {\"gridcolor\": \"white\", \"linecolor\": \"white\", \"ticks\": \"\"}}, \"scene\": {\"xaxis\": {\"backgroundcolor\": \"#E5ECF6\", \"gridcolor\": \"white\", \"gridwidth\": 2, \"linecolor\": \"white\", \"showbackground\": true, \"ticks\": \"\", \"zerolinecolor\": \"white\"}, \"yaxis\": {\"backgroundcolor\": \"#E5ECF6\", \"gridcolor\": \"white\", \"gridwidth\": 2, \"linecolor\": \"white\", \"showbackground\": true, \"ticks\": \"\", \"zerolinecolor\": \"white\"}, \"zaxis\": {\"backgroundcolor\": \"#E5ECF6\", \"gridcolor\": \"white\", \"gridwidth\": 2, \"linecolor\": \"white\", \"showbackground\": true, \"ticks\": \"\", \"zerolinecolor\": \"white\"}}, \"shapedefaults\": {\"line\": {\"color\": \"#2a3f5f\"}}, \"ternary\": {\"aaxis\": {\"gridcolor\": \"white\", \"linecolor\": \"white\", \"ticks\": \"\"}, \"baxis\": {\"gridcolor\": \"white\", \"linecolor\": \"white\", \"ticks\": \"\"}, \"bgcolor\": \"#E5ECF6\", \"caxis\": {\"gridcolor\": \"white\", \"linecolor\": \"white\", \"ticks\": \"\"}}, \"title\": {\"x\": 0.05}, \"xaxis\": {\"automargin\": true, \"gridcolor\": \"white\", \"linecolor\": \"white\", \"ticks\": \"\", \"title\": {\"standoff\": 15}, \"zerolinecolor\": \"white\", \"zerolinewidth\": 2}, \"yaxis\": {\"automargin\": true, \"gridcolor\": \"white\", \"linecolor\": \"white\", \"ticks\": \"\", \"title\": {\"standoff\": 15}, \"zerolinecolor\": \"white\", \"zerolinewidth\": 2}}}},\n",
       "                        {\"responsive\": true}\n",
       "                    ).then(function(){\n",
       "                            \n",
       "var gd = document.getElementById('d41ffc07-5979-494e-95fa-18c801bc39a9');\n",
       "var x = new MutationObserver(function (mutations, observer) {{\n",
       "        var display = window.getComputedStyle(gd).display;\n",
       "        if (!display || display === 'none') {{\n",
       "            console.log([gd, 'removed!']);\n",
       "            Plotly.purge(gd);\n",
       "            observer.disconnect();\n",
       "        }}\n",
       "}});\n",
       "\n",
       "// Listen for the removal of the full notebook cells\n",
       "var notebookContainer = gd.closest('#notebook-container');\n",
       "if (notebookContainer) {{\n",
       "    x.observe(notebookContainer, {childList: true});\n",
       "}}\n",
       "\n",
       "// Listen for the clearing of the current output cell\n",
       "var outputEl = gd.closest('.output');\n",
       "if (outputEl) {{\n",
       "    x.observe(outputEl, {childList: true});\n",
       "}}\n",
       "\n",
       "                        })\n",
       "                };\n",
       "                });\n",
       "            </script>\n",
       "        </div>"
      ]
     },
     "metadata": {},
     "output_type": "display_data"
    }
   ],
   "source": [
    "offline.iplot(fig)"
   ]
  },
  {
   "cell_type": "code",
   "execution_count": 10,
   "metadata": {},
   "outputs": [],
   "source": [
    "# Lets customize the histograms traces\n",
    "origin_numbers_trace = go.Histogram(x = random_numbers,\n",
    "                                    xbins = dict(start = -4, end = 4, size=0.5),\n",
    "                                    marker = dict(color = '#D67D93'),\n",
    "                                    opacity=0.75,\n",
    "                                    name='Original Numbers')\n",
    "\n",
    "new_numbers_trace = go.Histogram(x = new_random_numbers,\n",
    "                                    xbins = dict(start = 0, end = 4, size=0.5),\n",
    "                                    marker = dict(color = '#7DAED6'),\n",
    "                                    opacity=0.75,\n",
    "                                    name='New Numbers')"
   ]
  },
  {
   "cell_type": "code",
   "execution_count": 11,
   "metadata": {},
   "outputs": [],
   "source": [
    "layout = go.Layout(title = 'Styled histograms',\n",
    "                   xaxis = dict(title = 'Value'),\n",
    "                   yaxis = dict(title = 'Count'),\n",
    "                   bargap = 0.2,\n",
    "                   bargroupgap=0.1\n",
    "                  )"
   ]
  },
  {
   "cell_type": "code",
   "execution_count": 12,
   "metadata": {},
   "outputs": [
    {
     "data": {
      "application/vnd.plotly.v1+json": {
       "config": {
        "linkText": "Export to plot.ly",
        "plotlyServerURL": "https://plot.ly",
        "showLink": false
       },
       "data": [
        {
         "name": "Original Numbers",
         "opacity": 0.9,
         "type": "histogram",
         "x": [
          0.14689844764223606,
          -0.6339926865663986,
          -0.6754752284511096,
          -0.09395704333226904,
          1.8305654902366273,
          -0.9484957226295377,
          -0.7779516465847378,
          1.371915366052889,
          -0.16869236314394773,
          0.4101571709677264,
          -0.46265237764029377,
          0.9127954044553713,
          -0.7737419034629791,
          2.964573155645736,
          -1.1152426828016242,
          1.3029541863119787,
          0.3354552314269626,
          -0.24693265985961751,
          1.1731391286294313,
          -1.6433739332770272,
          -0.08412586742636989,
          0.6028467479572093,
          -0.7021278956474523,
          -0.6067765571800232,
          -0.7856857292221526,
          -1.2920671350983983,
          -0.36853059794842247,
          -0.23262138148316577,
          1.4938338194321756,
          0.2519960621830859,
          -0.2719535864612855,
          0.1399992274718262,
          0.014448003236294069,
          0.26043201878494937,
          -0.14404667082258835,
          0.3398601275508795,
          0.18732449386913663,
          0.5740111495580108,
          0.44875349050602226,
          -0.7209780229618249,
          -1.0455278945622366,
          -0.46934566387414156,
          0.5400818677424064,
          1.3618794423652827,
          -0.3847249908132002,
          0.29105455646528483,
          -0.4729106463621695,
          1.4331534397908157,
          0.6048674570978158,
          -0.6692155028782203,
          0.3810769827458004,
          -2.071862794956133,
          0.7079833436130649,
          -0.16779739903894153,
          1.2755712240475114,
          -0.027649299019883083,
          -0.8656207215264026,
          -1.5222741770663037,
          -1.008178558719683,
          1.363351312588568,
          0.5334457428654512,
          -1.9638436125646415,
          -1.0792799439759846,
          -0.11368276076723223,
          -1.2786381094498906,
          1.0597962783830506,
          -1.1382699532882974,
          -1.6154771387816327,
          -0.7470217762785318,
          -0.12679311130460022,
          -0.3106073565165106,
          1.3037252966025188,
          1.605903939883664,
          0.4058776315030546,
          -0.8801863000427621,
          1.057238811794025,
          1.35533896955396,
          -1.239251228860427,
          0.28487841937729164,
          0.5815882954335735,
          -1.0576202148012472,
          1.3770802373391495,
          1.3493752636894782,
          -1.0174895813074372,
          0.32148604795753516,
          0.5345362619943567,
          -0.3484950589582768,
          0.8650825793344747,
          -0.40360196624011335,
          -0.9798368600703496,
          0.6190861143927495,
          0.24598855226123534,
          0.8773626024335781,
          0.9059670639269827,
          0.26753558407591194,
          0.5953151713807423,
          1.1221479684676399,
          0.43808777479106314,
          0.14159289350524926,
          -0.6113326667087595,
          -1.6970997701058523,
          0.8533715483188693,
          -0.5747702703576621,
          1.7201028252829094,
          0.36374019996621,
          -0.9198393513289724,
          -0.4511149942717769,
          1.7314168644925394,
          -1.2474828322527984,
          -1.135821937530349,
          0.6503122356581764,
          0.8680714560868139,
          -1.280722932305824,
          0.4802178213352635,
          -1.5344253806138421,
          -0.05523921560353476,
          -0.5264521864493562,
          1.8377964830027715,
          -0.4772998467035594,
          -0.5457135088474834,
          -0.5774139187400962,
          -1.7273630745782,
          -0.012650778681243284,
          0.12220977416772225,
          -0.46308591695819273,
          -0.48551666490485607,
          1.0286219318481407,
          -1.5314711897812503,
          0.3139712322672219,
          0.2230101642463284,
          0.12305184690435672,
          2.3821598597555242,
          -0.5722678586905098,
          0.1623197415865508,
          -0.9210456643106257,
          -0.5511129957766856,
          -1.6164114527259323,
          0.9088053998632372,
          0.16896280897881735,
          1.3709276075049865,
          0.38075423070562486,
          0.06720303492506166,
          0.22343979175101147,
          -1.905056632725822,
          -0.11395150095313604,
          0.08717103810820638,
          1.9620450828919764,
          0.22909619612892454,
          -1.4238880049541949,
          0.9840930668156201,
          -0.6814898168516695,
          -0.4396295376064955,
          -0.9621365669715576,
          -1.2112981448378257,
          0.1897670445683597,
          -0.24168427292828643,
          0.6481780587120058,
          0.10181758209302914,
          0.6094621199865919,
          0.06440195082742389,
          -0.051821325566759883,
          -0.286803843363443,
          1.5091397816733043,
          1.1612070959863974,
          1.1124061894738206,
          0.06602599691460091,
          0.44608660130360495,
          -1.201618700616783,
          -0.8053801795997612,
          -1.7262938193313766,
          -0.20802018756440235,
          -0.8888930317561924,
          0.6805877607021252,
          0.9299220877630004,
          -2.100000150257667,
          0.009339658366574608,
          0.8287786597089081,
          1.2833055952013062,
          -1.496465351669501,
          1.2761327051888596,
          1.043655013573199,
          0.855487414665308,
          -0.8476340996868025,
          0.26347512479457813,
          0.4011580499389762,
          -0.09701898207167933,
          1.6230181023827688,
          0.13087767392325128,
          0.5095499877944312,
          0.29034625114566504,
          -0.902521319104472,
          -1.419482626536593,
          0.010738250205630254,
          0.7283604441108407,
          -0.0978776864877819,
          0.34809364096192125,
          -1.2112227513306653,
          0.5684460079000437,
          0.46677193636088526,
          -0.5411675858699438
         ]
        },
        {
         "name": "New Numbers",
         "opacity": 0.5,
         "type": "histogram",
         "x": [
          1.1349193624811416,
          3.617268259068471,
          2.5234417150761725,
          0.9018885774999961,
          1.185005676474561,
          2.7596910816680937,
          2.4095398830446713,
          1.6994530360249778,
          0.6642123668910698,
          0.11387714940210181,
          0.46525907645206044,
          0.5420367284288761,
          0.8261373154773797,
          1.467964267098433,
          1.119758309176123,
          1.159940624351461,
          1.4336764663618762,
          -1.202122452088938,
          -0.44965207736821466,
          0.17110068696663783,
          2.3490435871552915,
          0.8443405213815619,
          0.0303109356764657,
          2.1985702823545545,
          1.5536901977247708,
          2.026516896357448,
          0.5725787974076288,
          -0.47313452577226434,
          2.9547475767608447,
          1.9345471254736344,
          1.399552990746485,
          1.0851751936653926,
          0.500833033111734,
          1.3881912007850434,
          0.40744998205738525,
          0.5086333587100191,
          -0.2779052623938352,
          -0.25068678963108537,
          2.4883296401123776,
          2.1255620012381016,
          1.4810386735453567,
          1.7056214282123763,
          0.8205120293533159,
          2.1618605806841744,
          1.2706916066421783,
          1.509462025673015,
          -0.46112328414089365,
          -0.5551720290522975,
          1.1191943003056084,
          1.0641224437576322,
          1.094343437922962,
          3.166135123627583,
          -0.41494519908841965,
          -0.48932074536517534,
          1.3302007312304522,
          0.2694369469384361,
          2.2432295381310556,
          2.4789434360030524,
          1.7246240191816082,
          1.0441578417064794,
          2.3602345450419113,
          1.119274083891486,
          1.5772720497525576,
          1.864034642690374,
          0.9686365413013776,
          3.114894182130251,
          1.4326450171674676,
          -1.2406547258259044,
          0.6271588756086997,
          1.6590931371092217,
          1.0543478501281627,
          0.5995418598934,
          0.9461142808521652,
          -0.5097551439072401,
          1.6999486245516473,
          0.8846854236154198,
          2.198007725116607,
          -0.14130634533136344,
          2.9163804260109156,
          0.539485173654976,
          -0.7168169023692377,
          2.490075697144155,
          0.7641267675843557,
          0.2117137318619967,
          0.3595169094116063,
          1.7333216052946456,
          -0.5632802962235395,
          0.20684302760429596,
          0.6951357612742739,
          -0.3223829123218118,
          0.6792940180025413,
          -1.156555136641193,
          -0.4367906681376299,
          0.4051602467693812,
          2.493550809713489,
          1.6534212681057068,
          1.226902114274167,
          3.351855934100615,
          2.3640046629529925,
          0.5492909886757116
         ]
        }
       ],
       "layout": {
        "autosize": true,
        "bargap": 0.2,
        "bargroupgap": 0.1,
        "template": {
         "data": {
          "bar": [
           {
            "error_x": {
             "color": "#2a3f5f"
            },
            "error_y": {
             "color": "#2a3f5f"
            },
            "marker": {
             "line": {
              "color": "#E5ECF6",
              "width": 0.5
             }
            },
            "type": "bar"
           }
          ],
          "barpolar": [
           {
            "marker": {
             "line": {
              "color": "#E5ECF6",
              "width": 0.5
             }
            },
            "type": "barpolar"
           }
          ],
          "carpet": [
           {
            "aaxis": {
             "endlinecolor": "#2a3f5f",
             "gridcolor": "white",
             "linecolor": "white",
             "minorgridcolor": "white",
             "startlinecolor": "#2a3f5f"
            },
            "baxis": {
             "endlinecolor": "#2a3f5f",
             "gridcolor": "white",
             "linecolor": "white",
             "minorgridcolor": "white",
             "startlinecolor": "#2a3f5f"
            },
            "type": "carpet"
           }
          ],
          "choropleth": [
           {
            "colorbar": {
             "outlinewidth": 0,
             "ticks": ""
            },
            "type": "choropleth"
           }
          ],
          "contour": [
           {
            "colorbar": {
             "outlinewidth": 0,
             "ticks": ""
            },
            "colorscale": [
             [
              0,
              "#0d0887"
             ],
             [
              0.1111111111111111,
              "#46039f"
             ],
             [
              0.2222222222222222,
              "#7201a8"
             ],
             [
              0.3333333333333333,
              "#9c179e"
             ],
             [
              0.4444444444444444,
              "#bd3786"
             ],
             [
              0.5555555555555556,
              "#d8576b"
             ],
             [
              0.6666666666666666,
              "#ed7953"
             ],
             [
              0.7777777777777778,
              "#fb9f3a"
             ],
             [
              0.8888888888888888,
              "#fdca26"
             ],
             [
              1,
              "#f0f921"
             ]
            ],
            "type": "contour"
           }
          ],
          "contourcarpet": [
           {
            "colorbar": {
             "outlinewidth": 0,
             "ticks": ""
            },
            "type": "contourcarpet"
           }
          ],
          "heatmap": [
           {
            "colorbar": {
             "outlinewidth": 0,
             "ticks": ""
            },
            "colorscale": [
             [
              0,
              "#0d0887"
             ],
             [
              0.1111111111111111,
              "#46039f"
             ],
             [
              0.2222222222222222,
              "#7201a8"
             ],
             [
              0.3333333333333333,
              "#9c179e"
             ],
             [
              0.4444444444444444,
              "#bd3786"
             ],
             [
              0.5555555555555556,
              "#d8576b"
             ],
             [
              0.6666666666666666,
              "#ed7953"
             ],
             [
              0.7777777777777778,
              "#fb9f3a"
             ],
             [
              0.8888888888888888,
              "#fdca26"
             ],
             [
              1,
              "#f0f921"
             ]
            ],
            "type": "heatmap"
           }
          ],
          "heatmapgl": [
           {
            "colorbar": {
             "outlinewidth": 0,
             "ticks": ""
            },
            "colorscale": [
             [
              0,
              "#0d0887"
             ],
             [
              0.1111111111111111,
              "#46039f"
             ],
             [
              0.2222222222222222,
              "#7201a8"
             ],
             [
              0.3333333333333333,
              "#9c179e"
             ],
             [
              0.4444444444444444,
              "#bd3786"
             ],
             [
              0.5555555555555556,
              "#d8576b"
             ],
             [
              0.6666666666666666,
              "#ed7953"
             ],
             [
              0.7777777777777778,
              "#fb9f3a"
             ],
             [
              0.8888888888888888,
              "#fdca26"
             ],
             [
              1,
              "#f0f921"
             ]
            ],
            "type": "heatmapgl"
           }
          ],
          "histogram": [
           {
            "marker": {
             "colorbar": {
              "outlinewidth": 0,
              "ticks": ""
             }
            },
            "type": "histogram"
           }
          ],
          "histogram2d": [
           {
            "colorbar": {
             "outlinewidth": 0,
             "ticks": ""
            },
            "colorscale": [
             [
              0,
              "#0d0887"
             ],
             [
              0.1111111111111111,
              "#46039f"
             ],
             [
              0.2222222222222222,
              "#7201a8"
             ],
             [
              0.3333333333333333,
              "#9c179e"
             ],
             [
              0.4444444444444444,
              "#bd3786"
             ],
             [
              0.5555555555555556,
              "#d8576b"
             ],
             [
              0.6666666666666666,
              "#ed7953"
             ],
             [
              0.7777777777777778,
              "#fb9f3a"
             ],
             [
              0.8888888888888888,
              "#fdca26"
             ],
             [
              1,
              "#f0f921"
             ]
            ],
            "type": "histogram2d"
           }
          ],
          "histogram2dcontour": [
           {
            "colorbar": {
             "outlinewidth": 0,
             "ticks": ""
            },
            "colorscale": [
             [
              0,
              "#0d0887"
             ],
             [
              0.1111111111111111,
              "#46039f"
             ],
             [
              0.2222222222222222,
              "#7201a8"
             ],
             [
              0.3333333333333333,
              "#9c179e"
             ],
             [
              0.4444444444444444,
              "#bd3786"
             ],
             [
              0.5555555555555556,
              "#d8576b"
             ],
             [
              0.6666666666666666,
              "#ed7953"
             ],
             [
              0.7777777777777778,
              "#fb9f3a"
             ],
             [
              0.8888888888888888,
              "#fdca26"
             ],
             [
              1,
              "#f0f921"
             ]
            ],
            "type": "histogram2dcontour"
           }
          ],
          "mesh3d": [
           {
            "colorbar": {
             "outlinewidth": 0,
             "ticks": ""
            },
            "type": "mesh3d"
           }
          ],
          "parcoords": [
           {
            "line": {
             "colorbar": {
              "outlinewidth": 0,
              "ticks": ""
             }
            },
            "type": "parcoords"
           }
          ],
          "pie": [
           {
            "automargin": true,
            "type": "pie"
           }
          ],
          "scatter": [
           {
            "marker": {
             "colorbar": {
              "outlinewidth": 0,
              "ticks": ""
             }
            },
            "type": "scatter"
           }
          ],
          "scatter3d": [
           {
            "line": {
             "colorbar": {
              "outlinewidth": 0,
              "ticks": ""
             }
            },
            "marker": {
             "colorbar": {
              "outlinewidth": 0,
              "ticks": ""
             }
            },
            "type": "scatter3d"
           }
          ],
          "scattercarpet": [
           {
            "marker": {
             "colorbar": {
              "outlinewidth": 0,
              "ticks": ""
             }
            },
            "type": "scattercarpet"
           }
          ],
          "scattergeo": [
           {
            "marker": {
             "colorbar": {
              "outlinewidth": 0,
              "ticks": ""
             }
            },
            "type": "scattergeo"
           }
          ],
          "scattergl": [
           {
            "marker": {
             "colorbar": {
              "outlinewidth": 0,
              "ticks": ""
             }
            },
            "type": "scattergl"
           }
          ],
          "scattermapbox": [
           {
            "marker": {
             "colorbar": {
              "outlinewidth": 0,
              "ticks": ""
             }
            },
            "type": "scattermapbox"
           }
          ],
          "scatterpolar": [
           {
            "marker": {
             "colorbar": {
              "outlinewidth": 0,
              "ticks": ""
             }
            },
            "type": "scatterpolar"
           }
          ],
          "scatterpolargl": [
           {
            "marker": {
             "colorbar": {
              "outlinewidth": 0,
              "ticks": ""
             }
            },
            "type": "scatterpolargl"
           }
          ],
          "scatterternary": [
           {
            "marker": {
             "colorbar": {
              "outlinewidth": 0,
              "ticks": ""
             }
            },
            "type": "scatterternary"
           }
          ],
          "surface": [
           {
            "colorbar": {
             "outlinewidth": 0,
             "ticks": ""
            },
            "colorscale": [
             [
              0,
              "#0d0887"
             ],
             [
              0.1111111111111111,
              "#46039f"
             ],
             [
              0.2222222222222222,
              "#7201a8"
             ],
             [
              0.3333333333333333,
              "#9c179e"
             ],
             [
              0.4444444444444444,
              "#bd3786"
             ],
             [
              0.5555555555555556,
              "#d8576b"
             ],
             [
              0.6666666666666666,
              "#ed7953"
             ],
             [
              0.7777777777777778,
              "#fb9f3a"
             ],
             [
              0.8888888888888888,
              "#fdca26"
             ],
             [
              1,
              "#f0f921"
             ]
            ],
            "type": "surface"
           }
          ],
          "table": [
           {
            "cells": {
             "fill": {
              "color": "#EBF0F8"
             },
             "line": {
              "color": "white"
             }
            },
            "header": {
             "fill": {
              "color": "#C8D4E3"
             },
             "line": {
              "color": "white"
             }
            },
            "type": "table"
           }
          ]
         },
         "layout": {
          "annotationdefaults": {
           "arrowcolor": "#2a3f5f",
           "arrowhead": 0,
           "arrowwidth": 1
          },
          "coloraxis": {
           "colorbar": {
            "outlinewidth": 0,
            "ticks": ""
           }
          },
          "colorscale": {
           "diverging": [
            [
             0,
             "#8e0152"
            ],
            [
             0.1,
             "#c51b7d"
            ],
            [
             0.2,
             "#de77ae"
            ],
            [
             0.3,
             "#f1b6da"
            ],
            [
             0.4,
             "#fde0ef"
            ],
            [
             0.5,
             "#f7f7f7"
            ],
            [
             0.6,
             "#e6f5d0"
            ],
            [
             0.7,
             "#b8e186"
            ],
            [
             0.8,
             "#7fbc41"
            ],
            [
             0.9,
             "#4d9221"
            ],
            [
             1,
             "#276419"
            ]
           ],
           "sequential": [
            [
             0,
             "#0d0887"
            ],
            [
             0.1111111111111111,
             "#46039f"
            ],
            [
             0.2222222222222222,
             "#7201a8"
            ],
            [
             0.3333333333333333,
             "#9c179e"
            ],
            [
             0.4444444444444444,
             "#bd3786"
            ],
            [
             0.5555555555555556,
             "#d8576b"
            ],
            [
             0.6666666666666666,
             "#ed7953"
            ],
            [
             0.7777777777777778,
             "#fb9f3a"
            ],
            [
             0.8888888888888888,
             "#fdca26"
            ],
            [
             1,
             "#f0f921"
            ]
           ],
           "sequentialminus": [
            [
             0,
             "#0d0887"
            ],
            [
             0.1111111111111111,
             "#46039f"
            ],
            [
             0.2222222222222222,
             "#7201a8"
            ],
            [
             0.3333333333333333,
             "#9c179e"
            ],
            [
             0.4444444444444444,
             "#bd3786"
            ],
            [
             0.5555555555555556,
             "#d8576b"
            ],
            [
             0.6666666666666666,
             "#ed7953"
            ],
            [
             0.7777777777777778,
             "#fb9f3a"
            ],
            [
             0.8888888888888888,
             "#fdca26"
            ],
            [
             1,
             "#f0f921"
            ]
           ]
          },
          "colorway": [
           "#636efa",
           "#EF553B",
           "#00cc96",
           "#ab63fa",
           "#FFA15A",
           "#19d3f3",
           "#FF6692",
           "#B6E880",
           "#FF97FF",
           "#FECB52"
          ],
          "font": {
           "color": "#2a3f5f"
          },
          "geo": {
           "bgcolor": "white",
           "lakecolor": "white",
           "landcolor": "#E5ECF6",
           "showlakes": true,
           "showland": true,
           "subunitcolor": "white"
          },
          "hoverlabel": {
           "align": "left"
          },
          "hovermode": "closest",
          "mapbox": {
           "style": "light"
          },
          "paper_bgcolor": "white",
          "plot_bgcolor": "#E5ECF6",
          "polar": {
           "angularaxis": {
            "gridcolor": "white",
            "linecolor": "white",
            "ticks": ""
           },
           "bgcolor": "#E5ECF6",
           "radialaxis": {
            "gridcolor": "white",
            "linecolor": "white",
            "ticks": ""
           }
          },
          "scene": {
           "xaxis": {
            "backgroundcolor": "#E5ECF6",
            "gridcolor": "white",
            "gridwidth": 2,
            "linecolor": "white",
            "showbackground": true,
            "ticks": "",
            "zerolinecolor": "white"
           },
           "yaxis": {
            "backgroundcolor": "#E5ECF6",
            "gridcolor": "white",
            "gridwidth": 2,
            "linecolor": "white",
            "showbackground": true,
            "ticks": "",
            "zerolinecolor": "white"
           },
           "zaxis": {
            "backgroundcolor": "#E5ECF6",
            "gridcolor": "white",
            "gridwidth": 2,
            "linecolor": "white",
            "showbackground": true,
            "ticks": "",
            "zerolinecolor": "white"
           }
          },
          "shapedefaults": {
           "line": {
            "color": "#2a3f5f"
           }
          },
          "ternary": {
           "aaxis": {
            "gridcolor": "white",
            "linecolor": "white",
            "ticks": ""
           },
           "baxis": {
            "gridcolor": "white",
            "linecolor": "white",
            "ticks": ""
           },
           "bgcolor": "#E5ECF6",
           "caxis": {
            "gridcolor": "white",
            "linecolor": "white",
            "ticks": ""
           }
          },
          "title": {
           "x": 0.05
          },
          "xaxis": {
           "automargin": true,
           "gridcolor": "white",
           "linecolor": "white",
           "ticks": "",
           "title": {
            "standoff": 15
           },
           "zerolinecolor": "white",
           "zerolinewidth": 2
          },
          "yaxis": {
           "automargin": true,
           "gridcolor": "white",
           "linecolor": "white",
           "ticks": "",
           "title": {
            "standoff": 15
           },
           "zerolinecolor": "white",
           "zerolinewidth": 2
          }
         }
        },
        "title": {
         "text": "Styled histograms"
        },
        "xaxis": {
         "autorange": true,
         "range": [
          -2.5,
          4
         ],
         "title": {
          "text": "Value"
         },
         "type": "linear"
        },
        "yaxis": {
         "autorange": true,
         "range": [
          0,
          47.368421052631575
         ],
         "title": {
          "text": "Count"
         }
        }
       }
      },
      "image/png": "[encoded data removed]",
      "text/html": [
       "<div>\n",
       "        \n",
       "        \n",
       "            <div id=\"d5baa9cd-75bc-4633-b0a3-f2d3945c0445\" class=\"plotly-graph-div\" style=\"height:525px; width:100%;\"></div>\n",
       "            <script type=\"text/javascript\">\n",
       "                require([\"plotly\"], function(Plotly) {\n",
       "                    window.PLOTLYENV=window.PLOTLYENV || {};\n",
       "                    \n",
       "                if (document.getElementById(\"d5baa9cd-75bc-4633-b0a3-f2d3945c0445\")) {\n",
       "                    Plotly.newPlot(\n",
       "                        'd5baa9cd-75bc-4633-b0a3-f2d3945c0445',\n",
       "                        [{\"name\": \"Original Numbers\", \"opacity\": 0.9, \"type\": \"histogram\", \"x\": [0.14689844764223606, -0.6339926865663986, -0.6754752284511096, -0.09395704333226904, 1.8305654902366273, -0.9484957226295377, -0.7779516465847378, 1.371915366052889, -0.16869236314394773, 0.4101571709677264, -0.46265237764029377, 0.9127954044553713, -0.7737419034629791, 2.964573155645736, -1.1152426828016242, 1.3029541863119787, 0.3354552314269626, -0.24693265985961751, 1.1731391286294313, -1.6433739332770272, -0.08412586742636989, 0.6028467479572093, -0.7021278956474523, -0.6067765571800232, -0.7856857292221526, -1.2920671350983983, -0.36853059794842247, -0.23262138148316577, 1.4938338194321756, 0.2519960621830859, -0.2719535864612855, 0.1399992274718262, 0.014448003236294069, 0.26043201878494937, -0.14404667082258835, 0.3398601275508795, 0.18732449386913663, 0.5740111495580108, 0.44875349050602226, -0.7209780229618249, -1.0455278945622366, -0.46934566387414156, 0.5400818677424064, 1.3618794423652827, -0.3847249908132002, 0.29105455646528483, -0.4729106463621695, 1.4331534397908157, 0.6048674570978158, -0.6692155028782203, 0.3810769827458004, -2.071862794956133, 0.7079833436130649, -0.16779739903894153, 1.2755712240475114, -0.027649299019883083, -0.8656207215264026, -1.5222741770663037, -1.008178558719683, 1.363351312588568, 0.5334457428654512, -1.9638436125646415, -1.0792799439759846, -0.11368276076723223, -1.2786381094498906, 1.0597962783830506, -1.1382699532882974, -1.6154771387816327, -0.7470217762785318, -0.12679311130460022, -0.3106073565165106, 1.3037252966025188, 1.605903939883664, 0.4058776315030546, -0.8801863000427621, 1.057238811794025, 1.35533896955396, -1.239251228860427, 0.28487841937729164, 0.5815882954335735, -1.0576202148012472, 1.3770802373391495, 1.3493752636894782, -1.0174895813074372, 0.32148604795753516, 0.5345362619943567, -0.3484950589582768, 0.8650825793344747, -0.40360196624011335, -0.9798368600703496, 0.6190861143927495, 0.24598855226123534, 0.8773626024335781, 0.9059670639269827, 0.26753558407591194, 0.5953151713807423, 1.1221479684676399, 0.43808777479106314, 0.14159289350524926, -0.6113326667087595, -1.6970997701058523, 0.8533715483188693, -0.5747702703576621, 1.7201028252829094, 0.36374019996621, -0.9198393513289724, -0.4511149942717769, 1.7314168644925394, -1.2474828322527984, -1.135821937530349, 0.6503122356581764, 0.8680714560868139, -1.280722932305824, 0.4802178213352635, -1.5344253806138421, -0.05523921560353476, -0.5264521864493562, 1.8377964830027715, -0.4772998467035594, -0.5457135088474834, -0.5774139187400962, -1.7273630745782, -0.012650778681243284, 0.12220977416772225, -0.46308591695819273, -0.48551666490485607, 1.0286219318481407, -1.5314711897812503, 0.3139712322672219, 0.2230101642463284, 0.12305184690435672, 2.3821598597555242, -0.5722678586905098, 0.1623197415865508, -0.9210456643106257, -0.5511129957766856, -1.6164114527259323, 0.9088053998632372, 0.16896280897881735, 1.3709276075049865, 0.38075423070562486, 0.06720303492506166, 0.22343979175101147, -1.905056632725822, -0.11395150095313604, 0.08717103810820638, 1.9620450828919764, 0.22909619612892454, -1.4238880049541949, 0.9840930668156201, -0.6814898168516695, -0.4396295376064955, -0.9621365669715576, -1.2112981448378257, 0.1897670445683597, -0.24168427292828643, 0.6481780587120058, 0.10181758209302914, 0.6094621199865919, 0.06440195082742389, -0.051821325566759883, -0.286803843363443, 1.5091397816733043, 1.1612070959863974, 1.1124061894738206, 0.06602599691460091, 0.44608660130360495, -1.201618700616783, -0.8053801795997612, -1.7262938193313766, -0.20802018756440235, -0.8888930317561924, 0.6805877607021252, 0.9299220877630004, -2.100000150257667, 0.009339658366574608, 0.8287786597089081, 1.2833055952013062, -1.496465351669501, 1.2761327051888596, 1.043655013573199, 0.855487414665308, -0.8476340996868025, 0.26347512479457813, 0.4011580499389762, -0.09701898207167933, 1.6230181023827688, 0.13087767392325128, 0.5095499877944312, 0.29034625114566504, -0.902521319104472, -1.419482626536593, 0.010738250205630254, 0.7283604441108407, -0.0978776864877819, 0.34809364096192125, -1.2112227513306653, 0.5684460079000437, 0.46677193636088526, -0.5411675858699438]}, {\"name\": \"New Numbers\", \"opacity\": 0.5, \"type\": \"histogram\", \"x\": [1.1349193624811416, 3.617268259068471, 2.5234417150761725, 0.9018885774999961, 1.185005676474561, 2.7596910816680937, 2.4095398830446713, 1.6994530360249778, 0.6642123668910698, 0.11387714940210181, 0.46525907645206044, 0.5420367284288761, 0.8261373154773797, 1.467964267098433, 1.119758309176123, 1.159940624351461, 1.4336764663618762, -1.202122452088938, -0.44965207736821466, 0.17110068696663783, 2.3490435871552915, 0.8443405213815619, 0.0303109356764657, 2.1985702823545545, 1.5536901977247708, 2.026516896357448, 0.5725787974076288, -0.47313452577226434, 2.9547475767608447, 1.9345471254736344, 1.399552990746485, 1.0851751936653926, 0.500833033111734, 1.3881912007850434, 0.40744998205738525, 0.5086333587100191, -0.2779052623938352, -0.25068678963108537, 2.4883296401123776, 2.1255620012381016, 1.4810386735453567, 1.7056214282123763, 0.8205120293533159, 2.1618605806841744, 1.2706916066421783, 1.509462025673015, -0.46112328414089365, -0.5551720290522975, 1.1191943003056084, 1.0641224437576322, 1.094343437922962, 3.166135123627583, -0.41494519908841965, -0.48932074536517534, 1.3302007312304522, 0.2694369469384361, 2.2432295381310556, 2.4789434360030524, 1.7246240191816082, 1.0441578417064794, 2.3602345450419113, 1.119274083891486, 1.5772720497525576, 1.864034642690374, 0.9686365413013776, 3.114894182130251, 1.4326450171674676, -1.2406547258259044, 0.6271588756086997, 1.6590931371092217, 1.0543478501281627, 0.5995418598934, 0.9461142808521652, -0.5097551439072401, 1.6999486245516473, 0.8846854236154198, 2.198007725116607, -0.14130634533136344, 2.9163804260109156, 0.539485173654976, -0.7168169023692377, 2.490075697144155, 0.7641267675843557, 0.2117137318619967, 0.3595169094116063, 1.7333216052946456, -0.5632802962235395, 0.20684302760429596, 0.6951357612742739, -0.3223829123218118, 0.6792940180025413, -1.156555136641193, -0.4367906681376299, 0.4051602467693812, 2.493550809713489, 1.6534212681057068, 1.226902114274167, 3.351855934100615, 2.3640046629529925, 0.5492909886757116]}],\n",
       "                        {\"bargap\": 0.2, \"bargroupgap\": 0.1, \"template\": {\"data\": {\"bar\": [{\"error_x\": {\"color\": \"#2a3f5f\"}, \"error_y\": {\"color\": \"#2a3f5f\"}, \"marker\": {\"line\": {\"color\": \"#E5ECF6\", \"width\": 0.5}}, \"type\": \"bar\"}], \"barpolar\": [{\"marker\": {\"line\": {\"color\": \"#E5ECF6\", \"width\": 0.5}}, \"type\": \"barpolar\"}], \"carpet\": [{\"aaxis\": {\"endlinecolor\": \"#2a3f5f\", \"gridcolor\": \"white\", \"linecolor\": \"white\", \"minorgridcolor\": \"white\", \"startlinecolor\": \"#2a3f5f\"}, \"baxis\": {\"endlinecolor\": \"#2a3f5f\", \"gridcolor\": \"white\", \"linecolor\": \"white\", \"minorgridcolor\": \"white\", \"startlinecolor\": \"#2a3f5f\"}, \"type\": \"carpet\"}], \"choropleth\": [{\"colorbar\": {\"outlinewidth\": 0, \"ticks\": \"\"}, \"type\": \"choropleth\"}], \"contour\": [{\"colorbar\": {\"outlinewidth\": 0, \"ticks\": \"\"}, \"colorscale\": [[0.0, \"#0d0887\"], [0.1111111111111111, \"#46039f\"], [0.2222222222222222, \"#7201a8\"], [0.3333333333333333, \"#9c179e\"], [0.4444444444444444, \"#bd3786\"], [0.5555555555555556, \"#d8576b\"], [0.6666666666666666, \"#ed7953\"], [0.7777777777777778, \"#fb9f3a\"], [0.8888888888888888, \"#fdca26\"], [1.0, \"#f0f921\"]], \"type\": \"contour\"}], \"contourcarpet\": [{\"colorbar\": {\"outlinewidth\": 0, \"ticks\": \"\"}, \"type\": \"contourcarpet\"}], \"heatmap\": [{\"colorbar\": {\"outlinewidth\": 0, \"ticks\": \"\"}, \"colorscale\": [[0.0, \"#0d0887\"], [0.1111111111111111, \"#46039f\"], [0.2222222222222222, \"#7201a8\"], [0.3333333333333333, \"#9c179e\"], [0.4444444444444444, \"#bd3786\"], [0.5555555555555556, \"#d8576b\"], [0.6666666666666666, \"#ed7953\"], [0.7777777777777778, \"#fb9f3a\"], [0.8888888888888888, \"#fdca26\"], [1.0, \"#f0f921\"]], \"type\": \"heatmap\"}], \"heatmapgl\": [{\"colorbar\": {\"outlinewidth\": 0, \"ticks\": \"\"}, \"colorscale\": [[0.0, \"#0d0887\"], [0.1111111111111111, \"#46039f\"], [0.2222222222222222, \"#7201a8\"], [0.3333333333333333, \"#9c179e\"], [0.4444444444444444, \"#bd3786\"], [0.5555555555555556, \"#d8576b\"], [0.6666666666666666, \"#ed7953\"], [0.7777777777777778, \"#fb9f3a\"], [0.8888888888888888, \"#fdca26\"], [1.0, \"#f0f921\"]], \"type\": \"heatmapgl\"}], \"histogram\": [{\"marker\": {\"colorbar\": {\"outlinewidth\": 0, \"ticks\": \"\"}}, \"type\": \"histogram\"}], \"histogram2d\": [{\"colorbar\": {\"outlinewidth\": 0, \"ticks\": \"\"}, \"colorscale\": [[0.0, \"#0d0887\"], [0.1111111111111111, \"#46039f\"], [0.2222222222222222, \"#7201a8\"], [0.3333333333333333, \"#9c179e\"], [0.4444444444444444, \"#bd3786\"], [0.5555555555555556, \"#d8576b\"], [0.6666666666666666, \"#ed7953\"], [0.7777777777777778, \"#fb9f3a\"], [0.8888888888888888, \"#fdca26\"], [1.0, \"#f0f921\"]], \"type\": \"histogram2d\"}], \"histogram2dcontour\": [{\"colorbar\": {\"outlinewidth\": 0, \"ticks\": \"\"}, \"colorscale\": [[0.0, \"#0d0887\"], [0.1111111111111111, \"#46039f\"], [0.2222222222222222, \"#7201a8\"], [0.3333333333333333, \"#9c179e\"], [0.4444444444444444, \"#bd3786\"], [0.5555555555555556, \"#d8576b\"], [0.6666666666666666, \"#ed7953\"], [0.7777777777777778, \"#fb9f3a\"], [0.8888888888888888, \"#fdca26\"], [1.0, \"#f0f921\"]], \"type\": \"histogram2dcontour\"}], \"mesh3d\": [{\"colorbar\": {\"outlinewidth\": 0, \"ticks\": \"\"}, \"type\": \"mesh3d\"}], \"parcoords\": [{\"line\": {\"colorbar\": {\"outlinewidth\": 0, \"ticks\": \"\"}}, \"type\": \"parcoords\"}], \"pie\": [{\"automargin\": true, \"type\": \"pie\"}], \"scatter\": [{\"marker\": {\"colorbar\": {\"outlinewidth\": 0, \"ticks\": \"\"}}, \"type\": \"scatter\"}], \"scatter3d\": [{\"line\": {\"colorbar\": {\"outlinewidth\": 0, \"ticks\": \"\"}}, \"marker\": {\"colorbar\": {\"outlinewidth\": 0, \"ticks\": \"\"}}, \"type\": \"scatter3d\"}], \"scattercarpet\": [{\"marker\": {\"colorbar\": {\"outlinewidth\": 0, \"ticks\": \"\"}}, \"type\": \"scattercarpet\"}], \"scattergeo\": [{\"marker\": {\"colorbar\": {\"outlinewidth\": 0, \"ticks\": \"\"}}, \"type\": \"scattergeo\"}], \"scattergl\": [{\"marker\": {\"colorbar\": {\"outlinewidth\": 0, \"ticks\": \"\"}}, \"type\": \"scattergl\"}], \"scattermapbox\": [{\"marker\": {\"colorbar\": {\"outlinewidth\": 0, \"ticks\": \"\"}}, \"type\": \"scattermapbox\"}], \"scatterpolar\": [{\"marker\": {\"colorbar\": {\"outlinewidth\": 0, \"ticks\": \"\"}}, \"type\": \"scatterpolar\"}], \"scatterpolargl\": [{\"marker\": {\"colorbar\": {\"outlinewidth\": 0, \"ticks\": \"\"}}, \"type\": \"scatterpolargl\"}], \"scatterternary\": [{\"marker\": {\"colorbar\": {\"outlinewidth\": 0, \"ticks\": \"\"}}, \"type\": \"scatterternary\"}], \"surface\": [{\"colorbar\": {\"outlinewidth\": 0, \"ticks\": \"\"}, \"colorscale\": [[0.0, \"#0d0887\"], [0.1111111111111111, \"#46039f\"], [0.2222222222222222, \"#7201a8\"], [0.3333333333333333, \"#9c179e\"], [0.4444444444444444, \"#bd3786\"], [0.5555555555555556, \"#d8576b\"], [0.6666666666666666, \"#ed7953\"], [0.7777777777777778, \"#fb9f3a\"], [0.8888888888888888, \"#fdca26\"], [1.0, \"#f0f921\"]], \"type\": \"surface\"}], \"table\": [{\"cells\": {\"fill\": {\"color\": \"#EBF0F8\"}, \"line\": {\"color\": \"white\"}}, \"header\": {\"fill\": {\"color\": \"#C8D4E3\"}, \"line\": {\"color\": \"white\"}}, \"type\": \"table\"}]}, \"layout\": {\"annotationdefaults\": {\"arrowcolor\": \"#2a3f5f\", \"arrowhead\": 0, \"arrowwidth\": 1}, \"coloraxis\": {\"colorbar\": {\"outlinewidth\": 0, \"ticks\": \"\"}}, \"colorscale\": {\"diverging\": [[0, \"#8e0152\"], [0.1, \"#c51b7d\"], [0.2, \"#de77ae\"], [0.3, \"#f1b6da\"], [0.4, \"#fde0ef\"], [0.5, \"#f7f7f7\"], [0.6, \"#e6f5d0\"], [0.7, \"#b8e186\"], [0.8, \"#7fbc41\"], [0.9, \"#4d9221\"], [1, \"#276419\"]], \"sequential\": [[0.0, \"#0d0887\"], [0.1111111111111111, \"#46039f\"], [0.2222222222222222, \"#7201a8\"], [0.3333333333333333, \"#9c179e\"], [0.4444444444444444, \"#bd3786\"], [0.5555555555555556, \"#d8576b\"], [0.6666666666666666, \"#ed7953\"], [0.7777777777777778, \"#fb9f3a\"], [0.8888888888888888, \"#fdca26\"], [1.0, \"#f0f921\"]], \"sequentialminus\": [[0.0, \"#0d0887\"], [0.1111111111111111, \"#46039f\"], [0.2222222222222222, \"#7201a8\"], [0.3333333333333333, \"#9c179e\"], [0.4444444444444444, \"#bd3786\"], [0.5555555555555556, \"#d8576b\"], [0.6666666666666666, \"#ed7953\"], [0.7777777777777778, \"#fb9f3a\"], [0.8888888888888888, \"#fdca26\"], [1.0, \"#f0f921\"]]}, \"colorway\": [\"#636efa\", \"#EF553B\", \"#00cc96\", \"#ab63fa\", \"#FFA15A\", \"#19d3f3\", \"#FF6692\", \"#B6E880\", \"#FF97FF\", \"#FECB52\"], \"font\": {\"color\": \"#2a3f5f\"}, \"geo\": {\"bgcolor\": \"white\", \"lakecolor\": \"white\", \"landcolor\": \"#E5ECF6\", \"showlakes\": true, \"showland\": true, \"subunitcolor\": \"white\"}, \"hoverlabel\": {\"align\": \"left\"}, \"hovermode\": \"closest\", \"mapbox\": {\"style\": \"light\"}, \"paper_bgcolor\": \"white\", \"plot_bgcolor\": \"#E5ECF6\", \"polar\": {\"angularaxis\": {\"gridcolor\": \"white\", \"linecolor\": \"white\", \"ticks\": \"\"}, \"bgcolor\": \"#E5ECF6\", \"radialaxis\": {\"gridcolor\": \"white\", \"linecolor\": \"white\", \"ticks\": \"\"}}, \"scene\": {\"xaxis\": {\"backgroundcolor\": \"#E5ECF6\", \"gridcolor\": \"white\", \"gridwidth\": 2, \"linecolor\": \"white\", \"showbackground\": true, \"ticks\": \"\", \"zerolinecolor\": \"white\"}, \"yaxis\": {\"backgroundcolor\": \"#E5ECF6\", \"gridcolor\": \"white\", \"gridwidth\": 2, \"linecolor\": \"white\", \"showbackground\": true, \"ticks\": \"\", \"zerolinecolor\": \"white\"}, \"zaxis\": {\"backgroundcolor\": \"#E5ECF6\", \"gridcolor\": \"white\", \"gridwidth\": 2, \"linecolor\": \"white\", \"showbackground\": true, \"ticks\": \"\", \"zerolinecolor\": \"white\"}}, \"shapedefaults\": {\"line\": {\"color\": \"#2a3f5f\"}}, \"ternary\": {\"aaxis\": {\"gridcolor\": \"white\", \"linecolor\": \"white\", \"ticks\": \"\"}, \"baxis\": {\"gridcolor\": \"white\", \"linecolor\": \"white\", \"ticks\": \"\"}, \"bgcolor\": \"#E5ECF6\", \"caxis\": {\"gridcolor\": \"white\", \"linecolor\": \"white\", \"ticks\": \"\"}}, \"title\": {\"x\": 0.05}, \"xaxis\": {\"automargin\": true, \"gridcolor\": \"white\", \"linecolor\": \"white\", \"ticks\": \"\", \"title\": {\"standoff\": 15}, \"zerolinecolor\": \"white\", \"zerolinewidth\": 2}, \"yaxis\": {\"automargin\": true, \"gridcolor\": \"white\", \"linecolor\": \"white\", \"ticks\": \"\", \"title\": {\"standoff\": 15}, \"zerolinecolor\": \"white\", \"zerolinewidth\": 2}}}, \"title\": {\"text\": \"Styled histograms\"}, \"xaxis\": {\"title\": {\"text\": \"Value\"}}, \"yaxis\": {\"title\": {\"text\": \"Count\"}}},\n",
       "                        {\"responsive\": true}\n",
       "                    ).then(function(){\n",
       "                            \n",
       "var gd = document.getElementById('d5baa9cd-75bc-4633-b0a3-f2d3945c0445');\n",
       "var x = new MutationObserver(function (mutations, observer) {{\n",
       "        var display = window.getComputedStyle(gd).display;\n",
       "        if (!display || display === 'none') {{\n",
       "            console.log([gd, 'removed!']);\n",
       "            Plotly.purge(gd);\n",
       "            observer.disconnect();\n",
       "        }}\n",
       "}});\n",
       "\n",
       "// Listen for the removal of the full notebook cells\n",
       "var notebookContainer = gd.closest('#notebook-container');\n",
       "if (notebookContainer) {{\n",
       "    x.observe(notebookContainer, {childList: true});\n",
       "}}\n",
       "\n",
       "// Listen for the clearing of the current output cell\n",
       "var outputEl = gd.closest('.output');\n",
       "if (outputEl) {{\n",
       "    x.observe(outputEl, {childList: true});\n",
       "}}\n",
       "\n",
       "                        })\n",
       "                };\n",
       "                });\n",
       "            </script>\n",
       "        </div>"
      ]
     },
     "metadata": {},
     "output_type": "display_data"
    }
   ],
   "source": [
    "fig = dict(data = data, layout=layout)\n",
    "offline.iplot(fig)"
   ]
  }
 ],
 "metadata": {
  "kernelspec": {
   "display_name": "Python 3",
   "language": "python",
   "name": "python3"
  },
  "language_info": {
   "codemirror_mode": {
    "name": "ipython",
    "version": 3
   },
   "file_extension": ".py",
   "mimetype": "text/x-python",
   "name": "python",
   "nbconvert_exporter": "python",
   "pygments_lexer": "ipython3",
   "version": "3.8.0"
  }
 },
 "nbformat": 4,
 "nbformat_minor": 4
}
