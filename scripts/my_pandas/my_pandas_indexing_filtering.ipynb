{
 "cells": [
  {
   "cell_type": "code",
   "execution_count": 1,
   "metadata": {},
   "outputs": [],
   "source": [
    "import numpy as np\n",
    "import pandas as pd\n",
    "import os"
   ]
  },
  {
   "cell_type": "code",
   "execution_count": 2,
   "metadata": {},
   "outputs": [],
   "source": [
    "PICKLE_PATH = os.path.join('pandas_dataset', 'artwork_pickle_data.csv')\n",
    "df = pd.read_pickle(PICKLE_PATH)"
   ]
  },
  {
   "cell_type": "code",
   "execution_count": 3,
   "metadata": {},
   "outputs": [],
   "source": [
    "artists = df['artist']"
   ]
  },
  {
   "cell_type": "code",
   "execution_count": 4,
   "metadata": {},
   "outputs": [
    {
     "data": {
      "text/plain": [
       "(array(['Blake, Robert', 'Blake, William', 'Richmond, George', ...,\n",
       "        'Sterne, Hedda', 'P-Orridge, Genesis', 'Brunias, Agostino'],\n",
       "       dtype=object),\n",
       " 3336,\n",
       " 3336)"
      ]
     },
     "execution_count": 4,
     "metadata": {},
     "output_type": "execute_result"
    }
   ],
   "source": [
    "# pandas library's method unique will provide unique elements\n",
    "pd.unique(artists), np.count_nonzero(pd.unique(artists)), len(pd.unique(artists))"
   ]
  },
  {
   "cell_type": "code",
   "execution_count": 5,
   "metadata": {},
   "outputs": [
    {
     "data": {
      "text/plain": [
       "False    69151\n",
       "True        50\n",
       "Name: artist, dtype: int64"
      ]
     },
     "execution_count": 5,
     "metadata": {},
     "output_type": "execute_result"
    }
   ],
   "source": [
    "condition = df['artist'] == 'Bacon, Francis'\n",
    "condition.value_counts()  # value_counts method will provide data in Series Format"
   ]
  },
  {
   "cell_type": "code",
   "execution_count": 6,
   "metadata": {},
   "outputs": [
    {
     "data": {
      "text/plain": [
       "50"
      ]
     },
     "execution_count": 6,
     "metadata": {},
     "output_type": "execute_result"
    }
   ],
   "source": [
    "# another way to do above thing\n",
    "artist_count = df['artist'].value_counts()\n",
    "artist_count['Bacon, Francis']"
   ]
  },
  {
   "cell_type": "code",
   "execution_count": 7,
   "metadata": {},
   "outputs": [
    {
     "data": {
      "text/html": [
       "<div>\n",
       "<style scoped>\n",
       "    .dataframe tbody tr th:only-of-type {\n",
       "        vertical-align: middle;\n",
       "    }\n",
       "\n",
       "    .dataframe tbody tr th {\n",
       "        vertical-align: top;\n",
       "    }\n",
       "\n",
       "    .dataframe thead th {\n",
       "        text-align: right;\n",
       "    }\n",
       "</style>\n",
       "<table border=\"1\" class=\"dataframe\">\n",
       "  <thead>\n",
       "    <tr style=\"text-align: right;\">\n",
       "      <th></th>\n",
       "      <th>artist</th>\n",
       "      <th>title</th>\n",
       "      <th>medium</th>\n",
       "      <th>year</th>\n",
       "      <th>acquisitionYear</th>\n",
       "      <th>width</th>\n",
       "      <th>height</th>\n",
       "      <th>units</th>\n",
       "    </tr>\n",
       "    <tr>\n",
       "      <th>id</th>\n",
       "      <th></th>\n",
       "      <th></th>\n",
       "      <th></th>\n",
       "      <th></th>\n",
       "      <th></th>\n",
       "      <th></th>\n",
       "      <th></th>\n",
       "      <th></th>\n",
       "    </tr>\n",
       "  </thead>\n",
       "  <tbody>\n",
       "    <tr>\n",
       "      <th>672</th>\n",
       "      <td>Bacon, Francis</td>\n",
       "      <td>Figure in a Landscape</td>\n",
       "      <td>Oil paint on canvas</td>\n",
       "      <td>1945</td>\n",
       "      <td>1950.0</td>\n",
       "      <td>1448</td>\n",
       "      <td>1283</td>\n",
       "      <td>mm</td>\n",
       "    </tr>\n",
       "    <tr>\n",
       "      <th>673</th>\n",
       "      <td>Bacon, Francis</td>\n",
       "      <td>Study of a Dog</td>\n",
       "      <td>Oil paint on canvas</td>\n",
       "      <td>1952</td>\n",
       "      <td>1952.0</td>\n",
       "      <td>1981</td>\n",
       "      <td>1372</td>\n",
       "      <td>mm</td>\n",
       "    </tr>\n",
       "    <tr>\n",
       "      <th>674</th>\n",
       "      <td>Bacon, Francis</td>\n",
       "      <td>Three Studies for Figures at the Base of a Cru...</td>\n",
       "      <td>Oil paint on 3 boards</td>\n",
       "      <td>1944</td>\n",
       "      <td>1953.0</td>\n",
       "      <td>NaN</td>\n",
       "      <td>NaN</td>\n",
       "      <td>NaN</td>\n",
       "    </tr>\n",
       "    <tr>\n",
       "      <th>677</th>\n",
       "      <td>Bacon, Francis</td>\n",
       "      <td>Study for a Portrait of Van Gogh IV</td>\n",
       "      <td>Oil paint on canvas</td>\n",
       "      <td>1957</td>\n",
       "      <td>1958.0</td>\n",
       "      <td>1524</td>\n",
       "      <td>1168</td>\n",
       "      <td>mm</td>\n",
       "    </tr>\n",
       "    <tr>\n",
       "      <th>678</th>\n",
       "      <td>Bacon, Francis</td>\n",
       "      <td>Reclining Woman</td>\n",
       "      <td>Oil paint on canvas</td>\n",
       "      <td>1961</td>\n",
       "      <td>1961.0</td>\n",
       "      <td>1988</td>\n",
       "      <td>1416</td>\n",
       "      <td>mm</td>\n",
       "    </tr>\n",
       "  </tbody>\n",
       "</table>\n",
       "</div>"
      ],
      "text/plain": [
       "             artist                                              title  \\\n",
       "id                                                                       \n",
       "672  Bacon, Francis                              Figure in a Landscape   \n",
       "673  Bacon, Francis                                     Study of a Dog   \n",
       "674  Bacon, Francis  Three Studies for Figures at the Base of a Cru...   \n",
       "677  Bacon, Francis                Study for a Portrait of Van Gogh IV   \n",
       "678  Bacon, Francis                                    Reclining Woman   \n",
       "\n",
       "                    medium  year  acquisitionYear width height units  \n",
       "id                                                                    \n",
       "672    Oil paint on canvas  1945           1950.0  1448   1283    mm  \n",
       "673    Oil paint on canvas  1952           1952.0  1981   1372    mm  \n",
       "674  Oil paint on 3 boards  1944           1953.0   NaN    NaN   NaN  \n",
       "677    Oil paint on canvas  1957           1958.0  1524   1168    mm  \n",
       "678    Oil paint on canvas  1961           1961.0  1988   1416    mm  "
      ]
     },
     "execution_count": 7,
     "metadata": {},
     "output_type": "execute_result"
    }
   ],
   "source": [
    "df[condition].head()  # conditional filtering with head method"
   ]
  },
  {
   "cell_type": "markdown",
   "metadata": {},
   "source": [
    "Every dataframe has two major function:\n",
    "loc - retrieving data through label. Here label are kept in index postions\n",
    "iloc - retrieving data through position, numberical index"
   ]
  },
  {
   "cell_type": "code",
   "execution_count": 8,
   "metadata": {},
   "outputs": [
    {
     "data": {
      "text/plain": [
       "'Blake, Robert'"
      ]
     },
     "execution_count": 8,
     "metadata": {},
     "output_type": "execute_result"
    }
   ],
   "source": [
    "df.loc[1035, 'artist']  # here first part is row indexers and second part in column indexers\n",
    "# we can put contional filtering/expressions in any indexers"
   ]
  },
  {
   "cell_type": "code",
   "execution_count": 9,
   "metadata": {},
   "outputs": [
    {
     "data": {
      "text/html": [
       "<div>\n",
       "<style scoped>\n",
       "    .dataframe tbody tr th:only-of-type {\n",
       "        vertical-align: middle;\n",
       "    }\n",
       "\n",
       "    .dataframe tbody tr th {\n",
       "        vertical-align: top;\n",
       "    }\n",
       "\n",
       "    .dataframe thead th {\n",
       "        text-align: right;\n",
       "    }\n",
       "</style>\n",
       "<table border=\"1\" class=\"dataframe\">\n",
       "  <thead>\n",
       "    <tr style=\"text-align: right;\">\n",
       "      <th></th>\n",
       "      <th>artist</th>\n",
       "      <th>title</th>\n",
       "      <th>medium</th>\n",
       "      <th>year</th>\n",
       "      <th>acquisitionYear</th>\n",
       "      <th>width</th>\n",
       "      <th>height</th>\n",
       "      <th>units</th>\n",
       "    </tr>\n",
       "    <tr>\n",
       "      <th>id</th>\n",
       "      <th></th>\n",
       "      <th></th>\n",
       "      <th></th>\n",
       "      <th></th>\n",
       "      <th></th>\n",
       "      <th></th>\n",
       "      <th></th>\n",
       "      <th></th>\n",
       "    </tr>\n",
       "  </thead>\n",
       "  <tbody>\n",
       "    <tr>\n",
       "      <th>672</th>\n",
       "      <td>Bacon, Francis</td>\n",
       "      <td>Figure in a Landscape</td>\n",
       "      <td>Oil paint on canvas</td>\n",
       "      <td>1945</td>\n",
       "      <td>1950.0</td>\n",
       "      <td>1448</td>\n",
       "      <td>1283</td>\n",
       "      <td>mm</td>\n",
       "    </tr>\n",
       "    <tr>\n",
       "      <th>674</th>\n",
       "      <td>Bacon, Francis</td>\n",
       "      <td>Three Studies for Figures at the Base of a Cru...</td>\n",
       "      <td>Oil paint on 3 boards</td>\n",
       "      <td>1944</td>\n",
       "      <td>1953.0</td>\n",
       "      <td>NaN</td>\n",
       "      <td>NaN</td>\n",
       "      <td>NaN</td>\n",
       "    </tr>\n",
       "    <tr>\n",
       "      <th>21897</th>\n",
       "      <td>Bacon, Francis</td>\n",
       "      <td>Figures in a Garden</td>\n",
       "      <td>Oil paint on canvas</td>\n",
       "      <td>1936</td>\n",
       "      <td>2008.0</td>\n",
       "      <td>740</td>\n",
       "      <td>940</td>\n",
       "      <td>mm</td>\n",
       "    </tr>\n",
       "  </tbody>\n",
       "</table>\n",
       "</div>"
      ],
      "text/plain": [
       "               artist                                              title  \\\n",
       "id                                                                         \n",
       "672    Bacon, Francis                              Figure in a Landscape   \n",
       "674    Bacon, Francis  Three Studies for Figures at the Base of a Cru...   \n",
       "21897  Bacon, Francis                                Figures in a Garden   \n",
       "\n",
       "                      medium  year  acquisitionYear width height units  \n",
       "id                                                                      \n",
       "672      Oil paint on canvas  1945           1950.0  1448   1283    mm  \n",
       "674    Oil paint on 3 boards  1944           1953.0   NaN    NaN   NaN  \n",
       "21897    Oil paint on canvas  1936           2008.0   740    940    mm  "
      ]
     },
     "execution_count": 9,
     "metadata": {},
     "output_type": "execute_result"
    }
   ],
   "source": [
    "# working with multiple condition in row indexer\n",
    "artist_cond = df['artist'] == 'Bacon, Francis'\n",
    "year_cond = pd.to_numeric(df['year'], errors = 'coerce') < 1950\n",
    "df.loc[artist_cond, :].loc[year_cond, :]"
   ]
  },
  {
   "cell_type": "code",
   "execution_count": 10,
   "metadata": {},
   "outputs": [
    {
     "data": {
      "text/html": [
       "<div>\n",
       "<style scoped>\n",
       "    .dataframe tbody tr th:only-of-type {\n",
       "        vertical-align: middle;\n",
       "    }\n",
       "\n",
       "    .dataframe tbody tr th {\n",
       "        vertical-align: top;\n",
       "    }\n",
       "\n",
       "    .dataframe thead th {\n",
       "        text-align: right;\n",
       "    }\n",
       "</style>\n",
       "<table border=\"1\" class=\"dataframe\">\n",
       "  <thead>\n",
       "    <tr style=\"text-align: right;\">\n",
       "      <th></th>\n",
       "      <th>artist</th>\n",
       "      <th>title</th>\n",
       "      <th>acquisitionYear</th>\n",
       "    </tr>\n",
       "    <tr>\n",
       "      <th>id</th>\n",
       "      <th></th>\n",
       "      <th></th>\n",
       "      <th></th>\n",
       "    </tr>\n",
       "  </thead>\n",
       "  <tbody>\n",
       "    <tr>\n",
       "      <th>1737</th>\n",
       "      <td>Burne-Jones, Sir Edward Coley, Bt</td>\n",
       "      <td>Head of a Girl</td>\n",
       "      <td>1927.0</td>\n",
       "    </tr>\n",
       "    <tr>\n",
       "      <th>1738</th>\n",
       "      <td>Burne-Jones, Sir Edward Coley, Bt</td>\n",
       "      <td>Figure Study</td>\n",
       "      <td>1927.0</td>\n",
       "    </tr>\n",
       "    <tr>\n",
       "      <th>1739</th>\n",
       "      <td>Burne-Jones, Sir Edward Coley, Bt</td>\n",
       "      <td>Study of the Head of a Female Attendant for ‘T...</td>\n",
       "      <td>1927.0</td>\n",
       "    </tr>\n",
       "    <tr>\n",
       "      <th>20231</th>\n",
       "      <td>Burne-Jones, Sir Edward Coley, Bt</td>\n",
       "      <td>Study of Iseult for ‘The Marriage of Sir Trist...</td>\n",
       "      <td>1927.0</td>\n",
       "    </tr>\n",
       "    <tr>\n",
       "      <th>1740</th>\n",
       "      <td>Burne-Jones, Sir Edward Coley, Bt</td>\n",
       "      <td>Composition Study for ‘Clerk Saunders’</td>\n",
       "      <td>1927.0</td>\n",
       "    </tr>\n",
       "    <tr>\n",
       "      <th>...</th>\n",
       "      <td>...</td>\n",
       "      <td>...</td>\n",
       "      <td>...</td>\n",
       "    </tr>\n",
       "    <tr>\n",
       "      <th>7329</th>\n",
       "      <td>Jones, George</td>\n",
       "      <td>[title not known]</td>\n",
       "      <td>1888.0</td>\n",
       "    </tr>\n",
       "    <tr>\n",
       "      <th>7330</th>\n",
       "      <td>Jones, George</td>\n",
       "      <td>[title not known]</td>\n",
       "      <td>1888.0</td>\n",
       "    </tr>\n",
       "    <tr>\n",
       "      <th>7331</th>\n",
       "      <td>Jones, George</td>\n",
       "      <td>[title not known]</td>\n",
       "      <td>1888.0</td>\n",
       "    </tr>\n",
       "    <tr>\n",
       "      <th>7332</th>\n",
       "      <td>Jones, George</td>\n",
       "      <td>[title not known]</td>\n",
       "      <td>1888.0</td>\n",
       "    </tr>\n",
       "    <tr>\n",
       "      <th>7333</th>\n",
       "      <td>Jones, George</td>\n",
       "      <td>[title not known]</td>\n",
       "      <td>1888.0</td>\n",
       "    </tr>\n",
       "  </tbody>\n",
       "</table>\n",
       "<p>200 rows × 3 columns</p>\n",
       "</div>"
      ],
      "text/plain": [
       "                                  artist  \\\n",
       "id                                         \n",
       "1737   Burne-Jones, Sir Edward Coley, Bt   \n",
       "1738   Burne-Jones, Sir Edward Coley, Bt   \n",
       "1739   Burne-Jones, Sir Edward Coley, Bt   \n",
       "20231  Burne-Jones, Sir Edward Coley, Bt   \n",
       "1740   Burne-Jones, Sir Edward Coley, Bt   \n",
       "...                                  ...   \n",
       "7329                       Jones, George   \n",
       "7330                       Jones, George   \n",
       "7331                       Jones, George   \n",
       "7332                       Jones, George   \n",
       "7333                       Jones, George   \n",
       "\n",
       "                                                   title  acquisitionYear  \n",
       "id                                                                         \n",
       "1737                                      Head of a Girl           1927.0  \n",
       "1738                                        Figure Study           1927.0  \n",
       "1739   Study of the Head of a Female Attendant for ‘T...           1927.0  \n",
       "20231  Study of Iseult for ‘The Marriage of Sir Trist...           1927.0  \n",
       "1740              Composition Study for ‘Clerk Saunders’           1927.0  \n",
       "...                                                  ...              ...  \n",
       "7329                                   [title not known]           1888.0  \n",
       "7330                                   [title not known]           1888.0  \n",
       "7331                                   [title not known]           1888.0  \n",
       "7332                                   [title not known]           1888.0  \n",
       "7333                                   [title not known]           1888.0  \n",
       "\n",
       "[200 rows x 3 columns]"
      ]
     },
     "execution_count": 10,
     "metadata": {},
     "output_type": "execute_result"
    }
   ],
   "source": [
    "df.iloc[100:300, [0, 1, 4]]"
   ]
  }
 ],
 "metadata": {
  "kernelspec": {
   "display_name": "Python 3",
   "language": "python",
   "name": "python3"
  },
  "language_info": {
   "codemirror_mode": {
    "name": "ipython",
    "version": 3
   },
   "file_extension": ".py",
   "mimetype": "text/x-python",
   "name": "python",
   "nbconvert_exporter": "python",
   "pygments_lexer": "ipython3",
   "version": "3.8.0"
  }
 },
 "nbformat": 4,
 "nbformat_minor": 4
}
