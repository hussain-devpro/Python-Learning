{
 "cells": [
  {
   "cell_type": "code",
   "execution_count": 1,
   "metadata": {},
   "outputs": [],
   "source": [
    "import dash\n",
    "import dash_core_components as dcc\n",
    "import dash_html_components as html\n",
    "from dash.dependencies import Input, Output, State  # for callbacks"
   ]
  },
  {
   "cell_type": "code",
   "execution_count": 2,
   "metadata": {},
   "outputs": [],
   "source": [
    "app = dash.Dash()"
   ]
  },
  {
   "cell_type": "code",
   "execution_count": 3,
   "metadata": {},
   "outputs": [],
   "source": [
    "app.layout = html.Div([\n",
    "    html.Label('Enter a Number'),\n",
    "    html.Br(),\n",
    "    dcc.Input(id='input_number', value = 5, type='number'),\n",
    "    html.Button(id='calculate', n_clicks=0, children='Submit Number'),\n",
    "    html.Br(),\n",
    "    html.Label('You have entered: '),\n",
    "    html.Div(id = 'output_number'),\n",
    "    html.Br(),\n",
    "    html.Div(id = 'output_table')\n",
    "])"
   ]
  },
  {
   "cell_type": "code",
   "execution_count": 4,
   "metadata": {},
   "outputs": [],
   "source": [
    "@app.callback(\n",
    "    Output('output_table', 'children'),\n",
    "    [Input('input_number', 'value')])\n",
    "def update_output_text(input_num):\n",
    "    return input_num\n",
    "\n",
    "@app.callback(\n",
    "    Output('output_number', 'children'),\n",
    "    [Input('calculate', 'n_clicks')],\n",
    "    [State('input_number', 'value')]\n",
    ")\n",
    "def update_output_table(n_clicks, input_num):\n",
    "    return html.Table([\n",
    "        html.Thead([\n",
    "            html.Tr([ html.Th('Operation'), html.Th('Result') ])\n",
    "        ]),\n",
    "        html.Tbody([\n",
    "            html.Tr([ html.Td(['x' , html.Sup(2)]), html.Td(input_num ** 2) ]),\n",
    "            html.Tr([ html.Td(['x' , html.Sup(3)]), html.Td(input_num ** 3) ]),\n",
    "            html.Tr([ html.Td(['2' , html.Sup(input_num)]), html.Td(2 ** input_num) ]),\n",
    "            html.Tr([ html.Td(['x' , html.Sup('x')]), html.Td(input_num ** input_num) ])\n",
    "        ])\n",
    "    ])"
   ]
  },
  {
   "cell_type": "code",
   "execution_count": 5,
   "metadata": {},
   "outputs": [
    {
     "name": "stdout",
     "output_type": "stream",
     "text": [
      "Dash is running on http://127.0.0.1:8050/\n",
      "\n",
      " Warning: This is a development server. Do not use app.run_server\n",
      " in production, use a production WSGI server like gunicorn instead.\n",
      "\n",
      " * Serving Flask app \"__main__\" (lazy loading)\n",
      " * Environment: development\n",
      " * Debug mode: off\n"
     ]
    },
    {
     "name": "stderr",
     "output_type": "stream",
     "text": [
      " * Running on http://127.0.0.1:8050/ (Press CTRL+C to quit)\n",
      "127.0.0.1 - - [20/Jun/2020 14:58:10] \"\u001b[37mGET / HTTP/1.1\u001b[0m\" 200 -\n",
      "127.0.0.1 - - [20/Jun/2020 14:58:11] \"\u001b[37mGET /_dash-layout HTTP/1.1\u001b[0m\" 200 -\n",
      "127.0.0.1 - - [20/Jun/2020 14:58:11] \"\u001b[37mGET /_dash-dependencies HTTP/1.1\u001b[0m\" 200 -\n",
      "127.0.0.1 - - [20/Jun/2020 14:58:11] \"\u001b[37mGET /_favicon.ico?v=1.13.1 HTTP/1.1\u001b[0m\" 200 -\n",
      "127.0.0.1 - - [20/Jun/2020 14:58:11] \"\u001b[37mPOST /_dash-update-component HTTP/1.1\u001b[0m\" 200 -\n",
      "127.0.0.1 - - [20/Jun/2020 14:58:11] \"\u001b[37mPOST /_dash-update-component HTTP/1.1\u001b[0m\" 200 -\n",
      "127.0.0.1 - - [20/Jun/2020 14:58:17] \"\u001b[37mPOST /_dash-update-component HTTP/1.1\u001b[0m\" 200 -\n",
      "127.0.0.1 - - [20/Jun/2020 14:58:19] \"\u001b[37mPOST /_dash-update-component HTTP/1.1\u001b[0m\" 200 -\n"
     ]
    }
   ],
   "source": [
    "if __name__ == '__main__':\n",
    "    app.run_server()"
   ]
  }
 ],
 "metadata": {
  "kernelspec": {
   "display_name": "Python 3",
   "language": "python",
   "name": "python3"
  },
  "language_info": {
   "codemirror_mode": {
    "name": "ipython",
    "version": 3
   },
   "file_extension": ".py",
   "mimetype": "text/x-python",
   "name": "python",
   "nbconvert_exporter": "python",
   "pygments_lexer": "ipython3",
   "version": "3.8.0"
  }
 },
 "nbformat": 4,
 "nbformat_minor": 4
}
