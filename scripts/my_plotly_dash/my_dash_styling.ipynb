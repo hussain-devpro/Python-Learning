{
 "cells": [
  {
   "cell_type": "code",
   "execution_count": 1,
   "metadata": {},
   "outputs": [],
   "source": [
    "import dash\n",
    "import dash_core_components as dcc\n",
    "import dash_html_components as html"
   ]
  },
  {
   "cell_type": "code",
   "execution_count": 2,
   "metadata": {},
   "outputs": [],
   "source": [
    "app = dash.Dash()"
   ]
  },
  {
   "cell_type": "code",
   "execution_count": 5,
   "metadata": {},
   "outputs": [],
   "source": [
    "app.layout = html.Div([\n",
    "    html.H1(children='Hello Dash!!!',\n",
    "            style={\n",
    "                'textAlign' : 'center',\n",
    "                'color' : 'red'\n",
    "            }\n",
    "           ),\n",
    "    html.Div(children='Dash - A data product development framework from plotly',\n",
    "             style={\n",
    "                'textAlign' : 'center',\n",
    "                'color' : 'green'\n",
    "            }\n",
    "            ),\n",
    "    \n",
    "    dcc.Graph(\n",
    "        id = 'sample-graph',\n",
    "        figure = {\n",
    "            'data' : [\n",
    "                {'x': [4, 6, 8], 'y': [12, 16, 18], 'type': 'bar', 'name': 'First Chart'},\n",
    "                {'x': [4, 6, 8], 'y': [20, 24, 26], 'type': 'bar', 'name': 'Second Chart'}\n",
    "            ],\n",
    "            'layout' : {\n",
    "                'title': 'Simple Bar Chart',\n",
    "                'plot_bgcolor' : '#D3D3D3',  # light grey, inside of chart\n",
    "                'paper_bgcolor' : '#A9A9A9',  # dark grey, outside of chart\n",
    "                'font' : {\n",
    "                    'color': 'blue'  # font of evey text of chart, axis(values: 1 2 3 etc), title, legends etc\n",
    "                }\n",
    "            }\n",
    "        } # This is a Figure object of Plotly, dcc.Graph objects picks up default values for different type of charts\n",
    "    )\n",
    "])"
   ]
  },
  {
   "cell_type": "code",
   "execution_count": 6,
   "metadata": {},
   "outputs": [
    {
     "name": "stdout",
     "output_type": "stream",
     "text": [
      "Dash is running on http://127.0.0.1:8050/\n",
      "\n",
      " Warning: This is a development server. Do not use app.run_server\n",
      " in production, use a production WSGI server like gunicorn instead.\n",
      "\n",
      " * Serving Flask app \"__main__\" (lazy loading)\n",
      " * Environment: development\n",
      " * Debug mode: off\n"
     ]
    },
    {
     "name": "stderr",
     "output_type": "stream",
     "text": [
      " * Running on http://127.0.0.1:8050/ (Press CTRL+C to quit)\n",
      "127.0.0.1 - - [18/Jun/2020 14:29:53] \"\u001b[37mGET / HTTP/1.1\u001b[0m\" 200 -\n",
      "127.0.0.1 - - [18/Jun/2020 14:29:53] \"\u001b[37mGET /_dash-layout HTTP/1.1\u001b[0m\" 200 -\n",
      "127.0.0.1 - - [18/Jun/2020 14:29:53] \"\u001b[37mGET /_dash-dependencies HTTP/1.1\u001b[0m\" 200 -\n",
      "127.0.0.1 - - [18/Jun/2020 14:29:53] \"\u001b[37mGET /_favicon.ico?v=1.13.1 HTTP/1.1\u001b[0m\" 200 -\n"
     ]
    }
   ],
   "source": [
    "if __name__ == '__main__':\n",
    "    app.run_server()"
   ]
  }
 ],
 "metadata": {
  "kernelspec": {
   "display_name": "Python 3",
   "language": "python",
   "name": "python3"
  },
  "language_info": {
   "codemirror_mode": {
    "name": "ipython",
    "version": 3
   },
   "file_extension": ".py",
   "mimetype": "text/x-python",
   "name": "python",
   "nbconvert_exporter": "python",
   "pygments_lexer": "ipython3",
   "version": "3.8.0"
  }
 },
 "nbformat": 4,
 "nbformat_minor": 4
}
